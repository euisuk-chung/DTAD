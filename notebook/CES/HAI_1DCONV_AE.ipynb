{
 "cells": [
  {
   "cell_type": "markdown",
   "id": "cordless-treasure",
   "metadata": {},
   "source": [
    "## Module Import & Data Load"
   ]
  },
  {
   "cell_type": "code",
   "execution_count": 1,
   "id": "falling-rebecca",
   "metadata": {
    "ExecuteTime": {
     "end_time": "2021-09-01T06:18:51.836516Z",
     "start_time": "2021-09-01T06:18:50.891751Z"
    }
   },
   "outputs": [],
   "source": [
    "import sys\n",
    "\n",
    "from pathlib import Path\n",
    "from datetime import timedelta\n",
    "\n",
    "import dateutil\n",
    "import numpy as np\n",
    "import matplotlib.pyplot as plt\n",
    "import pandas as pd\n",
    "import torch\n",
    "import torch.nn as nn\n",
    "import torch.nn.functional as F\n",
    "import torch.optim as optim\n",
    "from torch.utils.data import Dataset, DataLoader\n",
    "from tqdm.notebook import trange\n",
    "from TaPR_pkg import etapr\n",
    "from src import dataset\n",
    "\n",
    "import pickle\n",
    "from torchinfo import summary"
   ]
  },
  {
   "cell_type": "code",
   "execution_count": 2,
   "id": "promotional-glenn",
   "metadata": {
    "ExecuteTime": {
     "end_time": "2021-09-01T06:18:52.622567Z",
     "start_time": "2021-09-01T06:18:52.549895Z"
    }
   },
   "outputs": [],
   "source": [
    "device = torch.device(\"cuda\" if torch.cuda.is_available() else \"cpu\")\n",
    "torch.backends.cudnn.benchmark = True"
   ]
  },
  {
   "cell_type": "code",
   "execution_count": 6,
   "id": "naked-binary",
   "metadata": {
    "ExecuteTime": {
     "end_time": "2021-09-01T06:18:54.585883Z",
     "start_time": "2021-09-01T06:18:54.575417Z"
    }
   },
   "outputs": [],
   "source": [
    "WINDOW_GIVEN = 89\n",
    "WINDOW_SIZE = 90\n",
    "\n",
    "\n",
    "class HaiDataset(Dataset):\n",
    "    def __init__(self, timestamps, df, stride=1, attacks=None):\n",
    "        self.ts = np.array(timestamps)\n",
    "        self.tag_values = np.array(df, dtype=np.float32)\n",
    "        self.valid_idxs = []\n",
    "        for L in trange(len(self.ts) - WINDOW_SIZE + 1):\n",
    "            R = L + WINDOW_SIZE - 1\n",
    "            if dateutil.parser.parse(self.ts[R]) - dateutil.parser.parse(\n",
    "                self.ts[L]\n",
    "            ) == timedelta(seconds=WINDOW_SIZE - 1):\n",
    "                self.valid_idxs.append(L)\n",
    "        self.valid_idxs = np.array(self.valid_idxs, dtype=np.int32)[::stride]\n",
    "        self.n_idxs = len(self.valid_idxs)\n",
    "        print(f\"# of valid windows: {self.n_idxs}\")\n",
    "        if attacks is not None:\n",
    "            self.attacks = np.array(attacks, dtype=np.float32)\n",
    "            self.with_attack = True\n",
    "        else:\n",
    "            self.with_attack = False\n",
    "\n",
    "    def __len__(self):\n",
    "        return self.n_idxs\n",
    "\n",
    "    def __getitem__(self, idx):\n",
    "        i = self.valid_idxs[idx]\n",
    "        last = i + WINDOW_SIZE - 1\n",
    "        item = {\"attack\": self.attacks[last]} if self.with_attack else {}\n",
    "        item[\"ts\"] = self.ts[i + WINDOW_SIZE - 1]\n",
    "        item[\"given\"] = torch.from_numpy(self.tag_values[i : i + WINDOW_GIVEN])\n",
    "        item[\"answer\"] = torch.from_numpy(self.tag_values[last])\n",
    "        return item"
   ]
  },
  {
   "cell_type": "code",
   "execution_count": 196,
   "id": "seven-nickname",
   "metadata": {
    "ExecuteTime": {
     "end_time": "2021-09-01T10:52:01.200039Z",
     "start_time": "2021-09-01T10:52:01.193777Z"
    }
   },
   "outputs": [],
   "source": [
    "def boundary_check(df):\n",
    "    x = np.array(df, dtype=np.float32)\n",
    "    return np.any(x > 1.0), np.any(x < 0), np.any(np.isnan(x))"
   ]
  },
  {
   "cell_type": "code",
   "execution_count": 147,
   "id": "thrown-process",
   "metadata": {
    "ExecuteTime": {
     "end_time": "2021-09-01T07:33:00.172315Z",
     "start_time": "2021-09-01T07:33:00.167985Z"
    }
   },
   "outputs": [
    {
     "data": {
      "text/plain": [
       "[PosixPath('HAICon2021_dataset/train/train1.csv'),\n",
       " PosixPath('HAICon2021_dataset/train/train2.csv'),\n",
       " PosixPath('HAICon2021_dataset/train/train3.csv'),\n",
       " PosixPath('HAICon2021_dataset/train/train4.csv'),\n",
       " PosixPath('HAICon2021_dataset/train/train5.csv'),\n",
       " PosixPath('HAICon2021_dataset/train/train6.csv')]"
      ]
     },
     "execution_count": 147,
     "metadata": {},
     "output_type": "execute_result"
    }
   ],
   "source": [
    "TRAIN_DATASET = sorted([x for x in Path(\"HAICon2021_dataset/train/\").glob(\"*.csv\")])\n",
    "TRAIN_DATASET"
   ]
  },
  {
   "cell_type": "code",
   "execution_count": 148,
   "id": "disturbed-fantasy",
   "metadata": {
    "ExecuteTime": {
     "end_time": "2021-09-01T07:33:07.588298Z",
     "start_time": "2021-09-01T07:33:07.582039Z"
    }
   },
   "outputs": [
    {
     "data": {
      "text/plain": [
       "[PosixPath('HAICon2021_dataset/test/test1.csv'),\n",
       " PosixPath('HAICon2021_dataset/test/test2.csv'),\n",
       " PosixPath('HAICon2021_dataset/test/test3.csv')]"
      ]
     },
     "execution_count": 148,
     "metadata": {},
     "output_type": "execute_result"
    }
   ],
   "source": [
    "TEST_DATASET = sorted([x for x in Path(\"HAICon2021_dataset/test/\").glob(\"*.csv\")])\n",
    "TEST_DATASET"
   ]
  },
  {
   "cell_type": "code",
   "execution_count": 149,
   "id": "interstate-release",
   "metadata": {
    "ExecuteTime": {
     "end_time": "2021-09-01T07:33:15.823978Z",
     "start_time": "2021-09-01T07:33:15.817549Z"
    }
   },
   "outputs": [
    {
     "data": {
      "text/plain": [
       "[PosixPath('HAICon2021_dataset/validation/validation.csv')]"
      ]
     },
     "execution_count": 149,
     "metadata": {},
     "output_type": "execute_result"
    }
   ],
   "source": [
    "VALIDATION_DATASET = sorted([x for x in Path(\"HAICon2021_dataset/validation/\").glob(\"*.csv\")])\n",
    "VALIDATION_DATASET"
   ]
  },
  {
   "cell_type": "code",
   "execution_count": 150,
   "id": "unique-aside",
   "metadata": {
    "ExecuteTime": {
     "end_time": "2021-09-01T07:33:21.463638Z",
     "start_time": "2021-09-01T07:33:21.450748Z"
    }
   },
   "outputs": [],
   "source": [
    "def dataframe_from_csv(target):\n",
    "    return pd.read_csv(target).rename(columns=lambda x: x.strip())\n",
    "\n",
    "def dataframe_from_csvs(targets):\n",
    "    return pd.concat([dataframe_from_csv(x) for x in targets])"
   ]
  },
  {
   "cell_type": "code",
   "execution_count": 151,
   "id": "pretty-drilling",
   "metadata": {
    "ExecuteTime": {
     "end_time": "2021-09-01T07:33:37.443440Z",
     "start_time": "2021-09-01T07:33:29.412411Z"
    }
   },
   "outputs": [
    {
     "data": {
      "text/html": [
       "<div>\n",
       "<style scoped>\n",
       "    .dataframe tbody tr th:only-of-type {\n",
       "        vertical-align: middle;\n",
       "    }\n",
       "\n",
       "    .dataframe tbody tr th {\n",
       "        vertical-align: top;\n",
       "    }\n",
       "\n",
       "    .dataframe thead th {\n",
       "        text-align: right;\n",
       "    }\n",
       "</style>\n",
       "<table border=\"1\" class=\"dataframe\">\n",
       "  <thead>\n",
       "    <tr style=\"text-align: right;\">\n",
       "      <th></th>\n",
       "      <th>timestamp</th>\n",
       "      <th>C01</th>\n",
       "      <th>C02</th>\n",
       "      <th>C03</th>\n",
       "      <th>C04</th>\n",
       "      <th>C05</th>\n",
       "      <th>C06</th>\n",
       "      <th>C07</th>\n",
       "      <th>C08</th>\n",
       "      <th>C09</th>\n",
       "      <th>...</th>\n",
       "      <th>C77</th>\n",
       "      <th>C78</th>\n",
       "      <th>C79</th>\n",
       "      <th>C80</th>\n",
       "      <th>C81</th>\n",
       "      <th>C82</th>\n",
       "      <th>C83</th>\n",
       "      <th>C84</th>\n",
       "      <th>C85</th>\n",
       "      <th>C86</th>\n",
       "    </tr>\n",
       "  </thead>\n",
       "  <tbody>\n",
       "    <tr>\n",
       "      <th>0</th>\n",
       "      <td>2021-07-11 10:00:00</td>\n",
       "      <td>-2.2642</td>\n",
       "      <td>0</td>\n",
       "      <td>12.26196</td>\n",
       "      <td>-0.00087</td>\n",
       "      <td>12.01019</td>\n",
       "      <td>0.2254</td>\n",
       "      <td>12.66931</td>\n",
       "      <td>70</td>\n",
       "      <td>1</td>\n",
       "      <td>...</td>\n",
       "      <td>0.92255</td>\n",
       "      <td>30.08042</td>\n",
       "      <td>7.08818</td>\n",
       "      <td>595.06104</td>\n",
       "      <td>276.40338</td>\n",
       "      <td>1</td>\n",
       "      <td>1014.79321</td>\n",
       "      <td>12.0</td>\n",
       "      <td>50</td>\n",
       "      <td>3506</td>\n",
       "    </tr>\n",
       "    <tr>\n",
       "      <th>1</th>\n",
       "      <td>2021-07-11 10:00:01</td>\n",
       "      <td>-2.4923</td>\n",
       "      <td>0</td>\n",
       "      <td>12.26196</td>\n",
       "      <td>0.00058</td>\n",
       "      <td>12.56714</td>\n",
       "      <td>-0.0711</td>\n",
       "      <td>12.66931</td>\n",
       "      <td>70</td>\n",
       "      <td>1</td>\n",
       "      <td>...</td>\n",
       "      <td>0.92255</td>\n",
       "      <td>30.08423</td>\n",
       "      <td>7.08818</td>\n",
       "      <td>531.50317</td>\n",
       "      <td>276.18634</td>\n",
       "      <td>1</td>\n",
       "      <td>1014.79321</td>\n",
       "      <td>12.0</td>\n",
       "      <td>50</td>\n",
       "      <td>3493</td>\n",
       "    </tr>\n",
       "    <tr>\n",
       "      <th>2</th>\n",
       "      <td>2021-07-11 10:00:02</td>\n",
       "      <td>-2.8460</td>\n",
       "      <td>0</td>\n",
       "      <td>12.26196</td>\n",
       "      <td>-0.00072</td>\n",
       "      <td>14.48975</td>\n",
       "      <td>0.0051</td>\n",
       "      <td>12.66931</td>\n",
       "      <td>70</td>\n",
       "      <td>1</td>\n",
       "      <td>...</td>\n",
       "      <td>0.91873</td>\n",
       "      <td>30.09148</td>\n",
       "      <td>7.08818</td>\n",
       "      <td>451.06253</td>\n",
       "      <td>279.85754</td>\n",
       "      <td>1</td>\n",
       "      <td>1014.79321</td>\n",
       "      <td>12.0</td>\n",
       "      <td>50</td>\n",
       "      <td>3490</td>\n",
       "    </tr>\n",
       "    <tr>\n",
       "      <th>3</th>\n",
       "      <td>2021-07-11 10:00:03</td>\n",
       "      <td>-2.1235</td>\n",
       "      <td>0</td>\n",
       "      <td>12.26196</td>\n",
       "      <td>0.00101</td>\n",
       "      <td>15.93170</td>\n",
       "      <td>0.1842</td>\n",
       "      <td>12.66931</td>\n",
       "      <td>70</td>\n",
       "      <td>1</td>\n",
       "      <td>...</td>\n",
       "      <td>0.91644</td>\n",
       "      <td>30.10407</td>\n",
       "      <td>7.08818</td>\n",
       "      <td>404.38739</td>\n",
       "      <td>281.50317</td>\n",
       "      <td>1</td>\n",
       "      <td>1014.79321</td>\n",
       "      <td>12.0</td>\n",
       "      <td>50</td>\n",
       "      <td>3525</td>\n",
       "    </tr>\n",
       "    <tr>\n",
       "      <th>4</th>\n",
       "      <td>2021-07-11 10:00:04</td>\n",
       "      <td>-2.9074</td>\n",
       "      <td>0</td>\n",
       "      <td>12.26196</td>\n",
       "      <td>0.00043</td>\n",
       "      <td>16.10718</td>\n",
       "      <td>0.1842</td>\n",
       "      <td>12.66931</td>\n",
       "      <td>70</td>\n",
       "      <td>1</td>\n",
       "      <td>...</td>\n",
       "      <td>0.91797</td>\n",
       "      <td>30.10331</td>\n",
       "      <td>7.08818</td>\n",
       "      <td>382.53925</td>\n",
       "      <td>281.34039</td>\n",
       "      <td>1</td>\n",
       "      <td>1014.79321</td>\n",
       "      <td>12.0</td>\n",
       "      <td>50</td>\n",
       "      <td>3503</td>\n",
       "    </tr>\n",
       "    <tr>\n",
       "      <th>...</th>\n",
       "      <td>...</td>\n",
       "      <td>...</td>\n",
       "      <td>...</td>\n",
       "      <td>...</td>\n",
       "      <td>...</td>\n",
       "      <td>...</td>\n",
       "      <td>...</td>\n",
       "      <td>...</td>\n",
       "      <td>...</td>\n",
       "      <td>...</td>\n",
       "      <td>...</td>\n",
       "      <td>...</td>\n",
       "      <td>...</td>\n",
       "      <td>...</td>\n",
       "      <td>...</td>\n",
       "      <td>...</td>\n",
       "      <td>...</td>\n",
       "      <td>...</td>\n",
       "      <td>...</td>\n",
       "      <td>...</td>\n",
       "      <td>...</td>\n",
       "    </tr>\n",
       "    <tr>\n",
       "      <th>259195</th>\n",
       "      <td>2021-08-09 08:59:56</td>\n",
       "      <td>-2.0065</td>\n",
       "      <td>0</td>\n",
       "      <td>12.26196</td>\n",
       "      <td>0.00051</td>\n",
       "      <td>100.28228</td>\n",
       "      <td>0.5977</td>\n",
       "      <td>12.53358</td>\n",
       "      <td>70</td>\n",
       "      <td>1</td>\n",
       "      <td>...</td>\n",
       "      <td>1.17355</td>\n",
       "      <td>35.05434</td>\n",
       "      <td>10.00000</td>\n",
       "      <td>3178.48877</td>\n",
       "      <td>370.02679</td>\n",
       "      <td>1</td>\n",
       "      <td>986.05908</td>\n",
       "      <td>12.0</td>\n",
       "      <td>50</td>\n",
       "      <td>136</td>\n",
       "    </tr>\n",
       "    <tr>\n",
       "      <th>259196</th>\n",
       "      <td>2021-08-09 08:59:57</td>\n",
       "      <td>-2.2101</td>\n",
       "      <td>0</td>\n",
       "      <td>12.26196</td>\n",
       "      <td>-0.00029</td>\n",
       "      <td>100.28228</td>\n",
       "      <td>0.5509</td>\n",
       "      <td>12.53358</td>\n",
       "      <td>70</td>\n",
       "      <td>1</td>\n",
       "      <td>...</td>\n",
       "      <td>1.16898</td>\n",
       "      <td>35.03488</td>\n",
       "      <td>10.00000</td>\n",
       "      <td>3175.36084</td>\n",
       "      <td>370.40656</td>\n",
       "      <td>1</td>\n",
       "      <td>986.05908</td>\n",
       "      <td>12.0</td>\n",
       "      <td>50</td>\n",
       "      <td>89</td>\n",
       "    </tr>\n",
       "    <tr>\n",
       "      <th>259197</th>\n",
       "      <td>2021-08-09 08:59:58</td>\n",
       "      <td>-2.3325</td>\n",
       "      <td>0</td>\n",
       "      <td>12.26196</td>\n",
       "      <td>0.00152</td>\n",
       "      <td>100.28228</td>\n",
       "      <td>0.5425</td>\n",
       "      <td>12.53358</td>\n",
       "      <td>70</td>\n",
       "      <td>1</td>\n",
       "      <td>...</td>\n",
       "      <td>1.16974</td>\n",
       "      <td>35.02840</td>\n",
       "      <td>10.00000</td>\n",
       "      <td>3175.73608</td>\n",
       "      <td>368.12787</td>\n",
       "      <td>1</td>\n",
       "      <td>986.05908</td>\n",
       "      <td>12.0</td>\n",
       "      <td>50</td>\n",
       "      <td>90</td>\n",
       "    </tr>\n",
       "    <tr>\n",
       "      <th>259198</th>\n",
       "      <td>2021-08-09 08:59:59</td>\n",
       "      <td>-2.3049</td>\n",
       "      <td>0</td>\n",
       "      <td>12.26196</td>\n",
       "      <td>0.00058</td>\n",
       "      <td>100.26703</td>\n",
       "      <td>0.6266</td>\n",
       "      <td>12.53358</td>\n",
       "      <td>70</td>\n",
       "      <td>1</td>\n",
       "      <td>...</td>\n",
       "      <td>1.16974</td>\n",
       "      <td>35.02420</td>\n",
       "      <td>10.00000</td>\n",
       "      <td>3176.61182</td>\n",
       "      <td>368.01941</td>\n",
       "      <td>1</td>\n",
       "      <td>986.05908</td>\n",
       "      <td>12.0</td>\n",
       "      <td>50</td>\n",
       "      <td>74</td>\n",
       "    </tr>\n",
       "    <tr>\n",
       "      <th>259199</th>\n",
       "      <td>2021-08-09 09:00:00</td>\n",
       "      <td>-2.2011</td>\n",
       "      <td>0</td>\n",
       "      <td>12.26196</td>\n",
       "      <td>-0.00014</td>\n",
       "      <td>100.27466</td>\n",
       "      <td>0.7209</td>\n",
       "      <td>12.53358</td>\n",
       "      <td>70</td>\n",
       "      <td>1</td>\n",
       "      <td>...</td>\n",
       "      <td>1.17508</td>\n",
       "      <td>35.01695</td>\n",
       "      <td>10.00000</td>\n",
       "      <td>3172.23267</td>\n",
       "      <td>367.78424</td>\n",
       "      <td>1</td>\n",
       "      <td>986.05908</td>\n",
       "      <td>12.0</td>\n",
       "      <td>50</td>\n",
       "      <td>101</td>\n",
       "    </tr>\n",
       "  </tbody>\n",
       "</table>\n",
       "<p>1004402 rows × 87 columns</p>\n",
       "</div>"
      ],
      "text/plain": [
       "                  timestamp     C01  C02       C03      C04        C05  \\\n",
       "0       2021-07-11 10:00:00 -2.2642    0  12.26196 -0.00087   12.01019   \n",
       "1       2021-07-11 10:00:01 -2.4923    0  12.26196  0.00058   12.56714   \n",
       "2       2021-07-11 10:00:02 -2.8460    0  12.26196 -0.00072   14.48975   \n",
       "3       2021-07-11 10:00:03 -2.1235    0  12.26196  0.00101   15.93170   \n",
       "4       2021-07-11 10:00:04 -2.9074    0  12.26196  0.00043   16.10718   \n",
       "...                     ...     ...  ...       ...      ...        ...   \n",
       "259195  2021-08-09 08:59:56 -2.0065    0  12.26196  0.00051  100.28228   \n",
       "259196  2021-08-09 08:59:57 -2.2101    0  12.26196 -0.00029  100.28228   \n",
       "259197  2021-08-09 08:59:58 -2.3325    0  12.26196  0.00152  100.28228   \n",
       "259198  2021-08-09 08:59:59 -2.3049    0  12.26196  0.00058  100.26703   \n",
       "259199  2021-08-09 09:00:00 -2.2011    0  12.26196 -0.00014  100.27466   \n",
       "\n",
       "           C06       C07  C08  C09  ...      C77       C78       C79  \\\n",
       "0       0.2254  12.66931   70    1  ...  0.92255  30.08042   7.08818   \n",
       "1      -0.0711  12.66931   70    1  ...  0.92255  30.08423   7.08818   \n",
       "2       0.0051  12.66931   70    1  ...  0.91873  30.09148   7.08818   \n",
       "3       0.1842  12.66931   70    1  ...  0.91644  30.10407   7.08818   \n",
       "4       0.1842  12.66931   70    1  ...  0.91797  30.10331   7.08818   \n",
       "...        ...       ...  ...  ...  ...      ...       ...       ...   \n",
       "259195  0.5977  12.53358   70    1  ...  1.17355  35.05434  10.00000   \n",
       "259196  0.5509  12.53358   70    1  ...  1.16898  35.03488  10.00000   \n",
       "259197  0.5425  12.53358   70    1  ...  1.16974  35.02840  10.00000   \n",
       "259198  0.6266  12.53358   70    1  ...  1.16974  35.02420  10.00000   \n",
       "259199  0.7209  12.53358   70    1  ...  1.17508  35.01695  10.00000   \n",
       "\n",
       "               C80        C81  C82         C83   C84  C85   C86  \n",
       "0        595.06104  276.40338    1  1014.79321  12.0   50  3506  \n",
       "1        531.50317  276.18634    1  1014.79321  12.0   50  3493  \n",
       "2        451.06253  279.85754    1  1014.79321  12.0   50  3490  \n",
       "3        404.38739  281.50317    1  1014.79321  12.0   50  3525  \n",
       "4        382.53925  281.34039    1  1014.79321  12.0   50  3503  \n",
       "...            ...        ...  ...         ...   ...  ...   ...  \n",
       "259195  3178.48877  370.02679    1   986.05908  12.0   50   136  \n",
       "259196  3175.36084  370.40656    1   986.05908  12.0   50    89  \n",
       "259197  3175.73608  368.12787    1   986.05908  12.0   50    90  \n",
       "259198  3176.61182  368.01941    1   986.05908  12.0   50    74  \n",
       "259199  3172.23267  367.78424    1   986.05908  12.0   50   101  \n",
       "\n",
       "[1004402 rows x 87 columns]"
      ]
     },
     "execution_count": 151,
     "metadata": {},
     "output_type": "execute_result"
    }
   ],
   "source": [
    "TRAIN_DF_RAW = dataframe_from_csvs(TRAIN_DATASET)\n",
    "TRAIN_DF_RAW"
   ]
  },
  {
   "cell_type": "code",
   "execution_count": 152,
   "id": "objective-switzerland",
   "metadata": {
    "ExecuteTime": {
     "end_time": "2021-09-01T07:34:04.302637Z",
     "start_time": "2021-09-01T07:34:04.296630Z"
    }
   },
   "outputs": [
    {
     "data": {
      "text/plain": [
       "Index(['C01', 'C02', 'C03', 'C04', 'C05', 'C06', 'C07', 'C08', 'C09', 'C10',\n",
       "       'C11', 'C12', 'C13', 'C14', 'C15', 'C16', 'C17', 'C18', 'C19', 'C20',\n",
       "       'C21', 'C22', 'C23', 'C24', 'C25', 'C26', 'C27', 'C28', 'C29', 'C30',\n",
       "       'C31', 'C32', 'C33', 'C34', 'C35', 'C36', 'C37', 'C38', 'C39', 'C40',\n",
       "       'C41', 'C42', 'C43', 'C44', 'C45', 'C46', 'C47', 'C48', 'C49', 'C50',\n",
       "       'C51', 'C52', 'C53', 'C54', 'C55', 'C56', 'C57', 'C58', 'C59', 'C60',\n",
       "       'C61', 'C62', 'C63', 'C64', 'C65', 'C66', 'C67', 'C68', 'C69', 'C70',\n",
       "       'C71', 'C72', 'C73', 'C74', 'C75', 'C76', 'C77', 'C78', 'C79', 'C80',\n",
       "       'C81', 'C82', 'C83', 'C84', 'C85', 'C86'],\n",
       "      dtype='object')"
      ]
     },
     "execution_count": 152,
     "metadata": {},
     "output_type": "execute_result"
    }
   ],
   "source": [
    "TIMESTAMP_FIELD = \"timestamp\"\n",
    "IDSTAMP_FIELD = 'id'\n",
    "ATTACK_FIELD = \"attack\"\n",
    "VALID_COLUMNS_IN_TRAIN_DATASET = TRAIN_DF_RAW.columns.drop([TIMESTAMP_FIELD])\n",
    "VALID_COLUMNS_IN_TRAIN_DATASET"
   ]
  },
  {
   "cell_type": "code",
   "execution_count": 153,
   "id": "alleged-jewel",
   "metadata": {
    "ExecuteTime": {
     "end_time": "2021-09-01T07:34:05.600786Z",
     "start_time": "2021-09-01T07:34:04.882561Z"
    }
   },
   "outputs": [],
   "source": [
    "TAG_MIN = TRAIN_DF_RAW[VALID_COLUMNS_IN_TRAIN_DATASET].min()\n",
    "TAG_MAX = TRAIN_DF_RAW[VALID_COLUMNS_IN_TRAIN_DATASET].max()"
   ]
  },
  {
   "cell_type": "code",
   "execution_count": 154,
   "id": "prescribed-banks",
   "metadata": {
    "ExecuteTime": {
     "end_time": "2021-09-01T07:34:05.908960Z",
     "start_time": "2021-09-01T07:34:05.904664Z"
    }
   },
   "outputs": [],
   "source": [
    "def normalize(df):\n",
    "    ndf = df.copy()\n",
    "    for c in df.columns:\n",
    "        if TAG_MIN[c] == TAG_MAX[c]:\n",
    "            ndf[c] = df[c] - TAG_MIN[c]\n",
    "        else:\n",
    "            ndf[c] = (df[c] - TAG_MIN[c]) / (TAG_MAX[c] - TAG_MIN[c])\n",
    "    return ndf"
   ]
  },
  {
   "cell_type": "code",
   "execution_count": 155,
   "id": "operational-switch",
   "metadata": {
    "ExecuteTime": {
     "end_time": "2021-09-01T07:34:09.134972Z",
     "start_time": "2021-09-01T07:34:07.206914Z"
    }
   },
   "outputs": [
    {
     "data": {
      "text/html": [
       "<div>\n",
       "<style scoped>\n",
       "    .dataframe tbody tr th:only-of-type {\n",
       "        vertical-align: middle;\n",
       "    }\n",
       "\n",
       "    .dataframe tbody tr th {\n",
       "        vertical-align: top;\n",
       "    }\n",
       "\n",
       "    .dataframe thead th {\n",
       "        text-align: right;\n",
       "    }\n",
       "</style>\n",
       "<table border=\"1\" class=\"dataframe\">\n",
       "  <thead>\n",
       "    <tr style=\"text-align: right;\">\n",
       "      <th></th>\n",
       "      <th>C01</th>\n",
       "      <th>C02</th>\n",
       "      <th>C03</th>\n",
       "      <th>C04</th>\n",
       "      <th>C05</th>\n",
       "      <th>C06</th>\n",
       "      <th>C07</th>\n",
       "      <th>C08</th>\n",
       "      <th>C09</th>\n",
       "      <th>C10</th>\n",
       "      <th>...</th>\n",
       "      <th>C77</th>\n",
       "      <th>C78</th>\n",
       "      <th>C79</th>\n",
       "      <th>C80</th>\n",
       "      <th>C81</th>\n",
       "      <th>C82</th>\n",
       "      <th>C83</th>\n",
       "      <th>C84</th>\n",
       "      <th>C85</th>\n",
       "      <th>C86</th>\n",
       "    </tr>\n",
       "  </thead>\n",
       "  <tbody>\n",
       "    <tr>\n",
       "      <th>0</th>\n",
       "      <td>0.433107</td>\n",
       "      <td>0.0</td>\n",
       "      <td>0.056338</td>\n",
       "      <td>0.501686</td>\n",
       "      <td>0.116706</td>\n",
       "      <td>0.447955</td>\n",
       "      <td>0.816071</td>\n",
       "      <td>0.0</td>\n",
       "      <td>0.0</td>\n",
       "      <td>0.0</td>\n",
       "      <td>...</td>\n",
       "      <td>0.240561</td>\n",
       "      <td>0.194185</td>\n",
       "      <td>0.708818</td>\n",
       "      <td>0.183693</td>\n",
       "      <td>0.169066</td>\n",
       "      <td>0.0</td>\n",
       "      <td>0.538147</td>\n",
       "      <td>0.0</td>\n",
       "      <td>0.0</td>\n",
       "      <td>0.276078</td>\n",
       "    </tr>\n",
       "    <tr>\n",
       "      <th>1</th>\n",
       "      <td>0.395098</td>\n",
       "      <td>0.0</td>\n",
       "      <td>0.056338</td>\n",
       "      <td>0.517560</td>\n",
       "      <td>0.121738</td>\n",
       "      <td>0.397053</td>\n",
       "      <td>0.816071</td>\n",
       "      <td>0.0</td>\n",
       "      <td>0.0</td>\n",
       "      <td>0.0</td>\n",
       "      <td>...</td>\n",
       "      <td>0.240561</td>\n",
       "      <td>0.194535</td>\n",
       "      <td>0.708818</td>\n",
       "      <td>0.165517</td>\n",
       "      <td>0.168332</td>\n",
       "      <td>0.0</td>\n",
       "      <td>0.538147</td>\n",
       "      <td>0.0</td>\n",
       "      <td>0.0</td>\n",
       "      <td>0.275176</td>\n",
       "    </tr>\n",
       "    <tr>\n",
       "      <th>2</th>\n",
       "      <td>0.333267</td>\n",
       "      <td>0.0</td>\n",
       "      <td>0.056338</td>\n",
       "      <td>0.504886</td>\n",
       "      <td>0.139408</td>\n",
       "      <td>0.405431</td>\n",
       "      <td>0.816071</td>\n",
       "      <td>0.0</td>\n",
       "      <td>0.0</td>\n",
       "      <td>0.0</td>\n",
       "      <td>...</td>\n",
       "      <td>0.238319</td>\n",
       "      <td>0.195226</td>\n",
       "      <td>0.708818</td>\n",
       "      <td>0.141083</td>\n",
       "      <td>0.180570</td>\n",
       "      <td>0.0</td>\n",
       "      <td>0.538147</td>\n",
       "      <td>0.0</td>\n",
       "      <td>0.0</td>\n",
       "      <td>0.274889</td>\n",
       "    </tr>\n",
       "    <tr>\n",
       "      <th>3</th>\n",
       "      <td>0.446345</td>\n",
       "      <td>0.0</td>\n",
       "      <td>0.056338</td>\n",
       "      <td>0.522383</td>\n",
       "      <td>0.154058</td>\n",
       "      <td>0.436703</td>\n",
       "      <td>0.816071</td>\n",
       "      <td>0.0</td>\n",
       "      <td>0.0</td>\n",
       "      <td>0.0</td>\n",
       "      <td>...</td>\n",
       "      <td>0.236754</td>\n",
       "      <td>0.196440</td>\n",
       "      <td>0.708818</td>\n",
       "      <td>0.125447</td>\n",
       "      <td>0.187292</td>\n",
       "      <td>0.0</td>\n",
       "      <td>0.538147</td>\n",
       "      <td>0.0</td>\n",
       "      <td>0.0</td>\n",
       "      <td>0.277264</td>\n",
       "    </tr>\n",
       "    <tr>\n",
       "      <th>4</th>\n",
       "      <td>0.328324</td>\n",
       "      <td>0.0</td>\n",
       "      <td>0.056338</td>\n",
       "      <td>0.517845</td>\n",
       "      <td>0.157091</td>\n",
       "      <td>0.439827</td>\n",
       "      <td>0.816071</td>\n",
       "      <td>0.0</td>\n",
       "      <td>0.0</td>\n",
       "      <td>0.0</td>\n",
       "      <td>...</td>\n",
       "      <td>0.237495</td>\n",
       "      <td>0.196492</td>\n",
       "      <td>0.708818</td>\n",
       "      <td>0.117700</td>\n",
       "      <td>0.187419</td>\n",
       "      <td>0.0</td>\n",
       "      <td>0.538147</td>\n",
       "      <td>0.0</td>\n",
       "      <td>0.0</td>\n",
       "      <td>0.275990</td>\n",
       "    </tr>\n",
       "    <tr>\n",
       "      <th>...</th>\n",
       "      <td>...</td>\n",
       "      <td>...</td>\n",
       "      <td>...</td>\n",
       "      <td>...</td>\n",
       "      <td>...</td>\n",
       "      <td>...</td>\n",
       "      <td>...</td>\n",
       "      <td>...</td>\n",
       "      <td>...</td>\n",
       "      <td>...</td>\n",
       "      <td>...</td>\n",
       "      <td>...</td>\n",
       "      <td>...</td>\n",
       "      <td>...</td>\n",
       "      <td>...</td>\n",
       "      <td>...</td>\n",
       "      <td>...</td>\n",
       "      <td>...</td>\n",
       "      <td>...</td>\n",
       "      <td>...</td>\n",
       "      <td>...</td>\n",
       "    </tr>\n",
       "    <tr>\n",
       "      <th>259195</th>\n",
       "      <td>0.485034</td>\n",
       "      <td>0.0</td>\n",
       "      <td>0.056340</td>\n",
       "      <td>0.515751</td>\n",
       "      <td>0.994085</td>\n",
       "      <td>0.520004</td>\n",
       "      <td>0.640361</td>\n",
       "      <td>0.0</td>\n",
       "      <td>0.0</td>\n",
       "      <td>0.0</td>\n",
       "      <td>...</td>\n",
       "      <td>0.403941</td>\n",
       "      <td>0.696846</td>\n",
       "      <td>1.000000</td>\n",
       "      <td>0.996289</td>\n",
       "      <td>0.517805</td>\n",
       "      <td>0.0</td>\n",
       "      <td>0.414192</td>\n",
       "      <td>0.0</td>\n",
       "      <td>0.0</td>\n",
       "      <td>0.018717</td>\n",
       "    </tr>\n",
       "    <tr>\n",
       "      <th>259196</th>\n",
       "      <td>0.447224</td>\n",
       "      <td>0.0</td>\n",
       "      <td>0.056338</td>\n",
       "      <td>0.509379</td>\n",
       "      <td>0.994085</td>\n",
       "      <td>0.510481</td>\n",
       "      <td>0.640361</td>\n",
       "      <td>0.0</td>\n",
       "      <td>0.0</td>\n",
       "      <td>0.0</td>\n",
       "      <td>...</td>\n",
       "      <td>0.401381</td>\n",
       "      <td>0.695028</td>\n",
       "      <td>1.000000</td>\n",
       "      <td>0.995484</td>\n",
       "      <td>0.518674</td>\n",
       "      <td>0.0</td>\n",
       "      <td>0.414192</td>\n",
       "      <td>0.0</td>\n",
       "      <td>0.0</td>\n",
       "      <td>0.015676</td>\n",
       "    </tr>\n",
       "    <tr>\n",
       "      <th>259197</th>\n",
       "      <td>0.423251</td>\n",
       "      <td>0.0</td>\n",
       "      <td>0.056338</td>\n",
       "      <td>0.528358</td>\n",
       "      <td>0.994085</td>\n",
       "      <td>0.508101</td>\n",
       "      <td>0.640361</td>\n",
       "      <td>0.0</td>\n",
       "      <td>0.0</td>\n",
       "      <td>0.0</td>\n",
       "      <td>...</td>\n",
       "      <td>0.401571</td>\n",
       "      <td>0.694256</td>\n",
       "      <td>1.000000</td>\n",
       "      <td>0.995510</td>\n",
       "      <td>0.511131</td>\n",
       "      <td>0.0</td>\n",
       "      <td>0.414192</td>\n",
       "      <td>0.0</td>\n",
       "      <td>0.0</td>\n",
       "      <td>0.015440</td>\n",
       "    </tr>\n",
       "    <tr>\n",
       "      <th>259198</th>\n",
       "      <td>0.425407</td>\n",
       "      <td>0.0</td>\n",
       "      <td>0.056338</td>\n",
       "      <td>0.520068</td>\n",
       "      <td>0.993949</td>\n",
       "      <td>0.522157</td>\n",
       "      <td>0.640361</td>\n",
       "      <td>0.0</td>\n",
       "      <td>0.0</td>\n",
       "      <td>0.0</td>\n",
       "      <td>...</td>\n",
       "      <td>0.401590</td>\n",
       "      <td>0.693797</td>\n",
       "      <td>1.000000</td>\n",
       "      <td>0.995761</td>\n",
       "      <td>0.510014</td>\n",
       "      <td>0.0</td>\n",
       "      <td>0.414192</td>\n",
       "      <td>0.0</td>\n",
       "      <td>0.0</td>\n",
       "      <td>0.014318</td>\n",
       "    </tr>\n",
       "    <tr>\n",
       "      <th>259199</th>\n",
       "      <td>0.442746</td>\n",
       "      <td>0.0</td>\n",
       "      <td>0.056338</td>\n",
       "      <td>0.511436</td>\n",
       "      <td>0.994003</td>\n",
       "      <td>0.539590</td>\n",
       "      <td>0.640361</td>\n",
       "      <td>0.0</td>\n",
       "      <td>0.0</td>\n",
       "      <td>0.0</td>\n",
       "      <td>...</td>\n",
       "      <td>0.404723</td>\n",
       "      <td>0.693092</td>\n",
       "      <td>1.000000</td>\n",
       "      <td>0.994546</td>\n",
       "      <td>0.509115</td>\n",
       "      <td>0.0</td>\n",
       "      <td>0.414192</td>\n",
       "      <td>0.0</td>\n",
       "      <td>0.0</td>\n",
       "      <td>0.016060</td>\n",
       "    </tr>\n",
       "  </tbody>\n",
       "</table>\n",
       "<p>1004402 rows × 86 columns</p>\n",
       "</div>"
      ],
      "text/plain": [
       "             C01  C02       C03       C04       C05       C06       C07  C08  \\\n",
       "0       0.433107  0.0  0.056338  0.501686  0.116706  0.447955  0.816071  0.0   \n",
       "1       0.395098  0.0  0.056338  0.517560  0.121738  0.397053  0.816071  0.0   \n",
       "2       0.333267  0.0  0.056338  0.504886  0.139408  0.405431  0.816071  0.0   \n",
       "3       0.446345  0.0  0.056338  0.522383  0.154058  0.436703  0.816071  0.0   \n",
       "4       0.328324  0.0  0.056338  0.517845  0.157091  0.439827  0.816071  0.0   \n",
       "...          ...  ...       ...       ...       ...       ...       ...  ...   \n",
       "259195  0.485034  0.0  0.056340  0.515751  0.994085  0.520004  0.640361  0.0   \n",
       "259196  0.447224  0.0  0.056338  0.509379  0.994085  0.510481  0.640361  0.0   \n",
       "259197  0.423251  0.0  0.056338  0.528358  0.994085  0.508101  0.640361  0.0   \n",
       "259198  0.425407  0.0  0.056338  0.520068  0.993949  0.522157  0.640361  0.0   \n",
       "259199  0.442746  0.0  0.056338  0.511436  0.994003  0.539590  0.640361  0.0   \n",
       "\n",
       "        C09  C10  ...       C77       C78       C79       C80       C81  C82  \\\n",
       "0       0.0  0.0  ...  0.240561  0.194185  0.708818  0.183693  0.169066  0.0   \n",
       "1       0.0  0.0  ...  0.240561  0.194535  0.708818  0.165517  0.168332  0.0   \n",
       "2       0.0  0.0  ...  0.238319  0.195226  0.708818  0.141083  0.180570  0.0   \n",
       "3       0.0  0.0  ...  0.236754  0.196440  0.708818  0.125447  0.187292  0.0   \n",
       "4       0.0  0.0  ...  0.237495  0.196492  0.708818  0.117700  0.187419  0.0   \n",
       "...     ...  ...  ...       ...       ...       ...       ...       ...  ...   \n",
       "259195  0.0  0.0  ...  0.403941  0.696846  1.000000  0.996289  0.517805  0.0   \n",
       "259196  0.0  0.0  ...  0.401381  0.695028  1.000000  0.995484  0.518674  0.0   \n",
       "259197  0.0  0.0  ...  0.401571  0.694256  1.000000  0.995510  0.511131  0.0   \n",
       "259198  0.0  0.0  ...  0.401590  0.693797  1.000000  0.995761  0.510014  0.0   \n",
       "259199  0.0  0.0  ...  0.404723  0.693092  1.000000  0.994546  0.509115  0.0   \n",
       "\n",
       "             C83  C84  C85       C86  \n",
       "0       0.538147  0.0  0.0  0.276078  \n",
       "1       0.538147  0.0  0.0  0.275176  \n",
       "2       0.538147  0.0  0.0  0.274889  \n",
       "3       0.538147  0.0  0.0  0.277264  \n",
       "4       0.538147  0.0  0.0  0.275990  \n",
       "...          ...  ...  ...       ...  \n",
       "259195  0.414192  0.0  0.0  0.018717  \n",
       "259196  0.414192  0.0  0.0  0.015676  \n",
       "259197  0.414192  0.0  0.0  0.015440  \n",
       "259198  0.414192  0.0  0.0  0.014318  \n",
       "259199  0.414192  0.0  0.0  0.016060  \n",
       "\n",
       "[1004402 rows x 86 columns]"
      ]
     },
     "execution_count": 155,
     "metadata": {},
     "output_type": "execute_result"
    }
   ],
   "source": [
    "TRAIN_DF = normalize(TRAIN_DF_RAW[VALID_COLUMNS_IN_TRAIN_DATASET]).ewm(alpha=0.9).mean()\n",
    "TRAIN_DF"
   ]
  },
  {
   "cell_type": "code",
   "execution_count": 156,
   "id": "advised-century",
   "metadata": {
    "ExecuteTime": {
     "end_time": "2021-09-01T07:37:13.051445Z",
     "start_time": "2021-09-01T07:34:18.181723Z"
    }
   },
   "outputs": [
    {
     "data": {
      "application/vnd.jupyter.widget-view+json": {
       "model_id": "03dd1f73c35647faab89a15aa8b80646",
       "version_major": 2,
       "version_minor": 0
      },
      "text/plain": [
       "HBox(children=(FloatProgress(value=0.0, max=1004313.0), HTML(value='')))"
      ]
     },
     "metadata": {},
     "output_type": "display_data"
    },
    {
     "name": "stdout",
     "output_type": "stream",
     "text": [
      "\n",
      "# of valid windows: 100387\n"
     ]
    },
    {
     "data": {
      "text/plain": [
       "{'ts': '2021-07-11 10:01:29',\n",
       " 'given': tensor([[0.4331, 0.0000, 0.0563,  ..., 0.0000, 0.0000, 0.2761],\n",
       "         [0.3951, 0.0000, 0.0563,  ..., 0.0000, 0.0000, 0.2752],\n",
       "         [0.3333, 0.0000, 0.0563,  ..., 0.0000, 0.0000, 0.2749],\n",
       "         ...,\n",
       "         [0.3205, 0.0000, 0.0548,  ..., 0.0000, 0.0000, 0.0091],\n",
       "         [0.4451, 0.0000, 0.0562,  ..., 0.0000, 0.0000, 0.0091],\n",
       "         [0.3477, 0.0000, 0.0563,  ..., 0.0000, 0.0000, 0.0091]]),\n",
       " 'answer': tensor([0.3711, 0.0000, 0.0563, 0.5032, 0.1387, 0.4298, 0.8161, 0.0000, 0.0000,\n",
       "         0.0000, 0.7223, 0.6224, 0.4866, 0.4075, 0.2524, 0.2907, 0.0000, 0.0000,\n",
       "         0.0000, 0.3050, 0.4108, 0.0000, 0.3492, 0.6516, 0.0120, 0.0000, 0.3563,\n",
       "         0.3370, 0.0000, 0.9763, 0.5501, 0.3796, 0.3818, 0.0000, 0.9009, 0.0000,\n",
       "         0.2097, 0.0000, 0.0000, 0.0249, 0.2642, 0.5416, 0.5994, 0.4009, 0.0021,\n",
       "         1.0000, 0.5253, 1.0000, 0.0000, 0.2244, 0.4755, 0.0000, 0.4874, 0.0509,\n",
       "         0.0000, 0.3105, 0.7985, 0.1781, 0.2572, 0.4340, 1.0000, 0.9166, 0.0000,\n",
       "         0.0000, 0.5312, 0.2261, 0.1222, 0.2123, 0.0000, 0.4706, 0.7825, 0.1565,\n",
       "         0.4803, 0.1081, 0.2816, 0.2517, 0.2480, 0.2531, 0.7088, 0.1132, 0.5313,\n",
       "         0.0000, 0.5381, 0.0000, 0.0000, 0.0091])}"
      ]
     },
     "execution_count": 156,
     "metadata": {},
     "output_type": "execute_result"
    }
   ],
   "source": [
    "HAI_DATASET_TRAIN = HaiDataset(TRAIN_DF_RAW[TIMESTAMP_FIELD], TRAIN_DF, stride=10)\n",
    "HAI_DATASET_TRAIN[0]"
   ]
  },
  {
   "cell_type": "code",
   "execution_count": 157,
   "id": "statewide-yeast",
   "metadata": {
    "ExecuteTime": {
     "end_time": "2021-09-01T07:37:14.107791Z",
     "start_time": "2021-09-01T07:37:13.386949Z"
    }
   },
   "outputs": [
    {
     "data": {
      "text/html": [
       "<div>\n",
       "<style scoped>\n",
       "    .dataframe tbody tr th:only-of-type {\n",
       "        vertical-align: middle;\n",
       "    }\n",
       "\n",
       "    .dataframe tbody tr th {\n",
       "        vertical-align: top;\n",
       "    }\n",
       "\n",
       "    .dataframe thead th {\n",
       "        text-align: right;\n",
       "    }\n",
       "</style>\n",
       "<table border=\"1\" class=\"dataframe\">\n",
       "  <thead>\n",
       "    <tr style=\"text-align: right;\">\n",
       "      <th></th>\n",
       "      <th>timestamp</th>\n",
       "      <th>C01</th>\n",
       "      <th>C02</th>\n",
       "      <th>C03</th>\n",
       "      <th>C04</th>\n",
       "      <th>C05</th>\n",
       "      <th>C06</th>\n",
       "      <th>C07</th>\n",
       "      <th>C08</th>\n",
       "      <th>C09</th>\n",
       "      <th>...</th>\n",
       "      <th>C78</th>\n",
       "      <th>C79</th>\n",
       "      <th>C80</th>\n",
       "      <th>C81</th>\n",
       "      <th>C82</th>\n",
       "      <th>C83</th>\n",
       "      <th>C84</th>\n",
       "      <th>C85</th>\n",
       "      <th>C86</th>\n",
       "      <th>attack</th>\n",
       "    </tr>\n",
       "  </thead>\n",
       "  <tbody>\n",
       "    <tr>\n",
       "      <th>0</th>\n",
       "      <td>2021-07-10 00:00:01</td>\n",
       "      <td>-2.0395</td>\n",
       "      <td>0</td>\n",
       "      <td>11.78894</td>\n",
       "      <td>0.00058</td>\n",
       "      <td>16.32080</td>\n",
       "      <td>0.4010</td>\n",
       "      <td>12.903438</td>\n",
       "      <td>70</td>\n",
       "      <td>1</td>\n",
       "      <td>...</td>\n",
       "      <td>31.52100</td>\n",
       "      <td>0.716042</td>\n",
       "      <td>386.51172</td>\n",
       "      <td>356.64423</td>\n",
       "      <td>1</td>\n",
       "      <td>1034.712769</td>\n",
       "      <td>12.0</td>\n",
       "      <td>50</td>\n",
       "      <td>161</td>\n",
       "      <td>0</td>\n",
       "    </tr>\n",
       "    <tr>\n",
       "      <th>1</th>\n",
       "      <td>2021-07-10 00:00:02</td>\n",
       "      <td>-2.1750</td>\n",
       "      <td>0</td>\n",
       "      <td>11.78894</td>\n",
       "      <td>-0.00282</td>\n",
       "      <td>15.95459</td>\n",
       "      <td>0.4187</td>\n",
       "      <td>12.903438</td>\n",
       "      <td>70</td>\n",
       "      <td>1</td>\n",
       "      <td>...</td>\n",
       "      <td>31.51756</td>\n",
       "      <td>0.716042</td>\n",
       "      <td>411.33905</td>\n",
       "      <td>352.08698</td>\n",
       "      <td>1</td>\n",
       "      <td>1034.712769</td>\n",
       "      <td>12.0</td>\n",
       "      <td>50</td>\n",
       "      <td>155</td>\n",
       "      <td>0</td>\n",
       "    </tr>\n",
       "    <tr>\n",
       "      <th>2</th>\n",
       "      <td>2021-07-10 00:00:03</td>\n",
       "      <td>-2.5854</td>\n",
       "      <td>0</td>\n",
       "      <td>11.78131</td>\n",
       "      <td>-0.00398</td>\n",
       "      <td>14.79492</td>\n",
       "      <td>0.0691</td>\n",
       "      <td>12.903438</td>\n",
       "      <td>70</td>\n",
       "      <td>1</td>\n",
       "      <td>...</td>\n",
       "      <td>31.50269</td>\n",
       "      <td>0.716042</td>\n",
       "      <td>438.15259</td>\n",
       "      <td>347.63818</td>\n",
       "      <td>1</td>\n",
       "      <td>1034.712769</td>\n",
       "      <td>12.0</td>\n",
       "      <td>50</td>\n",
       "      <td>149</td>\n",
       "      <td>0</td>\n",
       "    </tr>\n",
       "    <tr>\n",
       "      <th>3</th>\n",
       "      <td>2021-07-10 00:00:04</td>\n",
       "      <td>-2.4722</td>\n",
       "      <td>0</td>\n",
       "      <td>11.78894</td>\n",
       "      <td>-0.00152</td>\n",
       "      <td>14.72626</td>\n",
       "      <td>0.3306</td>\n",
       "      <td>12.903438</td>\n",
       "      <td>70</td>\n",
       "      <td>1</td>\n",
       "      <td>...</td>\n",
       "      <td>31.47942</td>\n",
       "      <td>0.716042</td>\n",
       "      <td>465.95908</td>\n",
       "      <td>340.33203</td>\n",
       "      <td>1</td>\n",
       "      <td>1034.712769</td>\n",
       "      <td>12.0</td>\n",
       "      <td>50</td>\n",
       "      <td>148</td>\n",
       "      <td>0</td>\n",
       "    </tr>\n",
       "    <tr>\n",
       "      <th>4</th>\n",
       "      <td>2021-07-10 00:00:05</td>\n",
       "      <td>-2.2319</td>\n",
       "      <td>0</td>\n",
       "      <td>11.78131</td>\n",
       "      <td>0.00072</td>\n",
       "      <td>14.78729</td>\n",
       "      <td>0.2150</td>\n",
       "      <td>12.903438</td>\n",
       "      <td>70</td>\n",
       "      <td>1</td>\n",
       "      <td>...</td>\n",
       "      <td>31.47942</td>\n",
       "      <td>0.716042</td>\n",
       "      <td>452.05582</td>\n",
       "      <td>335.17798</td>\n",
       "      <td>1</td>\n",
       "      <td>1034.712769</td>\n",
       "      <td>12.0</td>\n",
       "      <td>50</td>\n",
       "      <td>148</td>\n",
       "      <td>0</td>\n",
       "    </tr>\n",
       "    <tr>\n",
       "      <th>...</th>\n",
       "      <td>...</td>\n",
       "      <td>...</td>\n",
       "      <td>...</td>\n",
       "      <td>...</td>\n",
       "      <td>...</td>\n",
       "      <td>...</td>\n",
       "      <td>...</td>\n",
       "      <td>...</td>\n",
       "      <td>...</td>\n",
       "      <td>...</td>\n",
       "      <td>...</td>\n",
       "      <td>...</td>\n",
       "      <td>...</td>\n",
       "      <td>...</td>\n",
       "      <td>...</td>\n",
       "      <td>...</td>\n",
       "      <td>...</td>\n",
       "      <td>...</td>\n",
       "      <td>...</td>\n",
       "      <td>...</td>\n",
       "      <td>...</td>\n",
       "    </tr>\n",
       "    <tr>\n",
       "      <th>86395</th>\n",
       "      <td>2021-07-10 23:59:56</td>\n",
       "      <td>-2.8150</td>\n",
       "      <td>0</td>\n",
       "      <td>12.26196</td>\n",
       "      <td>0.00130</td>\n",
       "      <td>15.53497</td>\n",
       "      <td>-0.0507</td>\n",
       "      <td>12.669310</td>\n",
       "      <td>70</td>\n",
       "      <td>1</td>\n",
       "      <td>...</td>\n",
       "      <td>31.79814</td>\n",
       "      <td>0.716042</td>\n",
       "      <td>1193.48230</td>\n",
       "      <td>347.58386</td>\n",
       "      <td>1</td>\n",
       "      <td>1018.394040</td>\n",
       "      <td>12.0</td>\n",
       "      <td>50</td>\n",
       "      <td>7</td>\n",
       "      <td>0</td>\n",
       "    </tr>\n",
       "    <tr>\n",
       "      <th>86396</th>\n",
       "      <td>2021-07-10 23:59:57</td>\n",
       "      <td>-2.6272</td>\n",
       "      <td>0</td>\n",
       "      <td>12.26196</td>\n",
       "      <td>0.00109</td>\n",
       "      <td>15.53497</td>\n",
       "      <td>0.1829</td>\n",
       "      <td>12.669310</td>\n",
       "      <td>70</td>\n",
       "      <td>1</td>\n",
       "      <td>...</td>\n",
       "      <td>31.79738</td>\n",
       "      <td>0.716042</td>\n",
       "      <td>1179.76929</td>\n",
       "      <td>348.03607</td>\n",
       "      <td>1</td>\n",
       "      <td>1018.394040</td>\n",
       "      <td>12.0</td>\n",
       "      <td>50</td>\n",
       "      <td>7</td>\n",
       "      <td>0</td>\n",
       "    </tr>\n",
       "    <tr>\n",
       "      <th>86397</th>\n",
       "      <td>2021-07-10 23:59:58</td>\n",
       "      <td>-2.3564</td>\n",
       "      <td>0</td>\n",
       "      <td>12.26196</td>\n",
       "      <td>-0.00101</td>\n",
       "      <td>15.53497</td>\n",
       "      <td>0.2907</td>\n",
       "      <td>12.669310</td>\n",
       "      <td>70</td>\n",
       "      <td>1</td>\n",
       "      <td>...</td>\n",
       "      <td>31.78784</td>\n",
       "      <td>0.716042</td>\n",
       "      <td>1152.66187</td>\n",
       "      <td>348.81366</td>\n",
       "      <td>1</td>\n",
       "      <td>1018.394040</td>\n",
       "      <td>12.0</td>\n",
       "      <td>50</td>\n",
       "      <td>7</td>\n",
       "      <td>0</td>\n",
       "    </tr>\n",
       "    <tr>\n",
       "      <th>86398</th>\n",
       "      <td>2021-07-10 23:59:59</td>\n",
       "      <td>-2.1541</td>\n",
       "      <td>0</td>\n",
       "      <td>12.26196</td>\n",
       "      <td>-0.00166</td>\n",
       "      <td>15.53497</td>\n",
       "      <td>0.3280</td>\n",
       "      <td>12.669310</td>\n",
       "      <td>70</td>\n",
       "      <td>1</td>\n",
       "      <td>...</td>\n",
       "      <td>31.77029</td>\n",
       "      <td>0.716042</td>\n",
       "      <td>1130.65723</td>\n",
       "      <td>349.13916</td>\n",
       "      <td>1</td>\n",
       "      <td>1018.394040</td>\n",
       "      <td>12.0</td>\n",
       "      <td>50</td>\n",
       "      <td>7</td>\n",
       "      <td>0</td>\n",
       "    </tr>\n",
       "    <tr>\n",
       "      <th>86399</th>\n",
       "      <td>2021-07-11 00:00:00</td>\n",
       "      <td>-2.0198</td>\n",
       "      <td>0</td>\n",
       "      <td>12.26196</td>\n",
       "      <td>-0.00195</td>\n",
       "      <td>15.53497</td>\n",
       "      <td>0.3280</td>\n",
       "      <td>12.669310</td>\n",
       "      <td>70</td>\n",
       "      <td>1</td>\n",
       "      <td>...</td>\n",
       "      <td>31.76915</td>\n",
       "      <td>0.716042</td>\n",
       "      <td>1106.10132</td>\n",
       "      <td>346.82434</td>\n",
       "      <td>1</td>\n",
       "      <td>1018.394040</td>\n",
       "      <td>12.0</td>\n",
       "      <td>50</td>\n",
       "      <td>7</td>\n",
       "      <td>0</td>\n",
       "    </tr>\n",
       "  </tbody>\n",
       "</table>\n",
       "<p>86400 rows × 88 columns</p>\n",
       "</div>"
      ],
      "text/plain": [
       "                 timestamp     C01  C02       C03      C04       C05     C06  \\\n",
       "0      2021-07-10 00:00:01 -2.0395    0  11.78894  0.00058  16.32080  0.4010   \n",
       "1      2021-07-10 00:00:02 -2.1750    0  11.78894 -0.00282  15.95459  0.4187   \n",
       "2      2021-07-10 00:00:03 -2.5854    0  11.78131 -0.00398  14.79492  0.0691   \n",
       "3      2021-07-10 00:00:04 -2.4722    0  11.78894 -0.00152  14.72626  0.3306   \n",
       "4      2021-07-10 00:00:05 -2.2319    0  11.78131  0.00072  14.78729  0.2150   \n",
       "...                    ...     ...  ...       ...      ...       ...     ...   \n",
       "86395  2021-07-10 23:59:56 -2.8150    0  12.26196  0.00130  15.53497 -0.0507   \n",
       "86396  2021-07-10 23:59:57 -2.6272    0  12.26196  0.00109  15.53497  0.1829   \n",
       "86397  2021-07-10 23:59:58 -2.3564    0  12.26196 -0.00101  15.53497  0.2907   \n",
       "86398  2021-07-10 23:59:59 -2.1541    0  12.26196 -0.00166  15.53497  0.3280   \n",
       "86399  2021-07-11 00:00:00 -2.0198    0  12.26196 -0.00195  15.53497  0.3280   \n",
       "\n",
       "             C07  C08  C09  ...       C78       C79         C80        C81  \\\n",
       "0      12.903438   70    1  ...  31.52100  0.716042   386.51172  356.64423   \n",
       "1      12.903438   70    1  ...  31.51756  0.716042   411.33905  352.08698   \n",
       "2      12.903438   70    1  ...  31.50269  0.716042   438.15259  347.63818   \n",
       "3      12.903438   70    1  ...  31.47942  0.716042   465.95908  340.33203   \n",
       "4      12.903438   70    1  ...  31.47942  0.716042   452.05582  335.17798   \n",
       "...          ...  ...  ...  ...       ...       ...         ...        ...   \n",
       "86395  12.669310   70    1  ...  31.79814  0.716042  1193.48230  347.58386   \n",
       "86396  12.669310   70    1  ...  31.79738  0.716042  1179.76929  348.03607   \n",
       "86397  12.669310   70    1  ...  31.78784  0.716042  1152.66187  348.81366   \n",
       "86398  12.669310   70    1  ...  31.77029  0.716042  1130.65723  349.13916   \n",
       "86399  12.669310   70    1  ...  31.76915  0.716042  1106.10132  346.82434   \n",
       "\n",
       "       C82          C83   C84  C85  C86  attack  \n",
       "0        1  1034.712769  12.0   50  161       0  \n",
       "1        1  1034.712769  12.0   50  155       0  \n",
       "2        1  1034.712769  12.0   50  149       0  \n",
       "3        1  1034.712769  12.0   50  148       0  \n",
       "4        1  1034.712769  12.0   50  148       0  \n",
       "...    ...          ...   ...  ...  ...     ...  \n",
       "86395    1  1018.394040  12.0   50    7       0  \n",
       "86396    1  1018.394040  12.0   50    7       0  \n",
       "86397    1  1018.394040  12.0   50    7       0  \n",
       "86398    1  1018.394040  12.0   50    7       0  \n",
       "86399    1  1018.394040  12.0   50    7       0  \n",
       "\n",
       "[86400 rows x 88 columns]"
      ]
     },
     "execution_count": 157,
     "metadata": {},
     "output_type": "execute_result"
    }
   ],
   "source": [
    "VALIDATION_DF_RAW = dataframe_from_csvs(VALIDATION_DATASET)\n",
    "VALIDATION_DF_RAW"
   ]
  },
  {
   "cell_type": "code",
   "execution_count": 158,
   "id": "stuffed-giant",
   "metadata": {
    "ExecuteTime": {
     "end_time": "2021-09-01T07:37:14.621052Z",
     "start_time": "2021-09-01T07:37:14.495740Z"
    }
   },
   "outputs": [],
   "source": [
    "VALIDATION_DF = normalize(VALIDATION_DF_RAW[VALID_COLUMNS_IN_TRAIN_DATASET])"
   ]
  },
  {
   "cell_type": "code",
   "execution_count": 159,
   "id": "sustainable-trailer",
   "metadata": {
    "ExecuteTime": {
     "end_time": "2021-09-01T07:37:30.114299Z",
     "start_time": "2021-09-01T07:37:15.034711Z"
    }
   },
   "outputs": [
    {
     "data": {
      "application/vnd.jupyter.widget-view+json": {
       "model_id": "a9abdea2fb4d47198ef15180c001517a",
       "version_major": 2,
       "version_minor": 0
      },
      "text/plain": [
       "HBox(children=(FloatProgress(value=0.0, max=86311.0), HTML(value='')))"
      ]
     },
     "metadata": {},
     "output_type": "display_data"
    },
    {
     "name": "stdout",
     "output_type": "stream",
     "text": [
      "\n",
      "# of valid windows: 86311\n"
     ]
    },
    {
     "data": {
      "text/plain": [
       "{'attack': 0.0,\n",
       " 'ts': '2021-07-10 00:01:30',\n",
       " 'given': tensor([[ 0.4743,  0.0000, -0.0407,  ...,  0.0000,  0.0000,  0.0208],\n",
       "         [ 0.4495,  0.0000, -0.0407,  ...,  0.0000,  0.0000,  0.0204],\n",
       "         [ 0.3742,  0.0000, -0.0423,  ...,  0.0000,  0.0000,  0.0199],\n",
       "         ...,\n",
       "         [ 0.4637,  0.0000, -0.0407,  ...,  0.0000,  0.0000,  0.0090],\n",
       "         [ 0.4637,  0.0000, -0.0407,  ...,  0.0000,  0.0000,  0.0090],\n",
       "         [ 0.4752,  0.0000, -0.0407,  ...,  0.0000,  0.0000,  0.0090]]),\n",
       " 'answer': tensor([ 3.2394e-01,  0.0000e+00, -4.0688e-02,  5.5395e-01,  1.4765e-01,\n",
       "          4.0518e-01,  1.1192e+00,  0.0000e+00,  0.0000e+00,  0.0000e+00,\n",
       "          4.0476e-01,  5.4933e-01,  4.3357e-01,  5.1551e-01,  3.9176e-01,\n",
       "          2.2724e-01,  0.0000e+00,  0.0000e+00,  0.0000e+00,  8.4392e-01,\n",
       "          5.1435e-01,  0.0000e+00,  4.3408e-01,  2.6753e-01,  1.0705e-01,\n",
       "          0.0000e+00,  4.3857e-01,  3.6767e-01,  0.0000e+00,  9.9556e-01,\n",
       "          5.8638e-01,  2.9160e-01,  2.1829e-01,  0.0000e+00,  9.9090e-01,\n",
       "          0.0000e+00,  3.0786e-01,  0.0000e+00,  0.0000e+00,  4.6881e-02,\n",
       "          1.4015e-01,  5.2711e-01,  5.6070e-01,  3.1643e-01,  1.0000e+00,\n",
       "          1.0000e+00,  3.6455e-01,  1.0000e+00,  0.0000e+00,  3.9249e-01,\n",
       "          6.9276e-01,  0.0000e+00,  5.7535e-04,  2.1353e-01,  0.0000e+00,\n",
       "          4.3153e-01,  3.6955e-01,  4.1979e-01,  3.7024e-01,  4.2549e-01,\n",
       "          1.0000e+00,  9.3056e-01,  0.0000e+00,  0.0000e+00,  3.2547e-03,\n",
       "          3.0846e-02,  1.5707e-01,  2.0755e-01,  0.0000e+00,  3.6367e-01,\n",
       "          1.0000e+00,  1.2658e-01,  5.2089e-01,  1.9463e-01,  2.0655e-01,\n",
       "          3.8673e-01,  2.2962e-01,  3.5579e-01,  7.1604e-02,  1.8338e-01,\n",
       "          4.2842e-01,  0.0000e+00,  6.2408e-01,  0.0000e+00,  0.0000e+00,\n",
       "          9.0042e-03])}"
      ]
     },
     "execution_count": 159,
     "metadata": {},
     "output_type": "execute_result"
    }
   ],
   "source": [
    "HAI_DATASET_VALIDATION = HaiDataset(\n",
    "    VALIDATION_DF_RAW[TIMESTAMP_FIELD], VALIDATION_DF, attacks=VALIDATION_DF_RAW[ATTACK_FIELD]\n",
    ")\n",
    "HAI_DATASET_VALIDATION[0]"
   ]
  },
  {
   "cell_type": "code",
   "execution_count": 162,
   "id": "returning-floor",
   "metadata": {
    "ExecuteTime": {
     "end_time": "2021-09-01T07:38:40.235950Z",
     "start_time": "2021-09-01T07:38:40.217260Z"
    }
   },
   "outputs": [
    {
     "data": {
      "text/plain": [
       "(True, True, False)"
      ]
     },
     "execution_count": 162,
     "metadata": {},
     "output_type": "execute_result"
    }
   ],
   "source": [
    "boundary_check(VALIDATION_DF)"
   ]
  },
  {
   "cell_type": "code",
   "execution_count": null,
   "id": "pressing-sampling",
   "metadata": {},
   "outputs": [],
   "source": [
    "TEST_DF_RAW = dataframe_from_csvs(TEST_DATASET)\n",
    "TEST_DF_RAW"
   ]
  },
  {
   "cell_type": "code",
   "execution_count": null,
   "id": "scheduled-jenny",
   "metadata": {},
   "outputs": [],
   "source": [
    "TEST_DF = normalize(TEST_DF_RAW[VALID_COLUMNS_IN_TRAIN_DATASET]).ewm(alpha=0.9).mean()\n",
    "TEST_DF"
   ]
  },
  {
   "cell_type": "code",
   "execution_count": null,
   "id": "small-sunrise",
   "metadata": {},
   "outputs": [],
   "source": [
    "boundary_check(TEST_DF)"
   ]
  },
  {
   "cell_type": "code",
   "execution_count": null,
   "id": "tropical-commander",
   "metadata": {},
   "outputs": [],
   "source": [
    "HAI_DATASET_TEST = HaiDataset(\n",
    "    TEST_DF_RAW[TIMESTAMP_FIELD], TEST_DF, attacks=None\n",
    ")\n",
    "HAI_DATASET_VALIDATION[0]"
   ]
  },
  {
   "cell_type": "code",
   "execution_count": 163,
   "id": "instant-coordinator",
   "metadata": {
    "ExecuteTime": {
     "end_time": "2021-09-01T07:46:59.946214Z",
     "start_time": "2021-09-01T07:46:59.918112Z"
    }
   },
   "outputs": [],
   "source": [
    "params = {'batch_size': 64,\n",
    "          'shuffle': True,\n",
    "          'num_workers': 4,\n",
    "          'pin_memory' : True}\n",
    "trainloader = DataLoader(HAI_DATASET_TRAIN, **params)\n",
    "params['shuffle'] = False\n",
    "validloader = DataLoader(HAI_DATASET_VALIDATION, **params)\n",
    "testloader = DataLoader(HAI_DATASET_TEST, **params)"
   ]
  },
  {
   "cell_type": "code",
   "execution_count": 12,
   "id": "nominated-mounting",
   "metadata": {
    "ExecuteTime": {
     "end_time": "2021-09-01T06:22:54.803798Z",
     "start_time": "2021-09-01T06:22:54.631408Z"
    }
   },
   "outputs": [
    {
     "name": "stdout",
     "output_type": "stream",
     "text": [
      "torch.Size([64, 89, 86])\n"
     ]
    }
   ],
   "source": [
    "train_shape = next(iter(trainloader))['given'].shape\n",
    "print(train_shape)"
   ]
  },
  {
   "cell_type": "markdown",
   "id": "facial-alcohol",
   "metadata": {},
   "source": [
    "## Model"
   ]
  },
  {
   "cell_type": "code",
   "execution_count": 60,
   "id": "north-pursuit",
   "metadata": {
    "ExecuteTime": {
     "end_time": "2021-09-01T06:56:53.432682Z",
     "start_time": "2021-09-01T06:56:53.424280Z"
    }
   },
   "outputs": [],
   "source": [
    "class anomaly_detecter(nn.Module):\n",
    "    def __init__(self, input_channel, kernel_size=7, stride=2):\n",
    "        super(anomaly_detecter, self).__init__()\n",
    "        \n",
    "        self.ad_layer = nn.Sequential(\n",
    "            nn.Conv1d(input_channel, 32, kernel_size, stride=stride, padding=3),\n",
    "            nn.ReLU(),\n",
    "            nn.Dropout(0.2),\n",
    "            nn.Conv1d(32, 16, kernel_size, stride=stride, padding=3),\n",
    "            nn.ReLU(),\n",
    "            nn.ConvTranspose1d(16, 16, kernel_size, stride=stride, padding=3),\n",
    "            nn.ReLU(),\n",
    "            nn.Dropout(0.2),\n",
    "            nn.ConvTranspose1d(16, 32, kernel_size, stride=stride, padding=3),\n",
    "            nn.ReLU(),\n",
    "            nn.ConvTranspose1d(32, 86, kernel_size, padding=3),\n",
    "        )\n",
    "        \n",
    "    def forward(self, inputs):\n",
    "        output = self.ad_layer(inputs)\n",
    "        return output"
   ]
  },
  {
   "cell_type": "code",
   "execution_count": 203,
   "id": "mobile-raise",
   "metadata": {
    "ExecuteTime": {
     "end_time": "2021-09-01T11:14:39.651404Z",
     "start_time": "2021-09-01T11:14:39.637392Z"
    }
   },
   "outputs": [
    {
     "data": {
      "text/plain": [
       "==========================================================================================\n",
       "Layer (type:depth-idx)                   Output Shape              Param #\n",
       "==========================================================================================\n",
       "anomaly_detecter                         --                        --\n",
       "├─Sequential: 1-1                        [64, 86, 89]              --\n",
       "│    └─Conv1d: 2-1                       [64, 32, 45]              19,296\n",
       "│    └─ReLU: 2-2                         [64, 32, 45]              --\n",
       "│    └─Dropout: 2-3                      [64, 32, 45]              --\n",
       "│    └─Conv1d: 2-4                       [64, 16, 23]              3,600\n",
       "│    └─ReLU: 2-5                         [64, 16, 23]              --\n",
       "│    └─ConvTranspose1d: 2-6              [64, 16, 45]              1,808\n",
       "│    └─ReLU: 2-7                         [64, 16, 45]              --\n",
       "│    └─Dropout: 2-8                      [64, 16, 45]              --\n",
       "│    └─ConvTranspose1d: 2-9              [64, 32, 89]              3,616\n",
       "│    └─ReLU: 2-10                        [64, 32, 89]              --\n",
       "│    └─ConvTranspose1d: 2-11             [64, 86, 89]              19,350\n",
       "==========================================================================================\n",
       "Total params: 47,670\n",
       "Trainable params: 47,670\n",
       "Non-trainable params: 0\n",
       "Total mult-adds (M): 196.89\n",
       "==========================================================================================\n",
       "Input size (MB): 1.96\n",
       "Forward/backward pass size (MB): 6.67\n",
       "Params size (MB): 0.19\n",
       "Estimated Total Size (MB): 8.82\n",
       "=========================================================================================="
      ]
     },
     "execution_count": 203,
     "metadata": {},
     "output_type": "execute_result"
    }
   ],
   "source": [
    "model = anomaly_detecter(train_shape[2]).to(device)\n",
    "summary(model, (64, 86, 89))"
   ]
  },
  {
   "cell_type": "code",
   "execution_count": 204,
   "id": "capital-norman",
   "metadata": {
    "ExecuteTime": {
     "end_time": "2021-09-01T11:14:41.591970Z",
     "start_time": "2021-09-01T11:14:41.589469Z"
    }
   },
   "outputs": [],
   "source": [
    "optimizer = optim.AdamW(model.parameters())\n",
    "loss_fn = nn.MSELoss()"
   ]
  },
  {
   "cell_type": "code",
   "execution_count": 197,
   "id": "correct-dance",
   "metadata": {
    "ExecuteTime": {
     "end_time": "2021-09-01T11:09:57.773969Z",
     "start_time": "2021-09-01T11:09:57.764200Z"
    }
   },
   "outputs": [],
   "source": [
    "def train(model, train_data, optimizer, loss_fn, use_fp16=True, max_norm=None):\n",
    "    \n",
    "    epoch_loss = 0\n",
    "    \n",
    "    model.train() \n",
    "\n",
    "    for idx, batch in enumerate(train_data):\n",
    "        \n",
    "        optimizer.zero_grad(set_to_none=True)\n",
    "        scaler = torch.cuda.amp.GradScaler()\n",
    "                \n",
    "        input = batch['given'].permute(0,2,1).to(device)\n",
    "        \n",
    "        with torch.cuda.amp.autocast(enabled=use_fp16):\n",
    "            predictions = model.forward(input)\n",
    "            train_loss = loss_fn(predictions, input)\n",
    "        if use_fp16:\n",
    "            scaler.scale(train_loss).backward()\n",
    "            if max_norm is not None:\n",
    "                scaler.unscale_(optimizer)\n",
    "                torch.nn.utils.clip_grad_norm_(model.parameters(), max_norm)\n",
    "            scaler.step(optimizer)\n",
    "            scaler.update()\n",
    "        else:\n",
    "            train_loss.backward()\n",
    "            optimizer.step()\n",
    "        \n",
    "        epoch_loss += train_loss.item()\n",
    "        \n",
    "    return epoch_loss/len(train_data)"
   ]
  },
  {
   "cell_type": "code",
   "execution_count": 198,
   "id": "advance-cocktail",
   "metadata": {
    "ExecuteTime": {
     "end_time": "2021-09-01T11:09:59.738965Z",
     "start_time": "2021-09-01T11:09:59.734927Z"
    }
   },
   "outputs": [],
   "source": [
    "def validation(model, val_data, loss_fn):\n",
    "    model.eval()\n",
    "    val_loss = 0\n",
    "    for idx, batch in enumerate(val_data):\n",
    "        input = batch['given'].permute(0,2,1).to(device)\n",
    "        with torch.no_grad():\n",
    "            predictions = model.forward(input)\n",
    "            val_loss += loss_fn(predictions, input)\n",
    "        \n",
    "    return val_loss.item()/len(val_data)"
   ]
  },
  {
   "cell_type": "code",
   "execution_count": 69,
   "id": "foreign-intake",
   "metadata": {
    "ExecuteTime": {
     "end_time": "2021-09-01T06:59:21.246001Z",
     "start_time": "2021-09-01T06:59:21.226093Z"
    }
   },
   "outputs": [],
   "source": [
    "class EarlyStopping():\n",
    "    def __init__(self, patience=0, verbose=0):\n",
    "        self._step = 0\n",
    "        self._loss = float('inf')\n",
    "        self.patience = patience\n",
    "        self.verbose = verbose\n",
    "\n",
    "    def validate(self, loss):\n",
    "        if self._loss < loss:\n",
    "            self._step += 1\n",
    "            if self._step > self.patience:\n",
    "                if self.verbose:\n",
    "                    print(f'\\n Training process is stopped early....')\n",
    "                return True\n",
    "        else:\n",
    "            self._step = 0\n",
    "            self._loss = loss\n",
    "\n",
    "        return False"
   ]
  },
  {
   "cell_type": "code",
   "execution_count": 206,
   "id": "nutritional-revolution",
   "metadata": {
    "ExecuteTime": {
     "end_time": "2021-09-01T11:34:06.034723Z",
     "start_time": "2021-09-01T11:15:21.762597Z"
    }
   },
   "outputs": [
    {
     "name": "stdout",
     "output_type": "stream",
     "text": [
      "[Train] Epoch :  1   Train Loss: 0.02001  Validation Loss: 0.01538\n",
      "[Train] Epoch :  2   Train Loss: 0.008204  Validation Loss: 0.02315\n",
      "[Train] Epoch :  3   Train Loss: 0.006264  Validation Loss: 0.02734\n",
      "[Train] Epoch :  4   Train Loss: 0.00543  Validation Loss: 0.0247\n",
      "[Train] Epoch :  5   Train Loss: 0.005  Validation Loss: 0.01074\n",
      "[Train] Epoch :  6   Train Loss: 0.004721  Validation Loss: 0.01127\n",
      "[Train] Epoch :  7   Train Loss: 0.004536  Validation Loss: 0.01121\n",
      "[Train] Epoch :  8   Train Loss: 0.004409  Validation Loss: 0.0112\n",
      "[Train] Epoch :  9   Train Loss: 0.004276  Validation Loss: 0.01126\n",
      "[Train] Epoch : 10   Train Loss: 0.004193  Validation Loss: 0.01121\n",
      "[Train] Epoch : 11   Train Loss: 0.00412  Validation Loss: 0.01203\n",
      "[Train] Epoch : 12   Train Loss: 0.004067  Validation Loss: 0.01107\n",
      "[Train] Epoch : 13   Train Loss: 0.004034  Validation Loss: 0.01068\n",
      "[Train] Epoch : 14   Train Loss: 0.003981  Validation Loss: 0.01075\n",
      "[Train] Epoch : 15   Train Loss: 0.003964  Validation Loss: 0.01037\n",
      "[Train] Epoch : 16   Train Loss: 0.003902  Validation Loss: 0.01187\n",
      "[Train] Epoch : 17   Train Loss: 0.003903  Validation Loss: 0.01137\n",
      "[Train] Epoch : 18   Train Loss: 0.003849  Validation Loss: 0.01091\n",
      "[Train] Epoch : 19   Train Loss: 0.003856  Validation Loss: 0.01086\n",
      "[Train] Epoch : 20   Train Loss: 0.003809  Validation Loss: 0.01057\n",
      "[Train] Epoch : 21   Train Loss: 0.003786  Validation Loss: 0.01127\n",
      "[Train] Epoch : 22   Train Loss: 0.003794  Validation Loss: 0.01059\n",
      "[Train] Epoch : 23   Train Loss: 0.003764  Validation Loss: 0.01115\n",
      "[Train] Epoch : 24   Train Loss: 0.003752  Validation Loss: 0.01092\n",
      "[Train] Epoch : 25   Train Loss: 0.003714  Validation Loss: 0.01135\n",
      "[Train] Epoch : 26   Train Loss: 0.003709  Validation Loss: 0.01086\n",
      "[Train] Epoch : 27   Train Loss: 0.003689  Validation Loss: 0.01103\n",
      "[Train] Epoch : 28   Train Loss: 0.003672  Validation Loss: 0.0112\n",
      "[Train] Epoch : 29   Train Loss: 0.003681  Validation Loss: 0.01129\n",
      "[Train] Epoch : 30   Train Loss: 0.003654  Validation Loss: 0.01125\n",
      "[Train] Epoch : 31   Train Loss: 0.003646  Validation Loss: 0.01088\n",
      "[Train] Epoch : 32   Train Loss: 0.003626  Validation Loss: 0.01101\n",
      "[Train] Epoch : 33   Train Loss: 0.003618  Validation Loss: 0.01061\n",
      "[Train] Epoch : 34   Train Loss: 0.003624  Validation Loss: 0.01186\n",
      "[Train] Epoch : 35   Train Loss: 0.00361  Validation Loss: 0.0114\n",
      "[Train] Epoch : 36   Train Loss: 0.003595  Validation Loss: 0.01229\n",
      "[Train] Epoch : 37   Train Loss: 0.003605  Validation Loss: 0.01174\n",
      "[Train] Epoch : 38   Train Loss: 0.003597  Validation Loss: 0.01105\n",
      "[Train] Epoch : 39   Train Loss: 0.003568  Validation Loss: 0.01197\n",
      "[Train] Epoch : 40   Train Loss: 0.003557  Validation Loss: 0.01184\n",
      "[Train] Epoch : 41   Train Loss: 0.003587  Validation Loss: 0.01258\n",
      "[Train] Epoch : 42   Train Loss: 0.003568  Validation Loss: 0.01241\n",
      "[Train] Epoch : 43   Train Loss: 0.003547  Validation Loss: 0.01198\n",
      "[Train] Epoch : 44   Train Loss: 0.003546  Validation Loss: 0.01149\n",
      "[Train] Epoch : 45   Train Loss: 0.003546  Validation Loss: 0.01232\n",
      "[Train] Epoch : 46   Train Loss: 0.003543  Validation Loss: 0.0119\n",
      "[Train] Epoch : 47   Train Loss: 0.003511  Validation Loss: 0.01213\n",
      "[Train] Epoch : 48   Train Loss: 0.003506  Validation Loss: 0.01269\n",
      "[Train] Epoch : 49   Train Loss: 0.003588  Validation Loss: 0.01182\n",
      "[Train] Epoch : 50   Train Loss: 0.003505  Validation Loss: 0.0121\n",
      "[Train] Epoch : 51   Train Loss: 0.003506  Validation Loss: 0.0123\n",
      "[Train] Epoch : 52   Train Loss: 0.003511  Validation Loss: 0.01236\n",
      "[Train] Epoch : 53   Train Loss: 0.003498  Validation Loss: 0.01235\n",
      "[Train] Epoch : 54   Train Loss: 0.003507  Validation Loss: 0.01171\n",
      "[Train] Epoch : 55   Train Loss: 0.003486  Validation Loss: 0.01124\n",
      "[Train] Epoch : 56   Train Loss: 0.003479  Validation Loss: 0.01175\n",
      "[Train] Epoch : 57   Train Loss: 0.00346  Validation Loss: 0.01117\n",
      "[Train] Epoch : 58   Train Loss: 0.003466  Validation Loss: 0.01113\n",
      "[Train] Epoch : 59   Train Loss: 0.003421  Validation Loss: 0.01207\n",
      "[Train] Epoch : 60   Train Loss: 0.003428  Validation Loss: 0.01111\n",
      "[Train] Epoch : 61   Train Loss: 0.003389  Validation Loss: 0.01044\n",
      "[Train] Epoch : 62   Train Loss: 0.003405  Validation Loss: 0.01062\n",
      "[Train] Epoch : 63   Train Loss: 0.003398  Validation Loss: 0.01226\n",
      "[Train] Epoch : 64   Train Loss: 0.003371  Validation Loss: 0.01046\n",
      "[Train] Epoch : 65   Train Loss: 0.003397  Validation Loss: 0.01099\n",
      "[Train] Epoch : 66   Train Loss: 0.003381  Validation Loss: 0.0107\n",
      "[Train] Epoch : 67   Train Loss: 0.003379  Validation Loss: 0.01124\n",
      "[Train] Epoch : 68   Train Loss: 0.003366  Validation Loss: 0.01071\n",
      "[Train] Epoch : 69   Train Loss: 0.003397  Validation Loss: 0.0115\n",
      "[Train] Epoch : 70   Train Loss: 0.003387  Validation Loss: 0.01075\n",
      "[Train] Epoch : 71   Train Loss: 0.003383  Validation Loss: 0.01199\n",
      "[Train] Epoch : 72   Train Loss: 0.003365  Validation Loss: 0.01161\n",
      "[Train] Epoch : 73   Train Loss: 0.003377  Validation Loss: 0.01141\n",
      "[Train] Epoch : 74   Train Loss: 0.003365  Validation Loss: 0.01113\n",
      "[Train] Epoch : 75   Train Loss: 0.003366  Validation Loss: 0.01087\n",
      "[Train] Epoch : 76   Train Loss: 0.003347  Validation Loss: 0.01356\n",
      "[Train] Epoch : 77   Train Loss: 0.003387  Validation Loss: 0.01257\n",
      "[Train] Epoch : 78   Train Loss: 0.003365  Validation Loss: 0.01046\n",
      "[Train] Epoch : 79   Train Loss: 0.003384  Validation Loss: 0.0118\n",
      "[Train] Epoch : 80   Train Loss: 0.003368  Validation Loss: 0.01095\n",
      "[Train] Epoch : 81   Train Loss: 0.003342  Validation Loss: 0.01122\n",
      "[Train] Epoch : 82   Train Loss: 0.003326  Validation Loss: 0.01056\n",
      "[Train] Epoch : 83   Train Loss: 0.003371  Validation Loss: 0.01198\n",
      "[Train] Epoch : 84   Train Loss: 0.003331  Validation Loss: 0.01195\n",
      "[Train] Epoch : 85   Train Loss: 0.003401  Validation Loss: 0.01097\n",
      "[Train] Epoch : 86   Train Loss: 0.003342  Validation Loss: 0.01141\n",
      "[Train] Epoch : 87   Train Loss: 0.003343  Validation Loss: 0.01211\n",
      "[Train] Epoch : 88   Train Loss: 0.003358  Validation Loss: 0.01236\n",
      "[Train] Epoch : 89   Train Loss: 0.00333  Validation Loss: 0.01203\n",
      "[Train] Epoch : 90   Train Loss: 0.003357  Validation Loss: 0.01194\n",
      "[Train] Epoch : 91   Train Loss: 0.003364  Validation Loss: 0.01256\n",
      "[Train] Epoch : 92   Train Loss: 0.00331  Validation Loss: 0.01076\n",
      "[Train] Epoch : 93   Train Loss: 0.003364  Validation Loss: 0.01129\n",
      "[Train] Epoch : 94   Train Loss: 0.003344  Validation Loss: 0.01086\n",
      "[Train] Epoch : 95   Train Loss: 0.00335  Validation Loss: 0.01289\n",
      "[Train] Epoch : 96   Train Loss: 0.003332  Validation Loss: 0.01158\n",
      "[Train] Epoch : 97   Train Loss: 0.003342  Validation Loss: 0.01103\n",
      "[Train] Epoch : 98   Train Loss: 0.003336  Validation Loss: 0.0109\n",
      "[Train] Epoch : 99   Train Loss: 0.003342  Validation Loss: 0.01052\n",
      "[Train] Epoch : 100  Train Loss: 0.003357  Validation Loss: 0.0118\n",
      "CPU times: user 19min 22s, sys: 4min 13s, total: 23min 35s\n",
      "Wall time: 18min 44s\n"
     ]
    }
   ],
   "source": [
    "%%time\n",
    "epochs = 100\n",
    "history = dict()\n",
    "best = {\"loss\": sys.float_info.max}\n",
    "early_stopping = EarlyStopping(patience=50, verbose=1)\n",
    "for epoch in range(1, epochs+1):\n",
    "    epoch_loss = train(model, trainloader, optimizer, loss_fn, use_fp16=True)\n",
    "    val_loss = validation(model, validloader, loss_fn)\n",
    "    \n",
    "    history.setdefault('loss', []).append(epoch_loss) \n",
    "    history.setdefault('val_loss', []).append(val_loss) \n",
    "    \n",
    "#     sys.stdout.write(\n",
    "#         \"\\r\" + f\"[Train] Epoch : {epoch:^3}\"\\\n",
    "#         f\"  Train Loss: {epoch_loss:.4}\"\\\n",
    "#         f\"  Validation Loss: {val_loss:.4}\"\\\n",
    "#                     )\n",
    "    print(f\"[Train] Epoch : {epoch:^3}\"\\\n",
    "        f\"  Train Loss: {epoch_loss:.4}\"\\\n",
    "        f\"  Validation Loss: {val_loss:.4}\")\n",
    "    if epoch_loss < best[\"loss\"]:\n",
    "            best[\"state\"] = model.state_dict()\n",
    "            best[\"loss\"] = epoch_loss\n",
    "            best[\"epoch\"] = epoch + 1\n",
    "    if early_stopping.validate(epoch_loss):\n",
    "        break"
   ]
  },
  {
   "cell_type": "code",
   "execution_count": 207,
   "id": "stock-white",
   "metadata": {
    "ExecuteTime": {
     "end_time": "2021-09-01T11:34:09.364013Z",
     "start_time": "2021-09-01T11:34:09.225631Z"
    }
   },
   "outputs": [
    {
     "data": {
      "image/png": "[encoded data removed]",
      "text/plain": [
       "<Figure size 432x288 with 1 Axes>"
      ]
     },
     "metadata": {
      "needs_background": "light"
     },
     "output_type": "display_data"
    }
   ],
   "source": [
    "plt.plot(history[\"loss\"], label=\"Training Loss\")\n",
    "plt.plot(history[\"val_loss\"], label=\"Validation Loss\")\n",
    "plt.legend()\n",
    "plt.show()"
   ]
  },
  {
   "cell_type": "code",
   "execution_count": 211,
   "id": "decimal-dining",
   "metadata": {
    "ExecuteTime": {
     "end_time": "2021-09-01T11:34:50.029303Z",
     "start_time": "2021-09-01T11:34:50.023050Z"
    }
   },
   "outputs": [
    {
     "data": {
      "text/plain": [
       "<All keys matched successfully>"
      ]
     },
     "execution_count": 211,
     "metadata": {},
     "output_type": "execute_result"
    }
   ],
   "source": [
    "model.load_state_dict(best[\"state\"])"
   ]
  },
  {
   "cell_type": "code",
   "execution_count": 164,
   "id": "growing-timber",
   "metadata": {
    "ExecuteTime": {
     "end_time": "2021-09-01T07:47:07.957437Z",
     "start_time": "2021-09-01T07:47:07.950900Z"
    }
   },
   "outputs": [],
   "source": [
    "def inference(dataloader, model):\n",
    "    ts, dist, att = [], [], []\n",
    "    with torch.no_grad():\n",
    "        for batch in dataloader:\n",
    "            given = batch[\"given\"].permute(0,2,1).to(device)\n",
    "#             answer = batch[\"answer\"].permute(0,2,1).to(device)\n",
    "            guess = model(given)\n",
    "            ts.append(np.array(batch[\"ts\"]))\n",
    "#             dist.append(torch.abs(given - guess).cpu().numpy())\n",
    "            dist.append(torch.sum(torch.abs(guess-given), 1).cpu().numpy())\n",
    "            try:\n",
    "                att.append(np.array(batch[\"attack\"]))\n",
    "            except:\n",
    "                att.append(np.zeros(64))\n",
    "            \n",
    "    return (\n",
    "        np.concatenate(ts),\n",
    "        np.concatenate(dist),\n",
    "        np.concatenate(att),\n",
    "    )"
   ]
  },
  {
   "cell_type": "code",
   "execution_count": 234,
   "id": "excessive-custom",
   "metadata": {
    "ExecuteTime": {
     "end_time": "2021-09-01T11:49:02.797394Z",
     "start_time": "2021-09-01T11:48:59.460022Z"
    }
   },
   "outputs": [
    {
     "name": "stdout",
     "output_type": "stream",
     "text": [
      "CPU times: user 3.25 s, sys: 1.3 s, total: 4.55 s\n",
      "Wall time: 3.33 s\n"
     ]
    }
   ],
   "source": [
    "%%time\n",
    "model.eval()\n",
    "CHECK_TS, CHECK_DIST, CHECK_ATT = inference(validloader, model)"
   ]
  },
  {
   "cell_type": "code",
   "execution_count": 112,
   "id": "another-thailand",
   "metadata": {
    "ExecuteTime": {
     "end_time": "2021-09-01T07:17:39.046629Z",
     "start_time": "2021-09-01T07:17:38.796698Z"
    }
   },
   "outputs": [
    {
     "data": {
      "text/plain": [
       "torch.Size([64, 86])"
      ]
     },
     "execution_count": 112,
     "metadata": {},
     "output_type": "execute_result"
    }
   ],
   "source": [
    "next(iter(validloader))['answer'].shape"
   ]
  },
  {
   "cell_type": "code",
   "execution_count": 235,
   "id": "olympic-wales",
   "metadata": {
    "ExecuteTime": {
     "end_time": "2021-09-01T11:49:04.726662Z",
     "start_time": "2021-09-01T11:49:04.720823Z"
    }
   },
   "outputs": [],
   "source": [
    "ANOMALY_SCORE = np.mean(CHECK_DIST, axis=1)"
   ]
  },
  {
   "cell_type": "code",
   "execution_count": 236,
   "id": "particular-easter",
   "metadata": {
    "ExecuteTime": {
     "end_time": "2021-09-01T11:49:06.636136Z",
     "start_time": "2021-09-01T11:49:06.629805Z"
    }
   },
   "outputs": [],
   "source": [
    "def check_graph(xs, att, piece=2, THRESHOLD=None):\n",
    "    l = xs.shape[0]\n",
    "    chunk = l // piece\n",
    "    fig, axs = plt.subplots(piece, figsize=(20, 4 * piece))\n",
    "    for i in range(piece):\n",
    "        L = i * chunk\n",
    "        R = min(L + chunk, l)\n",
    "        xticks = range(L, R)\n",
    "        axs[i].plot(xticks, xs[L:R])\n",
    "        if len(xs[L:R]) > 0:\n",
    "            peak = max(xs[L:R])\n",
    "            axs[i].plot(xticks, att[L:R] * peak * 0.3)\n",
    "        if THRESHOLD!=None:\n",
    "            axs[i].axhline(y=THRESHOLD, color='r')\n",
    "    plt.show()"
   ]
  },
  {
   "cell_type": "code",
   "execution_count": 237,
   "id": "statutory-orange",
   "metadata": {
    "ExecuteTime": {
     "end_time": "2021-09-01T11:49:08.541518Z",
     "start_time": "2021-09-01T11:49:08.538221Z"
    }
   },
   "outputs": [
    {
     "data": {
      "text/plain": [
       "array([0., 0., 0., ..., 0., 0., 0.], dtype=float32)"
      ]
     },
     "execution_count": 237,
     "metadata": {},
     "output_type": "execute_result"
    }
   ],
   "source": [
    "CHECK_ATT"
   ]
  },
  {
   "cell_type": "code",
   "execution_count": 238,
   "id": "latter-australian",
   "metadata": {
    "ExecuteTime": {
     "end_time": "2021-09-01T11:49:10.785404Z",
     "start_time": "2021-09-01T11:49:10.443140Z"
    }
   },
   "outputs": [
    {
     "data": {
      "image/png": "[encoded data removed]",
      "text/plain": [
       "<Figure size 1440x576 with 2 Axes>"
      ]
     },
     "metadata": {
      "needs_background": "light"
     },
     "output_type": "display_data"
    }
   ],
   "source": [
    "THRESHOLD = 8\n",
    "check_graph(ANOMALY_SCORE, CHECK_ATT, piece=2, THRESHOLD=THRESHOLD)"
   ]
  },
  {
   "cell_type": "code",
   "execution_count": 239,
   "id": "cellular-flashing",
   "metadata": {
    "ExecuteTime": {
     "end_time": "2021-09-01T11:49:20.944539Z",
     "start_time": "2021-09-01T11:49:20.939068Z"
    }
   },
   "outputs": [],
   "source": [
    "def put_labels(distance, threshold):\n",
    "    xs = np.zeros_like(distance)\n",
    "    xs[distance > threshold] = 1\n",
    "    return xs"
   ]
  },
  {
   "cell_type": "code",
   "execution_count": 240,
   "id": "intended-stage",
   "metadata": {
    "ExecuteTime": {
     "end_time": "2021-09-01T11:49:22.912065Z",
     "start_time": "2021-09-01T11:49:22.908084Z"
    }
   },
   "outputs": [
    {
     "data": {
      "text/plain": [
       "(array([0., 0., 0., ..., 0., 0., 0.], dtype=float32), (86311,))"
      ]
     },
     "execution_count": 240,
     "metadata": {},
     "output_type": "execute_result"
    }
   ],
   "source": [
    "LABELS = put_labels(ANOMALY_SCORE, THRESHOLD)\n",
    "LABELS, LABELS.shape"
   ]
  },
  {
   "cell_type": "code",
   "execution_count": 241,
   "id": "starting-bangladesh",
   "metadata": {
    "ExecuteTime": {
     "end_time": "2021-09-01T11:49:24.822581Z",
     "start_time": "2021-09-01T11:49:24.818334Z"
    }
   },
   "outputs": [
    {
     "data": {
      "text/plain": [
       "(array([0, 0, 0, ..., 0, 0, 0]), (86400,))"
      ]
     },
     "execution_count": 241,
     "metadata": {},
     "output_type": "execute_result"
    }
   ],
   "source": [
    "ATTACK_LABELS = put_labels(np.array(VALIDATION_DF_RAW[ATTACK_FIELD]), threshold=0.5)\n",
    "ATTACK_LABELS, ATTACK_LABELS.shape"
   ]
  },
  {
   "cell_type": "code",
   "execution_count": 242,
   "id": "sixth-destination",
   "metadata": {
    "ExecuteTime": {
     "end_time": "2021-09-01T11:49:26.752579Z",
     "start_time": "2021-09-01T11:49:26.745523Z"
    }
   },
   "outputs": [],
   "source": [
    "def fill_blank(check_ts, labels, total_ts):\n",
    "    def ts_generator():\n",
    "        for t in total_ts:\n",
    "            yield dateutil.parser.parse(t)\n",
    "\n",
    "    def label_generator():\n",
    "        for t, label in zip(check_ts, labels):\n",
    "            yield dateutil.parser.parse(t), label\n",
    "\n",
    "    g_ts = ts_generator()\n",
    "    g_label = label_generator()\n",
    "    final_labels = []\n",
    "\n",
    "    try:\n",
    "        current = next(g_ts)\n",
    "        ts_label, label = next(g_label)\n",
    "        while True:\n",
    "            if current > ts_label:\n",
    "                ts_label, label = next(g_label)\n",
    "                continue\n",
    "            elif current < ts_label:\n",
    "                final_labels.append(0)\n",
    "                current = next(g_ts)\n",
    "                continue\n",
    "            final_labels.append(label)\n",
    "            current = next(g_ts)\n",
    "            ts_label, label = next(g_label)\n",
    "    except StopIteration:\n",
    "        return np.array(final_labels, dtype=np.int8)"
   ]
  },
  {
   "cell_type": "code",
   "execution_count": 243,
   "id": "alike-lighter",
   "metadata": {
    "ExecuteTime": {
     "end_time": "2021-09-01T11:49:43.356376Z",
     "start_time": "2021-09-01T11:49:28.656804Z"
    }
   },
   "outputs": [
    {
     "name": "stdout",
     "output_type": "stream",
     "text": [
      "CPU times: user 14.7 s, sys: 0 ns, total: 14.7 s\n",
      "Wall time: 14.7 s\n"
     ]
    },
    {
     "data": {
      "text/plain": [
       "(86400,)"
      ]
     },
     "execution_count": 243,
     "metadata": {},
     "output_type": "execute_result"
    }
   ],
   "source": [
    "%%time\n",
    "FINAL_LABELS = fill_blank(CHECK_TS, LABELS, np.array(VALIDATION_DF_RAW[TIMESTAMP_FIELD]))\n",
    "FINAL_LABELS.shape"
   ]
  },
  {
   "cell_type": "code",
   "execution_count": 244,
   "id": "hourly-clause",
   "metadata": {
    "ExecuteTime": {
     "end_time": "2021-09-01T11:49:45.922121Z",
     "start_time": "2021-09-01T11:49:45.267763Z"
    }
   },
   "outputs": [
    {
     "name": "stdout",
     "output_type": "stream",
     "text": [
      "F1: 0.011 (TaP: 0.006, TaR: 0.031)\n",
      "# of detected anomalies: 1\n",
      "Detected anomalies: [<TaPR_pkg.DataManage.Range.Range object at 0x7f804e664d68>]\n"
     ]
    }
   ],
   "source": [
    "TaPR = etapr.evaluate_haicon(anomalies=ATTACK_LABELS, predictions=FINAL_LABELS)\n",
    "print(f\"F1: {TaPR['f1']:.3f} (TaP: {TaPR['TaP']:.3f}, TaR: {TaPR['TaR']:.3f})\")\n",
    "print(f\"# of detected anomalies: {len(TaPR['Detected_Anomalies'])}\")\n",
    "print(f\"Detected anomalies: {TaPR['Detected_Anomalies']}\")"
   ]
  },
  {
   "cell_type": "code",
   "execution_count": 222,
   "id": "talented-taiwan",
   "metadata": {
    "ExecuteTime": {
     "end_time": "2021-09-01T11:39:13.846069Z",
     "start_time": "2021-09-01T11:39:05.301172Z"
    }
   },
   "outputs": [
    {
     "name": "stdout",
     "output_type": "stream",
     "text": [
      "CPU times: user 9.57 s, sys: 3.12 s, total: 12.7 s\n",
      "Wall time: 8.54 s\n"
     ]
    }
   ],
   "source": [
    "%%time\n",
    "model.eval()\n",
    "CHECK_TS, CHECK_DIST, CHECK_ATT = inference(testloader, model)"
   ]
  },
  {
   "cell_type": "code",
   "execution_count": 223,
   "id": "characteristic-pacific",
   "metadata": {
    "ExecuteTime": {
     "end_time": "2021-09-01T11:39:15.769302Z",
     "start_time": "2021-09-01T11:39:15.756565Z"
    }
   },
   "outputs": [],
   "source": [
    "ANOMALY_SCORE = np.mean(CHECK_DIST, axis=1)"
   ]
  },
  {
   "cell_type": "code",
   "execution_count": 233,
   "id": "simple-karen",
   "metadata": {
    "ExecuteTime": {
     "end_time": "2021-09-01T11:47:11.710178Z",
     "start_time": "2021-09-01T11:47:11.141891Z"
    }
   },
   "outputs": [
    {
     "data": {
      "image/png": "[encoded data removed]",
      "text/plain": [
       "<Figure size 1440x864 with 3 Axes>"
      ]
     },
     "metadata": {
      "needs_background": "light"
     },
     "output_type": "display_data"
    }
   ],
   "source": [
    "check_graph(ANOMALY_SCORE, CHECK_ATT, piece=3, THRESHOLD=THRESHOLD)"
   ]
  },
  {
   "cell_type": "code",
   "execution_count": 230,
   "id": "interim-hostel",
   "metadata": {
    "ExecuteTime": {
     "end_time": "2021-09-01T11:45:17.948455Z",
     "start_time": "2021-09-01T11:45:17.942343Z"
    }
   },
   "outputs": [
    {
     "data": {
      "text/plain": [
       "(array([0., 0., 0., ..., 0., 0., 0.], dtype=float32), (274533,))"
      ]
     },
     "execution_count": 230,
     "metadata": {},
     "output_type": "execute_result"
    }
   ],
   "source": [
    "LABELS = put_labels(ANOMALY_SCORE, THRESHOLD)\n",
    "LABELS, LABELS.shape"
   ]
  },
  {
   "cell_type": "code",
   "execution_count": 231,
   "id": "romance-shame",
   "metadata": {
    "ExecuteTime": {
     "end_time": "2021-09-01T11:45:20.211433Z",
     "start_time": "2021-09-01T11:45:19.917337Z"
    }
   },
   "outputs": [
    {
     "data": {
      "text/html": [
       "<div>\n",
       "<style scoped>\n",
       "    .dataframe tbody tr th:only-of-type {\n",
       "        vertical-align: middle;\n",
       "    }\n",
       "\n",
       "    .dataframe tbody tr th {\n",
       "        vertical-align: top;\n",
       "    }\n",
       "\n",
       "    .dataframe thead th {\n",
       "        text-align: right;\n",
       "    }\n",
       "</style>\n",
       "<table border=\"1\" class=\"dataframe\">\n",
       "  <thead>\n",
       "    <tr style=\"text-align: right;\">\n",
       "      <th></th>\n",
       "      <th>timestamp</th>\n",
       "      <th>attack</th>\n",
       "    </tr>\n",
       "    <tr>\n",
       "      <th>timestamp</th>\n",
       "      <th></th>\n",
       "      <th></th>\n",
       "    </tr>\n",
       "  </thead>\n",
       "  <tbody>\n",
       "    <tr>\n",
       "      <th>2021-07-13 16:00:01</th>\n",
       "      <td>2021-07-13 16:00:01</td>\n",
       "      <td>0.0</td>\n",
       "    </tr>\n",
       "    <tr>\n",
       "      <th>2021-07-13 16:00:02</th>\n",
       "      <td>2021-07-13 16:00:02</td>\n",
       "      <td>0.0</td>\n",
       "    </tr>\n",
       "    <tr>\n",
       "      <th>2021-07-13 16:00:03</th>\n",
       "      <td>2021-07-13 16:00:03</td>\n",
       "      <td>0.0</td>\n",
       "    </tr>\n",
       "    <tr>\n",
       "      <th>2021-07-13 16:00:04</th>\n",
       "      <td>2021-07-13 16:00:04</td>\n",
       "      <td>0.0</td>\n",
       "    </tr>\n",
       "    <tr>\n",
       "      <th>2021-07-13 16:00:05</th>\n",
       "      <td>2021-07-13 16:00:05</td>\n",
       "      <td>0.0</td>\n",
       "    </tr>\n",
       "    <tr>\n",
       "      <th>...</th>\n",
       "      <td>...</td>\n",
       "      <td>...</td>\n",
       "    </tr>\n",
       "    <tr>\n",
       "      <th>2021-07-16 23:59:56</th>\n",
       "      <td>2021-07-16 23:59:56</td>\n",
       "      <td>0.0</td>\n",
       "    </tr>\n",
       "    <tr>\n",
       "      <th>2021-07-16 23:59:57</th>\n",
       "      <td>2021-07-16 23:59:57</td>\n",
       "      <td>0.0</td>\n",
       "    </tr>\n",
       "    <tr>\n",
       "      <th>2021-07-16 23:59:58</th>\n",
       "      <td>2021-07-16 23:59:58</td>\n",
       "      <td>0.0</td>\n",
       "    </tr>\n",
       "    <tr>\n",
       "      <th>2021-07-16 23:59:59</th>\n",
       "      <td>2021-07-16 23:59:59</td>\n",
       "      <td>0.0</td>\n",
       "    </tr>\n",
       "    <tr>\n",
       "      <th>2021-07-17 00:00:00</th>\n",
       "      <td>2021-07-17 00:00:00</td>\n",
       "      <td>0.0</td>\n",
       "    </tr>\n",
       "  </tbody>\n",
       "</table>\n",
       "<p>274800 rows × 2 columns</p>\n",
       "</div>"
      ],
      "text/plain": [
       "                               timestamp  attack\n",
       "timestamp                                       \n",
       "2021-07-13 16:00:01  2021-07-13 16:00:01     0.0\n",
       "2021-07-13 16:00:02  2021-07-13 16:00:02     0.0\n",
       "2021-07-13 16:00:03  2021-07-13 16:00:03     0.0\n",
       "2021-07-13 16:00:04  2021-07-13 16:00:04     0.0\n",
       "2021-07-13 16:00:05  2021-07-13 16:00:05     0.0\n",
       "...                                  ...     ...\n",
       "2021-07-16 23:59:56  2021-07-16 23:59:56     0.0\n",
       "2021-07-16 23:59:57  2021-07-16 23:59:57     0.0\n",
       "2021-07-16 23:59:58  2021-07-16 23:59:58     0.0\n",
       "2021-07-16 23:59:59  2021-07-16 23:59:59     0.0\n",
       "2021-07-17 00:00:00  2021-07-17 00:00:00     0.0\n",
       "\n",
       "[274800 rows x 2 columns]"
      ]
     },
     "execution_count": 231,
     "metadata": {},
     "output_type": "execute_result"
    }
   ],
   "source": [
    "submission = pd.read_csv('./HAICon2021_dataset/sample_submission.csv')\n",
    "submission.index = submission['timestamp']\n",
    "submission.loc[CHECK_TS,'attack'] = LABELS\n",
    "submission"
   ]
  },
  {
   "cell_type": "code",
   "execution_count": 232,
   "id": "experienced-proportion",
   "metadata": {
    "ExecuteTime": {
     "end_time": "2021-09-01T11:45:22.787041Z",
     "start_time": "2021-09-01T11:45:22.262382Z"
    }
   },
   "outputs": [],
   "source": [
    "submission.to_csv('baseline.csv', index=False)"
   ]
  },
  {
   "cell_type": "code",
   "execution_count": null,
   "id": "technical-satellite",
   "metadata": {},
   "outputs": [],
   "source": []
  }
 ],
 "metadata": {
  "hide_input": false,
  "kernelspec": {
   "display_name": "Python 3",
   "language": "python",
   "name": "python3"
  },
  "language_info": {
   "codemirror_mode": {
    "name": "ipython",
    "version": 3
   },
   "file_extension": ".py",
   "mimetype": "text/x-python",
   "name": "python",
   "nbconvert_exporter": "python",
   "pygments_lexer": "ipython3",
   "version": "3.6.9"
  },
  "toc": {
   "base_numbering": 1,
   "nav_menu": {},
   "number_sections": true,
   "sideBar": true,
   "skip_h1_title": false,
   "title_cell": "Table of Contents",
   "title_sidebar": "Contents",
   "toc_cell": false,
   "toc_position": {},
   "toc_section_display": true,
   "toc_window_display": false
  },
  "varInspector": {
   "cols": {
    "lenName": 16,
    "lenType": 16,
    "lenVar": 40
   },
   "kernels_config": {
    "python": {
     "delete_cmd_postfix": "",
     "delete_cmd_prefix": "del ",
     "library": "var_list.py",
     "varRefreshCmd": "print(var_dic_list())"
    },
    "r": {
     "delete_cmd_postfix": ") ",
     "delete_cmd_prefix": "rm(",
     "library": "var_list.r",
     "varRefreshCmd": "cat(var_dic_list()) "
    }
   },
   "types_to_exclude": [
    "module",
    "function",
    "builtin_function_or_method",
    "instance",
    "_Feature"
   ],
   "window_display": false
  }
 },
 "nbformat": 4,
 "nbformat_minor": 5
}
