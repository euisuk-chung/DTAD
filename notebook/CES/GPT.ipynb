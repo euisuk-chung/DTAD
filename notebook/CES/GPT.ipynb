{
 "cells": [
  {
   "cell_type": "markdown",
   "id": "bf0e9b22",
   "metadata": {},
   "source": [
    "## Module Import & Data Load"
   ]
  },
  {
   "cell_type": "code",
   "execution_count": 1,
   "id": "f30a7580",
   "metadata": {
    "ExecuteTime": {
     "end_time": "2021-09-26T16:08:14.683788Z",
     "start_time": "2021-09-26T16:08:13.609034Z"
    }
   },
   "outputs": [
    {
     "ename": "ModuleNotFoundError",
     "evalue": "No module named 'src'",
     "output_type": "error",
     "traceback": [
      "\u001b[0;31m---------------------------------------------------------------------------\u001b[0m",
      "\u001b[0;31mModuleNotFoundError\u001b[0m                       Traceback (most recent call last)",
      "\u001b[0;32m<ipython-input-1-b9e35b54832a>\u001b[0m in \u001b[0;36m<module>\u001b[0;34m\u001b[0m\n\u001b[1;32m     15\u001b[0m \u001b[0;32mfrom\u001b[0m \u001b[0mtqdm\u001b[0m\u001b[0;34m.\u001b[0m\u001b[0mnotebook\u001b[0m \u001b[0;32mimport\u001b[0m \u001b[0mtrange\u001b[0m\u001b[0;34m\u001b[0m\u001b[0;34m\u001b[0m\u001b[0m\n\u001b[1;32m     16\u001b[0m \u001b[0;32mfrom\u001b[0m \u001b[0mTaPR_pkg\u001b[0m \u001b[0;32mimport\u001b[0m \u001b[0metapr\u001b[0m\u001b[0;34m\u001b[0m\u001b[0;34m\u001b[0m\u001b[0m\n\u001b[0;32m---> 17\u001b[0;31m \u001b[0;32mfrom\u001b[0m \u001b[0msrc\u001b[0m \u001b[0;32mimport\u001b[0m \u001b[0mdataset\u001b[0m\u001b[0;34m\u001b[0m\u001b[0;34m\u001b[0m\u001b[0m\n\u001b[0m\u001b[1;32m     18\u001b[0m \u001b[0;32mimport\u001b[0m \u001b[0mrandom\u001b[0m\u001b[0;34m\u001b[0m\u001b[0;34m\u001b[0m\u001b[0m\n\u001b[1;32m     19\u001b[0m \u001b[0;32mimport\u001b[0m \u001b[0mpickle\u001b[0m\u001b[0;34m\u001b[0m\u001b[0;34m\u001b[0m\u001b[0m\n",
      "\u001b[0;31mModuleNotFoundError\u001b[0m: No module named 'src'"
     ]
    }
   ],
   "source": [
    "import sys\n",
    "\n",
    "from pathlib import Path\n",
    "from datetime import timedelta\n",
    "\n",
    "import dateutil\n",
    "import numpy as np\n",
    "import matplotlib.pyplot as plt\n",
    "import pandas as pd\n",
    "import torch\n",
    "import torch.nn as nn\n",
    "import torch.nn.functional as F\n",
    "import torch.optim as optim\n",
    "from torch.utils.data import Dataset, DataLoader\n",
    "from tqdm.notebook import trange\n",
    "from TaPR_pkg import etapr\n",
    "from src import dataset\n",
    "import random\n",
    "import pickle\n",
    "from torchinfo import summary"
   ]
  },
  {
   "cell_type": "code",
   "execution_count": null,
   "id": "b37ad43f",
   "metadata": {
    "ExecuteTime": {
     "end_time": "2021-09-26T16:08:17.426376Z",
     "start_time": "2021-09-26T16:08:17.079704Z"
    }
   },
   "outputs": [],
   "source": [
    "import transformers\n",
    "from models.gpt2 import GPT2Model"
   ]
  },
  {
   "cell_type": "code",
   "execution_count": null,
   "id": "db6e024e",
   "metadata": {
    "ExecuteTime": {
     "end_time": "2021-09-26T16:08:18.136646Z",
     "start_time": "2021-09-26T16:08:18.106333Z"
    }
   },
   "outputs": [],
   "source": [
    "device = torch.device(\"cuda\" if torch.cuda.is_available() else \"cpu\")\n",
    "torch.backends.cudnn.benchmark = True"
   ]
  },
  {
   "cell_type": "code",
   "execution_count": null,
   "id": "48f2bc63",
   "metadata": {
    "ExecuteTime": {
     "end_time": "2021-09-26T16:08:19.399331Z",
     "start_time": "2021-09-26T16:08:19.392734Z"
    }
   },
   "outputs": [],
   "source": [
    "def set_seed(random_seed):\n",
    "    torch.manual_seed(random_seed)\n",
    "    torch.cuda.manual_seed(random_seed)\n",
    "    torch.cuda.manual_seed_all(random_seed)  # if use multi-GPU\n",
    "    torch.backends.cudnn.deterministic = True\n",
    "    torch.backends.cudnn.benchmark = False\n",
    "    np.random.seed(random_seed)\n",
    "    random.seed(random_seed)\n",
    "\n",
    "set_seed(72)"
   ]
  },
  {
   "cell_type": "code",
   "execution_count": null,
   "id": "d2b20e97",
   "metadata": {
    "ExecuteTime": {
     "end_time": "2021-09-26T16:08:35.685432Z",
     "start_time": "2021-09-26T16:08:35.672646Z"
    }
   },
   "outputs": [],
   "source": [
    "WINDOW_GIVEN = 89\n",
    "WINDOW_SIZE = 90\n",
    "\n",
    "\n",
    "class HaiDataset(Dataset):\n",
    "    def __init__(self, timestamps, df, stride=1, attacks=None):\n",
    "        self.ts = np.array(timestamps)\n",
    "        self.tag_values = np.array(df, dtype=np.float32)\n",
    "        self.valid_idxs = []\n",
    "        for L in trange(len(self.ts) - WINDOW_SIZE + 1):\n",
    "            R = L + WINDOW_SIZE - 1\n",
    "            if dateutil.parser.parse(self.ts[R]) - dateutil.parser.parse(\n",
    "                self.ts[L]\n",
    "            ) == timedelta(seconds=WINDOW_SIZE - 1):\n",
    "                self.valid_idxs.append(L)\n",
    "        self.valid_idxs = np.array(self.valid_idxs, dtype=np.int32)[::stride]\n",
    "        self.n_idxs = len(self.valid_idxs)\n",
    "        print(f\"# of valid windows: {self.n_idxs}\")\n",
    "        if attacks is not None:\n",
    "            self.attacks = np.array(attacks, dtype=np.float32)\n",
    "            self.with_attack = True\n",
    "        else:\n",
    "            self.with_attack = False\n",
    "\n",
    "    def __len__(self):\n",
    "        return self.n_idxs\n",
    "\n",
    "    def __getitem__(self, idx):\n",
    "        i = self.valid_idxs[idx]\n",
    "        last = i + WINDOW_SIZE - 1\n",
    "        item = {\"attack\": self.attacks[last]} if self.with_attack else {}\n",
    "        item[\"ts\"] = self.ts[i + WINDOW_SIZE - 1]\n",
    "        item[\"given\"] = torch.from_numpy(self.tag_values[i : i + WINDOW_GIVEN])\n",
    "        item[\"answer\"] = torch.from_numpy(self.tag_values[last])\n",
    "        return item"
   ]
  },
  {
   "cell_type": "code",
   "execution_count": null,
   "id": "e7d2ef3e",
   "metadata": {
    "ExecuteTime": {
     "end_time": "2021-09-26T16:08:36.213968Z",
     "start_time": "2021-09-26T16:08:36.208370Z"
    }
   },
   "outputs": [],
   "source": [
    "def boundary_check(df):\n",
    "    x = np.array(df, dtype=np.float32)\n",
    "    return np.any(x > 1.0), np.any(x < 0), np.any(np.isnan(x))"
   ]
  },
  {
   "cell_type": "code",
   "execution_count": null,
   "id": "83bd2618",
   "metadata": {
    "ExecuteTime": {
     "end_time": "2021-09-26T16:08:36.696281Z",
     "start_time": "2021-09-26T16:08:36.688602Z"
    }
   },
   "outputs": [],
   "source": [
    "TRAIN_DATASET = sorted([x for x in Path(\"HAICon2021_dataset/train/\").glob(\"*.csv\")])\n",
    "TRAIN_DATASET"
   ]
  },
  {
   "cell_type": "code",
   "execution_count": null,
   "id": "b7504dd2",
   "metadata": {
    "ExecuteTime": {
     "end_time": "2021-09-26T16:08:38.188682Z",
     "start_time": "2021-09-26T16:08:38.182635Z"
    }
   },
   "outputs": [],
   "source": [
    "TEST_DATASET = sorted([x for x in Path(\"HAICon2021_dataset/test/\").glob(\"*.csv\")])\n",
    "TEST_DATASET"
   ]
  },
  {
   "cell_type": "code",
   "execution_count": null,
   "id": "9f68745e",
   "metadata": {
    "ExecuteTime": {
     "end_time": "2021-09-26T16:08:38.775778Z",
     "start_time": "2021-09-26T16:08:38.763212Z"
    }
   },
   "outputs": [],
   "source": [
    "VALIDATION_DATASET = sorted([x for x in Path(\"HAICon2021_dataset/validation/\").glob(\"*.csv\")])\n",
    "VALIDATION_DATASET"
   ]
  },
  {
   "cell_type": "code",
   "execution_count": null,
   "id": "990b5983",
   "metadata": {
    "ExecuteTime": {
     "end_time": "2021-09-26T16:08:39.542186Z",
     "start_time": "2021-09-26T16:08:39.528398Z"
    }
   },
   "outputs": [],
   "source": [
    "def dataframe_from_csv(target):\n",
    "    return pd.read_csv(target).rename(columns=lambda x: x.strip())\n",
    "\n",
    "def dataframe_from_csvs(targets):\n",
    "    return pd.concat([dataframe_from_csv(x) for x in targets])"
   ]
  },
  {
   "cell_type": "code",
   "execution_count": null,
   "id": "c520849b",
   "metadata": {
    "ExecuteTime": {
     "end_time": "2021-09-26T16:08:48.585154Z",
     "start_time": "2021-09-26T16:08:40.234300Z"
    }
   },
   "outputs": [],
   "source": [
    "TRAIN_DF_RAW = dataframe_from_csvs(TRAIN_DATASET)\n",
    "TRAIN_DF_RAW"
   ]
  },
  {
   "cell_type": "code",
   "execution_count": null,
   "id": "23b4a2a3",
   "metadata": {
    "ExecuteTime": {
     "end_time": "2021-09-26T16:08:51.379352Z",
     "start_time": "2021-09-26T16:08:51.374395Z"
    }
   },
   "outputs": [],
   "source": [
    "TIMESTAMP_FIELD = \"timestamp\"\n",
    "IDSTAMP_FIELD = 'id'\n",
    "ATTACK_FIELD = \"attack\"\n",
    "VALID_COLUMNS_IN_TRAIN_DATASET = TRAIN_DF_RAW.columns.drop([TIMESTAMP_FIELD])\n",
    "VALID_COLUMNS_IN_TRAIN_DATASET"
   ]
  },
  {
   "cell_type": "code",
   "execution_count": null,
   "id": "82705d32",
   "metadata": {
    "ExecuteTime": {
     "end_time": "2021-09-26T16:08:55.001128Z",
     "start_time": "2021-09-26T16:08:54.184718Z"
    }
   },
   "outputs": [],
   "source": [
    "TAG_MIN = TRAIN_DF_RAW[VALID_COLUMNS_IN_TRAIN_DATASET].min()\n",
    "TAG_MAX = TRAIN_DF_RAW[VALID_COLUMNS_IN_TRAIN_DATASET].max()"
   ]
  },
  {
   "cell_type": "code",
   "execution_count": null,
   "id": "7a445267",
   "metadata": {
    "ExecuteTime": {
     "end_time": "2021-09-26T16:08:56.877582Z",
     "start_time": "2021-09-26T16:08:56.873685Z"
    }
   },
   "outputs": [],
   "source": [
    "def normalize(df):\n",
    "    ndf = df.copy()\n",
    "    for c in df.columns:\n",
    "        if TAG_MIN[c] == TAG_MAX[c]:\n",
    "            ndf[c] = df[c] - TAG_MIN[c]\n",
    "        else:\n",
    "            ndf[c] = (df[c] - TAG_MIN[c]) / (TAG_MAX[c] - TAG_MIN[c])\n",
    "    return ndf"
   ]
  },
  {
   "cell_type": "code",
   "execution_count": null,
   "id": "5fbae0bd",
   "metadata": {
    "ExecuteTime": {
     "end_time": "2021-09-26T16:09:01.331682Z",
     "start_time": "2021-09-26T16:08:58.752913Z"
    }
   },
   "outputs": [],
   "source": [
    "TRAIN_DF = normalize(TRAIN_DF_RAW[VALID_COLUMNS_IN_TRAIN_DATASET]).ewm(alpha=0.9).mean()\n",
    "TRAIN_DF"
   ]
  },
  {
   "cell_type": "code",
   "execution_count": null,
   "id": "746c5104",
   "metadata": {
    "ExecuteTime": {
     "end_time": "2021-09-26T16:12:02.826471Z",
     "start_time": "2021-09-26T16:09:04.022683Z"
    }
   },
   "outputs": [],
   "source": [
    "HAI_DATASET_TRAIN = HaiDataset(TRAIN_DF_RAW[TIMESTAMP_FIELD], TRAIN_DF, stride=10)\n",
    "HAI_DATASET_TRAIN[0]"
   ]
  },
  {
   "cell_type": "code",
   "execution_count": null,
   "id": "e21f3ee5",
   "metadata": {
    "ExecuteTime": {
     "end_time": "2021-09-26T16:12:06.202014Z",
     "start_time": "2021-09-26T16:12:05.437922Z"
    }
   },
   "outputs": [],
   "source": [
    "VALIDATION_DF_RAW = dataframe_from_csvs(VALIDATION_DATASET)\n",
    "VALIDATION_DF_RAW"
   ]
  },
  {
   "cell_type": "code",
   "execution_count": null,
   "id": "5638bc38",
   "metadata": {
    "ExecuteTime": {
     "end_time": "2021-09-26T16:12:09.427347Z",
     "start_time": "2021-09-26T16:12:09.281531Z"
    }
   },
   "outputs": [],
   "source": [
    "VALIDATION_DF = normalize(VALIDATION_DF_RAW[VALID_COLUMNS_IN_TRAIN_DATASET])"
   ]
  },
  {
   "cell_type": "code",
   "execution_count": null,
   "id": "eb8abb4f",
   "metadata": {
    "ExecuteTime": {
     "end_time": "2021-09-26T16:12:28.398649Z",
     "start_time": "2021-09-26T16:12:12.981879Z"
    }
   },
   "outputs": [],
   "source": [
    "HAI_DATASET_VALIDATION = HaiDataset(\n",
    "    VALIDATION_DF_RAW[TIMESTAMP_FIELD], VALIDATION_DF, attacks=VALIDATION_DF_RAW[ATTACK_FIELD]\n",
    ")\n",
    "HAI_DATASET_VALIDATION[0]"
   ]
  },
  {
   "cell_type": "code",
   "execution_count": null,
   "id": "a2d4eeb2",
   "metadata": {
    "ExecuteTime": {
     "end_time": "2021-09-26T16:18:32.884547Z",
     "start_time": "2021-09-26T16:18:32.862310Z"
    }
   },
   "outputs": [],
   "source": [
    "boundary_check(VALIDATION_DF)"
   ]
  },
  {
   "cell_type": "code",
   "execution_count": null,
   "id": "9c4554ce",
   "metadata": {
    "ExecuteTime": {
     "end_time": "2021-09-26T16:18:38.512908Z",
     "start_time": "2021-09-26T16:18:36.240397Z"
    }
   },
   "outputs": [],
   "source": [
    "TEST_DF_RAW = dataframe_from_csvs(TEST_DATASET)\n",
    "TEST_DF_RAW"
   ]
  },
  {
   "cell_type": "code",
   "execution_count": null,
   "id": "17a5a54d",
   "metadata": {
    "ExecuteTime": {
     "end_time": "2021-09-26T16:18:43.295471Z",
     "start_time": "2021-09-26T16:18:42.537711Z"
    }
   },
   "outputs": [],
   "source": [
    "TEST_DF = normalize(TEST_DF_RAW[VALID_COLUMNS_IN_TRAIN_DATASET]).ewm(alpha=0.9).mean()\n",
    "TEST_DF"
   ]
  },
  {
   "cell_type": "code",
   "execution_count": null,
   "id": "d97af758",
   "metadata": {
    "ExecuteTime": {
     "end_time": "2021-09-26T16:18:47.446477Z",
     "start_time": "2021-09-26T16:18:47.382081Z"
    }
   },
   "outputs": [],
   "source": [
    "boundary_check(TEST_DF)"
   ]
  },
  {
   "cell_type": "code",
   "execution_count": null,
   "id": "8966d9d9",
   "metadata": {
    "ExecuteTime": {
     "end_time": "2021-09-26T16:19:40.678798Z",
     "start_time": "2021-09-26T16:18:51.642312Z"
    }
   },
   "outputs": [],
   "source": [
    "HAI_DATASET_TEST = HaiDataset(\n",
    "    TEST_DF_RAW[TIMESTAMP_FIELD], TEST_DF, attacks=None\n",
    ")\n",
    "HAI_DATASET_VALIDATION[0]"
   ]
  },
  {
   "cell_type": "code",
   "execution_count": 27,
   "id": "757f3965",
   "metadata": {
    "ExecuteTime": {
     "end_time": "2021-09-26T16:19:44.898240Z",
     "start_time": "2021-09-26T16:19:44.893975Z"
    }
   },
   "outputs": [],
   "source": [
    "params = {'batch_size': 512,\n",
    "          'shuffle': True,\n",
    "          'num_workers': 4,\n",
    "          'pin_memory' : True}\n",
    "trainloader = DataLoader(HAI_DATASET_TRAIN, **params)\n",
    "params['shuffle'] = False\n",
    "validloader = DataLoader(HAI_DATASET_VALIDATION, **params)\n",
    "testloader = DataLoader(HAI_DATASET_TEST, **params)"
   ]
  },
  {
   "cell_type": "code",
   "execution_count": 28,
   "id": "26fb7293",
   "metadata": {
    "ExecuteTime": {
     "end_time": "2021-09-26T16:19:52.081774Z",
     "start_time": "2021-09-26T16:19:49.069138Z"
    }
   },
   "outputs": [
    {
     "name": "stdout",
     "output_type": "stream",
     "text": [
      "torch.Size([512, 89, 86])\n"
     ]
    }
   ],
   "source": [
    "train_shape = next(iter(trainloader))['given'].shape\n",
    "print(train_shape)"
   ]
  },
  {
   "cell_type": "markdown",
   "id": "567d40aa",
   "metadata": {},
   "source": [
    "## Model"
   ]
  },
  {
   "cell_type": "code",
   "execution_count": 29,
   "id": "cf9b212d",
   "metadata": {
    "ExecuteTime": {
     "end_time": "2021-09-26T16:20:42.276351Z",
     "start_time": "2021-09-26T16:20:42.266317Z"
    }
   },
   "outputs": [],
   "source": [
    "class HAIGPT(nn.Module):\n",
    "\n",
    "    def __init__(\n",
    "            self,\n",
    "            input_dim,\n",
    "            hidden_size,\n",
    "            max_len=89,\n",
    "            device='cuda',\n",
    "            **kwargs\n",
    "    ):\n",
    "        super().__init__()\n",
    "        self.input_dim = input_dim\n",
    "        self.hidden_size = hidden_size\n",
    "        self.device = device\n",
    "        config = transformers.GPT2Config(\n",
    "            vocab_size=1,  # doesn't matter -- we don't use the vocab\n",
    "            n_embd=hidden_size,\n",
    "            **kwargs\n",
    "        )\n",
    "\n",
    "        # note: the only difference between this GPT2Model and the default Huggingface version\n",
    "        # is that the positional embeddings are removed (since we'll add those ourselves)\n",
    "        self.transformer = GPT2Model(config)\n",
    "\n",
    "        self.pos_embedding = nn.Parameter(torch.randn(1, max_len, hidden_size))\n",
    "        self.embed_token = nn.Linear(self.input_dim, hidden_size)\n",
    "\n",
    "        self.embed_ln = nn.LayerNorm(hidden_size)\n",
    "\n",
    "        self.predict = nn.Linear(hidden_size, self.input_dim)\n",
    "\n",
    "    def forward(self, token, attention_mask=None):\n",
    "\n",
    "        batch_size, seq_length = token.shape[0], token.shape[1]\n",
    "\n",
    "        if attention_mask is None:\n",
    "            # attention mask for GPT: 1 if can be attended to, 0 if not\n",
    "            attention_mask = torch.ones((batch_size, seq_length), dtype=torch.long).to(self.device)\n",
    "\n",
    "        # embed each modality with a different head\n",
    "        token_embeddings = self.embed_token(token)\n",
    "\n",
    "        # time embeddings are treated similar to positional embeddings\n",
    "        token_embeddings = token_embeddings + self.pos_embedding\n",
    "\n",
    "        # which works nice in an autoregressive sense since states predict actions\n",
    "        inputs = self.embed_ln(token_embeddings)\n",
    "\n",
    "        # we feed in the input embeddings (not word indices as in NLP) to the model\n",
    "        transformer_outputs = self.transformer(\n",
    "            inputs_embeds=inputs,\n",
    "            attention_mask=attention_mask,\n",
    "        )\n",
    "        x = transformer_outputs['last_hidden_state']\n",
    "        \n",
    "        # get predictions\n",
    "        preds = self.predict(x)  \n",
    "\n",
    "        return preds[:,-1]"
   ]
  },
  {
   "cell_type": "code",
   "execution_count": 30,
   "id": "e1cc004e",
   "metadata": {
    "ExecuteTime": {
     "end_time": "2021-09-26T16:20:46.461241Z",
     "start_time": "2021-09-26T16:20:46.458015Z"
    }
   },
   "outputs": [
    {
     "data": {
      "text/plain": [
       "torch.Size([89, 86])"
      ]
     },
     "execution_count": 30,
     "metadata": {},
     "output_type": "execute_result"
    }
   ],
   "source": [
    "train_shape[1:]"
   ]
  },
  {
   "cell_type": "code",
   "execution_count": 31,
   "id": "b58274b2",
   "metadata": {
    "ExecuteTime": {
     "end_time": "2021-09-26T16:20:50.915075Z",
     "start_time": "2021-09-26T16:20:50.862627Z"
    }
   },
   "outputs": [],
   "source": [
    "input_shape = train_shape[1:]\n",
    "model = HAIGPT(\n",
    "    input_dim=input_shape[-1],\n",
    "    hidden_size=128,\n",
    "    max_len=89,\n",
    "    n_layer=3,\n",
    "    n_head=1,\n",
    "    n_inner=4*128,\n",
    "    activation_function='relu',\n",
    "    n_positions=1024,\n",
    "    resid_pdrop=0.1,\n",
    "    attn_pdrop=0.1,\n",
    ").to(device)"
   ]
  },
  {
   "cell_type": "code",
   "execution_count": 63,
   "id": "9679b008",
   "metadata": {
    "ExecuteTime": {
     "end_time": "2021-09-25T13:46:25.058495Z",
     "start_time": "2021-09-25T13:46:25.047932Z"
    }
   },
   "outputs": [
    {
     "name": "stdout",
     "output_type": "stream",
     "text": [
      "HAIGPT(\n",
      "  (transformer): GPT2Model(\n",
      "    (wte): Embedding(1, 128)\n",
      "    (drop): Dropout(p=0.1, inplace=False)\n",
      "    (h): ModuleList(\n",
      "      (0): Block(\n",
      "        (ln_1): LayerNorm((128,), eps=1e-05, elementwise_affine=True)\n",
      "        (attn): Attention(\n",
      "          (c_attn): Conv1D()\n",
      "          (c_proj): Conv1D()\n",
      "          (attn_dropout): Dropout(p=0.1, inplace=False)\n",
      "          (resid_dropout): Dropout(p=0.1, inplace=False)\n",
      "        )\n",
      "        (ln_2): LayerNorm((128,), eps=1e-05, elementwise_affine=True)\n",
      "        (mlp): MLP(\n",
      "          (c_fc): Conv1D()\n",
      "          (c_proj): Conv1D()\n",
      "          (dropout): Dropout(p=0.1, inplace=False)\n",
      "        )\n",
      "      )\n",
      "      (1): Block(\n",
      "        (ln_1): LayerNorm((128,), eps=1e-05, elementwise_affine=True)\n",
      "        (attn): Attention(\n",
      "          (c_attn): Conv1D()\n",
      "          (c_proj): Conv1D()\n",
      "          (attn_dropout): Dropout(p=0.1, inplace=False)\n",
      "          (resid_dropout): Dropout(p=0.1, inplace=False)\n",
      "        )\n",
      "        (ln_2): LayerNorm((128,), eps=1e-05, elementwise_affine=True)\n",
      "        (mlp): MLP(\n",
      "          (c_fc): Conv1D()\n",
      "          (c_proj): Conv1D()\n",
      "          (dropout): Dropout(p=0.1, inplace=False)\n",
      "        )\n",
      "      )\n",
      "      (2): Block(\n",
      "        (ln_1): LayerNorm((128,), eps=1e-05, elementwise_affine=True)\n",
      "        (attn): Attention(\n",
      "          (c_attn): Conv1D()\n",
      "          (c_proj): Conv1D()\n",
      "          (attn_dropout): Dropout(p=0.1, inplace=False)\n",
      "          (resid_dropout): Dropout(p=0.1, inplace=False)\n",
      "        )\n",
      "        (ln_2): LayerNorm((128,), eps=1e-05, elementwise_affine=True)\n",
      "        (mlp): MLP(\n",
      "          (c_fc): Conv1D()\n",
      "          (c_proj): Conv1D()\n",
      "          (dropout): Dropout(p=0.1, inplace=False)\n",
      "        )\n",
      "      )\n",
      "    )\n",
      "    (ln_f): LayerNorm((128,), eps=1e-05, elementwise_affine=True)\n",
      "  )\n",
      "  (embed_token): Linear(in_features=86, out_features=128, bias=True)\n",
      "  (embed_ln): LayerNorm((128,), eps=1e-05, elementwise_affine=True)\n",
      "  (predict): Linear(in_features=128, out_features=86, bias=True)\n",
      ")\n"
     ]
    }
   ],
   "source": [
    "print(model)"
   ]
  },
  {
   "cell_type": "code",
   "execution_count": 99,
   "id": "5e8da3c4",
   "metadata": {
    "ExecuteTime": {
     "end_time": "2021-09-25T16:17:24.163574Z",
     "start_time": "2021-09-25T16:17:24.160388Z"
    }
   },
   "outputs": [],
   "source": [
    "optimizer = optim.AdamW(model.parameters())\n",
    "loss_fn = nn.MSELoss()"
   ]
  },
  {
   "cell_type": "code",
   "execution_count": 95,
   "id": "850feb72",
   "metadata": {
    "ExecuteTime": {
     "end_time": "2021-09-25T16:16:56.151085Z",
     "start_time": "2021-09-25T16:16:55.765692Z"
    }
   },
   "outputs": [
    {
     "name": "stdout",
     "output_type": "stream",
     "text": [
      "torch.Size([512, 89, 128])\n",
      "torch.Size([512, 86])\n"
     ]
    }
   ],
   "source": [
    "print(model(next(iter(trainloader))['given'].to(device)).shape)"
   ]
  },
  {
   "cell_type": "code",
   "execution_count": 77,
   "id": "f4a810f9",
   "metadata": {
    "ExecuteTime": {
     "end_time": "2021-09-25T13:55:21.887288Z",
     "start_time": "2021-09-25T13:55:21.879977Z"
    }
   },
   "outputs": [],
   "source": [
    "def train(model, train_data, optimizer, loss_fn, use_fp16=True, max_norm=None):\n",
    "    \n",
    "    epoch_loss = 0\n",
    "    \n",
    "    model.train() \n",
    "\n",
    "    for idx, batch in enumerate(train_data):\n",
    "        \n",
    "        optimizer.zero_grad(set_to_none=True)\n",
    "        scaler = torch.cuda.amp.GradScaler()\n",
    "                \n",
    "        input = batch['given'].to(device)\n",
    "        answer = batch[\"answer\"].to(device)\n",
    "        \n",
    "        with torch.cuda.amp.autocast(enabled=use_fp16):\n",
    "            predictions = model.forward(input)\n",
    "            train_loss = loss_fn(predictions, answer)\n",
    "        if use_fp16:\n",
    "            scaler.scale(train_loss).backward()\n",
    "            if max_norm is not None:\n",
    "                scaler.unscale_(optimizer)\n",
    "                torch.nn.utils.clip_grad_norm_(model.parameters(), max_norm)\n",
    "            scaler.step(optimizer)\n",
    "            scaler.update()\n",
    "        else:\n",
    "            train_loss.backward()\n",
    "            optimizer.step()\n",
    "        \n",
    "        epoch_loss += train_loss.item()\n",
    "        \n",
    "    return epoch_loss"
   ]
  },
  {
   "cell_type": "code",
   "execution_count": 78,
   "id": "283cb531",
   "metadata": {
    "ExecuteTime": {
     "end_time": "2021-09-25T13:55:24.969615Z",
     "start_time": "2021-09-25T13:55:24.965460Z"
    }
   },
   "outputs": [],
   "source": [
    "def validation(model, val_data, loss_fn):\n",
    "    model.eval()\n",
    "    val_loss = 0\n",
    "    for idx, batch in enumerate(val_data):\n",
    "        input = batch['given'].to(device)\n",
    "        answer = batch[\"answer\"].to(device)\n",
    "        with torch.no_grad():\n",
    "            predictions = model.forward(input)\n",
    "            val_loss += loss_fn(predictions, answer).item()\n",
    "        \n",
    "    return val_loss"
   ]
  },
  {
   "cell_type": "code",
   "execution_count": 79,
   "id": "62c78747",
   "metadata": {
    "ExecuteTime": {
     "end_time": "2021-09-25T13:55:28.001366Z",
     "start_time": "2021-09-25T13:55:27.996356Z"
    }
   },
   "outputs": [],
   "source": [
    "class EarlyStopping():\n",
    "    def __init__(self, patience=0, verbose=0):\n",
    "        self._step = 0\n",
    "        self._loss = float('inf')\n",
    "        self.patience = patience\n",
    "        self.verbose = verbose\n",
    "\n",
    "    def validate(self, loss):\n",
    "        if self._loss < loss:\n",
    "            self._step += 1\n",
    "            if self._step > self.patience:\n",
    "                if self.verbose:\n",
    "                    print(f'\\n Training process is stopped early....')\n",
    "                return True\n",
    "        else:\n",
    "            self._step = 0\n",
    "            self._loss = loss\n",
    "\n",
    "        return False"
   ]
  },
  {
   "cell_type": "code",
   "execution_count": 100,
   "id": "c5da4222",
   "metadata": {
    "ExecuteTime": {
     "end_time": "2021-09-25T17:27:40.531423Z",
     "start_time": "2021-09-25T16:17:27.228998Z"
    }
   },
   "outputs": [
    {
     "name": "stdout",
     "output_type": "stream",
     "text": [
      "[Train] Epoch : 300  Train Loss: 0.03553  Validation Loss: 0.2354CPU times: user 2h 21min 47s, sys: 7min 35s, total: 2h 29min 23s\n",
      "Wall time: 1h 10min 13s\n"
     ]
    }
   ],
   "source": [
    "%%time\n",
    "epochs = 300\n",
    "history = dict()\n",
    "best = {\"loss\": sys.float_info.max}\n",
    "early_stopping = EarlyStopping(patience=30, verbose=1)\n",
    "for epoch in range(1, epochs+1):\n",
    "    epoch_loss = train(model, trainloader, optimizer, loss_fn, use_fp16=False)\n",
    "    val_loss = validation(model, validloader, loss_fn)\n",
    "    \n",
    "    history.setdefault('loss', []).append(epoch_loss) \n",
    "    history.setdefault('val_loss', []).append(val_loss) \n",
    "    \n",
    "    sys.stdout.write(\n",
    "        \"\\r\" + f\"[Train] Epoch : {epoch:^3}\"\\\n",
    "        f\"  Train Loss: {epoch_loss:.4}\"\\\n",
    "        f\"  Validation Loss: {val_loss:.4}\"\\\n",
    "                    )\n",
    "#     print(f\"[Train] Epoch : {epoch:^3}\"\\\n",
    "#         f\"  Train Loss: {epoch_loss:.4}\"\\\n",
    "#         f\"  Validation Loss: {val_loss:.4}\")\n",
    "    if epoch_loss < best[\"loss\"]:\n",
    "            best[\"state\"] = model.state_dict()\n",
    "            best[\"loss\"] = epoch_loss\n",
    "            best[\"epoch\"] = epoch + 1\n",
    "    if early_stopping.validate(epoch_loss):\n",
    "        break"
   ]
  },
  {
   "cell_type": "code",
   "execution_count": 101,
   "id": "3a44d71a",
   "metadata": {
    "ExecuteTime": {
     "end_time": "2021-09-25T17:37:33.192086Z",
     "start_time": "2021-09-25T17:37:33.033128Z"
    }
   },
   "outputs": [
    {
     "data": {
      "image/png": "[encoded data removed]",
      "text/plain": [
       "<Figure size 432x288 with 1 Axes>"
      ]
     },
     "metadata": {
      "needs_background": "light"
     },
     "output_type": "display_data"
    }
   ],
   "source": [
    "plt.plot(history[\"loss\"], label=\"Training Loss\")\n",
    "plt.plot(history[\"val_loss\"], label=\"Validation Loss\")\n",
    "plt.legend()\n",
    "plt.show()"
   ]
  },
  {
   "cell_type": "code",
   "execution_count": 49,
   "id": "a2d1ffbb",
   "metadata": {
    "ExecuteTime": {
     "end_time": "2021-09-15T08:16:16.984048Z",
     "start_time": "2021-09-15T08:16:16.971639Z"
    }
   },
   "outputs": [
    {
     "data": {
      "text/plain": [
       "<All keys matched successfully>"
      ]
     },
     "execution_count": 49,
     "metadata": {},
     "output_type": "execute_result"
    }
   ],
   "source": [
    "model.load_state_dict(best[\"state\"])"
   ]
  },
  {
   "cell_type": "code",
   "execution_count": 32,
   "id": "840e9d17",
   "metadata": {
    "ExecuteTime": {
     "end_time": "2021-09-26T16:33:37.151980Z",
     "start_time": "2021-09-26T16:33:37.102796Z"
    }
   },
   "outputs": [
    {
     "data": {
      "text/plain": [
       "<All keys matched successfully>"
      ]
     },
     "execution_count": 32,
     "metadata": {},
     "output_type": "execute_result"
    }
   ],
   "source": [
    "model.load_state_dict(torch.load('./checkpoints/GPT_89.tar')['model'])"
   ]
  },
  {
   "cell_type": "code",
   "execution_count": 33,
   "id": "79996904",
   "metadata": {
    "ExecuteTime": {
     "end_time": "2021-09-26T16:33:41.438957Z",
     "start_time": "2021-09-26T16:33:41.431675Z"
    }
   },
   "outputs": [],
   "source": [
    "def inference(dataloader, model):\n",
    "    ts, dist, att = [], [], []\n",
    "    with torch.no_grad():\n",
    "        for batch in dataloader:\n",
    "            given = batch['given'].to(device)\n",
    "            answer = batch[\"answer\"].to(device)\n",
    "            guess = model(given)\n",
    "            ts.append(np.array(batch[\"ts\"]))\n",
    "            dist.append(torch.abs(answer - guess).cpu().numpy())\n",
    "#             dist.append(torch.sum(torch.abs(guess-given), 1).cpu().numpy())\n",
    "            try:\n",
    "                att.append(np.array(batch[\"attack\"]))\n",
    "            except:\n",
    "                att.append(np.zeros(given.shape[0]))\n",
    "            \n",
    "    return (\n",
    "        np.concatenate(ts),\n",
    "        np.concatenate(dist),\n",
    "        np.concatenate(att),\n",
    "    )"
   ]
  },
  {
   "cell_type": "code",
   "execution_count": 94,
   "id": "f3819b85",
   "metadata": {
    "ExecuteTime": {
     "end_time": "2021-09-30T12:17:05.916135Z",
     "start_time": "2021-09-30T12:17:02.582069Z"
    }
   },
   "outputs": [
    {
     "name": "stdout",
     "output_type": "stream",
     "text": [
      "CPU times: user 10.1 s, sys: 605 ms, total: 10.7 s\n",
      "Wall time: 3.33 s\n"
     ]
    }
   ],
   "source": [
    "%%time\n",
    "model.eval()\n",
    "CHECK_TS, CHECK_DIST, CHECK_ATT = inference(validloader, model)"
   ]
  },
  {
   "cell_type": "code",
   "execution_count": 95,
   "id": "adb84898",
   "metadata": {
    "ExecuteTime": {
     "end_time": "2021-09-30T12:17:06.186651Z",
     "start_time": "2021-09-30T12:17:06.180553Z"
    }
   },
   "outputs": [],
   "source": [
    "ANOMALY_SCORE = np.mean(CHECK_DIST, axis=1)"
   ]
  },
  {
   "cell_type": "code",
   "execution_count": 36,
   "id": "b882a722",
   "metadata": {
    "ExecuteTime": {
     "end_time": "2021-09-26T16:33:58.273543Z",
     "start_time": "2021-09-26T16:33:58.265962Z"
    }
   },
   "outputs": [],
   "source": [
    "def check_graph(xs, att, piece=2, THRESHOLD=None):\n",
    "    l = xs.shape[0]\n",
    "    chunk = l // piece\n",
    "    fig, axs = plt.subplots(piece, figsize=(20, 4 * piece))\n",
    "    for i in range(piece):\n",
    "        L = i * chunk\n",
    "        R = min(L + chunk, l)\n",
    "        xticks = range(L, R)\n",
    "        axs[i].plot(xticks, xs[L:R])\n",
    "        if len(xs[L:R]) > 0:\n",
    "            peak = max(xs[L:R])\n",
    "            axs[i].plot(xticks, att[L:R] * peak * 0.3)\n",
    "        if THRESHOLD!=None:\n",
    "            axs[i].axhline(y=THRESHOLD, color='r')\n",
    "    plt.show()"
   ]
  },
  {
   "cell_type": "code",
   "execution_count": 37,
   "id": "af7f97b3",
   "metadata": {
    "ExecuteTime": {
     "end_time": "2021-09-26T16:34:02.651009Z",
     "start_time": "2021-09-26T16:34:02.644096Z"
    }
   },
   "outputs": [],
   "source": [
    "def range_check(series, size):\n",
    "    size = size\n",
    "    data = []\n",
    "\n",
    "    for i in range(len(series)-size+1):\n",
    "        if i == 0 :\n",
    "            check_std = np.std(series[i:i+size])\n",
    "        std = np.std(series[i:i+size])\n",
    "        mean = np.mean(series[i:i+size])\n",
    "        max = np.max(series[i:i+size])\n",
    "        if check_std * 2 >= std:\n",
    "            check_std = std\n",
    "            data.append(mean)\n",
    "        elif max == series[i]:\n",
    "            data.append(max*5)\n",
    "            check_std = std\n",
    "        else:\n",
    "            data.append(series[i]*3)\n",
    "    for _ in range(size-1):\n",
    "        data.append(mean)\n",
    "\n",
    "    return np.array(data)"
   ]
  },
  {
   "cell_type": "code",
   "execution_count": 96,
   "id": "e77a050b",
   "metadata": {
    "ExecuteTime": {
     "end_time": "2021-09-30T12:17:15.217951Z",
     "start_time": "2021-09-30T12:17:09.427143Z"
    }
   },
   "outputs": [],
   "source": [
    "C_ANOMALY_SCORE = range_check(ANOMALY_SCORE, size=30)"
   ]
  },
  {
   "cell_type": "code",
   "execution_count": 39,
   "id": "12763b15",
   "metadata": {
    "ExecuteTime": {
     "end_time": "2021-09-26T16:34:17.493573Z",
     "start_time": "2021-09-26T16:34:17.315693Z"
    }
   },
   "outputs": [
    {
     "data": {
      "image/png": "[encoded data removed]",
      "text/plain": [
       "<Figure size 1080x360 with 1 Axes>"
      ]
     },
     "metadata": {
      "needs_background": "light"
     },
     "output_type": "display_data"
    }
   ],
   "source": [
    "plt.figure(figsize=(15,5))\n",
    "plt.plot(ANOMALY_SCORE[10000:20000], label='before')\n",
    "plt.plot(C_ANOMALY_SCORE[10000:20000], label='after')\n",
    "plt.legend()\n",
    "plt.show()"
   ]
  },
  {
   "cell_type": "code",
   "execution_count": 40,
   "id": "5a3200ee",
   "metadata": {
    "ExecuteTime": {
     "end_time": "2021-09-26T16:34:22.046426Z",
     "start_time": "2021-09-26T16:34:22.042508Z"
    }
   },
   "outputs": [
    {
     "data": {
      "text/plain": [
       "array([0., 0., 0., ..., 0., 0., 0.], dtype=float32)"
      ]
     },
     "execution_count": 40,
     "metadata": {},
     "output_type": "execute_result"
    }
   ],
   "source": [
    "CHECK_ATT"
   ]
  },
  {
   "cell_type": "code",
   "execution_count": 97,
   "id": "cb37a554",
   "metadata": {
    "ExecuteTime": {
     "end_time": "2021-09-30T12:17:15.815927Z",
     "start_time": "2021-09-30T12:17:15.454533Z"
    }
   },
   "outputs": [
    {
     "data": {
      "image/png": "[encoded data removed]",
      "text/plain": [
       "<Figure size 1440x576 with 2 Axes>"
      ]
     },
     "metadata": {
      "needs_background": "light"
     },
     "output_type": "display_data"
    }
   ],
   "source": [
    "THRESHOLD = 0.0265\n",
    "check_graph(C_ANOMALY_SCORE, CHECK_ATT, piece=2, THRESHOLD=THRESHOLD)"
   ]
  },
  {
   "cell_type": "code",
   "execution_count": 98,
   "id": "b23c6ea7",
   "metadata": {
    "ExecuteTime": {
     "end_time": "2021-09-30T12:17:16.064771Z",
     "start_time": "2021-09-30T12:17:16.061864Z"
    }
   },
   "outputs": [],
   "source": [
    "def put_labels(distance, threshold):\n",
    "    xs = np.zeros_like(distance)\n",
    "    xs[distance > threshold] = 1\n",
    "    return xs"
   ]
  },
  {
   "cell_type": "code",
   "execution_count": 99,
   "id": "add132f7",
   "metadata": {
    "ExecuteTime": {
     "end_time": "2021-09-30T12:17:16.306565Z",
     "start_time": "2021-09-30T12:17:16.302725Z"
    }
   },
   "outputs": [
    {
     "data": {
      "text/plain": [
       "(array([0., 0., 0., ..., 0., 0., 0.]), (86311,))"
      ]
     },
     "execution_count": 99,
     "metadata": {},
     "output_type": "execute_result"
    }
   ],
   "source": [
    "LABELS = put_labels(C_ANOMALY_SCORE, THRESHOLD)\n",
    "LABELS, LABELS.shape"
   ]
  },
  {
   "cell_type": "code",
   "execution_count": 100,
   "id": "17b3fabc",
   "metadata": {
    "ExecuteTime": {
     "end_time": "2021-09-30T12:17:16.548687Z",
     "start_time": "2021-09-30T12:17:16.544574Z"
    }
   },
   "outputs": [
    {
     "data": {
      "text/plain": [
       "(array([0, 0, 0, ..., 0, 0, 0]), (86400,))"
      ]
     },
     "execution_count": 100,
     "metadata": {},
     "output_type": "execute_result"
    }
   ],
   "source": [
    "ATTACK_LABELS = put_labels(np.array(VALIDATION_DF_RAW[ATTACK_FIELD]), threshold=THRESHOLD)\n",
    "ATTACK_LABELS, ATTACK_LABELS.shape"
   ]
  },
  {
   "cell_type": "code",
   "execution_count": 46,
   "id": "9c058a5f",
   "metadata": {
    "ExecuteTime": {
     "end_time": "2021-09-26T16:35:27.044525Z",
     "start_time": "2021-09-26T16:35:27.037435Z"
    }
   },
   "outputs": [],
   "source": [
    "def fill_blank(check_ts, labels, total_ts):\n",
    "    def ts_generator():\n",
    "        for t in total_ts:\n",
    "            yield dateutil.parser.parse(t)\n",
    "\n",
    "    def label_generator():\n",
    "        for t, label in zip(check_ts, labels):\n",
    "            yield dateutil.parser.parse(t), label\n",
    "\n",
    "    g_ts = ts_generator()\n",
    "    g_label = label_generator()\n",
    "    final_labels = []\n",
    "\n",
    "    try:\n",
    "        current = next(g_ts)\n",
    "        ts_label, label = next(g_label)\n",
    "        while True:\n",
    "            if current > ts_label:\n",
    "                ts_label, label = next(g_label)\n",
    "                continue\n",
    "            elif current < ts_label:\n",
    "                final_labels.append(0)\n",
    "                current = next(g_ts)\n",
    "                continue\n",
    "            final_labels.append(label)\n",
    "            current = next(g_ts)\n",
    "            ts_label, label = next(g_label)\n",
    "    except StopIteration:\n",
    "        return np.array(final_labels, dtype=np.int8)"
   ]
  },
  {
   "cell_type": "code",
   "execution_count": 101,
   "id": "0c418ca4",
   "metadata": {
    "ExecuteTime": {
     "end_time": "2021-09-30T12:17:32.073440Z",
     "start_time": "2021-09-30T12:17:17.042498Z"
    }
   },
   "outputs": [
    {
     "name": "stdout",
     "output_type": "stream",
     "text": [
      "CPU times: user 15 s, sys: 0 ns, total: 15 s\n",
      "Wall time: 15 s\n"
     ]
    },
    {
     "data": {
      "text/plain": [
       "(86400,)"
      ]
     },
     "execution_count": 101,
     "metadata": {},
     "output_type": "execute_result"
    }
   ],
   "source": [
    "%%time\n",
    "FINAL_LABELS = fill_blank(CHECK_TS, LABELS, np.array(VALIDATION_DF_RAW[TIMESTAMP_FIELD]))\n",
    "FINAL_LABELS.shape"
   ]
  },
  {
   "cell_type": "code",
   "execution_count": 102,
   "id": "92b0859b",
   "metadata": {
    "ExecuteTime": {
     "end_time": "2021-09-30T12:17:32.963899Z",
     "start_time": "2021-09-30T12:17:32.313054Z"
    }
   },
   "outputs": [
    {
     "name": "stdout",
     "output_type": "stream",
     "text": [
      "F1: 0.203 (TaP: 0.210, TaR: 0.197)\n",
      "# of detected anomalies: 2\n",
      "Detected anomalies: [<TaPR_pkg.DataManage.Range.Range object at 0x7f5e8e73c048>, <TaPR_pkg.DataManage.Range.Range object at 0x7f5e8e73c128>]\n"
     ]
    }
   ],
   "source": [
    "TaPR = etapr.evaluate_haicon(anomalies=ATTACK_LABELS, predictions=FINAL_LABELS)\n",
    "print(f\"F1: {TaPR['f1']:.3f} (TaP: {TaPR['TaP']:.3f}, TaR: {TaPR['TaR']:.3f})\")\n",
    "print(f\"# of detected anomalies: {len(TaPR['Detected_Anomalies'])}\")\n",
    "print(f\"Detected anomalies: {TaPR['Detected_Anomalies']}\")"
   ]
  },
  {
   "cell_type": "code",
   "execution_count": 103,
   "id": "1ca89571",
   "metadata": {
    "ExecuteTime": {
     "end_time": "2021-09-30T12:17:51.975666Z",
     "start_time": "2021-09-30T12:17:42.045216Z"
    }
   },
   "outputs": [
    {
     "name": "stdout",
     "output_type": "stream",
     "text": [
      "CPU times: user 31.9 s, sys: 1.59 s, total: 33.5 s\n",
      "Wall time: 9.92 s\n"
     ]
    }
   ],
   "source": [
    "%%time\n",
    "model.eval()\n",
    "CHECK_TS, CHECK_DIST, CHECK_ATT = inference(testloader, model)"
   ]
  },
  {
   "cell_type": "code",
   "execution_count": 104,
   "id": "e9aefb86",
   "metadata": {
    "ExecuteTime": {
     "end_time": "2021-09-30T12:17:52.265649Z",
     "start_time": "2021-09-30T12:17:52.250240Z"
    }
   },
   "outputs": [],
   "source": [
    "ANOMALY_SCORE = np.mean(CHECK_DIST, axis=1)"
   ]
  },
  {
   "cell_type": "code",
   "execution_count": 105,
   "id": "8f80b088",
   "metadata": {
    "ExecuteTime": {
     "end_time": "2021-09-30T12:18:09.842512Z",
     "start_time": "2021-09-30T12:17:52.511932Z"
    }
   },
   "outputs": [],
   "source": [
    "C_ANOMALY_SCORE = range_check(ANOMALY_SCORE, size=30)"
   ]
  },
  {
   "cell_type": "code",
   "execution_count": 106,
   "id": "8ca6415a",
   "metadata": {
    "ExecuteTime": {
     "end_time": "2021-09-30T12:18:10.692105Z",
     "start_time": "2021-09-30T12:18:10.077066Z"
    }
   },
   "outputs": [
    {
     "data": {
      "image/png": "[encoded data removed]",
      "text/plain": [
       "<Figure size 1440x864 with 3 Axes>"
      ]
     },
     "metadata": {
      "needs_background": "light"
     },
     "output_type": "display_data"
    }
   ],
   "source": [
    "check_graph(C_ANOMALY_SCORE, CHECK_ATT, piece=3, THRESHOLD=THRESHOLD)"
   ]
  },
  {
   "cell_type": "code",
   "execution_count": 107,
   "id": "96483915",
   "metadata": {
    "ExecuteTime": {
     "end_time": "2021-09-30T12:18:10.934403Z",
     "start_time": "2021-09-30T12:18:10.930075Z"
    }
   },
   "outputs": [
    {
     "data": {
      "text/plain": [
       "(array([0., 0., 0., ..., 0., 0., 0.]), (274533,))"
      ]
     },
     "execution_count": 107,
     "metadata": {},
     "output_type": "execute_result"
    }
   ],
   "source": [
    "LABELS = put_labels(C_ANOMALY_SCORE, THRESHOLD)\n",
    "LABELS, LABELS.shape"
   ]
  },
  {
   "cell_type": "code",
   "execution_count": 108,
   "id": "f99718e6",
   "metadata": {
    "ExecuteTime": {
     "end_time": "2021-09-30T12:18:11.469229Z",
     "start_time": "2021-09-30T12:18:11.169552Z"
    }
   },
   "outputs": [
    {
     "data": {
      "text/html": [
       "<div>\n",
       "<style scoped>\n",
       "    .dataframe tbody tr th:only-of-type {\n",
       "        vertical-align: middle;\n",
       "    }\n",
       "\n",
       "    .dataframe tbody tr th {\n",
       "        vertical-align: top;\n",
       "    }\n",
       "\n",
       "    .dataframe thead th {\n",
       "        text-align: right;\n",
       "    }\n",
       "</style>\n",
       "<table border=\"1\" class=\"dataframe\">\n",
       "  <thead>\n",
       "    <tr style=\"text-align: right;\">\n",
       "      <th></th>\n",
       "      <th>timestamp</th>\n",
       "      <th>attack</th>\n",
       "    </tr>\n",
       "    <tr>\n",
       "      <th>timestamp</th>\n",
       "      <th></th>\n",
       "      <th></th>\n",
       "    </tr>\n",
       "  </thead>\n",
       "  <tbody>\n",
       "    <tr>\n",
       "      <th>2021-07-13 16:00:01</th>\n",
       "      <td>2021-07-13 16:00:01</td>\n",
       "      <td>0.0</td>\n",
       "    </tr>\n",
       "    <tr>\n",
       "      <th>2021-07-13 16:00:02</th>\n",
       "      <td>2021-07-13 16:00:02</td>\n",
       "      <td>0.0</td>\n",
       "    </tr>\n",
       "    <tr>\n",
       "      <th>2021-07-13 16:00:03</th>\n",
       "      <td>2021-07-13 16:00:03</td>\n",
       "      <td>0.0</td>\n",
       "    </tr>\n",
       "    <tr>\n",
       "      <th>2021-07-13 16:00:04</th>\n",
       "      <td>2021-07-13 16:00:04</td>\n",
       "      <td>0.0</td>\n",
       "    </tr>\n",
       "    <tr>\n",
       "      <th>2021-07-13 16:00:05</th>\n",
       "      <td>2021-07-13 16:00:05</td>\n",
       "      <td>0.0</td>\n",
       "    </tr>\n",
       "    <tr>\n",
       "      <th>...</th>\n",
       "      <td>...</td>\n",
       "      <td>...</td>\n",
       "    </tr>\n",
       "    <tr>\n",
       "      <th>2021-07-16 23:59:56</th>\n",
       "      <td>2021-07-16 23:59:56</td>\n",
       "      <td>0.0</td>\n",
       "    </tr>\n",
       "    <tr>\n",
       "      <th>2021-07-16 23:59:57</th>\n",
       "      <td>2021-07-16 23:59:57</td>\n",
       "      <td>0.0</td>\n",
       "    </tr>\n",
       "    <tr>\n",
       "      <th>2021-07-16 23:59:58</th>\n",
       "      <td>2021-07-16 23:59:58</td>\n",
       "      <td>0.0</td>\n",
       "    </tr>\n",
       "    <tr>\n",
       "      <th>2021-07-16 23:59:59</th>\n",
       "      <td>2021-07-16 23:59:59</td>\n",
       "      <td>0.0</td>\n",
       "    </tr>\n",
       "    <tr>\n",
       "      <th>2021-07-17 00:00:00</th>\n",
       "      <td>2021-07-17 00:00:00</td>\n",
       "      <td>0.0</td>\n",
       "    </tr>\n",
       "  </tbody>\n",
       "</table>\n",
       "<p>274800 rows × 2 columns</p>\n",
       "</div>"
      ],
      "text/plain": [
       "                               timestamp  attack\n",
       "timestamp                                       \n",
       "2021-07-13 16:00:01  2021-07-13 16:00:01     0.0\n",
       "2021-07-13 16:00:02  2021-07-13 16:00:02     0.0\n",
       "2021-07-13 16:00:03  2021-07-13 16:00:03     0.0\n",
       "2021-07-13 16:00:04  2021-07-13 16:00:04     0.0\n",
       "2021-07-13 16:00:05  2021-07-13 16:00:05     0.0\n",
       "...                                  ...     ...\n",
       "2021-07-16 23:59:56  2021-07-16 23:59:56     0.0\n",
       "2021-07-16 23:59:57  2021-07-16 23:59:57     0.0\n",
       "2021-07-16 23:59:58  2021-07-16 23:59:58     0.0\n",
       "2021-07-16 23:59:59  2021-07-16 23:59:59     0.0\n",
       "2021-07-17 00:00:00  2021-07-17 00:00:00     0.0\n",
       "\n",
       "[274800 rows x 2 columns]"
      ]
     },
     "execution_count": 108,
     "metadata": {},
     "output_type": "execute_result"
    }
   ],
   "source": [
    "submission = pd.read_csv('./HAICon2021_dataset/sample_submission.csv')\n",
    "submission.index = submission['timestamp']\n",
    "submission.loc[CHECK_TS,'attack'] = LABELS\n",
    "submission"
   ]
  },
  {
   "cell_type": "code",
   "execution_count": 109,
   "id": "b84f0dd9",
   "metadata": {
    "ExecuteTime": {
     "end_time": "2021-09-30T12:18:17.162332Z",
     "start_time": "2021-09-30T12:18:16.646575Z"
    }
   },
   "outputs": [],
   "source": [
    "submission.to_csv('baseline.csv', index=False)"
   ]
  },
  {
   "cell_type": "code",
   "execution_count": 173,
   "id": "23e3f264",
   "metadata": {
    "ExecuteTime": {
     "end_time": "2021-09-26T09:43:55.816644Z",
     "start_time": "2021-09-26T09:43:55.781781Z"
    }
   },
   "outputs": [],
   "source": [
    "torch.save({'model': model.state_dict(), \n",
    "                'Threshold': 0.025, \n",
    "               }, './checkpoints/GPT_89.tar')"
   ]
  },
  {
   "cell_type": "markdown",
   "id": "5052b0a9",
   "metadata": {},
   "source": [
    "----"
   ]
  }
 ],
 "metadata": {
  "hide_input": false,
  "kernelspec": {
   "display_name": "Python 3",
   "language": "python",
   "name": "python3"
  },
  "language_info": {
   "codemirror_mode": {
    "name": "ipython",
    "version": 3
   },
   "file_extension": ".py",
   "mimetype": "text/x-python",
   "name": "python",
   "nbconvert_exporter": "python",
   "pygments_lexer": "ipython3",
   "version": "3.6.9"
  },
  "toc": {
   "base_numbering": 1,
   "nav_menu": {},
   "number_sections": true,
   "sideBar": true,
   "skip_h1_title": false,
   "title_cell": "Table of Contents",
   "title_sidebar": "Contents",
   "toc_cell": false,
   "toc_position": {},
   "toc_section_display": true,
   "toc_window_display": false
  },
  "varInspector": {
   "cols": {
    "lenName": 16,
    "lenType": 16,
    "lenVar": 40
   },
   "kernels_config": {
    "python": {
     "delete_cmd_postfix": "",
     "delete_cmd_prefix": "del ",
     "library": "var_list.py",
     "varRefreshCmd": "print(var_dic_list())"
    },
    "r": {
     "delete_cmd_postfix": ") ",
     "delete_cmd_prefix": "rm(",
     "library": "var_list.r",
     "varRefreshCmd": "cat(var_dic_list()) "
    }
   },
   "types_to_exclude": [
    "module",
    "function",
    "builtin_function_or_method",
    "instance",
    "_Feature"
   ],
   "window_display": false
  }
 },
 "nbformat": 4,
 "nbformat_minor": 5
}
