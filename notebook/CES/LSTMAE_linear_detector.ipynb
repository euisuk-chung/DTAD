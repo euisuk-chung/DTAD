{
 "cells": [
  {
   "cell_type": "markdown",
   "id": "877de19f",
   "metadata": {},
   "source": [
    "## Module Import & Data Load"
   ]
  },
  {
   "cell_type": "code",
   "execution_count": 1,
   "id": "42d05efb",
   "metadata": {
    "ExecuteTime": {
     "end_time": "2021-09-01T11:51:56.041114Z",
     "start_time": "2021-09-01T11:51:55.111714Z"
    }
   },
   "outputs": [],
   "source": [
    "import sys\n",
    "\n",
    "from pathlib import Path\n",
    "from datetime import timedelta\n",
    "\n",
    "import dateutil\n",
    "import numpy as np\n",
    "import matplotlib.pyplot as plt\n",
    "import pandas as pd\n",
    "import torch\n",
    "import torch.nn as nn\n",
    "import torch.nn.functional as F\n",
    "import torch.optim as optim\n",
    "from torch.utils.data import Dataset, DataLoader\n",
    "from tqdm.notebook import trange\n",
    "from TaPR_pkg import etapr\n",
    "from src import dataset\n",
    "import tqdm\n",
    "\n",
    "import pickle\n",
    "from torchinfo import summary"
   ]
  },
  {
   "cell_type": "code",
   "execution_count": 2,
   "id": "5644e1a0",
   "metadata": {},
   "outputs": [],
   "source": [
    "# GPU 할당 변경하기\n",
    "GPU_NUM = 0 # 원하는 GPU 번호 입력\n",
    "device = torch.device(f'cuda:{GPU_NUM}' if torch.cuda.is_available() else 'cpu')\n",
    "torch.cuda.set_device(device) # change allocation of current GPU"
   ]
  },
  {
   "cell_type": "code",
   "execution_count": 3,
   "id": "78224166",
   "metadata": {
    "ExecuteTime": {
     "end_time": "2021-09-01T11:51:56.339698Z",
     "start_time": "2021-09-01T11:51:56.315144Z"
    }
   },
   "outputs": [],
   "source": [
    "device = torch.device(\"cuda\" if torch.cuda.is_available() else \"cpu\")\n",
    "torch.backends.cudnn.benchmark = True"
   ]
  },
  {
   "cell_type": "markdown",
   "id": "4b37b490",
   "metadata": {},
   "source": [
    "# Define HAI Dataset for AE"
   ]
  },
  {
   "cell_type": "code",
   "execution_count": 4,
   "id": "0d1b0a67",
   "metadata": {
    "ExecuteTime": {
     "end_time": "2021-09-01T11:51:56.878948Z",
     "start_time": "2021-09-01T11:51:56.850797Z"
    }
   },
   "outputs": [],
   "source": [
    "# WINDOW_GIVEN = 90\n",
    "# WINDOW_SIZE = 91\n",
    "\n",
    "WINDOW_SIZE = 90\n",
    "\n",
    "class HaiDataset(Dataset):\n",
    "    def __init__(self, timestamps, df, stride=1, attacks=None):\n",
    "        self.ts = np.array(timestamps)\n",
    "        self.tag_values = np.array(df, dtype=np.float32)\n",
    "        self.valid_idxs = []\n",
    "        for L in trange(len(self.ts) - WINDOW_SIZE):\n",
    "            R = L + WINDOW_SIZE\n",
    "            if dateutil.parser.parse(self.ts[R]) - dateutil.parser.parse(self.ts[L]) == timedelta(seconds=WINDOW_SIZE):\n",
    "                self.valid_idxs.append(L)\n",
    "        self.valid_idxs = np.array(self.valid_idxs, dtype=np.int32)[::stride]\n",
    "        self.n_idxs = len(self.valid_idxs)\n",
    "        print(f\"# of valid windows: {self.n_idxs}\")\n",
    "        if attacks is not None:\n",
    "            self.attacks = np.array(attacks, dtype=np.float32)\n",
    "            self.with_attack = True\n",
    "        else:\n",
    "            self.with_attack = False\n",
    "\n",
    "    def __len__(self):\n",
    "        return self.n_idxs\n",
    "\n",
    "    def __getitem__(self, idx):\n",
    "        i = self.valid_idxs[idx]\n",
    "        item = {\"attack\": self.attacks[i : i + WINDOW_SIZE]} if self.with_attack else {}\n",
    "        item[\"ts\"] = self.ts[i + WINDOW_SIZE]\n",
    "        item[\"given\"] = torch.from_numpy(self.tag_values[i : i + WINDOW_SIZE])\n",
    "        return item"
   ]
  },
  {
   "cell_type": "code",
   "execution_count": 5,
   "id": "91f361d3",
   "metadata": {
    "ExecuteTime": {
     "end_time": "2021-09-01T11:51:57.708510Z",
     "start_time": "2021-09-01T11:51:57.702133Z"
    }
   },
   "outputs": [],
   "source": [
    "def boundary_check(df):\n",
    "    x = np.array(df, dtype=np.float32)\n",
    "    return np.any(x > 1.0), np.any(x < 0), np.any(np.isnan(x))"
   ]
  },
  {
   "cell_type": "code",
   "execution_count": 6,
   "id": "96b905b3",
   "metadata": {
    "ExecuteTime": {
     "end_time": "2021-09-01T11:52:17.078169Z",
     "start_time": "2021-09-01T11:52:17.072362Z"
    }
   },
   "outputs": [
    {
     "data": {
      "text/plain": [
       "[PosixPath('HAICon2021_dataset/train/train1.csv'),\n",
       " PosixPath('HAICon2021_dataset/train/train2.csv'),\n",
       " PosixPath('HAICon2021_dataset/train/train3.csv'),\n",
       " PosixPath('HAICon2021_dataset/train/train4.csv'),\n",
       " PosixPath('HAICon2021_dataset/train/train5.csv'),\n",
       " PosixPath('HAICon2021_dataset/train/train6.csv')]"
      ]
     },
     "execution_count": 6,
     "metadata": {},
     "output_type": "execute_result"
    }
   ],
   "source": [
    "TRAIN_DATASET = sorted([x for x in Path(\"HAICon2021_dataset/train/\").glob(\"*.csv\")])\n",
    "TRAIN_DATASET"
   ]
  },
  {
   "cell_type": "code",
   "execution_count": 7,
   "id": "8d052665",
   "metadata": {
    "ExecuteTime": {
     "end_time": "2021-09-01T11:52:18.073700Z",
     "start_time": "2021-09-01T11:52:18.067366Z"
    }
   },
   "outputs": [
    {
     "data": {
      "text/plain": [
       "[PosixPath('HAICon2021_dataset/test/test1.csv'),\n",
       " PosixPath('HAICon2021_dataset/test/test2.csv'),\n",
       " PosixPath('HAICon2021_dataset/test/test3.csv')]"
      ]
     },
     "execution_count": 7,
     "metadata": {},
     "output_type": "execute_result"
    }
   ],
   "source": [
    "TEST_DATASET = sorted([x for x in Path(\"HAICon2021_dataset/test/\").glob(\"*.csv\")])\n",
    "TEST_DATASET"
   ]
  },
  {
   "cell_type": "code",
   "execution_count": 8,
   "id": "e1a7cce6",
   "metadata": {
    "ExecuteTime": {
     "end_time": "2021-09-01T11:52:18.365488Z",
     "start_time": "2021-09-01T11:52:18.351102Z"
    }
   },
   "outputs": [
    {
     "data": {
      "text/plain": [
       "[PosixPath('HAICon2021_dataset/validation/validation.csv')]"
      ]
     },
     "execution_count": 8,
     "metadata": {},
     "output_type": "execute_result"
    }
   ],
   "source": [
    "VALIDATION_DATASET = sorted([x for x in Path(\"HAICon2021_dataset/validation/\").glob(\"*.csv\")])\n",
    "VALIDATION_DATASET"
   ]
  },
  {
   "cell_type": "code",
   "execution_count": 9,
   "id": "ea5ab593",
   "metadata": {
    "ExecuteTime": {
     "end_time": "2021-09-01T11:52:18.679143Z",
     "start_time": "2021-09-01T11:52:18.673170Z"
    }
   },
   "outputs": [],
   "source": [
    "def dataframe_from_csv(target):\n",
    "    return pd.read_csv(target).rename(columns=lambda x: x.strip())\n",
    "\n",
    "def dataframe_from_csvs(targets):\n",
    "    return pd.concat([dataframe_from_csv(x) for x in targets])"
   ]
  },
  {
   "cell_type": "code",
   "execution_count": 10,
   "id": "75abf85c",
   "metadata": {
    "ExecuteTime": {
     "end_time": "2021-09-01T11:52:27.194481Z",
     "start_time": "2021-09-01T11:52:18.962735Z"
    }
   },
   "outputs": [
    {
     "data": {
      "text/html": [
       "<div>\n",
       "<style scoped>\n",
       "    .dataframe tbody tr th:only-of-type {\n",
       "        vertical-align: middle;\n",
       "    }\n",
       "\n",
       "    .dataframe tbody tr th {\n",
       "        vertical-align: top;\n",
       "    }\n",
       "\n",
       "    .dataframe thead th {\n",
       "        text-align: right;\n",
       "    }\n",
       "</style>\n",
       "<table border=\"1\" class=\"dataframe\">\n",
       "  <thead>\n",
       "    <tr style=\"text-align: right;\">\n",
       "      <th></th>\n",
       "      <th>timestamp</th>\n",
       "      <th>C01</th>\n",
       "      <th>C02</th>\n",
       "      <th>C03</th>\n",
       "      <th>C04</th>\n",
       "      <th>C05</th>\n",
       "      <th>C06</th>\n",
       "      <th>C07</th>\n",
       "      <th>C08</th>\n",
       "      <th>C09</th>\n",
       "      <th>...</th>\n",
       "      <th>C77</th>\n",
       "      <th>C78</th>\n",
       "      <th>C79</th>\n",
       "      <th>C80</th>\n",
       "      <th>C81</th>\n",
       "      <th>C82</th>\n",
       "      <th>C83</th>\n",
       "      <th>C84</th>\n",
       "      <th>C85</th>\n",
       "      <th>C86</th>\n",
       "    </tr>\n",
       "  </thead>\n",
       "  <tbody>\n",
       "    <tr>\n",
       "      <th>0</th>\n",
       "      <td>2021-07-11 10:00:00</td>\n",
       "      <td>-2.2642</td>\n",
       "      <td>0</td>\n",
       "      <td>12.26196</td>\n",
       "      <td>-0.00087</td>\n",
       "      <td>12.01019</td>\n",
       "      <td>0.2254</td>\n",
       "      <td>12.66931</td>\n",
       "      <td>70</td>\n",
       "      <td>1</td>\n",
       "      <td>...</td>\n",
       "      <td>0.92255</td>\n",
       "      <td>30.08042</td>\n",
       "      <td>7.08818</td>\n",
       "      <td>595.06104</td>\n",
       "      <td>276.40338</td>\n",
       "      <td>1</td>\n",
       "      <td>1014.79321</td>\n",
       "      <td>12.0</td>\n",
       "      <td>50</td>\n",
       "      <td>3506</td>\n",
       "    </tr>\n",
       "    <tr>\n",
       "      <th>1</th>\n",
       "      <td>2021-07-11 10:00:01</td>\n",
       "      <td>-2.4923</td>\n",
       "      <td>0</td>\n",
       "      <td>12.26196</td>\n",
       "      <td>0.00058</td>\n",
       "      <td>12.56714</td>\n",
       "      <td>-0.0711</td>\n",
       "      <td>12.66931</td>\n",
       "      <td>70</td>\n",
       "      <td>1</td>\n",
       "      <td>...</td>\n",
       "      <td>0.92255</td>\n",
       "      <td>30.08423</td>\n",
       "      <td>7.08818</td>\n",
       "      <td>531.50317</td>\n",
       "      <td>276.18634</td>\n",
       "      <td>1</td>\n",
       "      <td>1014.79321</td>\n",
       "      <td>12.0</td>\n",
       "      <td>50</td>\n",
       "      <td>3493</td>\n",
       "    </tr>\n",
       "    <tr>\n",
       "      <th>2</th>\n",
       "      <td>2021-07-11 10:00:02</td>\n",
       "      <td>-2.8460</td>\n",
       "      <td>0</td>\n",
       "      <td>12.26196</td>\n",
       "      <td>-0.00072</td>\n",
       "      <td>14.48975</td>\n",
       "      <td>0.0051</td>\n",
       "      <td>12.66931</td>\n",
       "      <td>70</td>\n",
       "      <td>1</td>\n",
       "      <td>...</td>\n",
       "      <td>0.91873</td>\n",
       "      <td>30.09148</td>\n",
       "      <td>7.08818</td>\n",
       "      <td>451.06253</td>\n",
       "      <td>279.85754</td>\n",
       "      <td>1</td>\n",
       "      <td>1014.79321</td>\n",
       "      <td>12.0</td>\n",
       "      <td>50</td>\n",
       "      <td>3490</td>\n",
       "    </tr>\n",
       "    <tr>\n",
       "      <th>3</th>\n",
       "      <td>2021-07-11 10:00:03</td>\n",
       "      <td>-2.1235</td>\n",
       "      <td>0</td>\n",
       "      <td>12.26196</td>\n",
       "      <td>0.00101</td>\n",
       "      <td>15.93170</td>\n",
       "      <td>0.1842</td>\n",
       "      <td>12.66931</td>\n",
       "      <td>70</td>\n",
       "      <td>1</td>\n",
       "      <td>...</td>\n",
       "      <td>0.91644</td>\n",
       "      <td>30.10407</td>\n",
       "      <td>7.08818</td>\n",
       "      <td>404.38739</td>\n",
       "      <td>281.50317</td>\n",
       "      <td>1</td>\n",
       "      <td>1014.79321</td>\n",
       "      <td>12.0</td>\n",
       "      <td>50</td>\n",
       "      <td>3525</td>\n",
       "    </tr>\n",
       "    <tr>\n",
       "      <th>4</th>\n",
       "      <td>2021-07-11 10:00:04</td>\n",
       "      <td>-2.9074</td>\n",
       "      <td>0</td>\n",
       "      <td>12.26196</td>\n",
       "      <td>0.00043</td>\n",
       "      <td>16.10718</td>\n",
       "      <td>0.1842</td>\n",
       "      <td>12.66931</td>\n",
       "      <td>70</td>\n",
       "      <td>1</td>\n",
       "      <td>...</td>\n",
       "      <td>0.91797</td>\n",
       "      <td>30.10331</td>\n",
       "      <td>7.08818</td>\n",
       "      <td>382.53925</td>\n",
       "      <td>281.34039</td>\n",
       "      <td>1</td>\n",
       "      <td>1014.79321</td>\n",
       "      <td>12.0</td>\n",
       "      <td>50</td>\n",
       "      <td>3503</td>\n",
       "    </tr>\n",
       "    <tr>\n",
       "      <th>...</th>\n",
       "      <td>...</td>\n",
       "      <td>...</td>\n",
       "      <td>...</td>\n",
       "      <td>...</td>\n",
       "      <td>...</td>\n",
       "      <td>...</td>\n",
       "      <td>...</td>\n",
       "      <td>...</td>\n",
       "      <td>...</td>\n",
       "      <td>...</td>\n",
       "      <td>...</td>\n",
       "      <td>...</td>\n",
       "      <td>...</td>\n",
       "      <td>...</td>\n",
       "      <td>...</td>\n",
       "      <td>...</td>\n",
       "      <td>...</td>\n",
       "      <td>...</td>\n",
       "      <td>...</td>\n",
       "      <td>...</td>\n",
       "      <td>...</td>\n",
       "    </tr>\n",
       "    <tr>\n",
       "      <th>259195</th>\n",
       "      <td>2021-08-09 08:59:56</td>\n",
       "      <td>-2.0065</td>\n",
       "      <td>0</td>\n",
       "      <td>12.26196</td>\n",
       "      <td>0.00051</td>\n",
       "      <td>100.28228</td>\n",
       "      <td>0.5977</td>\n",
       "      <td>12.53358</td>\n",
       "      <td>70</td>\n",
       "      <td>1</td>\n",
       "      <td>...</td>\n",
       "      <td>1.17355</td>\n",
       "      <td>35.05434</td>\n",
       "      <td>10.00000</td>\n",
       "      <td>3178.48877</td>\n",
       "      <td>370.02679</td>\n",
       "      <td>1</td>\n",
       "      <td>986.05908</td>\n",
       "      <td>12.0</td>\n",
       "      <td>50</td>\n",
       "      <td>136</td>\n",
       "    </tr>\n",
       "    <tr>\n",
       "      <th>259196</th>\n",
       "      <td>2021-08-09 08:59:57</td>\n",
       "      <td>-2.2101</td>\n",
       "      <td>0</td>\n",
       "      <td>12.26196</td>\n",
       "      <td>-0.00029</td>\n",
       "      <td>100.28228</td>\n",
       "      <td>0.5509</td>\n",
       "      <td>12.53358</td>\n",
       "      <td>70</td>\n",
       "      <td>1</td>\n",
       "      <td>...</td>\n",
       "      <td>1.16898</td>\n",
       "      <td>35.03488</td>\n",
       "      <td>10.00000</td>\n",
       "      <td>3175.36084</td>\n",
       "      <td>370.40656</td>\n",
       "      <td>1</td>\n",
       "      <td>986.05908</td>\n",
       "      <td>12.0</td>\n",
       "      <td>50</td>\n",
       "      <td>89</td>\n",
       "    </tr>\n",
       "    <tr>\n",
       "      <th>259197</th>\n",
       "      <td>2021-08-09 08:59:58</td>\n",
       "      <td>-2.3325</td>\n",
       "      <td>0</td>\n",
       "      <td>12.26196</td>\n",
       "      <td>0.00152</td>\n",
       "      <td>100.28228</td>\n",
       "      <td>0.5425</td>\n",
       "      <td>12.53358</td>\n",
       "      <td>70</td>\n",
       "      <td>1</td>\n",
       "      <td>...</td>\n",
       "      <td>1.16974</td>\n",
       "      <td>35.02840</td>\n",
       "      <td>10.00000</td>\n",
       "      <td>3175.73608</td>\n",
       "      <td>368.12787</td>\n",
       "      <td>1</td>\n",
       "      <td>986.05908</td>\n",
       "      <td>12.0</td>\n",
       "      <td>50</td>\n",
       "      <td>90</td>\n",
       "    </tr>\n",
       "    <tr>\n",
       "      <th>259198</th>\n",
       "      <td>2021-08-09 08:59:59</td>\n",
       "      <td>-2.3049</td>\n",
       "      <td>0</td>\n",
       "      <td>12.26196</td>\n",
       "      <td>0.00058</td>\n",
       "      <td>100.26703</td>\n",
       "      <td>0.6266</td>\n",
       "      <td>12.53358</td>\n",
       "      <td>70</td>\n",
       "      <td>1</td>\n",
       "      <td>...</td>\n",
       "      <td>1.16974</td>\n",
       "      <td>35.02420</td>\n",
       "      <td>10.00000</td>\n",
       "      <td>3176.61182</td>\n",
       "      <td>368.01941</td>\n",
       "      <td>1</td>\n",
       "      <td>986.05908</td>\n",
       "      <td>12.0</td>\n",
       "      <td>50</td>\n",
       "      <td>74</td>\n",
       "    </tr>\n",
       "    <tr>\n",
       "      <th>259199</th>\n",
       "      <td>2021-08-09 09:00:00</td>\n",
       "      <td>-2.2011</td>\n",
       "      <td>0</td>\n",
       "      <td>12.26196</td>\n",
       "      <td>-0.00014</td>\n",
       "      <td>100.27466</td>\n",
       "      <td>0.7209</td>\n",
       "      <td>12.53358</td>\n",
       "      <td>70</td>\n",
       "      <td>1</td>\n",
       "      <td>...</td>\n",
       "      <td>1.17508</td>\n",
       "      <td>35.01695</td>\n",
       "      <td>10.00000</td>\n",
       "      <td>3172.23267</td>\n",
       "      <td>367.78424</td>\n",
       "      <td>1</td>\n",
       "      <td>986.05908</td>\n",
       "      <td>12.0</td>\n",
       "      <td>50</td>\n",
       "      <td>101</td>\n",
       "    </tr>\n",
       "  </tbody>\n",
       "</table>\n",
       "<p>1004402 rows × 87 columns</p>\n",
       "</div>"
      ],
      "text/plain": [
       "                  timestamp     C01  C02       C03      C04        C05  \\\n",
       "0       2021-07-11 10:00:00 -2.2642    0  12.26196 -0.00087   12.01019   \n",
       "1       2021-07-11 10:00:01 -2.4923    0  12.26196  0.00058   12.56714   \n",
       "2       2021-07-11 10:00:02 -2.8460    0  12.26196 -0.00072   14.48975   \n",
       "3       2021-07-11 10:00:03 -2.1235    0  12.26196  0.00101   15.93170   \n",
       "4       2021-07-11 10:00:04 -2.9074    0  12.26196  0.00043   16.10718   \n",
       "...                     ...     ...  ...       ...      ...        ...   \n",
       "259195  2021-08-09 08:59:56 -2.0065    0  12.26196  0.00051  100.28228   \n",
       "259196  2021-08-09 08:59:57 -2.2101    0  12.26196 -0.00029  100.28228   \n",
       "259197  2021-08-09 08:59:58 -2.3325    0  12.26196  0.00152  100.28228   \n",
       "259198  2021-08-09 08:59:59 -2.3049    0  12.26196  0.00058  100.26703   \n",
       "259199  2021-08-09 09:00:00 -2.2011    0  12.26196 -0.00014  100.27466   \n",
       "\n",
       "           C06       C07  C08  C09  ...      C77       C78       C79  \\\n",
       "0       0.2254  12.66931   70    1  ...  0.92255  30.08042   7.08818   \n",
       "1      -0.0711  12.66931   70    1  ...  0.92255  30.08423   7.08818   \n",
       "2       0.0051  12.66931   70    1  ...  0.91873  30.09148   7.08818   \n",
       "3       0.1842  12.66931   70    1  ...  0.91644  30.10407   7.08818   \n",
       "4       0.1842  12.66931   70    1  ...  0.91797  30.10331   7.08818   \n",
       "...        ...       ...  ...  ...  ...      ...       ...       ...   \n",
       "259195  0.5977  12.53358   70    1  ...  1.17355  35.05434  10.00000   \n",
       "259196  0.5509  12.53358   70    1  ...  1.16898  35.03488  10.00000   \n",
       "259197  0.5425  12.53358   70    1  ...  1.16974  35.02840  10.00000   \n",
       "259198  0.6266  12.53358   70    1  ...  1.16974  35.02420  10.00000   \n",
       "259199  0.7209  12.53358   70    1  ...  1.17508  35.01695  10.00000   \n",
       "\n",
       "               C80        C81  C82         C83   C84  C85   C86  \n",
       "0        595.06104  276.40338    1  1014.79321  12.0   50  3506  \n",
       "1        531.50317  276.18634    1  1014.79321  12.0   50  3493  \n",
       "2        451.06253  279.85754    1  1014.79321  12.0   50  3490  \n",
       "3        404.38739  281.50317    1  1014.79321  12.0   50  3525  \n",
       "4        382.53925  281.34039    1  1014.79321  12.0   50  3503  \n",
       "...            ...        ...  ...         ...   ...  ...   ...  \n",
       "259195  3178.48877  370.02679    1   986.05908  12.0   50   136  \n",
       "259196  3175.36084  370.40656    1   986.05908  12.0   50    89  \n",
       "259197  3175.73608  368.12787    1   986.05908  12.0   50    90  \n",
       "259198  3176.61182  368.01941    1   986.05908  12.0   50    74  \n",
       "259199  3172.23267  367.78424    1   986.05908  12.0   50   101  \n",
       "\n",
       "[1004402 rows x 87 columns]"
      ]
     },
     "execution_count": 10,
     "metadata": {},
     "output_type": "execute_result"
    }
   ],
   "source": [
    "TRAIN_DF_RAW = dataframe_from_csvs(TRAIN_DATASET)\n",
    "TRAIN_DF_RAW"
   ]
  },
  {
   "cell_type": "code",
   "execution_count": 11,
   "id": "a83412df",
   "metadata": {
    "ExecuteTime": {
     "end_time": "2021-09-01T11:52:27.452012Z",
     "start_time": "2021-09-01T11:52:27.447196Z"
    }
   },
   "outputs": [
    {
     "data": {
      "text/plain": [
       "Index(['C01', 'C02', 'C03', 'C04', 'C05', 'C06', 'C07', 'C08', 'C09', 'C10',\n",
       "       'C11', 'C12', 'C13', 'C14', 'C15', 'C16', 'C17', 'C18', 'C19', 'C20',\n",
       "       'C21', 'C22', 'C23', 'C24', 'C25', 'C26', 'C27', 'C28', 'C29', 'C30',\n",
       "       'C31', 'C32', 'C33', 'C34', 'C35', 'C36', 'C37', 'C38', 'C39', 'C40',\n",
       "       'C41', 'C42', 'C43', 'C44', 'C45', 'C46', 'C47', 'C48', 'C49', 'C50',\n",
       "       'C51', 'C52', 'C53', 'C54', 'C55', 'C56', 'C57', 'C58', 'C59', 'C60',\n",
       "       'C61', 'C62', 'C63', 'C64', 'C65', 'C66', 'C67', 'C68', 'C69', 'C70',\n",
       "       'C71', 'C72', 'C73', 'C74', 'C75', 'C76', 'C77', 'C78', 'C79', 'C80',\n",
       "       'C81', 'C82', 'C83', 'C84', 'C85', 'C86'],\n",
       "      dtype='object')"
      ]
     },
     "execution_count": 11,
     "metadata": {},
     "output_type": "execute_result"
    }
   ],
   "source": [
    "TIMESTAMP_FIELD = \"timestamp\"\n",
    "IDSTAMP_FIELD = 'id'\n",
    "ATTACK_FIELD = \"attack\"\n",
    "VALID_COLUMNS_IN_TRAIN_DATASET = TRAIN_DF_RAW.columns.drop([TIMESTAMP_FIELD])\n",
    "VALID_COLUMNS_IN_TRAIN_DATASET"
   ]
  },
  {
   "cell_type": "code",
   "execution_count": 12,
   "id": "ca6e57ed",
   "metadata": {
    "ExecuteTime": {
     "end_time": "2021-09-01T11:52:28.517371Z",
     "start_time": "2021-09-01T11:52:27.705733Z"
    }
   },
   "outputs": [],
   "source": [
    "TAG_MIN = TRAIN_DF_RAW[VALID_COLUMNS_IN_TRAIN_DATASET].min()\n",
    "TAG_MAX = TRAIN_DF_RAW[VALID_COLUMNS_IN_TRAIN_DATASET].max()"
   ]
  },
  {
   "cell_type": "code",
   "execution_count": 13,
   "id": "ee5498e4",
   "metadata": {
    "ExecuteTime": {
     "end_time": "2021-09-01T11:52:28.704525Z",
     "start_time": "2021-09-01T11:52:28.700555Z"
    }
   },
   "outputs": [],
   "source": [
    "def normalize(df):\n",
    "    ndf = df.copy()\n",
    "    for c in df.columns:\n",
    "        if TAG_MIN[c] == TAG_MAX[c]:\n",
    "            ndf[c] = df[c] - TAG_MIN[c]\n",
    "        else:\n",
    "            ndf[c] = (df[c] - TAG_MIN[c]) / (TAG_MAX[c] - TAG_MIN[c])\n",
    "    return ndf"
   ]
  },
  {
   "cell_type": "markdown",
   "id": "328bd473",
   "metadata": {},
   "source": [
    "## TRAIN"
   ]
  },
  {
   "cell_type": "code",
   "execution_count": 14,
   "id": "b5397da6",
   "metadata": {
    "ExecuteTime": {
     "end_time": "2021-09-01T11:52:31.249152Z",
     "start_time": "2021-09-01T11:52:28.883634Z"
    }
   },
   "outputs": [
    {
     "data": {
      "text/html": [
       "<div>\n",
       "<style scoped>\n",
       "    .dataframe tbody tr th:only-of-type {\n",
       "        vertical-align: middle;\n",
       "    }\n",
       "\n",
       "    .dataframe tbody tr th {\n",
       "        vertical-align: top;\n",
       "    }\n",
       "\n",
       "    .dataframe thead th {\n",
       "        text-align: right;\n",
       "    }\n",
       "</style>\n",
       "<table border=\"1\" class=\"dataframe\">\n",
       "  <thead>\n",
       "    <tr style=\"text-align: right;\">\n",
       "      <th></th>\n",
       "      <th>C01</th>\n",
       "      <th>C02</th>\n",
       "      <th>C03</th>\n",
       "      <th>C04</th>\n",
       "      <th>C05</th>\n",
       "      <th>C06</th>\n",
       "      <th>C07</th>\n",
       "      <th>C08</th>\n",
       "      <th>C09</th>\n",
       "      <th>C10</th>\n",
       "      <th>...</th>\n",
       "      <th>C77</th>\n",
       "      <th>C78</th>\n",
       "      <th>C79</th>\n",
       "      <th>C80</th>\n",
       "      <th>C81</th>\n",
       "      <th>C82</th>\n",
       "      <th>C83</th>\n",
       "      <th>C84</th>\n",
       "      <th>C85</th>\n",
       "      <th>C86</th>\n",
       "    </tr>\n",
       "  </thead>\n",
       "  <tbody>\n",
       "    <tr>\n",
       "      <th>0</th>\n",
       "      <td>0.433107</td>\n",
       "      <td>0.0</td>\n",
       "      <td>0.056338</td>\n",
       "      <td>0.501686</td>\n",
       "      <td>0.116706</td>\n",
       "      <td>0.447955</td>\n",
       "      <td>0.816071</td>\n",
       "      <td>0.0</td>\n",
       "      <td>0.0</td>\n",
       "      <td>0.0</td>\n",
       "      <td>...</td>\n",
       "      <td>0.240561</td>\n",
       "      <td>0.194185</td>\n",
       "      <td>0.708818</td>\n",
       "      <td>0.183693</td>\n",
       "      <td>0.169066</td>\n",
       "      <td>0.0</td>\n",
       "      <td>0.538147</td>\n",
       "      <td>0.0</td>\n",
       "      <td>0.0</td>\n",
       "      <td>0.276078</td>\n",
       "    </tr>\n",
       "    <tr>\n",
       "      <th>1</th>\n",
       "      <td>0.395098</td>\n",
       "      <td>0.0</td>\n",
       "      <td>0.056338</td>\n",
       "      <td>0.517560</td>\n",
       "      <td>0.121738</td>\n",
       "      <td>0.397053</td>\n",
       "      <td>0.816071</td>\n",
       "      <td>0.0</td>\n",
       "      <td>0.0</td>\n",
       "      <td>0.0</td>\n",
       "      <td>...</td>\n",
       "      <td>0.240561</td>\n",
       "      <td>0.194535</td>\n",
       "      <td>0.708818</td>\n",
       "      <td>0.165517</td>\n",
       "      <td>0.168332</td>\n",
       "      <td>0.0</td>\n",
       "      <td>0.538147</td>\n",
       "      <td>0.0</td>\n",
       "      <td>0.0</td>\n",
       "      <td>0.275176</td>\n",
       "    </tr>\n",
       "    <tr>\n",
       "      <th>2</th>\n",
       "      <td>0.333267</td>\n",
       "      <td>0.0</td>\n",
       "      <td>0.056338</td>\n",
       "      <td>0.504886</td>\n",
       "      <td>0.139408</td>\n",
       "      <td>0.405431</td>\n",
       "      <td>0.816071</td>\n",
       "      <td>0.0</td>\n",
       "      <td>0.0</td>\n",
       "      <td>0.0</td>\n",
       "      <td>...</td>\n",
       "      <td>0.238319</td>\n",
       "      <td>0.195226</td>\n",
       "      <td>0.708818</td>\n",
       "      <td>0.141083</td>\n",
       "      <td>0.180570</td>\n",
       "      <td>0.0</td>\n",
       "      <td>0.538147</td>\n",
       "      <td>0.0</td>\n",
       "      <td>0.0</td>\n",
       "      <td>0.274889</td>\n",
       "    </tr>\n",
       "    <tr>\n",
       "      <th>3</th>\n",
       "      <td>0.446345</td>\n",
       "      <td>0.0</td>\n",
       "      <td>0.056338</td>\n",
       "      <td>0.522383</td>\n",
       "      <td>0.154058</td>\n",
       "      <td>0.436703</td>\n",
       "      <td>0.816071</td>\n",
       "      <td>0.0</td>\n",
       "      <td>0.0</td>\n",
       "      <td>0.0</td>\n",
       "      <td>...</td>\n",
       "      <td>0.236754</td>\n",
       "      <td>0.196440</td>\n",
       "      <td>0.708818</td>\n",
       "      <td>0.125447</td>\n",
       "      <td>0.187292</td>\n",
       "      <td>0.0</td>\n",
       "      <td>0.538147</td>\n",
       "      <td>0.0</td>\n",
       "      <td>0.0</td>\n",
       "      <td>0.277264</td>\n",
       "    </tr>\n",
       "    <tr>\n",
       "      <th>4</th>\n",
       "      <td>0.328324</td>\n",
       "      <td>0.0</td>\n",
       "      <td>0.056338</td>\n",
       "      <td>0.517845</td>\n",
       "      <td>0.157091</td>\n",
       "      <td>0.439827</td>\n",
       "      <td>0.816071</td>\n",
       "      <td>0.0</td>\n",
       "      <td>0.0</td>\n",
       "      <td>0.0</td>\n",
       "      <td>...</td>\n",
       "      <td>0.237495</td>\n",
       "      <td>0.196492</td>\n",
       "      <td>0.708818</td>\n",
       "      <td>0.117700</td>\n",
       "      <td>0.187419</td>\n",
       "      <td>0.0</td>\n",
       "      <td>0.538147</td>\n",
       "      <td>0.0</td>\n",
       "      <td>0.0</td>\n",
       "      <td>0.275990</td>\n",
       "    </tr>\n",
       "    <tr>\n",
       "      <th>...</th>\n",
       "      <td>...</td>\n",
       "      <td>...</td>\n",
       "      <td>...</td>\n",
       "      <td>...</td>\n",
       "      <td>...</td>\n",
       "      <td>...</td>\n",
       "      <td>...</td>\n",
       "      <td>...</td>\n",
       "      <td>...</td>\n",
       "      <td>...</td>\n",
       "      <td>...</td>\n",
       "      <td>...</td>\n",
       "      <td>...</td>\n",
       "      <td>...</td>\n",
       "      <td>...</td>\n",
       "      <td>...</td>\n",
       "      <td>...</td>\n",
       "      <td>...</td>\n",
       "      <td>...</td>\n",
       "      <td>...</td>\n",
       "      <td>...</td>\n",
       "    </tr>\n",
       "    <tr>\n",
       "      <th>259195</th>\n",
       "      <td>0.485034</td>\n",
       "      <td>0.0</td>\n",
       "      <td>0.056340</td>\n",
       "      <td>0.515751</td>\n",
       "      <td>0.994085</td>\n",
       "      <td>0.520004</td>\n",
       "      <td>0.640361</td>\n",
       "      <td>0.0</td>\n",
       "      <td>0.0</td>\n",
       "      <td>0.0</td>\n",
       "      <td>...</td>\n",
       "      <td>0.403941</td>\n",
       "      <td>0.696846</td>\n",
       "      <td>1.000000</td>\n",
       "      <td>0.996289</td>\n",
       "      <td>0.517805</td>\n",
       "      <td>0.0</td>\n",
       "      <td>0.414192</td>\n",
       "      <td>0.0</td>\n",
       "      <td>0.0</td>\n",
       "      <td>0.018717</td>\n",
       "    </tr>\n",
       "    <tr>\n",
       "      <th>259196</th>\n",
       "      <td>0.447224</td>\n",
       "      <td>0.0</td>\n",
       "      <td>0.056338</td>\n",
       "      <td>0.509379</td>\n",
       "      <td>0.994085</td>\n",
       "      <td>0.510481</td>\n",
       "      <td>0.640361</td>\n",
       "      <td>0.0</td>\n",
       "      <td>0.0</td>\n",
       "      <td>0.0</td>\n",
       "      <td>...</td>\n",
       "      <td>0.401381</td>\n",
       "      <td>0.695028</td>\n",
       "      <td>1.000000</td>\n",
       "      <td>0.995484</td>\n",
       "      <td>0.518674</td>\n",
       "      <td>0.0</td>\n",
       "      <td>0.414192</td>\n",
       "      <td>0.0</td>\n",
       "      <td>0.0</td>\n",
       "      <td>0.015676</td>\n",
       "    </tr>\n",
       "    <tr>\n",
       "      <th>259197</th>\n",
       "      <td>0.423251</td>\n",
       "      <td>0.0</td>\n",
       "      <td>0.056338</td>\n",
       "      <td>0.528358</td>\n",
       "      <td>0.994085</td>\n",
       "      <td>0.508101</td>\n",
       "      <td>0.640361</td>\n",
       "      <td>0.0</td>\n",
       "      <td>0.0</td>\n",
       "      <td>0.0</td>\n",
       "      <td>...</td>\n",
       "      <td>0.401571</td>\n",
       "      <td>0.694256</td>\n",
       "      <td>1.000000</td>\n",
       "      <td>0.995510</td>\n",
       "      <td>0.511131</td>\n",
       "      <td>0.0</td>\n",
       "      <td>0.414192</td>\n",
       "      <td>0.0</td>\n",
       "      <td>0.0</td>\n",
       "      <td>0.015440</td>\n",
       "    </tr>\n",
       "    <tr>\n",
       "      <th>259198</th>\n",
       "      <td>0.425407</td>\n",
       "      <td>0.0</td>\n",
       "      <td>0.056338</td>\n",
       "      <td>0.520068</td>\n",
       "      <td>0.993949</td>\n",
       "      <td>0.522157</td>\n",
       "      <td>0.640361</td>\n",
       "      <td>0.0</td>\n",
       "      <td>0.0</td>\n",
       "      <td>0.0</td>\n",
       "      <td>...</td>\n",
       "      <td>0.401590</td>\n",
       "      <td>0.693797</td>\n",
       "      <td>1.000000</td>\n",
       "      <td>0.995761</td>\n",
       "      <td>0.510014</td>\n",
       "      <td>0.0</td>\n",
       "      <td>0.414192</td>\n",
       "      <td>0.0</td>\n",
       "      <td>0.0</td>\n",
       "      <td>0.014318</td>\n",
       "    </tr>\n",
       "    <tr>\n",
       "      <th>259199</th>\n",
       "      <td>0.442746</td>\n",
       "      <td>0.0</td>\n",
       "      <td>0.056338</td>\n",
       "      <td>0.511436</td>\n",
       "      <td>0.994003</td>\n",
       "      <td>0.539590</td>\n",
       "      <td>0.640361</td>\n",
       "      <td>0.0</td>\n",
       "      <td>0.0</td>\n",
       "      <td>0.0</td>\n",
       "      <td>...</td>\n",
       "      <td>0.404723</td>\n",
       "      <td>0.693092</td>\n",
       "      <td>1.000000</td>\n",
       "      <td>0.994546</td>\n",
       "      <td>0.509115</td>\n",
       "      <td>0.0</td>\n",
       "      <td>0.414192</td>\n",
       "      <td>0.0</td>\n",
       "      <td>0.0</td>\n",
       "      <td>0.016060</td>\n",
       "    </tr>\n",
       "  </tbody>\n",
       "</table>\n",
       "<p>1004402 rows × 86 columns</p>\n",
       "</div>"
      ],
      "text/plain": [
       "             C01  C02       C03       C04       C05       C06       C07  C08  \\\n",
       "0       0.433107  0.0  0.056338  0.501686  0.116706  0.447955  0.816071  0.0   \n",
       "1       0.395098  0.0  0.056338  0.517560  0.121738  0.397053  0.816071  0.0   \n",
       "2       0.333267  0.0  0.056338  0.504886  0.139408  0.405431  0.816071  0.0   \n",
       "3       0.446345  0.0  0.056338  0.522383  0.154058  0.436703  0.816071  0.0   \n",
       "4       0.328324  0.0  0.056338  0.517845  0.157091  0.439827  0.816071  0.0   \n",
       "...          ...  ...       ...       ...       ...       ...       ...  ...   \n",
       "259195  0.485034  0.0  0.056340  0.515751  0.994085  0.520004  0.640361  0.0   \n",
       "259196  0.447224  0.0  0.056338  0.509379  0.994085  0.510481  0.640361  0.0   \n",
       "259197  0.423251  0.0  0.056338  0.528358  0.994085  0.508101  0.640361  0.0   \n",
       "259198  0.425407  0.0  0.056338  0.520068  0.993949  0.522157  0.640361  0.0   \n",
       "259199  0.442746  0.0  0.056338  0.511436  0.994003  0.539590  0.640361  0.0   \n",
       "\n",
       "        C09  C10  ...       C77       C78       C79       C80       C81  C82  \\\n",
       "0       0.0  0.0  ...  0.240561  0.194185  0.708818  0.183693  0.169066  0.0   \n",
       "1       0.0  0.0  ...  0.240561  0.194535  0.708818  0.165517  0.168332  0.0   \n",
       "2       0.0  0.0  ...  0.238319  0.195226  0.708818  0.141083  0.180570  0.0   \n",
       "3       0.0  0.0  ...  0.236754  0.196440  0.708818  0.125447  0.187292  0.0   \n",
       "4       0.0  0.0  ...  0.237495  0.196492  0.708818  0.117700  0.187419  0.0   \n",
       "...     ...  ...  ...       ...       ...       ...       ...       ...  ...   \n",
       "259195  0.0  0.0  ...  0.403941  0.696846  1.000000  0.996289  0.517805  0.0   \n",
       "259196  0.0  0.0  ...  0.401381  0.695028  1.000000  0.995484  0.518674  0.0   \n",
       "259197  0.0  0.0  ...  0.401571  0.694256  1.000000  0.995510  0.511131  0.0   \n",
       "259198  0.0  0.0  ...  0.401590  0.693797  1.000000  0.995761  0.510014  0.0   \n",
       "259199  0.0  0.0  ...  0.404723  0.693092  1.000000  0.994546  0.509115  0.0   \n",
       "\n",
       "             C83  C84  C85       C86  \n",
       "0       0.538147  0.0  0.0  0.276078  \n",
       "1       0.538147  0.0  0.0  0.275176  \n",
       "2       0.538147  0.0  0.0  0.274889  \n",
       "3       0.538147  0.0  0.0  0.277264  \n",
       "4       0.538147  0.0  0.0  0.275990  \n",
       "...          ...  ...  ...       ...  \n",
       "259195  0.414192  0.0  0.0  0.018717  \n",
       "259196  0.414192  0.0  0.0  0.015676  \n",
       "259197  0.414192  0.0  0.0  0.015440  \n",
       "259198  0.414192  0.0  0.0  0.014318  \n",
       "259199  0.414192  0.0  0.0  0.016060  \n",
       "\n",
       "[1004402 rows x 86 columns]"
      ]
     },
     "execution_count": 14,
     "metadata": {},
     "output_type": "execute_result"
    }
   ],
   "source": [
    "TRAIN_DF = normalize(TRAIN_DF_RAW[VALID_COLUMNS_IN_TRAIN_DATASET]).ewm(alpha=0.9).mean()\n",
    "TRAIN_DF"
   ]
  },
  {
   "cell_type": "code",
   "execution_count": 15,
   "id": "9cf8cf19",
   "metadata": {
    "ExecuteTime": {
     "end_time": "2021-09-01T11:55:25.040729Z",
     "start_time": "2021-09-01T11:52:31.479329Z"
    }
   },
   "outputs": [
    {
     "data": {
      "application/vnd.jupyter.widget-view+json": {
       "model_id": "94baaea6a1704ab8bbe2fe85ac0801ac",
       "version_major": 2,
       "version_minor": 0
      },
      "text/plain": [
       "HBox(children=(FloatProgress(value=0.0, max=1004312.0), HTML(value='')))"
      ]
     },
     "metadata": {},
     "output_type": "display_data"
    },
    {
     "name": "stdout",
     "output_type": "stream",
     "text": [
      "\n",
      "# of valid windows: 1003862\n"
     ]
    },
    {
     "data": {
      "text/plain": [
       "{'ts': '2021-07-11 10:01:30',\n",
       " 'given': tensor([[0.4331, 0.0000, 0.0563,  ..., 0.0000, 0.0000, 0.2761],\n",
       "         [0.3951, 0.0000, 0.0563,  ..., 0.0000, 0.0000, 0.2752],\n",
       "         [0.3333, 0.0000, 0.0563,  ..., 0.0000, 0.0000, 0.2749],\n",
       "         ...,\n",
       "         [0.4451, 0.0000, 0.0562,  ..., 0.0000, 0.0000, 0.0091],\n",
       "         [0.3477, 0.0000, 0.0563,  ..., 0.0000, 0.0000, 0.0091],\n",
       "         [0.3711, 0.0000, 0.0563,  ..., 0.0000, 0.0000, 0.0091]])}"
      ]
     },
     "execution_count": 15,
     "metadata": {},
     "output_type": "execute_result"
    }
   ],
   "source": [
    "HAI_DATASET_TRAIN = HaiDataset(TRAIN_DF_RAW[TIMESTAMP_FIELD], TRAIN_DF, stride=1)\n",
    "HAI_DATASET_TRAIN[0]"
   ]
  },
  {
   "cell_type": "markdown",
   "id": "b8d7bdd6",
   "metadata": {},
   "source": [
    "## VALIDATION"
   ]
  },
  {
   "cell_type": "code",
   "execution_count": 16,
   "id": "e97b1c3d",
   "metadata": {
    "ExecuteTime": {
     "end_time": "2021-09-01T11:55:25.996615Z",
     "start_time": "2021-09-01T11:55:25.267767Z"
    }
   },
   "outputs": [
    {
     "data": {
      "text/html": [
       "<div>\n",
       "<style scoped>\n",
       "    .dataframe tbody tr th:only-of-type {\n",
       "        vertical-align: middle;\n",
       "    }\n",
       "\n",
       "    .dataframe tbody tr th {\n",
       "        vertical-align: top;\n",
       "    }\n",
       "\n",
       "    .dataframe thead th {\n",
       "        text-align: right;\n",
       "    }\n",
       "</style>\n",
       "<table border=\"1\" class=\"dataframe\">\n",
       "  <thead>\n",
       "    <tr style=\"text-align: right;\">\n",
       "      <th></th>\n",
       "      <th>timestamp</th>\n",
       "      <th>C01</th>\n",
       "      <th>C02</th>\n",
       "      <th>C03</th>\n",
       "      <th>C04</th>\n",
       "      <th>C05</th>\n",
       "      <th>C06</th>\n",
       "      <th>C07</th>\n",
       "      <th>C08</th>\n",
       "      <th>C09</th>\n",
       "      <th>...</th>\n",
       "      <th>C78</th>\n",
       "      <th>C79</th>\n",
       "      <th>C80</th>\n",
       "      <th>C81</th>\n",
       "      <th>C82</th>\n",
       "      <th>C83</th>\n",
       "      <th>C84</th>\n",
       "      <th>C85</th>\n",
       "      <th>C86</th>\n",
       "      <th>attack</th>\n",
       "    </tr>\n",
       "  </thead>\n",
       "  <tbody>\n",
       "    <tr>\n",
       "      <th>0</th>\n",
       "      <td>2021-07-10 00:00:01</td>\n",
       "      <td>-2.0395</td>\n",
       "      <td>0</td>\n",
       "      <td>11.78894</td>\n",
       "      <td>0.00058</td>\n",
       "      <td>16.32080</td>\n",
       "      <td>0.4010</td>\n",
       "      <td>12.903438</td>\n",
       "      <td>70</td>\n",
       "      <td>1</td>\n",
       "      <td>...</td>\n",
       "      <td>31.52100</td>\n",
       "      <td>0.716042</td>\n",
       "      <td>386.51172</td>\n",
       "      <td>356.64423</td>\n",
       "      <td>1</td>\n",
       "      <td>1034.712769</td>\n",
       "      <td>12.0</td>\n",
       "      <td>50</td>\n",
       "      <td>161</td>\n",
       "      <td>0</td>\n",
       "    </tr>\n",
       "    <tr>\n",
       "      <th>1</th>\n",
       "      <td>2021-07-10 00:00:02</td>\n",
       "      <td>-2.1750</td>\n",
       "      <td>0</td>\n",
       "      <td>11.78894</td>\n",
       "      <td>-0.00282</td>\n",
       "      <td>15.95459</td>\n",
       "      <td>0.4187</td>\n",
       "      <td>12.903438</td>\n",
       "      <td>70</td>\n",
       "      <td>1</td>\n",
       "      <td>...</td>\n",
       "      <td>31.51756</td>\n",
       "      <td>0.716042</td>\n",
       "      <td>411.33905</td>\n",
       "      <td>352.08698</td>\n",
       "      <td>1</td>\n",
       "      <td>1034.712769</td>\n",
       "      <td>12.0</td>\n",
       "      <td>50</td>\n",
       "      <td>155</td>\n",
       "      <td>0</td>\n",
       "    </tr>\n",
       "    <tr>\n",
       "      <th>2</th>\n",
       "      <td>2021-07-10 00:00:03</td>\n",
       "      <td>-2.5854</td>\n",
       "      <td>0</td>\n",
       "      <td>11.78131</td>\n",
       "      <td>-0.00398</td>\n",
       "      <td>14.79492</td>\n",
       "      <td>0.0691</td>\n",
       "      <td>12.903438</td>\n",
       "      <td>70</td>\n",
       "      <td>1</td>\n",
       "      <td>...</td>\n",
       "      <td>31.50269</td>\n",
       "      <td>0.716042</td>\n",
       "      <td>438.15259</td>\n",
       "      <td>347.63818</td>\n",
       "      <td>1</td>\n",
       "      <td>1034.712769</td>\n",
       "      <td>12.0</td>\n",
       "      <td>50</td>\n",
       "      <td>149</td>\n",
       "      <td>0</td>\n",
       "    </tr>\n",
       "    <tr>\n",
       "      <th>3</th>\n",
       "      <td>2021-07-10 00:00:04</td>\n",
       "      <td>-2.4722</td>\n",
       "      <td>0</td>\n",
       "      <td>11.78894</td>\n",
       "      <td>-0.00152</td>\n",
       "      <td>14.72626</td>\n",
       "      <td>0.3306</td>\n",
       "      <td>12.903438</td>\n",
       "      <td>70</td>\n",
       "      <td>1</td>\n",
       "      <td>...</td>\n",
       "      <td>31.47942</td>\n",
       "      <td>0.716042</td>\n",
       "      <td>465.95908</td>\n",
       "      <td>340.33203</td>\n",
       "      <td>1</td>\n",
       "      <td>1034.712769</td>\n",
       "      <td>12.0</td>\n",
       "      <td>50</td>\n",
       "      <td>148</td>\n",
       "      <td>0</td>\n",
       "    </tr>\n",
       "    <tr>\n",
       "      <th>4</th>\n",
       "      <td>2021-07-10 00:00:05</td>\n",
       "      <td>-2.2319</td>\n",
       "      <td>0</td>\n",
       "      <td>11.78131</td>\n",
       "      <td>0.00072</td>\n",
       "      <td>14.78729</td>\n",
       "      <td>0.2150</td>\n",
       "      <td>12.903438</td>\n",
       "      <td>70</td>\n",
       "      <td>1</td>\n",
       "      <td>...</td>\n",
       "      <td>31.47942</td>\n",
       "      <td>0.716042</td>\n",
       "      <td>452.05582</td>\n",
       "      <td>335.17798</td>\n",
       "      <td>1</td>\n",
       "      <td>1034.712769</td>\n",
       "      <td>12.0</td>\n",
       "      <td>50</td>\n",
       "      <td>148</td>\n",
       "      <td>0</td>\n",
       "    </tr>\n",
       "    <tr>\n",
       "      <th>...</th>\n",
       "      <td>...</td>\n",
       "      <td>...</td>\n",
       "      <td>...</td>\n",
       "      <td>...</td>\n",
       "      <td>...</td>\n",
       "      <td>...</td>\n",
       "      <td>...</td>\n",
       "      <td>...</td>\n",
       "      <td>...</td>\n",
       "      <td>...</td>\n",
       "      <td>...</td>\n",
       "      <td>...</td>\n",
       "      <td>...</td>\n",
       "      <td>...</td>\n",
       "      <td>...</td>\n",
       "      <td>...</td>\n",
       "      <td>...</td>\n",
       "      <td>...</td>\n",
       "      <td>...</td>\n",
       "      <td>...</td>\n",
       "      <td>...</td>\n",
       "    </tr>\n",
       "    <tr>\n",
       "      <th>86395</th>\n",
       "      <td>2021-07-10 23:59:56</td>\n",
       "      <td>-2.8150</td>\n",
       "      <td>0</td>\n",
       "      <td>12.26196</td>\n",
       "      <td>0.00130</td>\n",
       "      <td>15.53497</td>\n",
       "      <td>-0.0507</td>\n",
       "      <td>12.669310</td>\n",
       "      <td>70</td>\n",
       "      <td>1</td>\n",
       "      <td>...</td>\n",
       "      <td>31.79814</td>\n",
       "      <td>0.716042</td>\n",
       "      <td>1193.48230</td>\n",
       "      <td>347.58386</td>\n",
       "      <td>1</td>\n",
       "      <td>1018.394040</td>\n",
       "      <td>12.0</td>\n",
       "      <td>50</td>\n",
       "      <td>7</td>\n",
       "      <td>0</td>\n",
       "    </tr>\n",
       "    <tr>\n",
       "      <th>86396</th>\n",
       "      <td>2021-07-10 23:59:57</td>\n",
       "      <td>-2.6272</td>\n",
       "      <td>0</td>\n",
       "      <td>12.26196</td>\n",
       "      <td>0.00109</td>\n",
       "      <td>15.53497</td>\n",
       "      <td>0.1829</td>\n",
       "      <td>12.669310</td>\n",
       "      <td>70</td>\n",
       "      <td>1</td>\n",
       "      <td>...</td>\n",
       "      <td>31.79738</td>\n",
       "      <td>0.716042</td>\n",
       "      <td>1179.76929</td>\n",
       "      <td>348.03607</td>\n",
       "      <td>1</td>\n",
       "      <td>1018.394040</td>\n",
       "      <td>12.0</td>\n",
       "      <td>50</td>\n",
       "      <td>7</td>\n",
       "      <td>0</td>\n",
       "    </tr>\n",
       "    <tr>\n",
       "      <th>86397</th>\n",
       "      <td>2021-07-10 23:59:58</td>\n",
       "      <td>-2.3564</td>\n",
       "      <td>0</td>\n",
       "      <td>12.26196</td>\n",
       "      <td>-0.00101</td>\n",
       "      <td>15.53497</td>\n",
       "      <td>0.2907</td>\n",
       "      <td>12.669310</td>\n",
       "      <td>70</td>\n",
       "      <td>1</td>\n",
       "      <td>...</td>\n",
       "      <td>31.78784</td>\n",
       "      <td>0.716042</td>\n",
       "      <td>1152.66187</td>\n",
       "      <td>348.81366</td>\n",
       "      <td>1</td>\n",
       "      <td>1018.394040</td>\n",
       "      <td>12.0</td>\n",
       "      <td>50</td>\n",
       "      <td>7</td>\n",
       "      <td>0</td>\n",
       "    </tr>\n",
       "    <tr>\n",
       "      <th>86398</th>\n",
       "      <td>2021-07-10 23:59:59</td>\n",
       "      <td>-2.1541</td>\n",
       "      <td>0</td>\n",
       "      <td>12.26196</td>\n",
       "      <td>-0.00166</td>\n",
       "      <td>15.53497</td>\n",
       "      <td>0.3280</td>\n",
       "      <td>12.669310</td>\n",
       "      <td>70</td>\n",
       "      <td>1</td>\n",
       "      <td>...</td>\n",
       "      <td>31.77029</td>\n",
       "      <td>0.716042</td>\n",
       "      <td>1130.65723</td>\n",
       "      <td>349.13916</td>\n",
       "      <td>1</td>\n",
       "      <td>1018.394040</td>\n",
       "      <td>12.0</td>\n",
       "      <td>50</td>\n",
       "      <td>7</td>\n",
       "      <td>0</td>\n",
       "    </tr>\n",
       "    <tr>\n",
       "      <th>86399</th>\n",
       "      <td>2021-07-11 00:00:00</td>\n",
       "      <td>-2.0198</td>\n",
       "      <td>0</td>\n",
       "      <td>12.26196</td>\n",
       "      <td>-0.00195</td>\n",
       "      <td>15.53497</td>\n",
       "      <td>0.3280</td>\n",
       "      <td>12.669310</td>\n",
       "      <td>70</td>\n",
       "      <td>1</td>\n",
       "      <td>...</td>\n",
       "      <td>31.76915</td>\n",
       "      <td>0.716042</td>\n",
       "      <td>1106.10132</td>\n",
       "      <td>346.82434</td>\n",
       "      <td>1</td>\n",
       "      <td>1018.394040</td>\n",
       "      <td>12.0</td>\n",
       "      <td>50</td>\n",
       "      <td>7</td>\n",
       "      <td>0</td>\n",
       "    </tr>\n",
       "  </tbody>\n",
       "</table>\n",
       "<p>86400 rows × 88 columns</p>\n",
       "</div>"
      ],
      "text/plain": [
       "                 timestamp     C01  C02       C03      C04       C05     C06  \\\n",
       "0      2021-07-10 00:00:01 -2.0395    0  11.78894  0.00058  16.32080  0.4010   \n",
       "1      2021-07-10 00:00:02 -2.1750    0  11.78894 -0.00282  15.95459  0.4187   \n",
       "2      2021-07-10 00:00:03 -2.5854    0  11.78131 -0.00398  14.79492  0.0691   \n",
       "3      2021-07-10 00:00:04 -2.4722    0  11.78894 -0.00152  14.72626  0.3306   \n",
       "4      2021-07-10 00:00:05 -2.2319    0  11.78131  0.00072  14.78729  0.2150   \n",
       "...                    ...     ...  ...       ...      ...       ...     ...   \n",
       "86395  2021-07-10 23:59:56 -2.8150    0  12.26196  0.00130  15.53497 -0.0507   \n",
       "86396  2021-07-10 23:59:57 -2.6272    0  12.26196  0.00109  15.53497  0.1829   \n",
       "86397  2021-07-10 23:59:58 -2.3564    0  12.26196 -0.00101  15.53497  0.2907   \n",
       "86398  2021-07-10 23:59:59 -2.1541    0  12.26196 -0.00166  15.53497  0.3280   \n",
       "86399  2021-07-11 00:00:00 -2.0198    0  12.26196 -0.00195  15.53497  0.3280   \n",
       "\n",
       "             C07  C08  C09  ...       C78       C79         C80        C81  \\\n",
       "0      12.903438   70    1  ...  31.52100  0.716042   386.51172  356.64423   \n",
       "1      12.903438   70    1  ...  31.51756  0.716042   411.33905  352.08698   \n",
       "2      12.903438   70    1  ...  31.50269  0.716042   438.15259  347.63818   \n",
       "3      12.903438   70    1  ...  31.47942  0.716042   465.95908  340.33203   \n",
       "4      12.903438   70    1  ...  31.47942  0.716042   452.05582  335.17798   \n",
       "...          ...  ...  ...  ...       ...       ...         ...        ...   \n",
       "86395  12.669310   70    1  ...  31.79814  0.716042  1193.48230  347.58386   \n",
       "86396  12.669310   70    1  ...  31.79738  0.716042  1179.76929  348.03607   \n",
       "86397  12.669310   70    1  ...  31.78784  0.716042  1152.66187  348.81366   \n",
       "86398  12.669310   70    1  ...  31.77029  0.716042  1130.65723  349.13916   \n",
       "86399  12.669310   70    1  ...  31.76915  0.716042  1106.10132  346.82434   \n",
       "\n",
       "       C82          C83   C84  C85  C86  attack  \n",
       "0        1  1034.712769  12.0   50  161       0  \n",
       "1        1  1034.712769  12.0   50  155       0  \n",
       "2        1  1034.712769  12.0   50  149       0  \n",
       "3        1  1034.712769  12.0   50  148       0  \n",
       "4        1  1034.712769  12.0   50  148       0  \n",
       "...    ...          ...   ...  ...  ...     ...  \n",
       "86395    1  1018.394040  12.0   50    7       0  \n",
       "86396    1  1018.394040  12.0   50    7       0  \n",
       "86397    1  1018.394040  12.0   50    7       0  \n",
       "86398    1  1018.394040  12.0   50    7       0  \n",
       "86399    1  1018.394040  12.0   50    7       0  \n",
       "\n",
       "[86400 rows x 88 columns]"
      ]
     },
     "execution_count": 16,
     "metadata": {},
     "output_type": "execute_result"
    }
   ],
   "source": [
    "VALIDATION_DF_RAW = dataframe_from_csvs(VALIDATION_DATASET)\n",
    "VALIDATION_DF_RAW"
   ]
  },
  {
   "cell_type": "code",
   "execution_count": 17,
   "id": "af385b09",
   "metadata": {
    "ExecuteTime": {
     "end_time": "2021-09-01T11:55:26.405272Z",
     "start_time": "2021-09-01T11:55:26.275837Z"
    }
   },
   "outputs": [],
   "source": [
    "VALIDATION_DF = normalize(VALIDATION_DF_RAW[VALID_COLUMNS_IN_TRAIN_DATASET])"
   ]
  },
  {
   "cell_type": "code",
   "execution_count": 18,
   "id": "175074d4",
   "metadata": {
    "ExecuteTime": {
     "end_time": "2021-09-01T11:55:41.780185Z",
     "start_time": "2021-09-01T11:55:26.744011Z"
    }
   },
   "outputs": [
    {
     "data": {
      "application/vnd.jupyter.widget-view+json": {
       "model_id": "d11dd6c081374a039b1729cddc93a35d",
       "version_major": 2,
       "version_minor": 0
      },
      "text/plain": [
       "HBox(children=(FloatProgress(value=0.0, max=86310.0), HTML(value='')))"
      ]
     },
     "metadata": {},
     "output_type": "display_data"
    },
    {
     "name": "stdout",
     "output_type": "stream",
     "text": [
      "\n",
      "# of valid windows: 86310\n"
     ]
    },
    {
     "data": {
      "text/plain": [
       "{'attack': array([0., 0., 0., 0., 0., 0., 0., 0., 0., 0., 0., 0., 0., 0., 0., 0., 0.,\n",
       "        0., 0., 0., 0., 0., 0., 0., 0., 0., 0., 0., 0., 0., 0., 0., 0., 0.,\n",
       "        0., 0., 0., 0., 0., 0., 0., 0., 0., 0., 0., 0., 0., 0., 0., 0., 0.,\n",
       "        0., 0., 0., 0., 0., 0., 0., 0., 0., 0., 0., 0., 0., 0., 0., 0., 0.,\n",
       "        0., 0., 0., 0., 0., 0., 0., 0., 0., 0., 0., 0., 0., 0., 0., 0., 0.,\n",
       "        0., 0., 0., 0., 0.], dtype=float32),\n",
       " 'ts': '2021-07-10 00:01:31',\n",
       " 'given': tensor([[ 0.4743,  0.0000, -0.0407,  ...,  0.0000,  0.0000,  0.0208],\n",
       "         [ 0.4495,  0.0000, -0.0407,  ...,  0.0000,  0.0000,  0.0204],\n",
       "         [ 0.3742,  0.0000, -0.0423,  ...,  0.0000,  0.0000,  0.0199],\n",
       "         ...,\n",
       "         [ 0.4637,  0.0000, -0.0407,  ...,  0.0000,  0.0000,  0.0090],\n",
       "         [ 0.4752,  0.0000, -0.0407,  ...,  0.0000,  0.0000,  0.0090],\n",
       "         [ 0.3239,  0.0000, -0.0407,  ...,  0.0000,  0.0000,  0.0090]])}"
      ]
     },
     "execution_count": 18,
     "metadata": {},
     "output_type": "execute_result"
    }
   ],
   "source": [
    "HAI_DATASET_VALIDATION = HaiDataset(\n",
    "    VALIDATION_DF_RAW[TIMESTAMP_FIELD], \n",
    "    VALIDATION_DF, \n",
    "    attacks=VALIDATION_DF_RAW[ATTACK_FIELD],\n",
    "    #stride = 90\n",
    "    stride = 1\n",
    ")\n",
    "HAI_DATASET_VALIDATION[0]"
   ]
  },
  {
   "cell_type": "code",
   "execution_count": 19,
   "id": "002e6284",
   "metadata": {
    "ExecuteTime": {
     "end_time": "2021-09-01T11:55:42.119826Z",
     "start_time": "2021-09-01T11:55:42.101522Z"
    }
   },
   "outputs": [
    {
     "data": {
      "text/plain": [
       "(True, True, False)"
      ]
     },
     "execution_count": 19,
     "metadata": {},
     "output_type": "execute_result"
    }
   ],
   "source": [
    "boundary_check(VALIDATION_DF)"
   ]
  },
  {
   "cell_type": "markdown",
   "id": "686a7cc6",
   "metadata": {},
   "source": [
    "## TEST"
   ]
  },
  {
   "cell_type": "code",
   "execution_count": 20,
   "id": "fa8bee28",
   "metadata": {
    "ExecuteTime": {
     "end_time": "2021-09-01T11:58:03.313390Z",
     "start_time": "2021-09-01T11:58:01.107431Z"
    }
   },
   "outputs": [
    {
     "data": {
      "text/html": [
       "<div>\n",
       "<style scoped>\n",
       "    .dataframe tbody tr th:only-of-type {\n",
       "        vertical-align: middle;\n",
       "    }\n",
       "\n",
       "    .dataframe tbody tr th {\n",
       "        vertical-align: top;\n",
       "    }\n",
       "\n",
       "    .dataframe thead th {\n",
       "        text-align: right;\n",
       "    }\n",
       "</style>\n",
       "<table border=\"1\" class=\"dataframe\">\n",
       "  <thead>\n",
       "    <tr style=\"text-align: right;\">\n",
       "      <th></th>\n",
       "      <th>timestamp</th>\n",
       "      <th>C01</th>\n",
       "      <th>C02</th>\n",
       "      <th>C03</th>\n",
       "      <th>C04</th>\n",
       "      <th>C05</th>\n",
       "      <th>C06</th>\n",
       "      <th>C07</th>\n",
       "      <th>C08</th>\n",
       "      <th>C09</th>\n",
       "      <th>...</th>\n",
       "      <th>C77</th>\n",
       "      <th>C78</th>\n",
       "      <th>C79</th>\n",
       "      <th>C80</th>\n",
       "      <th>C81</th>\n",
       "      <th>C82</th>\n",
       "      <th>C83</th>\n",
       "      <th>C84</th>\n",
       "      <th>C85</th>\n",
       "      <th>C86</th>\n",
       "    </tr>\n",
       "  </thead>\n",
       "  <tbody>\n",
       "    <tr>\n",
       "      <th>0</th>\n",
       "      <td>2021-07-13 16:00:01</td>\n",
       "      <td>-2.1424</td>\n",
       "      <td>0</td>\n",
       "      <td>12.37640</td>\n",
       "      <td>-0.00275</td>\n",
       "      <td>8.02002</td>\n",
       "      <td>0.1524</td>\n",
       "      <td>12.58874</td>\n",
       "      <td>70</td>\n",
       "      <td>1</td>\n",
       "      <td>...</td>\n",
       "      <td>1.13464</td>\n",
       "      <td>29.09910</td>\n",
       "      <td>2.85153</td>\n",
       "      <td>227.61664</td>\n",
       "      <td>333.51416</td>\n",
       "      <td>1</td>\n",
       "      <td>981.36951</td>\n",
       "      <td>12.0</td>\n",
       "      <td>50</td>\n",
       "      <td>2100</td>\n",
       "    </tr>\n",
       "    <tr>\n",
       "      <th>1</th>\n",
       "      <td>2021-07-13 16:00:02</td>\n",
       "      <td>-2.0449</td>\n",
       "      <td>0</td>\n",
       "      <td>12.37640</td>\n",
       "      <td>-0.00087</td>\n",
       "      <td>8.02002</td>\n",
       "      <td>0.1281</td>\n",
       "      <td>12.58874</td>\n",
       "      <td>70</td>\n",
       "      <td>1</td>\n",
       "      <td>...</td>\n",
       "      <td>1.13312</td>\n",
       "      <td>29.14869</td>\n",
       "      <td>2.85153</td>\n",
       "      <td>231.58908</td>\n",
       "      <td>340.18738</td>\n",
       "      <td>1</td>\n",
       "      <td>981.36951</td>\n",
       "      <td>12.0</td>\n",
       "      <td>50</td>\n",
       "      <td>2165</td>\n",
       "    </tr>\n",
       "    <tr>\n",
       "      <th>2</th>\n",
       "      <td>2021-07-13 16:00:03</td>\n",
       "      <td>-2.1287</td>\n",
       "      <td>0</td>\n",
       "      <td>12.37640</td>\n",
       "      <td>-0.00260</td>\n",
       "      <td>8.02002</td>\n",
       "      <td>0.0148</td>\n",
       "      <td>12.58874</td>\n",
       "      <td>70</td>\n",
       "      <td>1</td>\n",
       "      <td>...</td>\n",
       "      <td>1.13388</td>\n",
       "      <td>29.18836</td>\n",
       "      <td>2.85153</td>\n",
       "      <td>229.60286</td>\n",
       "      <td>347.14990</td>\n",
       "      <td>1</td>\n",
       "      <td>981.36951</td>\n",
       "      <td>12.0</td>\n",
       "      <td>50</td>\n",
       "      <td>2209</td>\n",
       "    </tr>\n",
       "    <tr>\n",
       "      <th>3</th>\n",
       "      <td>2021-07-13 16:00:04</td>\n",
       "      <td>-2.1287</td>\n",
       "      <td>0</td>\n",
       "      <td>12.37640</td>\n",
       "      <td>-0.00282</td>\n",
       "      <td>8.02002</td>\n",
       "      <td>0.0148</td>\n",
       "      <td>12.58874</td>\n",
       "      <td>70</td>\n",
       "      <td>1</td>\n",
       "      <td>...</td>\n",
       "      <td>1.13541</td>\n",
       "      <td>29.24558</td>\n",
       "      <td>2.85153</td>\n",
       "      <td>229.60286</td>\n",
       "      <td>355.90277</td>\n",
       "      <td>1</td>\n",
       "      <td>981.36951</td>\n",
       "      <td>12.0</td>\n",
       "      <td>50</td>\n",
       "      <td>2233</td>\n",
       "    </tr>\n",
       "    <tr>\n",
       "      <th>4</th>\n",
       "      <td>2021-07-13 16:00:05</td>\n",
       "      <td>-2.5969</td>\n",
       "      <td>0</td>\n",
       "      <td>12.37640</td>\n",
       "      <td>0.00058</td>\n",
       "      <td>8.02002</td>\n",
       "      <td>-0.2225</td>\n",
       "      <td>12.58874</td>\n",
       "      <td>70</td>\n",
       "      <td>1</td>\n",
       "      <td>...</td>\n",
       "      <td>1.13541</td>\n",
       "      <td>29.24558</td>\n",
       "      <td>2.85153</td>\n",
       "      <td>222.65125</td>\n",
       "      <td>358.23566</td>\n",
       "      <td>1</td>\n",
       "      <td>981.36951</td>\n",
       "      <td>12.0</td>\n",
       "      <td>50</td>\n",
       "      <td>2290</td>\n",
       "    </tr>\n",
       "    <tr>\n",
       "      <th>...</th>\n",
       "      <td>...</td>\n",
       "      <td>...</td>\n",
       "      <td>...</td>\n",
       "      <td>...</td>\n",
       "      <td>...</td>\n",
       "      <td>...</td>\n",
       "      <td>...</td>\n",
       "      <td>...</td>\n",
       "      <td>...</td>\n",
       "      <td>...</td>\n",
       "      <td>...</td>\n",
       "      <td>...</td>\n",
       "      <td>...</td>\n",
       "      <td>...</td>\n",
       "      <td>...</td>\n",
       "      <td>...</td>\n",
       "      <td>...</td>\n",
       "      <td>...</td>\n",
       "      <td>...</td>\n",
       "      <td>...</td>\n",
       "      <td>...</td>\n",
       "    </tr>\n",
       "    <tr>\n",
       "      <th>129595</th>\n",
       "      <td>2021-07-16 23:59:56</td>\n",
       "      <td>-1.8328</td>\n",
       "      <td>0</td>\n",
       "      <td>12.07123</td>\n",
       "      <td>0.00036</td>\n",
       "      <td>15.03143</td>\n",
       "      <td>0.8050</td>\n",
       "      <td>12.58870</td>\n",
       "      <td>70</td>\n",
       "      <td>1</td>\n",
       "      <td>...</td>\n",
       "      <td>0.92941</td>\n",
       "      <td>29.45263</td>\n",
       "      <td>2.40398</td>\n",
       "      <td>1056.03259</td>\n",
       "      <td>373.20966</td>\n",
       "      <td>1</td>\n",
       "      <td>1015.06964</td>\n",
       "      <td>12.0</td>\n",
       "      <td>50</td>\n",
       "      <td>22</td>\n",
       "    </tr>\n",
       "    <tr>\n",
       "      <th>129596</th>\n",
       "      <td>2021-07-16 23:59:57</td>\n",
       "      <td>-1.8328</td>\n",
       "      <td>0</td>\n",
       "      <td>12.07123</td>\n",
       "      <td>-0.00470</td>\n",
       "      <td>13.74206</td>\n",
       "      <td>0.8050</td>\n",
       "      <td>12.58870</td>\n",
       "      <td>70</td>\n",
       "      <td>1</td>\n",
       "      <td>...</td>\n",
       "      <td>0.92255</td>\n",
       "      <td>29.45758</td>\n",
       "      <td>2.40398</td>\n",
       "      <td>1026.05530</td>\n",
       "      <td>376.66376</td>\n",
       "      <td>1</td>\n",
       "      <td>1015.06964</td>\n",
       "      <td>12.0</td>\n",
       "      <td>50</td>\n",
       "      <td>22</td>\n",
       "    </tr>\n",
       "    <tr>\n",
       "      <th>129597</th>\n",
       "      <td>2021-07-16 23:59:58</td>\n",
       "      <td>-1.5833</td>\n",
       "      <td>0</td>\n",
       "      <td>12.07123</td>\n",
       "      <td>-0.00130</td>\n",
       "      <td>13.64288</td>\n",
       "      <td>0.9984</td>\n",
       "      <td>12.58870</td>\n",
       "      <td>70</td>\n",
       "      <td>1</td>\n",
       "      <td>...</td>\n",
       "      <td>0.92255</td>\n",
       "      <td>29.45034</td>\n",
       "      <td>2.40398</td>\n",
       "      <td>981.37659</td>\n",
       "      <td>377.76691</td>\n",
       "      <td>1</td>\n",
       "      <td>1015.06964</td>\n",
       "      <td>12.0</td>\n",
       "      <td>50</td>\n",
       "      <td>22</td>\n",
       "    </tr>\n",
       "    <tr>\n",
       "      <th>129598</th>\n",
       "      <td>2021-07-16 23:59:59</td>\n",
       "      <td>-1.4022</td>\n",
       "      <td>0</td>\n",
       "      <td>12.07123</td>\n",
       "      <td>0.00087</td>\n",
       "      <td>13.62762</td>\n",
       "      <td>1.0595</td>\n",
       "      <td>12.58870</td>\n",
       "      <td>70</td>\n",
       "      <td>1</td>\n",
       "      <td>...</td>\n",
       "      <td>0.92255</td>\n",
       "      <td>29.43088</td>\n",
       "      <td>2.40398</td>\n",
       "      <td>919.62439</td>\n",
       "      <td>378.99664</td>\n",
       "      <td>1</td>\n",
       "      <td>1015.06964</td>\n",
       "      <td>12.0</td>\n",
       "      <td>50</td>\n",
       "      <td>22</td>\n",
       "    </tr>\n",
       "    <tr>\n",
       "      <th>129599</th>\n",
       "      <td>2021-07-17 00:00:00</td>\n",
       "      <td>-1.2356</td>\n",
       "      <td>0</td>\n",
       "      <td>12.07123</td>\n",
       "      <td>0.00051</td>\n",
       "      <td>14.77966</td>\n",
       "      <td>1.1439</td>\n",
       "      <td>12.58870</td>\n",
       "      <td>70</td>\n",
       "      <td>1</td>\n",
       "      <td>...</td>\n",
       "      <td>0.93399</td>\n",
       "      <td>29.42478</td>\n",
       "      <td>2.40398</td>\n",
       "      <td>873.09271</td>\n",
       "      <td>378.21906</td>\n",
       "      <td>1</td>\n",
       "      <td>1015.06964</td>\n",
       "      <td>12.0</td>\n",
       "      <td>50</td>\n",
       "      <td>22</td>\n",
       "    </tr>\n",
       "  </tbody>\n",
       "</table>\n",
       "<p>274800 rows × 87 columns</p>\n",
       "</div>"
      ],
      "text/plain": [
       "                  timestamp     C01  C02       C03      C04       C05     C06  \\\n",
       "0       2021-07-13 16:00:01 -2.1424    0  12.37640 -0.00275   8.02002  0.1524   \n",
       "1       2021-07-13 16:00:02 -2.0449    0  12.37640 -0.00087   8.02002  0.1281   \n",
       "2       2021-07-13 16:00:03 -2.1287    0  12.37640 -0.00260   8.02002  0.0148   \n",
       "3       2021-07-13 16:00:04 -2.1287    0  12.37640 -0.00282   8.02002  0.0148   \n",
       "4       2021-07-13 16:00:05 -2.5969    0  12.37640  0.00058   8.02002 -0.2225   \n",
       "...                     ...     ...  ...       ...      ...       ...     ...   \n",
       "129595  2021-07-16 23:59:56 -1.8328    0  12.07123  0.00036  15.03143  0.8050   \n",
       "129596  2021-07-16 23:59:57 -1.8328    0  12.07123 -0.00470  13.74206  0.8050   \n",
       "129597  2021-07-16 23:59:58 -1.5833    0  12.07123 -0.00130  13.64288  0.9984   \n",
       "129598  2021-07-16 23:59:59 -1.4022    0  12.07123  0.00087  13.62762  1.0595   \n",
       "129599  2021-07-17 00:00:00 -1.2356    0  12.07123  0.00051  14.77966  1.1439   \n",
       "\n",
       "             C07  C08  C09  ...      C77       C78      C79         C80  \\\n",
       "0       12.58874   70    1  ...  1.13464  29.09910  2.85153   227.61664   \n",
       "1       12.58874   70    1  ...  1.13312  29.14869  2.85153   231.58908   \n",
       "2       12.58874   70    1  ...  1.13388  29.18836  2.85153   229.60286   \n",
       "3       12.58874   70    1  ...  1.13541  29.24558  2.85153   229.60286   \n",
       "4       12.58874   70    1  ...  1.13541  29.24558  2.85153   222.65125   \n",
       "...          ...  ...  ...  ...      ...       ...      ...         ...   \n",
       "129595  12.58870   70    1  ...  0.92941  29.45263  2.40398  1056.03259   \n",
       "129596  12.58870   70    1  ...  0.92255  29.45758  2.40398  1026.05530   \n",
       "129597  12.58870   70    1  ...  0.92255  29.45034  2.40398   981.37659   \n",
       "129598  12.58870   70    1  ...  0.92255  29.43088  2.40398   919.62439   \n",
       "129599  12.58870   70    1  ...  0.93399  29.42478  2.40398   873.09271   \n",
       "\n",
       "              C81  C82         C83   C84  C85   C86  \n",
       "0       333.51416    1   981.36951  12.0   50  2100  \n",
       "1       340.18738    1   981.36951  12.0   50  2165  \n",
       "2       347.14990    1   981.36951  12.0   50  2209  \n",
       "3       355.90277    1   981.36951  12.0   50  2233  \n",
       "4       358.23566    1   981.36951  12.0   50  2290  \n",
       "...           ...  ...         ...   ...  ...   ...  \n",
       "129595  373.20966    1  1015.06964  12.0   50    22  \n",
       "129596  376.66376    1  1015.06964  12.0   50    22  \n",
       "129597  377.76691    1  1015.06964  12.0   50    22  \n",
       "129598  378.99664    1  1015.06964  12.0   50    22  \n",
       "129599  378.21906    1  1015.06964  12.0   50    22  \n",
       "\n",
       "[274800 rows x 87 columns]"
      ]
     },
     "execution_count": 20,
     "metadata": {},
     "output_type": "execute_result"
    }
   ],
   "source": [
    "TEST_DF_RAW = dataframe_from_csvs(TEST_DATASET)\n",
    "TEST_DF_RAW"
   ]
  },
  {
   "cell_type": "code",
   "execution_count": 21,
   "id": "79da303a",
   "metadata": {
    "ExecuteTime": {
     "end_time": "2021-09-01T11:58:04.471112Z",
     "start_time": "2021-09-01T11:58:03.752937Z"
    }
   },
   "outputs": [
    {
     "data": {
      "text/html": [
       "<div>\n",
       "<style scoped>\n",
       "    .dataframe tbody tr th:only-of-type {\n",
       "        vertical-align: middle;\n",
       "    }\n",
       "\n",
       "    .dataframe tbody tr th {\n",
       "        vertical-align: top;\n",
       "    }\n",
       "\n",
       "    .dataframe thead th {\n",
       "        text-align: right;\n",
       "    }\n",
       "</style>\n",
       "<table border=\"1\" class=\"dataframe\">\n",
       "  <thead>\n",
       "    <tr style=\"text-align: right;\">\n",
       "      <th></th>\n",
       "      <th>C01</th>\n",
       "      <th>C02</th>\n",
       "      <th>C03</th>\n",
       "      <th>C04</th>\n",
       "      <th>C05</th>\n",
       "      <th>C06</th>\n",
       "      <th>C07</th>\n",
       "      <th>C08</th>\n",
       "      <th>C09</th>\n",
       "      <th>C10</th>\n",
       "      <th>...</th>\n",
       "      <th>C77</th>\n",
       "      <th>C78</th>\n",
       "      <th>C79</th>\n",
       "      <th>C80</th>\n",
       "      <th>C81</th>\n",
       "      <th>C82</th>\n",
       "      <th>C83</th>\n",
       "      <th>C84</th>\n",
       "      <th>C85</th>\n",
       "      <th>C86</th>\n",
       "    </tr>\n",
       "  </thead>\n",
       "  <tbody>\n",
       "    <tr>\n",
       "      <th>0</th>\n",
       "      <td>0.455432</td>\n",
       "      <td>0.0</td>\n",
       "      <td>0.079812</td>\n",
       "      <td>0.479046</td>\n",
       "      <td>0.077046</td>\n",
       "      <td>0.434169</td>\n",
       "      <td>0.711769</td>\n",
       "      <td>0.0</td>\n",
       "      <td>0.0</td>\n",
       "      <td>0.0</td>\n",
       "      <td>...</td>\n",
       "      <td>0.378726</td>\n",
       "      <td>0.095024</td>\n",
       "      <td>0.285153</td>\n",
       "      <td>0.068104</td>\n",
       "      <td>0.381526</td>\n",
       "      <td>0.0</td>\n",
       "      <td>0.393961</td>\n",
       "      <td>0.0</td>\n",
       "      <td>0.0</td>\n",
       "      <td>0.168791</td>\n",
       "    </tr>\n",
       "    <tr>\n",
       "      <th>1</th>\n",
       "      <td>0.471678</td>\n",
       "      <td>0.0</td>\n",
       "      <td>0.079812</td>\n",
       "      <td>0.499628</td>\n",
       "      <td>0.077046</td>\n",
       "      <td>0.429998</td>\n",
       "      <td>0.711769</td>\n",
       "      <td>0.0</td>\n",
       "      <td>0.0</td>\n",
       "      <td>0.0</td>\n",
       "      <td>...</td>\n",
       "      <td>0.377826</td>\n",
       "      <td>0.099579</td>\n",
       "      <td>0.285153</td>\n",
       "      <td>0.069240</td>\n",
       "      <td>0.404094</td>\n",
       "      <td>0.0</td>\n",
       "      <td>0.393961</td>\n",
       "      <td>0.0</td>\n",
       "      <td>0.0</td>\n",
       "      <td>0.173300</td>\n",
       "    </tr>\n",
       "    <tr>\n",
       "      <th>2</th>\n",
       "      <td>0.459304</td>\n",
       "      <td>0.0</td>\n",
       "      <td>0.079812</td>\n",
       "      <td>0.482713</td>\n",
       "      <td>0.077046</td>\n",
       "      <td>0.410346</td>\n",
       "      <td>0.711769</td>\n",
       "      <td>0.0</td>\n",
       "      <td>0.0</td>\n",
       "      <td>0.0</td>\n",
       "      <td>...</td>\n",
       "      <td>0.378191</td>\n",
       "      <td>0.103601</td>\n",
       "      <td>0.285153</td>\n",
       "      <td>0.068779</td>\n",
       "      <td>0.429462</td>\n",
       "      <td>0.0</td>\n",
       "      <td>0.393961</td>\n",
       "      <td>0.0</td>\n",
       "      <td>0.0</td>\n",
       "      <td>0.176731</td>\n",
       "    </tr>\n",
       "    <tr>\n",
       "      <th>3</th>\n",
       "      <td>0.458079</td>\n",
       "      <td>0.0</td>\n",
       "      <td>0.079812</td>\n",
       "      <td>0.478654</td>\n",
       "      <td>0.077046</td>\n",
       "      <td>0.408400</td>\n",
       "      <td>0.711769</td>\n",
       "      <td>0.0</td>\n",
       "      <td>0.0</td>\n",
       "      <td>0.0</td>\n",
       "      <td>...</td>\n",
       "      <td>0.379124</td>\n",
       "      <td>0.109204</td>\n",
       "      <td>0.285153</td>\n",
       "      <td>0.068734</td>\n",
       "      <td>0.461282</td>\n",
       "      <td>0.0</td>\n",
       "      <td>0.393961</td>\n",
       "      <td>0.0</td>\n",
       "      <td>0.0</td>\n",
       "      <td>0.178719</td>\n",
       "    </tr>\n",
       "    <tr>\n",
       "      <th>4</th>\n",
       "      <td>0.380719</td>\n",
       "      <td>0.0</td>\n",
       "      <td>0.079812</td>\n",
       "      <td>0.515098</td>\n",
       "      <td>0.077046</td>\n",
       "      <td>0.367874</td>\n",
       "      <td>0.711769</td>\n",
       "      <td>0.0</td>\n",
       "      <td>0.0</td>\n",
       "      <td>0.0</td>\n",
       "      <td>...</td>\n",
       "      <td>0.379218</td>\n",
       "      <td>0.109763</td>\n",
       "      <td>0.285153</td>\n",
       "      <td>0.066761</td>\n",
       "      <td>0.472272</td>\n",
       "      <td>0.0</td>\n",
       "      <td>0.393961</td>\n",
       "      <td>0.0</td>\n",
       "      <td>0.0</td>\n",
       "      <td>0.182832</td>\n",
       "    </tr>\n",
       "    <tr>\n",
       "      <th>...</th>\n",
       "      <td>...</td>\n",
       "      <td>...</td>\n",
       "      <td>...</td>\n",
       "      <td>...</td>\n",
       "      <td>...</td>\n",
       "      <td>...</td>\n",
       "      <td>...</td>\n",
       "      <td>...</td>\n",
       "      <td>...</td>\n",
       "      <td>...</td>\n",
       "      <td>...</td>\n",
       "      <td>...</td>\n",
       "      <td>...</td>\n",
       "      <td>...</td>\n",
       "      <td>...</td>\n",
       "      <td>...</td>\n",
       "      <td>...</td>\n",
       "      <td>...</td>\n",
       "      <td>...</td>\n",
       "      <td>...</td>\n",
       "      <td>...</td>\n",
       "    </tr>\n",
       "    <tr>\n",
       "      <th>129595</th>\n",
       "      <td>0.511523</td>\n",
       "      <td>0.0</td>\n",
       "      <td>0.017216</td>\n",
       "      <td>0.516825</td>\n",
       "      <td>0.147339</td>\n",
       "      <td>0.557125</td>\n",
       "      <td>0.711717</td>\n",
       "      <td>0.0</td>\n",
       "      <td>0.0</td>\n",
       "      <td>0.0</td>\n",
       "      <td>...</td>\n",
       "      <td>0.245764</td>\n",
       "      <td>0.130889</td>\n",
       "      <td>0.240398</td>\n",
       "      <td>0.327644</td>\n",
       "      <td>0.529605</td>\n",
       "      <td>0.0</td>\n",
       "      <td>0.539339</td>\n",
       "      <td>0.0</td>\n",
       "      <td>0.0</td>\n",
       "      <td>0.010225</td>\n",
       "    </tr>\n",
       "    <tr>\n",
       "      <th>129596</th>\n",
       "      <td>0.512114</td>\n",
       "      <td>0.0</td>\n",
       "      <td>0.017216</td>\n",
       "      <td>0.461690</td>\n",
       "      <td>0.135262</td>\n",
       "      <td>0.557380</td>\n",
       "      <td>0.711717</td>\n",
       "      <td>0.0</td>\n",
       "      <td>0.0</td>\n",
       "      <td>0.0</td>\n",
       "      <td>...</td>\n",
       "      <td>0.241081</td>\n",
       "      <td>0.131212</td>\n",
       "      <td>0.240398</td>\n",
       "      <td>0.320111</td>\n",
       "      <td>0.540804</td>\n",
       "      <td>0.0</td>\n",
       "      <td>0.539339</td>\n",
       "      <td>0.0</td>\n",
       "      <td>0.0</td>\n",
       "      <td>0.010225</td>\n",
       "    </tr>\n",
       "    <tr>\n",
       "      <th>129597</th>\n",
       "      <td>0.553332</td>\n",
       "      <td>0.0</td>\n",
       "      <td>0.017216</td>\n",
       "      <td>0.493026</td>\n",
       "      <td>0.133167</td>\n",
       "      <td>0.590276</td>\n",
       "      <td>0.711717</td>\n",
       "      <td>0.0</td>\n",
       "      <td>0.0</td>\n",
       "      <td>0.0</td>\n",
       "      <td>...</td>\n",
       "      <td>0.240613</td>\n",
       "      <td>0.130586</td>\n",
       "      <td>0.240398</td>\n",
       "      <td>0.306708</td>\n",
       "      <td>0.545617</td>\n",
       "      <td>0.0</td>\n",
       "      <td>0.539339</td>\n",
       "      <td>0.0</td>\n",
       "      <td>0.0</td>\n",
       "      <td>0.010225</td>\n",
       "    </tr>\n",
       "    <tr>\n",
       "      <th>129598</th>\n",
       "      <td>0.587329</td>\n",
       "      <td>0.0</td>\n",
       "      <td>0.017216</td>\n",
       "      <td>0.519678</td>\n",
       "      <td>0.132821</td>\n",
       "      <td>0.603950</td>\n",
       "      <td>0.711717</td>\n",
       "      <td>0.0</td>\n",
       "      <td>0.0</td>\n",
       "      <td>0.0</td>\n",
       "      <td>...</td>\n",
       "      <td>0.240566</td>\n",
       "      <td>0.128753</td>\n",
       "      <td>0.240398</td>\n",
       "      <td>0.287885</td>\n",
       "      <td>0.550216</td>\n",
       "      <td>0.0</td>\n",
       "      <td>0.539339</td>\n",
       "      <td>0.0</td>\n",
       "      <td>0.0</td>\n",
       "      <td>0.010225</td>\n",
       "    </tr>\n",
       "    <tr>\n",
       "      <th>129599</th>\n",
       "      <td>0.618212</td>\n",
       "      <td>0.0</td>\n",
       "      <td>0.017216</td>\n",
       "      <td>0.518442</td>\n",
       "      <td>0.143092</td>\n",
       "      <td>0.619661</td>\n",
       "      <td>0.711717</td>\n",
       "      <td>0.0</td>\n",
       "      <td>0.0</td>\n",
       "      <td>0.0</td>\n",
       "      <td>...</td>\n",
       "      <td>0.247268</td>\n",
       "      <td>0.128015</td>\n",
       "      <td>0.240398</td>\n",
       "      <td>0.272828</td>\n",
       "      <td>0.548072</td>\n",
       "      <td>0.0</td>\n",
       "      <td>0.539339</td>\n",
       "      <td>0.0</td>\n",
       "      <td>0.0</td>\n",
       "      <td>0.010225</td>\n",
       "    </tr>\n",
       "  </tbody>\n",
       "</table>\n",
       "<p>274800 rows × 86 columns</p>\n",
       "</div>"
      ],
      "text/plain": [
       "             C01  C02       C03       C04       C05       C06       C07  C08  \\\n",
       "0       0.455432  0.0  0.079812  0.479046  0.077046  0.434169  0.711769  0.0   \n",
       "1       0.471678  0.0  0.079812  0.499628  0.077046  0.429998  0.711769  0.0   \n",
       "2       0.459304  0.0  0.079812  0.482713  0.077046  0.410346  0.711769  0.0   \n",
       "3       0.458079  0.0  0.079812  0.478654  0.077046  0.408400  0.711769  0.0   \n",
       "4       0.380719  0.0  0.079812  0.515098  0.077046  0.367874  0.711769  0.0   \n",
       "...          ...  ...       ...       ...       ...       ...       ...  ...   \n",
       "129595  0.511523  0.0  0.017216  0.516825  0.147339  0.557125  0.711717  0.0   \n",
       "129596  0.512114  0.0  0.017216  0.461690  0.135262  0.557380  0.711717  0.0   \n",
       "129597  0.553332  0.0  0.017216  0.493026  0.133167  0.590276  0.711717  0.0   \n",
       "129598  0.587329  0.0  0.017216  0.519678  0.132821  0.603950  0.711717  0.0   \n",
       "129599  0.618212  0.0  0.017216  0.518442  0.143092  0.619661  0.711717  0.0   \n",
       "\n",
       "        C09  C10  ...       C77       C78       C79       C80       C81  C82  \\\n",
       "0       0.0  0.0  ...  0.378726  0.095024  0.285153  0.068104  0.381526  0.0   \n",
       "1       0.0  0.0  ...  0.377826  0.099579  0.285153  0.069240  0.404094  0.0   \n",
       "2       0.0  0.0  ...  0.378191  0.103601  0.285153  0.068779  0.429462  0.0   \n",
       "3       0.0  0.0  ...  0.379124  0.109204  0.285153  0.068734  0.461282  0.0   \n",
       "4       0.0  0.0  ...  0.379218  0.109763  0.285153  0.066761  0.472272  0.0   \n",
       "...     ...  ...  ...       ...       ...       ...       ...       ...  ...   \n",
       "129595  0.0  0.0  ...  0.245764  0.130889  0.240398  0.327644  0.529605  0.0   \n",
       "129596  0.0  0.0  ...  0.241081  0.131212  0.240398  0.320111  0.540804  0.0   \n",
       "129597  0.0  0.0  ...  0.240613  0.130586  0.240398  0.306708  0.545617  0.0   \n",
       "129598  0.0  0.0  ...  0.240566  0.128753  0.240398  0.287885  0.550216  0.0   \n",
       "129599  0.0  0.0  ...  0.247268  0.128015  0.240398  0.272828  0.548072  0.0   \n",
       "\n",
       "             C83  C84  C85       C86  \n",
       "0       0.393961  0.0  0.0  0.168791  \n",
       "1       0.393961  0.0  0.0  0.173300  \n",
       "2       0.393961  0.0  0.0  0.176731  \n",
       "3       0.393961  0.0  0.0  0.178719  \n",
       "4       0.393961  0.0  0.0  0.182832  \n",
       "...          ...  ...  ...       ...  \n",
       "129595  0.539339  0.0  0.0  0.010225  \n",
       "129596  0.539339  0.0  0.0  0.010225  \n",
       "129597  0.539339  0.0  0.0  0.010225  \n",
       "129598  0.539339  0.0  0.0  0.010225  \n",
       "129599  0.539339  0.0  0.0  0.010225  \n",
       "\n",
       "[274800 rows x 86 columns]"
      ]
     },
     "execution_count": 21,
     "metadata": {},
     "output_type": "execute_result"
    }
   ],
   "source": [
    "TEST_DF = normalize(TEST_DF_RAW[VALID_COLUMNS_IN_TRAIN_DATASET]).ewm(alpha=0.9).mean()\n",
    "TEST_DF"
   ]
  },
  {
   "cell_type": "code",
   "execution_count": 22,
   "id": "25eddd3c",
   "metadata": {
    "ExecuteTime": {
     "end_time": "2021-09-01T11:58:05.314858Z",
     "start_time": "2021-09-01T11:58:05.252660Z"
    }
   },
   "outputs": [
    {
     "data": {
      "text/plain": [
       "(True, True, False)"
      ]
     },
     "execution_count": 22,
     "metadata": {},
     "output_type": "execute_result"
    }
   ],
   "source": [
    "boundary_check(TEST_DF)"
   ]
  },
  {
   "cell_type": "code",
   "execution_count": 23,
   "id": "9224bea0",
   "metadata": {
    "ExecuteTime": {
     "end_time": "2021-09-01T11:58:53.991870Z",
     "start_time": "2021-09-01T11:58:06.116508Z"
    }
   },
   "outputs": [
    {
     "data": {
      "application/vnd.jupyter.widget-view+json": {
       "model_id": "9ef1b5e2c61d415fabf4e62f8b3cbb10",
       "version_major": 2,
       "version_minor": 0
      },
      "text/plain": [
       "HBox(children=(FloatProgress(value=0.0, max=274710.0), HTML(value='')))"
      ]
     },
     "metadata": {},
     "output_type": "display_data"
    },
    {
     "name": "stdout",
     "output_type": "stream",
     "text": [
      "\n",
      "# of valid windows: 3051\n"
     ]
    },
    {
     "data": {
      "text/plain": [
       "{'ts': '2021-07-13 16:01:31',\n",
       " 'given': tensor([[0.4554, 0.0000, 0.0798,  ..., 0.0000, 0.0000, 0.1688],\n",
       "         [0.4717, 0.0000, 0.0798,  ..., 0.0000, 0.0000, 0.1733],\n",
       "         [0.4593, 0.0000, 0.0798,  ..., 0.0000, 0.0000, 0.1767],\n",
       "         ...,\n",
       "         [0.3005, 0.0000, 0.0798,  ..., 0.0000, 0.0000, 0.0091],\n",
       "         [0.3201, 0.0000, 0.0798,  ..., 0.0000, 0.0000, 0.0091],\n",
       "         [0.3561, 0.0000, 0.0798,  ..., 0.0000, 0.0000, 0.0091]])}"
      ]
     },
     "execution_count": 23,
     "metadata": {},
     "output_type": "execute_result"
    }
   ],
   "source": [
    "HAI_DATASET_TEST = HaiDataset(\n",
    "    TEST_DF_RAW[TIMESTAMP_FIELD], \n",
    "    TEST_DF,\n",
    "    stride = 90,\n",
    "    attacks=None\n",
    ")\n",
    "HAI_DATASET_TEST[0]"
   ]
  },
  {
   "cell_type": "code",
   "execution_count": 24,
   "id": "e95990db",
   "metadata": {
    "ExecuteTime": {
     "end_time": "2021-09-01T11:58:54.409054Z",
     "start_time": "2021-09-01T11:58:54.405546Z"
    }
   },
   "outputs": [],
   "source": [
    "# train param\n",
    "params = {'batch_size': 64,\n",
    "          'shuffle': True,\n",
    "          'num_workers': 4,\n",
    "          'pin_memory' : True}\n",
    "\n",
    "trainloader = DataLoader(HAI_DATASET_TRAIN, **params)\n",
    "\n",
    "# test, valid는 shuffle x\n",
    "params['shuffle'] = False\n",
    "validloader = DataLoader(HAI_DATASET_VALIDATION, **params)\n",
    "testloader = DataLoader(HAI_DATASET_TEST, **params)"
   ]
  },
  {
   "cell_type": "code",
   "execution_count": 25,
   "id": "44047906",
   "metadata": {
    "ExecuteTime": {
     "end_time": "2021-09-01T11:58:59.166897Z",
     "start_time": "2021-09-01T11:58:56.247485Z"
    }
   },
   "outputs": [
    {
     "name": "stdout",
     "output_type": "stream",
     "text": [
      "torch.Size([64, 90, 86])\n"
     ]
    }
   ],
   "source": [
    "train_shape = next(iter(trainloader))['given'].shape\n",
    "print(train_shape)"
   ]
  },
  {
   "cell_type": "markdown",
   "id": "60479ee2",
   "metadata": {},
   "source": [
    "# Model"
   ]
  },
  {
   "cell_type": "code",
   "execution_count": 26,
   "id": "6bfe34b5",
   "metadata": {
    "ExecuteTime": {
     "end_time": "2021-09-01T12:24:27.562266Z",
     "start_time": "2021-09-01T12:24:27.553493Z"
    }
   },
   "outputs": [],
   "source": [
    "class Encoder(nn.Module):\n",
    "    def __init__(self, seq_len, n_features, embedding_dim=64):\n",
    "        super(Encoder, self).__init__()\n",
    "        self.seq_len, self.n_features = seq_len, n_features\n",
    "        self.embedding_dim, self.hidden_dim = (\n",
    "            embedding_dim, 2 * embedding_dim\n",
    "        )\n",
    "        self.rnn1 = nn.LSTM(\n",
    "          input_size=n_features,\n",
    "          hidden_size=self.hidden_dim,\n",
    "          num_layers=1,\n",
    "          batch_first=True\n",
    "        )\n",
    "        self.rnn2 = nn.LSTM(\n",
    "          input_size=self.hidden_dim,\n",
    "          hidden_size=embedding_dim,\n",
    "          num_layers=1,\n",
    "          batch_first=True\n",
    "        )\n",
    "    def forward(self, x):\n",
    "        x, (_, _) = self.rnn1(x)\n",
    "        x, (hidden_n, _) = self.rnn2(x)\n",
    "        return  x[:,-1,:]"
   ]
  },
  {
   "cell_type": "code",
   "execution_count": 27,
   "id": "481d6e9a",
   "metadata": {
    "ExecuteTime": {
     "end_time": "2021-09-01T12:24:28.761367Z",
     "start_time": "2021-09-01T12:24:28.752211Z"
    }
   },
   "outputs": [],
   "source": [
    "class TimeDistributed(nn.Module):\n",
    "    def __init__(self, module, batch_first=False):\n",
    "        super(TimeDistributed, self).__init__()\n",
    "        self.module = module\n",
    "        self.batch_first = batch_first\n",
    "\n",
    "    def forward(self, x):\n",
    "        if len(x.size()) <= 2:\n",
    "            return self.module(x)\n",
    "        # Squash samples and timesteps into a single axis\n",
    "        x_reshape = x.contiguous().view(-1, x.size(-1))  # (samples * timesteps, input_size)\n",
    "        y = self.module(x_reshape)\n",
    "        # We have to reshape Y\n",
    "        if self.batch_first:\n",
    "            y = y.contiguous().view(x.size(0), -1, y.size(-1))  # (samples, timesteps, output_size)\n",
    "        else:\n",
    "            y = y.view(-1, x.size(1), y.size(-1))  # (timesteps, samples, output_size)\n",
    "        return y"
   ]
  },
  {
   "cell_type": "code",
   "execution_count": 28,
   "id": "eb952d11",
   "metadata": {
    "ExecuteTime": {
     "end_time": "2021-09-01T12:24:29.872473Z",
     "start_time": "2021-09-01T12:24:29.863175Z"
    }
   },
   "outputs": [],
   "source": [
    "class Decoder(nn.Module):\n",
    "    def __init__(self, seq_len, input_dim=64, n_features=1):\n",
    "        super(Decoder, self).__init__()\n",
    "        self.seq_len, self.input_dim = seq_len, input_dim\n",
    "        self.hidden_dim, self.n_features = 2 * input_dim, n_features\n",
    "        self.rnn1 = nn.LSTM(\n",
    "          input_size=input_dim,\n",
    "          hidden_size=input_dim,\n",
    "          num_layers=1,\n",
    "          batch_first=True\n",
    "        )\n",
    "        self.rnn2 = nn.LSTM(\n",
    "          input_size=input_dim,\n",
    "          hidden_size=self.hidden_dim,\n",
    "          num_layers=1,\n",
    "          batch_first=True\n",
    "        )\n",
    "        self.output_layer = torch.nn.Linear(self.hidden_dim, n_features)\n",
    "        self.timedist = TimeDistributed(self.output_layer)\n",
    "        \n",
    "    def forward(self, x):\n",
    "        x=x.reshape(-1,1,self.input_dim).repeat(1,self.seq_len,1)       \n",
    "        x, (hidden_n, cell_n) = self.rnn1(x)\n",
    "        x, (hidden_n, cell_n) = self.rnn2(x)\n",
    "        return self.timedist(x)"
   ]
  },
  {
   "cell_type": "code",
   "execution_count": 29,
   "id": "3ed204ad",
   "metadata": {
    "ExecuteTime": {
     "end_time": "2021-09-01T12:24:53.025406Z",
     "start_time": "2021-09-01T12:24:53.019930Z"
    }
   },
   "outputs": [],
   "source": [
    "class RecurrentAutoencoder(nn.Module):\n",
    "    def __init__(self, seq_len, n_features, embedding_dim=64):\n",
    "        super(RecurrentAutoencoder, self).__init__()\n",
    "        self.encoder = Encoder(seq_len, n_features, embedding_dim).to(device)\n",
    "        self.decoder = Decoder(seq_len, embedding_dim, n_features).to(device)\n",
    "    def forward(self, x):\n",
    "        x = self.encoder(x)\n",
    "        x = self.decoder(x)\n",
    "        return x"
   ]
  },
  {
   "cell_type": "code",
   "execution_count": 30,
   "id": "9f722908",
   "metadata": {
    "ExecuteTime": {
     "end_time": "2021-09-01T12:31:33.697690Z",
     "start_time": "2021-09-01T12:31:33.674420Z"
    }
   },
   "outputs": [
    {
     "data": {
      "text/plain": [
       "==========================================================================================\n",
       "Layer (type:depth-idx)                   Output Shape              Param #\n",
       "==========================================================================================\n",
       "RecurrentAutoencoder                     --                        --\n",
       "├─Encoder: 1-1                           [64, 64]                  --\n",
       "│    └─LSTM: 2-1                         [64, 90, 128]             110,592\n",
       "│    └─LSTM: 2-2                         [64, 90, 64]              49,664\n",
       "├─Decoder: 1-2                           [64, 90, 86]              --\n",
       "│    └─LSTM: 2-3                         [64, 90, 64]              33,280\n",
       "│    └─LSTM: 2-4                         [64, 90, 128]             99,328\n",
       "│    └─TimeDistributed: 2-5              [64, 90, 86]              --\n",
       "│    └─Linear: 2-6                       [5760, 86]                11,094\n",
       "│    └─TimeDistributed: 2                --                        --\n",
       "│    │    └─Linear: 3-1                  [5760, 86]                (recursive)\n",
       "==========================================================================================\n",
       "Total params: 303,958\n",
       "Trainable params: 303,958\n",
       "Non-trainable params: 0\n",
       "Total mult-adds (G): 1.81\n",
       "==========================================================================================\n",
       "Input size (MB): 1.98\n",
       "Forward/backward pass size (MB): 21.66\n",
       "Params size (MB): 1.22\n",
       "Estimated Total Size (MB): 24.85\n",
       "=========================================================================================="
      ]
     },
     "execution_count": 30,
     "metadata": {},
     "output_type": "execute_result"
    }
   ],
   "source": [
    "timesteps = train_shape[1]\n",
    "n_features = train_shape[2]\n",
    "embedding_dim = 64\n",
    "model = RecurrentAutoencoder(timesteps, n_features, embedding_dim).to(device)\n",
    "summary(model, train_shape)"
   ]
  },
  {
   "cell_type": "code",
   "execution_count": 31,
   "id": "a54b5fce",
   "metadata": {
    "ExecuteTime": {
     "end_time": "2021-09-01T12:31:34.305017Z",
     "start_time": "2021-09-01T12:31:34.295627Z"
    }
   },
   "outputs": [],
   "source": [
    "optimizer = optim.AdamW(model.parameters())\n",
    "loss_fn = nn.MSELoss()"
   ]
  },
  {
   "cell_type": "markdown",
   "id": "7f9b0026",
   "metadata": {},
   "source": [
    "## TRAIN"
   ]
  },
  {
   "cell_type": "code",
   "execution_count": 32,
   "id": "bd41e698",
   "metadata": {
    "ExecuteTime": {
     "end_time": "2021-09-01T12:30:57.790318Z",
     "start_time": "2021-09-01T12:30:57.780675Z"
    }
   },
   "outputs": [],
   "source": [
    "def train(model, train_data, optimizer, loss_fn, use_fp16=True, max_norm=None):\n",
    "    \n",
    "    epoch_loss = 0\n",
    "    \n",
    "    model.train() \n",
    "\n",
    "    for idx, batch in enumerate(train_data):\n",
    "        \n",
    "        optimizer.zero_grad(set_to_none=True)\n",
    "        scaler = torch.cuda.amp.GradScaler()\n",
    "                \n",
    "        input = batch['given'].to(device)\n",
    "        \n",
    "        with torch.cuda.amp.autocast(enabled=use_fp16):\n",
    "            predictions = model.forward(input)\n",
    "            train_loss = loss_fn(predictions, input)\n",
    "        if use_fp16:\n",
    "            scaler.scale(train_loss).backward()\n",
    "            if max_norm is not None:\n",
    "                scaler.unscale_(optimizer)\n",
    "                torch.nn.utils.clip_grad_norm_(model.parameters(), max_norm)\n",
    "            scaler.step(optimizer)\n",
    "            scaler.update()\n",
    "        else:\n",
    "            train_loss.backward()\n",
    "            optimizer.step()\n",
    "        \n",
    "        epoch_loss += train_loss.item()\n",
    "        \n",
    "    return epoch_loss/len(train_data)"
   ]
  },
  {
   "cell_type": "code",
   "execution_count": 33,
   "id": "d52f05fd",
   "metadata": {
    "ExecuteTime": {
     "end_time": "2021-09-01T12:30:59.395166Z",
     "start_time": "2021-09-01T12:30:59.387508Z"
    }
   },
   "outputs": [],
   "source": [
    "class EarlyStopping():\n",
    "    def __init__(self, patience=0, verbose=0):\n",
    "        self._step = 0\n",
    "        self._loss = float('inf')\n",
    "        self.patience = patience\n",
    "        self.verbose = verbose\n",
    "\n",
    "    def validate(self, loss):\n",
    "        if self._loss < loss:\n",
    "            self._step += 1\n",
    "            if self._step > self.patience:\n",
    "                if self.verbose:\n",
    "                    print(f'\\n Training process is stopped early....')\n",
    "                return True\n",
    "        else:\n",
    "            self._step = 0\n",
    "            self._loss = loss\n",
    "\n",
    "        return False"
   ]
  },
  {
   "cell_type": "code",
   "execution_count": null,
   "id": "a2f51c86",
   "metadata": {
    "ExecuteTime": {
     "end_time": "2021-09-01T13:24:25.469085Z",
     "start_time": "2021-09-01T12:31:38.272463Z"
    }
   },
   "outputs": [
    {
     "data": {
      "application/vnd.jupyter.widget-view+json": {
       "model_id": "ad7dca95b95c4786bc9dbdd1bb03e5e7",
       "version_major": 2,
       "version_minor": 0
      },
      "text/plain": [
       "HBox(children=(FloatProgress(value=0.0, max=1000.0), HTML(value='')))"
      ]
     },
     "metadata": {},
     "output_type": "display_data"
    },
    {
     "name": "stdout",
     "output_type": "stream",
     "text": [
      "[Train] Epoch :  1 Train Loss: 0.00368\n",
      "[Train] Epoch :  2 Train Loss: 0.000859\n",
      "[Train] Epoch :  3 Train Loss: 0.000754\n",
      "[Train] Epoch :  4 Train Loss: 0.000741\n",
      "[Train] Epoch :  5 Train Loss: 0.0007505\n",
      "[Train] Epoch :  6 Train Loss: 0.0006508\n",
      "[Train] Epoch :  7 Train Loss: 0.0005595\n",
      "[Train] Epoch :  8 Train Loss: 0.0005001\n",
      "[Train] Epoch :  9 Train Loss: 0.0004458\n",
      "[Train] Epoch : 10 Train Loss: 0.0004813\n",
      "[Train] Epoch : 11 Train Loss: 0.0004556\n",
      "[Train] Epoch : 12 Train Loss: 0.0004119\n",
      "[Train] Epoch : 13 Train Loss: 0.0003944\n",
      "[Train] Epoch : 14 Train Loss: 0.0003886\n",
      "[Train] Epoch : 15 Train Loss: 0.0004177\n",
      "[Train] Epoch : 16 Train Loss: 0.0004034\n",
      "[Train] Epoch : 17 Train Loss: 0.0004088\n",
      "[Train] Epoch : 18 Train Loss: 0.0003828\n",
      "[Train] Epoch : 19 Train Loss: 0.0003759\n",
      "[Train] Epoch : 20 Train Loss: 0.0003723\n",
      "[Train] Epoch : 21 Train Loss: 0.0003477\n",
      "[Train] Epoch : 22 Train Loss: 0.00035\n",
      "[Train] Epoch : 23 Train Loss: 0.0003543\n",
      "[Train] Epoch : 24 Train Loss: 0.0003497\n",
      "[Train] Epoch : 25 Train Loss: 0.0003244\n",
      "[Train] Epoch : 26 Train Loss: 0.0003653\n",
      "[Train] Epoch : 27 Train Loss: 0.0003441\n",
      "[Train] Epoch : 28 Train Loss: 0.0005303\n",
      "[Train] Epoch : 29 Train Loss: 0.0003463\n",
      "[Train] Epoch : 30 Train Loss: 0.0003458\n",
      "[Train] Epoch : 31 Train Loss: 0.0003242\n",
      "[Train] Epoch : 32 Train Loss: 0.0003587\n",
      "[Train] Epoch : 33 Train Loss: 0.0003098\n",
      "[Train] Epoch : 34 Train Loss: 0.0003597\n",
      "[Train] Epoch : 35 Train Loss: 0.0003148\n",
      "[Train] Epoch : 36 Train Loss: 0.000336\n",
      "[Train] Epoch : 37 Train Loss: 0.0003254\n",
      "[Train] Epoch : 38 Train Loss: 0.0003062\n",
      "[Train] Epoch : 39 Train Loss: 0.0003051\n",
      "[Train] Epoch : 40 Train Loss: 0.0002928\n",
      "[Train] Epoch : 41 Train Loss: 0.0003911\n",
      "[Train] Epoch : 42 Train Loss: 0.0005168\n",
      "[Train] Epoch : 43 Train Loss: 0.0003688\n",
      "[Train] Epoch : 44 Train Loss: 0.0003572\n",
      "[Train] Epoch : 45 Train Loss: 0.0003171\n",
      "[Train] Epoch : 46 Train Loss: 0.0002972\n",
      "[Train] Epoch : 47 Train Loss: 0.0003082\n",
      "[Train] Epoch : 48 Train Loss: 0.00032\n",
      "[Train] Epoch : 49 Train Loss: 0.0003095\n",
      "[Train] Epoch : 50 Train Loss: 0.000324\n",
      "[Train] Epoch : 51 Train Loss: 0.0002934\n",
      "[Train] Epoch : 52 Train Loss: 0.0002879\n",
      "[Train] Epoch : 53 Train Loss: 0.0003123\n",
      "[Train] Epoch : 54 Train Loss: 0.0003822\n",
      "[Train] Epoch : 55 Train Loss: 0.0003099\n",
      "[Train] Epoch : 56 Train Loss: 0.0002858\n",
      "[Train] Epoch : 57 Train Loss: 0.0003279\n",
      "[Train] Epoch : 58 Train Loss: 0.0002986\n",
      "[Train] Epoch : 59 Train Loss: 0.0003102\n",
      "[Train] Epoch : 60 Train Loss: 0.0003199\n",
      "[Train] Epoch : 61 Train Loss: 0.000303\n",
      "[Train] Epoch : 62 Train Loss: 0.0003733\n",
      "[Train] Epoch : 63 Train Loss: 0.0003004\n",
      "[Train] Epoch : 64 Train Loss: 0.0002909\n",
      "[Train] Epoch : 65 Train Loss: 0.0003195\n",
      "[Train] Epoch : 66 Train Loss: 0.000297\n",
      "[Train] Epoch : 67 Train Loss: 0.0002905\n",
      "[Train] Epoch : 68 Train Loss: 0.0002825\n",
      "[Train] Epoch : 69 Train Loss: 0.0002731\n",
      "[Train] Epoch : 70 Train Loss: 0.0002963\n",
      "[Train] Epoch : 71 Train Loss: 0.0003073\n",
      "[Train] Epoch : 72 Train Loss: 0.0002729\n",
      "[Train] Epoch : 73 Train Loss: 0.000341\n",
      "[Train] Epoch : 74 Train Loss: 0.0002798\n",
      "[Train] Epoch : 75 Train Loss: 0.0003089\n",
      "[Train] Epoch : 76 Train Loss: 0.0002767\n"
     ]
    }
   ],
   "source": [
    "%%time\n",
    "epochs = 1000\n",
    "history = dict()\n",
    "best = {\"loss\": sys.float_info.max}\n",
    "early_stopping = EarlyStopping(patience=50, verbose=1)\n",
    "for epoch in trange(1, epochs+1):\n",
    "    epoch_loss = train(model, trainloader, optimizer, loss_fn, use_fp16=True)\n",
    "    \n",
    "    history.setdefault('loss', []).append(epoch_loss) \n",
    "\n",
    "    print(f\"[Train] Epoch : {epoch:^3}\"\\\n",
    "          f\"Train Loss: {epoch_loss:.4}\")\n",
    "    \n",
    "    if epoch_loss < best[\"loss\"]:\n",
    "            best[\"state\"] = model.state_dict()\n",
    "            best[\"loss\"] = epoch_loss\n",
    "            best[\"epoch\"] = epoch + 1\n",
    "    if early_stopping.validate(epoch_loss):\n",
    "        break"
   ]
  },
  {
   "cell_type": "code",
   "execution_count": null,
   "id": "abd407bc",
   "metadata": {
    "ExecuteTime": {
     "end_time": "2021-09-01T13:24:29.895203Z",
     "start_time": "2021-09-01T13:24:29.724174Z"
    }
   },
   "outputs": [],
   "source": [
    "plt.plot(history[\"loss\"], label=\"Training Loss\")\n",
    "plt.legend()\n",
    "plt.show()"
   ]
  },
  {
   "cell_type": "code",
   "execution_count": null,
   "id": "3f6bdbf7",
   "metadata": {
    "ExecuteTime": {
     "end_time": "2021-09-01T13:32:34.164685Z",
     "start_time": "2021-09-01T13:32:34.152426Z"
    }
   },
   "outputs": [],
   "source": [
    "model.load_state_dict(best[\"state\"])"
   ]
  },
  {
   "cell_type": "code",
   "execution_count": null,
   "id": "adf8c84b",
   "metadata": {},
   "outputs": [],
   "source": [
    "with open(\"LSTM_AE_model.pt\", \"wb\") as f:\n",
    "    torch.save(\n",
    "        {\n",
    "            \"state\": best[\"state\"],\n",
    "            \"best_epoch\": best[\"epoch\"],\n",
    "        },\n",
    "        f,\n",
    "    )"
   ]
  },
  {
   "cell_type": "code",
   "execution_count": null,
   "id": "349126ff",
   "metadata": {},
   "outputs": [],
   "source": [
    "with open(\"LSTM_AE_model.pt\", \"rb\") as f:\n",
    "    SAVED_MODEL = torch.load(f)\n",
    "\n",
    "model.load_state_dict(best[\"state\"])"
   ]
  },
  {
   "cell_type": "markdown",
   "id": "d4dd9404",
   "metadata": {},
   "source": [
    "# VALIDATION"
   ]
  },
  {
   "cell_type": "code",
   "execution_count": 74,
   "id": "f94338b4",
   "metadata": {
    "ExecuteTime": {
     "end_time": "2021-09-01T13:24:51.490516Z",
     "start_time": "2021-09-01T13:24:51.464511Z"
    }
   },
   "outputs": [],
   "source": [
    "def inference(dataloader, model):\n",
    "    ts, dist, att = [], [], []\n",
    "    with torch.no_grad():\n",
    "        for batch in dataloader:\n",
    "            given = batch[\"given\"].to(device)\n",
    "#             answer = batch[\"answer\"].permute(0,2,1).to(device)\n",
    "            guess = model(given)\n",
    "            ts.append(np.array(batch[\"ts\"]))\n",
    "            dist.append(torch.abs(given - guess).cpu().numpy())\n",
    "#             dist.append(torch.sum(torch.abs(guess-given), 1).cpu().numpy())\n",
    "            try:\n",
    "                att.append(np.array(batch[\"attack\"]))\n",
    "            except:\n",
    "                att.append(np.zeros(64))\n",
    "            \n",
    "    return (\n",
    "        np.concatenate(ts),\n",
    "        np.concatenate(dist),\n",
    "        np.concatenate(att),\n",
    "    )"
   ]
  },
  {
   "cell_type": "code",
   "execution_count": 75,
   "id": "cc84fd71",
   "metadata": {
    "ExecuteTime": {
     "end_time": "2021-09-01T13:32:45.276057Z",
     "start_time": "2021-09-01T13:32:36.797116Z"
    }
   },
   "outputs": [
    {
     "name": "stdout",
     "output_type": "stream",
     "text": [
      "CPU times: user 111 ms, sys: 201 ms, total: 312 ms\n",
      "Wall time: 302 ms\n"
     ]
    }
   ],
   "source": [
    "%%time\n",
    "model.eval()\n",
    "CHECK_TS, CHECK_DIST, CHECK_ATT = inference(validloader, model)"
   ]
  },
  {
   "cell_type": "code",
   "execution_count": 76,
   "id": "8a82f912",
   "metadata": {},
   "outputs": [
    {
     "data": {
      "text/plain": [
       "(959, 90, 86)"
      ]
     },
     "execution_count": 76,
     "metadata": {},
     "output_type": "execute_result"
    }
   ],
   "source": [
    "CHECK_DIST.shape"
   ]
  },
  {
   "cell_type": "code",
   "execution_count": 77,
   "id": "f02dbb4a",
   "metadata": {},
   "outputs": [
    {
     "data": {
      "text/plain": [
       "(959, 90)"
      ]
     },
     "execution_count": 77,
     "metadata": {},
     "output_type": "execute_result"
    }
   ],
   "source": [
    "CHECK_ATT.shape"
   ]
  },
  {
   "cell_type": "code",
   "execution_count": 78,
   "id": "847ec695",
   "metadata": {},
   "outputs": [],
   "source": [
    "class CNN_Detector(nn.Module):\n",
    "    def __init__(self, input_dim=86, hidden_dim=32, output_dim=1):\n",
    "        super(CNN_Detector, self).__init__()\n",
    "        \n",
    "        self.input_dim = input_dim\n",
    "        self.output_dim = output_dim\n",
    "        self.hidden_dim = hidden_dim\n",
    "        \n",
    "        self.conv1d = torch.nn.Conv1d(self.input_dim, self.hidden_dim, kernel_size=3, padding =1)\n",
    "        self.relu = torch.nn.ReLU()\n",
    "        self.output_layer = torch.nn.Linear(self.hidden_dim, self.output_dim)\n",
    "        #self.timedist = TimeDistributed(self.output_layer)\n",
    "        \n",
    "    def forward(self, x):\n",
    "        x = self.conv1d(x)\n",
    "        x = self.relu(x)\n",
    "        x = self.output_layer(x)\n",
    "\n",
    "        return x"
   ]
  },
  {
   "cell_type": "code",
   "execution_count": 79,
   "id": "318d29a6",
   "metadata": {},
   "outputs": [],
   "source": [
    "class Linear_Detector(nn.Module):\n",
    "    def __init__(self, input_dim=86, hidden_dim=32, output_dim=1):\n",
    "        super(Linear_Detector, self).__init__()\n",
    "        \n",
    "        self.input_dim = input_dim\n",
    "        self.output_dim = output_dim\n",
    "        self.hidden_dim = hidden_dim\n",
    "        \n",
    "        self.output_layer1 = torch.nn.Linear(self.input_dim, self.hidden_dim)\n",
    "        self.timedist1 = TimeDistributed(self.output_layer1)\n",
    "        self.relu = torch.nn.ReLU()\n",
    "        self.output_layer2 = torch.nn.Linear(self.hidden_dim, self.output_dim)\n",
    "        self.timedist2 = TimeDistributed(self.output_layer2)\n",
    "        \n",
    "    def forward(self, x):\n",
    "        x = self.timedist1(x)\n",
    "        x = self.relu(x)\n",
    "        x = self.timedist2(x)\n",
    "        return x"
   ]
  },
  {
   "cell_type": "code",
   "execution_count": 80,
   "id": "a7cf564e",
   "metadata": {},
   "outputs": [],
   "source": [
    "class Infer_Dataset(Dataset):\n",
    "    def __init__(self, DIST, LABEL=None):\n",
    "        self.DIST = np.array(DIST)\n",
    "\n",
    "        if LABEL is not None:\n",
    "            self.LABEL = np.array(LABEL)\n",
    "            self.with_attack = True\n",
    "        else:\n",
    "            self.with_attack = False\n",
    "\n",
    "    def __len__(self):\n",
    "        return len(self.DIST)\n",
    "\n",
    "    def __getitem__(self, idx):\n",
    "        item = {\"attack\": self.LABEL[idx]} if self.with_attack else {}\n",
    "        item[\"dist\"] = self.DIST[idx]\n",
    "\n",
    "        return item"
   ]
  },
  {
   "cell_type": "code",
   "execution_count": 81,
   "id": "a2a4ee0c",
   "metadata": {},
   "outputs": [
    {
     "data": {
      "text/plain": [
       "<__main__.Infer_Dataset at 0x7f52018f6e80>"
      ]
     },
     "execution_count": 81,
     "metadata": {},
     "output_type": "execute_result"
    }
   ],
   "source": [
    "VALID_DIST = Infer_Dataset(CHECK_DIST, CHECK_ATT)\n",
    "VALID_DIST"
   ]
  },
  {
   "cell_type": "code",
   "execution_count": 82,
   "id": "908cf09f",
   "metadata": {},
   "outputs": [],
   "source": [
    "params = {'batch_size': 64,\n",
    "          'shuffle': True}\n",
    "\n",
    "valdist_loader = DataLoader(VALID_DIST, **params)"
   ]
  },
  {
   "cell_type": "code",
   "execution_count": 83,
   "id": "f89bb567",
   "metadata": {
    "scrolled": true
   },
   "outputs": [
    {
     "data": {
      "text/plain": [
       "{'attack': tensor([[0., 0., 0.,  ..., 0., 0., 0.],\n",
       "         [0., 0., 0.,  ..., 0., 0., 0.],\n",
       "         [0., 0., 0.,  ..., 0., 0., 0.],\n",
       "         ...,\n",
       "         [0., 0., 0.,  ..., 0., 0., 0.],\n",
       "         [0., 0., 0.,  ..., 0., 0., 0.],\n",
       "         [0., 0., 0.,  ..., 0., 0., 0.]]),\n",
       " 'dist': tensor([[[1.0557e-02, 5.0915e-04, 8.5071e-02,  ..., 2.4972e-04,\n",
       "           5.2001e-05, 7.0046e-02],\n",
       "          [1.0837e-01, 1.6738e-04, 9.5976e-02,  ..., 3.9051e-04,\n",
       "           1.4720e-04, 5.8660e-02],\n",
       "          [8.9896e-03, 9.2570e-05, 9.4507e-02,  ..., 5.4690e-04,\n",
       "           2.5673e-04, 2.4038e-02],\n",
       "          ...,\n",
       "          [7.9889e-02, 2.7177e-04, 9.1299e-02,  ..., 1.3331e-04,\n",
       "           9.6806e-05, 3.7694e-02],\n",
       "          [5.8437e-02, 2.7167e-04, 9.1271e-02,  ..., 1.3466e-04,\n",
       "           9.6107e-05, 3.7178e-02],\n",
       "          [5.8470e-02, 2.7162e-04, 9.1240e-02,  ..., 1.3614e-04,\n",
       "           9.5376e-05, 3.6648e-02]],\n",
       " \n",
       "         [[2.8817e-02, 8.7951e-04, 8.1937e-02,  ..., 3.5436e-04,\n",
       "           3.0662e-04, 1.2151e-01],\n",
       "          [1.4297e-01, 4.7341e-05, 9.7481e-02,  ..., 6.3988e-05,\n",
       "           4.8992e-05, 1.0153e-01],\n",
       "          [1.4834e-02, 2.1822e-04, 1.0256e-01,  ..., 5.2862e-05,\n",
       "           1.8933e-04, 8.4395e-02],\n",
       "          ...,\n",
       "          [5.8841e-02, 2.0396e-04, 9.2631e-02,  ..., 1.3920e-04,\n",
       "           6.6373e-05, 5.1244e-03],\n",
       "          [3.9450e-02, 2.1172e-04, 9.2773e-02,  ..., 1.5121e-04,\n",
       "           6.5074e-05, 4.5557e-03],\n",
       "          [1.4820e-01, 2.1811e-04, 9.2910e-02,  ..., 1.6277e-04,\n",
       "           6.3639e-05, 3.9382e-03]],\n",
       " \n",
       "         [[4.0753e-02, 1.8317e-04, 5.5036e-02,  ..., 9.2282e-05,\n",
       "           1.7779e-04, 1.3341e-01],\n",
       "          [1.2389e-01, 1.6369e-04, 7.5630e-02,  ..., 4.9955e-04,\n",
       "           1.8719e-04, 1.0212e-01],\n",
       "          [1.3937e-02, 1.5382e-04, 8.8895e-02,  ..., 5.7272e-04,\n",
       "           2.0806e-04, 7.6780e-02],\n",
       "          ...,\n",
       "          [5.1212e-02, 3.4790e-05, 9.3164e-02,  ..., 1.4942e-04,\n",
       "           2.1141e-04, 2.1791e-02],\n",
       "          [6.7174e-02, 3.9028e-05, 9.3084e-02,  ..., 1.5394e-04,\n",
       "           2.1069e-04, 4.2270e-02],\n",
       "          [9.8912e-02, 4.3193e-05, 9.3003e-02,  ..., 1.5774e-04,\n",
       "           2.0980e-04, 4.1337e-02]],\n",
       " \n",
       "         ...,\n",
       " \n",
       "         [[6.2383e-02, 1.0950e-04, 6.9917e-02,  ..., 2.7293e-04,\n",
       "           2.2124e-04, 1.6404e-02],\n",
       "          [5.1995e-02, 4.1019e-04, 8.6339e-02,  ..., 5.1029e-04,\n",
       "           3.4181e-04, 2.3061e-02],\n",
       "          [5.6115e-03, 6.0408e-04, 8.7893e-02,  ..., 3.9957e-04,\n",
       "           4.0529e-04, 1.5061e-02],\n",
       "          ...,\n",
       "          [2.0237e-02, 9.5165e-04, 9.3448e-02,  ..., 1.5252e-04,\n",
       "           6.8583e-06, 8.7425e-03],\n",
       "          [7.9031e-02, 9.5737e-04, 9.3341e-02,  ..., 1.5040e-04,\n",
       "           1.1592e-05, 8.2506e-03],\n",
       "          [9.7075e-02, 9.6321e-04, 9.3243e-02,  ..., 1.4864e-04,\n",
       "           1.6704e-05, 7.6664e-03]],\n",
       " \n",
       "         [[9.4366e-03, 3.9228e-04, 8.2529e-02,  ..., 8.9934e-04,\n",
       "           2.3033e-04, 2.7665e-02],\n",
       "          [3.7917e-02, 6.0620e-04, 9.1272e-02,  ..., 6.6385e-04,\n",
       "           4.0907e-04, 8.6503e-03],\n",
       "          [1.0532e-01, 3.5980e-04, 9.5238e-02,  ..., 3.2704e-04,\n",
       "           2.8021e-04, 1.2079e-02],\n",
       "          ...,\n",
       "          [1.0923e-01, 6.2125e-05, 9.4187e-02,  ..., 4.8854e-04,\n",
       "           1.3309e-04, 4.5439e-02],\n",
       "          [2.3663e-02, 6.3071e-05, 9.4235e-02,  ..., 4.8533e-04,\n",
       "           1.3151e-04, 4.4327e-02],\n",
       "          [2.1592e-03, 6.3911e-05, 9.4275e-02,  ..., 4.8194e-04,\n",
       "           1.3004e-04, 4.3466e-02]],\n",
       " \n",
       "         [[1.3238e-01, 4.2269e-04, 8.4121e-02,  ..., 5.2418e-04,\n",
       "           3.4690e-04, 1.9715e-02],\n",
       "          [2.4835e-02, 1.9547e-04, 9.2289e-02,  ..., 8.0982e-05,\n",
       "           3.4423e-04, 2.5484e-02],\n",
       "          [1.2432e-02, 3.0564e-04, 9.9640e-02,  ..., 1.9007e-04,\n",
       "           3.8285e-04, 1.3321e-02],\n",
       "          ...,\n",
       "          [5.3637e-02, 1.4572e-04, 9.5012e-02,  ..., 3.4043e-04,\n",
       "           2.9920e-04, 8.6331e-03],\n",
       "          [7.9083e-02, 1.4440e-04, 9.5023e-02,  ..., 3.4143e-04,\n",
       "           2.9928e-04, 8.5582e-03],\n",
       "          [6.2634e-02, 1.4313e-04, 9.5035e-02,  ..., 3.4238e-04,\n",
       "           2.9936e-04, 8.4858e-03]]])}"
      ]
     },
     "execution_count": 83,
     "metadata": {},
     "output_type": "execute_result"
    }
   ],
   "source": [
    "iter(valdist_loader).next()"
   ]
  },
  {
   "cell_type": "code",
   "execution_count": 84,
   "id": "5d8230b7",
   "metadata": {},
   "outputs": [
    {
     "data": {
      "text/plain": [
       "torch.Size([64, 90])"
      ]
     },
     "execution_count": 84,
     "metadata": {},
     "output_type": "execute_result"
    }
   ],
   "source": [
    "iter(valdist_loader).next()['attack'].shape"
   ]
  },
  {
   "cell_type": "code",
   "execution_count": 85,
   "id": "01a7d332",
   "metadata": {},
   "outputs": [],
   "source": [
    "optimizer = optim.AdamW(model.parameters())\n",
    "loss_fn = nn.BCEWithLogitsLoss()"
   ]
  },
  {
   "cell_type": "code",
   "execution_count": 86,
   "id": "8c84a831",
   "metadata": {},
   "outputs": [],
   "source": [
    "CNN_detector = CNN_Detector().to(device)\n",
    "Linear_detector = Linear_Detector().to(device)"
   ]
  },
  {
   "cell_type": "code",
   "execution_count": 87,
   "id": "18f2b0d7",
   "metadata": {},
   "outputs": [],
   "source": [
    "def detect_train(model, dataloader, optimizer, loss_fn, use_fp16=False, max_norm=None):\n",
    "    \n",
    "    epoch_loss = 0\n",
    "    \n",
    "    model.train() \n",
    "\n",
    "    for idx, batch in enumerate(dataloader):\n",
    "        \n",
    "        optimizer.zero_grad(set_to_none=True)\n",
    "        #scaler = torch.cuda.amp.GradScaler()\n",
    "                \n",
    "        input = batch['dist'].to(device)\n",
    "        attack = batch['attack'].to(device)\n",
    "        \n",
    "        predictions = model.forward(input)\n",
    "        train_loss = loss_fn(torch.squeeze(predictions), attack)\n",
    "        train_loss.backward()\n",
    "        optimizer.step()\n",
    "        \n",
    "        epoch_loss += train_loss.item()\n",
    "        \n",
    "    return epoch_loss/len(dataloader)"
   ]
  },
  {
   "cell_type": "markdown",
   "id": "1eefe181",
   "metadata": {},
   "source": [
    "## Linear_detector"
   ]
  },
  {
   "cell_type": "code",
   "execution_count": 88,
   "id": "608527ab",
   "metadata": {},
   "outputs": [
    {
     "name": "stdout",
     "output_type": "stream",
     "text": [
      "[Train] Epoch :  1   Train Loss: 0.7477\n",
      "CPU times: user 37.9 ms, sys: 94 µs, total: 38 ms\n",
      "Wall time: 33.8 ms\n"
     ]
    }
   ],
   "source": [
    "%%time\n",
    "epochs = 1\n",
    "history = dict()\n",
    "best = {\"loss\": sys.float_info.max}\n",
    "early_stopping = EarlyStopping(patience=50, verbose=1)\n",
    "\n",
    "for epoch in range(1, epochs+1):\n",
    "    #epoch_loss = detect_train(CNN_detector, valdist_loader, optimizer, loss_fn, use_fp16=True)\n",
    "    epoch_loss = detect_train(Linear_detector, valdist_loader, optimizer, loss_fn, use_fp16=True)\n",
    "    history.setdefault('loss', []).append(epoch_loss) \n",
    "    \n",
    "    print(f\"[Train] Epoch : {epoch:^3}\"\\\n",
    "        f\"  Train Loss: {epoch_loss:.4}\")\n",
    "    if epoch_loss < best[\"loss\"]:\n",
    "            best[\"state\"] = Linear_detector.state_dict()\n",
    "            best[\"loss\"] = epoch_loss\n",
    "            best[\"epoch\"] = epoch + 1\n",
    "    if early_stopping.validate(epoch_loss):\n",
    "        break"
   ]
  },
  {
   "cell_type": "code",
   "execution_count": 89,
   "id": "daf049f8",
   "metadata": {},
   "outputs": [],
   "source": [
    "def detect(dataloader, model, mode=0):\n",
    "    \n",
    "    prediction = []\n",
    "    \n",
    "    if mode == 0:\n",
    "        answer = []\n",
    "    \n",
    "    with torch.no_grad():\n",
    "        for batch in dataloader:\n",
    "            dist = batch[\"dist\"].to(device)\n",
    "            logit = torch.squeeze(model(dist)) #batch*90\n",
    "            sig =torch.nn.Sigmoid()\n",
    "            score = sig(logit)\n",
    "            \n",
    "            pred = (score > 0.5).int()\n",
    "            prediction.append(pred.cpu().numpy())\n",
    "            \n",
    "            if mode == 0:\n",
    "                answer.append(batch[\"attack\"])\n",
    "    \n",
    "    if mode == 0:            \n",
    "        return (\n",
    "            np.concatenate(prediction),\n",
    "            np.concatenate(answer)\n",
    "        )\n",
    "    else: \n",
    "        return np.concatenate(prediction)"
   ]
  },
  {
   "cell_type": "code",
   "execution_count": 90,
   "id": "088cf0ce",
   "metadata": {},
   "outputs": [
    {
     "name": "stdout",
     "output_type": "stream",
     "text": [
      "(959, 90)\n",
      "(959, 90)\n"
     ]
    }
   ],
   "source": [
    "val_pred, val_true = detect(valdist_loader, Linear_detector)\n",
    "print(val_pred.shape)\n",
    "print(val_true.shape)"
   ]
  },
  {
   "cell_type": "code",
   "execution_count": 91,
   "id": "a8c59fe2",
   "metadata": {},
   "outputs": [
    {
     "data": {
      "text/plain": [
       "86310"
      ]
     },
     "execution_count": 91,
     "metadata": {},
     "output_type": "execute_result"
    }
   ],
   "source": [
    "np.sum(val_pred)"
   ]
  },
  {
   "cell_type": "code",
   "execution_count": 92,
   "id": "b6d45739",
   "metadata": {},
   "outputs": [
    {
     "data": {
      "text/plain": [
       "959"
      ]
     },
     "execution_count": 92,
     "metadata": {},
     "output_type": "execute_result"
    }
   ],
   "source": [
    "len(val_pred)"
   ]
  },
  {
   "cell_type": "code",
   "execution_count": 66,
   "id": "6c9a7500",
   "metadata": {},
   "outputs": [],
   "source": [
    "from itertools import chain\n",
    "\n",
    "# 평가용\n",
    "pred = []\n",
    "true = []\n",
    "\n",
    "for _ in range(0, len(val_pred), 90):\n",
    "    pred.append(val_pred[_])\n",
    "    true.append(val_true[_])\n",
    "\n",
    "pred = list(chain(*pred))\n",
    "true = list(chain(*true))"
   ]
  },
  {
   "cell_type": "code",
   "execution_count": 69,
   "id": "a9a88294",
   "metadata": {},
   "outputs": [
    {
     "data": {
      "text/plain": [
       "Counter({1: 86250, 0: 60})"
      ]
     },
     "execution_count": 69,
     "metadata": {},
     "output_type": "execute_result"
    }
   ],
   "source": [
    "from collections import Counter\n",
    "Counter(pred)"
   ]
  },
  {
   "cell_type": "code",
   "execution_count": 70,
   "id": "0a021602",
   "metadata": {},
   "outputs": [
    {
     "data": {
      "text/plain": [
       "Counter({0.0: 85470, 1.0: 840})"
      ]
     },
     "execution_count": 70,
     "metadata": {},
     "output_type": "execute_result"
    }
   ],
   "source": [
    "from collections import Counter\n",
    "Counter(true)"
   ]
  },
  {
   "cell_type": "code",
   "execution_count": 93,
   "id": "08449ece",
   "metadata": {},
   "outputs": [
    {
     "name": "stdout",
     "output_type": "stream",
     "text": [
      "(86310,)\n",
      "(86310,)\n"
     ]
    }
   ],
   "source": [
    "val_pred = val_pred.flatten()\n",
    "val_true = val_true.flatten()\n",
    "\n",
    "print(val_pred.shape)\n",
    "print(val_true.shape)"
   ]
  },
  {
   "cell_type": "code",
   "execution_count": 95,
   "id": "b56283e1",
   "metadata": {},
   "outputs": [
    {
     "data": {
      "text/plain": [
       "Counter({1: 86310})"
      ]
     },
     "execution_count": 95,
     "metadata": {},
     "output_type": "execute_result"
    }
   ],
   "source": [
    "from collections import Counter\n",
    "Counter(val_pred)"
   ]
  },
  {
   "cell_type": "code",
   "execution_count": 96,
   "id": "cb074c63",
   "metadata": {},
   "outputs": [
    {
     "data": {
      "text/plain": [
       "Counter({0.0: 85425, 1.0: 885})"
      ]
     },
     "execution_count": 96,
     "metadata": {},
     "output_type": "execute_result"
    }
   ],
   "source": [
    "from collections import Counter\n",
    "Counter(val_true)"
   ]
  },
  {
   "cell_type": "code",
   "execution_count": 94,
   "id": "d8f3140a",
   "metadata": {},
   "outputs": [
    {
     "name": "stdout",
     "output_type": "stream",
     "text": [
      "F1: 0.000 (TaP: 0.000, TaR: 0.000)\n",
      "# of detected anomalies: 0\n",
      "Detected anomalies: []\n"
     ]
    }
   ],
   "source": [
    "TaPR = etapr.evaluate_haicon(anomalies=val_true, predictions=val_pred)\n",
    "\n",
    "#TaPR = etapr.evaluate_haicon(anomalies=true, predictions=pred)\n",
    "print(f\"F1: {TaPR['f1']:.3f} (TaP: {TaPR['TaP']:.3f}, TaR: {TaPR['TaR']:.3f})\")\n",
    "print(f\"# of detected anomalies: {len(TaPR['Detected_Anomalies'])}\")\n",
    "print(f\"Detected anomalies: {TaPR['Detected_Anomalies']}\")"
   ]
  },
  {
   "cell_type": "code",
   "execution_count": null,
   "id": "8090e596",
   "metadata": {},
   "outputs": [],
   "source": [
    "Linear_detector(iter(valdist_loader).next()['dist'].to(device)).shape"
   ]
  },
  {
   "cell_type": "code",
   "execution_count": null,
   "id": "6a99e271",
   "metadata": {
    "ExecuteTime": {
     "end_time": "2021-09-01T13:32:50.119562Z",
     "start_time": "2021-09-01T13:32:50.113081Z"
    }
   },
   "outputs": [],
   "source": [
    "def check_graph(xs, att, piece=2, THRESHOLD=None):\n",
    "    l = xs.shape[0]\n",
    "    chunk = l // piece\n",
    "    fig, axs = plt.subplots(piece, figsize=(20, 4 * piece))\n",
    "    for i in range(piece):\n",
    "        L = i * chunk\n",
    "        R = min(L + chunk, l)\n",
    "        xticks = range(L, R)\n",
    "        axs[i].plot(xticks, xs[L:R])\n",
    "        if len(xs[L:R]) > 0:\n",
    "            peak = max(xs[L:R])\n",
    "            axs[i].plot(xticks, att[L:R] * peak * 0.3)\n",
    "        if THRESHOLD!=None:\n",
    "            axs[i].axhline(y=THRESHOLD, color='r')\n",
    "    plt.show()"
   ]
  },
  {
   "cell_type": "code",
   "execution_count": null,
   "id": "8e5e7e8a",
   "metadata": {
    "ExecuteTime": {
     "end_time": "2021-09-01T13:32:52.653161Z",
     "start_time": "2021-09-01T13:32:52.287966Z"
    }
   },
   "outputs": [],
   "source": [
    "THRESHOLD = 2.5\n",
    "check_graph(val_pred, val_true, piece=2)"
   ]
  },
  {
   "cell_type": "code",
   "execution_count": null,
   "id": "953f47b1",
   "metadata": {
    "ExecuteTime": {
     "end_time": "2021-09-01T13:25:39.647150Z",
     "start_time": "2021-09-01T13:25:39.641461Z"
    }
   },
   "outputs": [],
   "source": [
    "def put_labels(distance, threshold):\n",
    "    xs = np.zeros_like(distance)\n",
    "    xs[distance > threshold] = 1\n",
    "    return xs"
   ]
  },
  {
   "cell_type": "code",
   "execution_count": null,
   "id": "30e8e566",
   "metadata": {
    "ExecuteTime": {
     "end_time": "2021-09-01T13:26:22.757470Z",
     "start_time": "2021-09-01T13:26:22.745134Z"
    }
   },
   "outputs": [],
   "source": [
    "LABELS = put_labels(ANOMALY_SCORE, THRESHOLD)\n",
    "LABELS, LABELS.shape"
   ]
  },
  {
   "cell_type": "code",
   "execution_count": null,
   "id": "4291647c",
   "metadata": {
    "ExecuteTime": {
     "end_time": "2021-09-01T13:27:11.105548Z",
     "start_time": "2021-09-01T13:27:11.098516Z"
    }
   },
   "outputs": [],
   "source": [
    "ATTACK_LABELS = put_labels(np.array(VALIDATION_DF_RAW[ATTACK_FIELD]), threshold=0.5)\n",
    "ATTACK_LABELS, ATTACK_LABELS.shape"
   ]
  },
  {
   "cell_type": "code",
   "execution_count": null,
   "id": "56f1dc55",
   "metadata": {
    "ExecuteTime": {
     "end_time": "2021-09-01T13:27:12.645081Z",
     "start_time": "2021-09-01T13:27:12.635595Z"
    }
   },
   "outputs": [],
   "source": [
    "def fill_blank(check_ts, labels, total_ts):\n",
    "    def ts_generator():\n",
    "        for t in total_ts:\n",
    "            yield dateutil.parser.parse(t)\n",
    "\n",
    "    def label_generator():\n",
    "        for t, label in zip(check_ts, labels):\n",
    "            yield dateutil.parser.parse(t), label\n",
    "\n",
    "    g_ts = ts_generator()\n",
    "    g_label = label_generator()\n",
    "    final_labels = []\n",
    "\n",
    "    try:\n",
    "        current = next(g_ts)\n",
    "        ts_label, label = next(g_label)\n",
    "        while True:\n",
    "            if current > ts_label:\n",
    "                ts_label, label = next(g_label)\n",
    "                continue\n",
    "            elif current < ts_label:\n",
    "                final_labels.append(0)\n",
    "                current = next(g_ts)\n",
    "                continue\n",
    "            final_labels.append(label)\n",
    "            current = next(g_ts)\n",
    "            ts_label, label = next(g_label)\n",
    "    except StopIteration:\n",
    "        return np.array(final_labels, dtype=np.int8)"
   ]
  },
  {
   "cell_type": "code",
   "execution_count": null,
   "id": "4f95cb98",
   "metadata": {
    "ExecuteTime": {
     "end_time": "2021-09-01T13:27:28.080819Z",
     "start_time": "2021-09-01T13:27:13.262156Z"
    }
   },
   "outputs": [],
   "source": [
    "%%time\n",
    "FINAL_LABELS = fill_blank(CHECK_TS, LABELS, np.array(VALIDATION_DF_RAW[TIMESTAMP_FIELD]))\n",
    "FINAL_LABELS.shape"
   ]
  },
  {
   "cell_type": "code",
   "execution_count": null,
   "id": "dbc2e585",
   "metadata": {
    "ExecuteTime": {
     "end_time": "2021-09-01T13:27:30.235027Z",
     "start_time": "2021-09-01T13:27:29.581095Z"
    }
   },
   "outputs": [],
   "source": [
    "TaPR = etapr.evaluate_haicon(anomalies=ATTACK_LABELS, predictions=FINAL_LABELS)\n",
    "print(f\"F1: {TaPR['f1']:.3f} (TaP: {TaPR['TaP']:.3f}, TaR: {TaPR['TaR']:.3f})\")\n",
    "print(f\"# of detected anomalies: {len(TaPR['Detected_Anomalies'])}\")\n",
    "print(f\"Detected anomalies: {TaPR['Detected_Anomalies']}\")"
   ]
  },
  {
   "cell_type": "code",
   "execution_count": null,
   "id": "fa9509ec",
   "metadata": {
    "ExecuteTime": {
     "end_time": "2021-09-01T13:28:41.292041Z",
     "start_time": "2021-09-01T13:28:12.847881Z"
    }
   },
   "outputs": [],
   "source": [
    "%%time\n",
    "model.eval()\n",
    "CHECK_TS, CHECK_DIST, CHECK_ATT = inference(testloader, model)"
   ]
  },
  {
   "cell_type": "code",
   "execution_count": null,
   "id": "5dff4d0c",
   "metadata": {
    "ExecuteTime": {
     "end_time": "2021-09-01T13:28:42.711493Z",
     "start_time": "2021-09-01T13:28:42.694787Z"
    }
   },
   "outputs": [],
   "source": [
    "ANOMALY_SCORE = np.mean(CHECK_DIST, axis=1)"
   ]
  },
  {
   "cell_type": "code",
   "execution_count": null,
   "id": "0ae141ab",
   "metadata": {
    "ExecuteTime": {
     "end_time": "2021-09-01T13:28:44.142630Z",
     "start_time": "2021-09-01T13:28:43.485447Z"
    }
   },
   "outputs": [],
   "source": [
    "check_graph(ANOMALY_SCORE, CHECK_ATT, piece=3, THRESHOLD=THRESHOLD)"
   ]
  },
  {
   "cell_type": "code",
   "execution_count": null,
   "id": "7b622db7",
   "metadata": {
    "ExecuteTime": {
     "end_time": "2021-09-01T13:29:19.597633Z",
     "start_time": "2021-09-01T13:29:19.590871Z"
    }
   },
   "outputs": [],
   "source": [
    "LABELS = put_labels(ANOMALY_SCORE, THRESHOLD)\n",
    "LABELS, LABELS.shape"
   ]
  },
  {
   "cell_type": "code",
   "execution_count": null,
   "id": "64f1fcd0",
   "metadata": {
    "ExecuteTime": {
     "end_time": "2021-09-01T13:29:27.803368Z",
     "start_time": "2021-09-01T13:29:27.494870Z"
    }
   },
   "outputs": [],
   "source": [
    "submission = pd.read_csv('./HAICon2021_dataset/sample_submission.csv')\n",
    "submission.index = submission['timestamp']\n",
    "submission.loc[CHECK_TS,'attack'] = LABELS\n",
    "submission"
   ]
  },
  {
   "cell_type": "code",
   "execution_count": null,
   "id": "f0bf6a35",
   "metadata": {
    "ExecuteTime": {
     "end_time": "2021-09-01T13:29:30.194881Z",
     "start_time": "2021-09-01T13:29:29.675346Z"
    }
   },
   "outputs": [],
   "source": [
    "submission.to_csv('baseline.csv', index=False)"
   ]
  },
  {
   "cell_type": "code",
   "execution_count": null,
   "id": "4da069d4",
   "metadata": {},
   "outputs": [],
   "source": []
  }
 ],
 "metadata": {
  "hide_input": false,
  "kernelspec": {
   "display_name": "Python 3",
   "language": "python",
   "name": "python3"
  },
  "language_info": {
   "codemirror_mode": {
    "name": "ipython",
    "version": 3
   },
   "file_extension": ".py",
   "mimetype": "text/x-python",
   "name": "python",
   "nbconvert_exporter": "python",
   "pygments_lexer": "ipython3",
   "version": "3.6.9"
  },
  "toc": {
   "base_numbering": 1,
   "nav_menu": {},
   "number_sections": true,
   "sideBar": true,
   "skip_h1_title": false,
   "title_cell": "Table of Contents",
   "title_sidebar": "Contents",
   "toc_cell": false,
   "toc_position": {},
   "toc_section_display": true,
   "toc_window_display": false
  },
  "varInspector": {
   "cols": {
    "lenName": 16,
    "lenType": 16,
    "lenVar": 40
   },
   "kernels_config": {
    "python": {
     "delete_cmd_postfix": "",
     "delete_cmd_prefix": "del ",
     "library": "var_list.py",
     "varRefreshCmd": "print(var_dic_list())"
    },
    "r": {
     "delete_cmd_postfix": ") ",
     "delete_cmd_prefix": "rm(",
     "library": "var_list.r",
     "varRefreshCmd": "cat(var_dic_list()) "
    }
   },
   "types_to_exclude": [
    "module",
    "function",
    "builtin_function_or_method",
    "instance",
    "_Feature"
   ],
   "window_display": false
  }
 },
 "nbformat": 4,
 "nbformat_minor": 5
}
