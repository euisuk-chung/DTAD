{
 "cells": [
  {
   "cell_type": "code",
   "execution_count": 1,
   "id": "ece0cec0",
   "metadata": {},
   "outputs": [],
   "source": [
    "import os\n",
    "import pandas as pd\n",
    "import glob"
   ]
  },
  {
   "cell_type": "code",
   "execution_count": 2,
   "id": "35c12cba",
   "metadata": {},
   "outputs": [
    {
     "data": {
      "text/plain": [
       "'/repo/projects/HAI_timeseries/notebook/CES'"
      ]
     },
     "execution_count": 2,
     "metadata": {},
     "output_type": "execute_result"
    }
   ],
   "source": [
    "os.getcwd()"
   ]
  },
  {
   "cell_type": "code",
   "execution_count": 3,
   "id": "28d75724",
   "metadata": {},
   "outputs": [],
   "source": [
    "data_path = '/repo/projects/HAI_timeseries/Hamon_dataset/*.csv'"
   ]
  },
  {
   "cell_type": "code",
   "execution_count": 4,
   "id": "a8af8d9c",
   "metadata": {},
   "outputs": [
    {
     "data": {
      "text/plain": [
       "['/repo/projects/HAI_timeseries/Hamon_dataset/20210624.csv',\n",
       " '/repo/projects/HAI_timeseries/Hamon_dataset/20210626.csv',\n",
       " '/repo/projects/HAI_timeseries/Hamon_dataset/20210625.csv',\n",
       " '/repo/projects/HAI_timeseries/Hamon_dataset/20210621.csv',\n",
       " '/repo/projects/HAI_timeseries/Hamon_dataset/20210622.csv',\n",
       " '/repo/projects/HAI_timeseries/Hamon_dataset/20210623.csv',\n",
       " '/repo/projects/HAI_timeseries/Hamon_dataset/20210620.csv']"
      ]
     },
     "execution_count": 4,
     "metadata": {},
     "output_type": "execute_result"
    }
   ],
   "source": [
    "file_list = glob.glob(data_path)\n",
    "file_list"
   ]
  },
  {
   "cell_type": "code",
   "execution_count": 5,
   "id": "de37235a",
   "metadata": {},
   "outputs": [],
   "source": [
    "# 전체 데이터\n",
    "df_total = pd.DataFrame()\n",
    "\n",
    "for i in file_list:\n",
    "    data = pd.read_csv(i)\n",
    "    df_total = pd.concat([df_total, data])\n",
    "\n",
    "# Sort by date\n",
    "df_total= df_total.sort_values(by=['YYYYMMDD'], axis=0)\n",
    "df_total = df_total.reset_index(drop = True)"
   ]
  },
  {
   "cell_type": "code",
   "execution_count": 6,
   "id": "66f78f06",
   "metadata": {},
   "outputs": [
    {
     "data": {
      "text/html": [
       "<div>\n",
       "<style scoped>\n",
       "    .dataframe tbody tr th:only-of-type {\n",
       "        vertical-align: middle;\n",
       "    }\n",
       "\n",
       "    .dataframe tbody tr th {\n",
       "        vertical-align: top;\n",
       "    }\n",
       "\n",
       "    .dataframe thead th {\n",
       "        text-align: right;\n",
       "    }\n",
       "</style>\n",
       "<table border=\"1\" class=\"dataframe\">\n",
       "  <thead>\n",
       "    <tr style=\"text-align: right;\">\n",
       "      <th></th>\n",
       "      <th>YYYYMMDD</th>\n",
       "      <th>HHMMSS</th>\n",
       "      <th>MNG_NO</th>\n",
       "      <th>IF_IDX</th>\n",
       "      <th>AVG_INBPS</th>\n",
       "      <th>MIN_INBPS</th>\n",
       "      <th>MAX_INBPS</th>\n",
       "      <th>AVG_OUTBPS</th>\n",
       "      <th>MIN_OUTBPS</th>\n",
       "      <th>MAX_OUTBPS</th>\n",
       "      <th>...</th>\n",
       "      <th>MAX_INMCASTPPS</th>\n",
       "      <th>AVG_OUTMCASTPPS</th>\n",
       "      <th>MIN_OUTMCASTPPS</th>\n",
       "      <th>MAX_OUTMCASTPPS</th>\n",
       "      <th>AVG_INBCASTPPS</th>\n",
       "      <th>MIN_INBCASTPPS</th>\n",
       "      <th>MAX_INBCASTPPS</th>\n",
       "      <th>AVG_OUTBCASTPPS</th>\n",
       "      <th>MIN_OUTBCASTPPS</th>\n",
       "      <th>MAX_OUTBCASTPPS</th>\n",
       "    </tr>\n",
       "  </thead>\n",
       "  <tbody>\n",
       "    <tr>\n",
       "      <th>0</th>\n",
       "      <td>20210620</td>\n",
       "      <td>235500</td>\n",
       "      <td>26641</td>\n",
       "      <td>124</td>\n",
       "      <td>66992</td>\n",
       "      <td>66992</td>\n",
       "      <td>66992</td>\n",
       "      <td>36576</td>\n",
       "      <td>36576</td>\n",
       "      <td>36576</td>\n",
       "      <td>...</td>\n",
       "      <td>0</td>\n",
       "      <td>0</td>\n",
       "      <td>0</td>\n",
       "      <td>0</td>\n",
       "      <td>0</td>\n",
       "      <td>0</td>\n",
       "      <td>0</td>\n",
       "      <td>0</td>\n",
       "      <td>0</td>\n",
       "      <td>0</td>\n",
       "    </tr>\n",
       "    <tr>\n",
       "      <th>1</th>\n",
       "      <td>20210620</td>\n",
       "      <td>85500</td>\n",
       "      <td>5505</td>\n",
       "      <td>2</td>\n",
       "      <td>37824</td>\n",
       "      <td>37824</td>\n",
       "      <td>37824</td>\n",
       "      <td>36192</td>\n",
       "      <td>36192</td>\n",
       "      <td>36192</td>\n",
       "      <td>...</td>\n",
       "      <td>0</td>\n",
       "      <td>0</td>\n",
       "      <td>0</td>\n",
       "      <td>0</td>\n",
       "      <td>0</td>\n",
       "      <td>0</td>\n",
       "      <td>0</td>\n",
       "      <td>0</td>\n",
       "      <td>0</td>\n",
       "      <td>0</td>\n",
       "    </tr>\n",
       "    <tr>\n",
       "      <th>2</th>\n",
       "      <td>20210620</td>\n",
       "      <td>85000</td>\n",
       "      <td>5505</td>\n",
       "      <td>2</td>\n",
       "      <td>8792</td>\n",
       "      <td>8792</td>\n",
       "      <td>8792</td>\n",
       "      <td>28104</td>\n",
       "      <td>28104</td>\n",
       "      <td>28104</td>\n",
       "      <td>...</td>\n",
       "      <td>0</td>\n",
       "      <td>0</td>\n",
       "      <td>0</td>\n",
       "      <td>0</td>\n",
       "      <td>0</td>\n",
       "      <td>0</td>\n",
       "      <td>0</td>\n",
       "      <td>0</td>\n",
       "      <td>0</td>\n",
       "      <td>0</td>\n",
       "    </tr>\n",
       "    <tr>\n",
       "      <th>3</th>\n",
       "      <td>20210620</td>\n",
       "      <td>84500</td>\n",
       "      <td>5505</td>\n",
       "      <td>2</td>\n",
       "      <td>144336</td>\n",
       "      <td>144336</td>\n",
       "      <td>144336</td>\n",
       "      <td>43680</td>\n",
       "      <td>43680</td>\n",
       "      <td>43680</td>\n",
       "      <td>...</td>\n",
       "      <td>0</td>\n",
       "      <td>0</td>\n",
       "      <td>0</td>\n",
       "      <td>0</td>\n",
       "      <td>0</td>\n",
       "      <td>0</td>\n",
       "      <td>0</td>\n",
       "      <td>0</td>\n",
       "      <td>0</td>\n",
       "      <td>0</td>\n",
       "    </tr>\n",
       "    <tr>\n",
       "      <th>4</th>\n",
       "      <td>20210620</td>\n",
       "      <td>84000</td>\n",
       "      <td>5505</td>\n",
       "      <td>2</td>\n",
       "      <td>45656</td>\n",
       "      <td>45656</td>\n",
       "      <td>45656</td>\n",
       "      <td>50720</td>\n",
       "      <td>50720</td>\n",
       "      <td>50720</td>\n",
       "      <td>...</td>\n",
       "      <td>0</td>\n",
       "      <td>0</td>\n",
       "      <td>0</td>\n",
       "      <td>0</td>\n",
       "      <td>0</td>\n",
       "      <td>0</td>\n",
       "      <td>0</td>\n",
       "      <td>0</td>\n",
       "      <td>0</td>\n",
       "      <td>0</td>\n",
       "    </tr>\n",
       "  </tbody>\n",
       "</table>\n",
       "<p>5 rows × 58 columns</p>\n",
       "</div>"
      ],
      "text/plain": [
       "   YYYYMMDD  HHMMSS  MNG_NO  IF_IDX  AVG_INBPS  MIN_INBPS  MAX_INBPS  \\\n",
       "0  20210620  235500   26641     124      66992      66992      66992   \n",
       "1  20210620   85500    5505       2      37824      37824      37824   \n",
       "2  20210620   85000    5505       2       8792       8792       8792   \n",
       "3  20210620   84500    5505       2     144336     144336     144336   \n",
       "4  20210620   84000    5505       2      45656      45656      45656   \n",
       "\n",
       "   AVG_OUTBPS  MIN_OUTBPS  MAX_OUTBPS  ...  MAX_INMCASTPPS  AVG_OUTMCASTPPS  \\\n",
       "0       36576       36576       36576  ...               0                0   \n",
       "1       36192       36192       36192  ...               0                0   \n",
       "2       28104       28104       28104  ...               0                0   \n",
       "3       43680       43680       43680  ...               0                0   \n",
       "4       50720       50720       50720  ...               0                0   \n",
       "\n",
       "   MIN_OUTMCASTPPS  MAX_OUTMCASTPPS  AVG_INBCASTPPS  MIN_INBCASTPPS  \\\n",
       "0                0                0               0               0   \n",
       "1                0                0               0               0   \n",
       "2                0                0               0               0   \n",
       "3                0                0               0               0   \n",
       "4                0                0               0               0   \n",
       "\n",
       "   MAX_INBCASTPPS  AVG_OUTBCASTPPS  MIN_OUTBCASTPPS  MAX_OUTBCASTPPS  \n",
       "0               0                0                0                0  \n",
       "1               0                0                0                0  \n",
       "2               0                0                0                0  \n",
       "3               0                0                0                0  \n",
       "4               0                0                0                0  \n",
       "\n",
       "[5 rows x 58 columns]"
      ]
     },
     "execution_count": 6,
     "metadata": {},
     "output_type": "execute_result"
    }
   ],
   "source": [
    "df_total.head(5)"
   ]
  },
  {
   "cell_type": "code",
   "execution_count": 7,
   "id": "c679b15c",
   "metadata": {},
   "outputs": [
    {
     "data": {
      "text/plain": [
       "(23195128, 58)"
      ]
     },
     "execution_count": 7,
     "metadata": {},
     "output_type": "execute_result"
    }
   ],
   "source": [
    "df_total.shape"
   ]
  },
  {
   "cell_type": "code",
   "execution_count": 9,
   "id": "ed4a099d",
   "metadata": {},
   "outputs": [],
   "source": [
    "dataset_loc = '/repo/projects/HAI_timeseries/Hamon_dataset/'\n",
    "export_file = 'total_df.csv'\n",
    "df_total.to_csv(dataset_loc + export_file, index = False)"
   ]
  },
  {
   "cell_type": "code",
   "execution_count": null,
   "id": "6fb7558e",
   "metadata": {},
   "outputs": [],
   "source": []
  }
 ],
 "metadata": {
  "kernelspec": {
   "display_name": "Python 3",
   "language": "python",
   "name": "python3"
  },
  "language_info": {
   "codemirror_mode": {
    "name": "ipython",
    "version": 3
   },
   "file_extension": ".py",
   "mimetype": "text/x-python",
   "name": "python",
   "nbconvert_exporter": "python",
   "pygments_lexer": "ipython3",
   "version": "3.6.9"
  }
 },
 "nbformat": 4,
 "nbformat_minor": 5
}
