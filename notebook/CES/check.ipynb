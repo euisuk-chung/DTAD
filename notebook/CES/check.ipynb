{
 "cells": [
  {
   "cell_type": "code",
   "execution_count": 51,
   "id": "47c316b5",
   "metadata": {},
   "outputs": [],
   "source": [
    "import pickle as pkl"
   ]
  },
  {
   "cell_type": "code",
   "execution_count": 120,
   "id": "d12d985b",
   "metadata": {},
   "outputs": [],
   "source": [
    "# LOAD RESULTS\n",
    "with open('./ANOMALY_SCORE.pkl', 'rb') as A_SCORE:\n",
    "    ab_dist = pkl.load(A_SCORE)\n",
    "\n",
    "with open('./ANOMALY_THRES.pkl', 'rb') as A_THRES:\n",
    "    ab_thres = pkl.load(A_THRES)"
   ]
  },
  {
   "cell_type": "code",
   "execution_count": 121,
   "id": "151c32a2",
   "metadata": {
    "scrolled": true
   },
   "outputs": [
    {
     "data": {
      "text/plain": [
       "{'ANOMALY_SCORE_0': array([0.04720373, 0.04602329, 0.04582858, ..., 0.03991159, 0.03991159,\n",
       "        0.03991159], dtype=float32),\n",
       " 'ANOMALY_SCORE_1': array([1.2825179e-04, 1.2986880e-04, 1.2676881e-04, ..., 7.9362144e-05,\n",
       "        7.9362144e-05, 7.9362144e-05], dtype=float32),\n",
       " 'ANOMALY_SCORE_2': array([0.07531574, 0.0751707 , 0.07519779, ..., 0.00063473, 0.00063473,\n",
       "        0.00063473]),\n",
       " 'ANOMALY_SCORE_3': array([0.01506444, 0.01433136, 0.01526012, ..., 0.01357418, 0.01357418,\n",
       "        0.01357418]),\n",
       " 'ANOMALY_SCORE_4': array([0.00578599, 0.00572053, 0.00559814, ..., 0.01059325, 0.01059325,\n",
       "        0.01059325]),\n",
       " 'ANOMALY_SCORE_5': array([0.02199522, 0.02255991, 0.02358505, ..., 0.03352489, 0.03352489,\n",
       "        0.03352489], dtype=float32),\n",
       " 'ANOMALY_SCORE_6': array([0.29906699, 0.29935354, 0.29880676, ..., 0.02322421, 0.02322421,\n",
       "        0.02322421]),\n",
       " 'ANOMALY_SCORE_7': array([0.00872764, 0.00859973, 0.00887156, ..., 0.00334215, 0.00334215,\n",
       "        0.00334215]),\n",
       " 'ANOMALY_SCORE_8': array([1.31062858e-04, 1.28486223e-04, 1.24786384e-04, ...,\n",
       "        7.62000709e-05, 7.62000709e-05, 7.62000709e-05]),\n",
       " 'ANOMALY_SCORE_9': array([1.35473005e-04, 1.34046626e-04, 1.30347704e-04, ...,\n",
       "        9.37253062e-05, 9.37253062e-05, 9.37253062e-05]),\n",
       " 'ANOMALY_SCORE_10': array([0.03811574, 0.03839887, 0.03917618, ..., 0.00487931, 0.00487931,\n",
       "        0.00487931]),\n",
       " 'ANOMALY_SCORE_11': array([0.01191944, 0.01162044, 0.01128149, ..., 0.00817439, 0.00817439,\n",
       "        0.00817439]),\n",
       " 'ANOMALY_SCORE_12': array([0.06239607, 0.06428475, 0.06274287, ..., 0.07102941, 0.07102941,\n",
       "        0.07102941], dtype=float32),\n",
       " 'ANOMALY_SCORE_13': array([0.0113032 , 0.01171536, 0.01283071, ..., 0.00566281, 0.00566281,\n",
       "        0.00566281]),\n",
       " 'ANOMALY_SCORE_14': array([0.02301026, 0.02296438, 0.02337017, ..., 0.02456176, 0.02456176,\n",
       "        0.02456176]),\n",
       " 'ANOMALY_SCORE_15': array([0.01922751, 0.01953224, 0.01943491, ..., 0.02488751, 0.02488751,\n",
       "        0.02488751], dtype=float32),\n",
       " 'ANOMALY_SCORE_16': array([0.00144914, 0.00136228, 0.00125343, ..., 0.00134635, 0.00134635,\n",
       "        0.00134635]),\n",
       " 'ANOMALY_SCORE_17': array([5.0398656e-05, 5.1517171e-05, 5.0776391e-05, ..., 5.2556508e-05,\n",
       "        5.2556508e-05, 5.2556508e-05], dtype=float32),\n",
       " 'ANOMALY_SCORE_18': array([1.11993104e-04, 1.16248426e-04, 1.14991490e-04, ...,\n",
       "        8.38214546e-05, 8.38214546e-05, 8.38214546e-05]),\n",
       " 'ANOMALY_SCORE_19': array([0.0254957 , 0.02583159, 0.02528928, ..., 0.11518677, 0.11518677,\n",
       "        0.11518677], dtype=float32),\n",
       " 'ANOMALY_SCORE_20': array([0.01100122, 0.01137816, 0.01230584, ..., 0.00517739, 0.00517739,\n",
       "        0.00517739]),\n",
       " 'ANOMALY_SCORE_21': array([1.14602415e-04, 1.18370255e-04, 1.16800118e-04, ...,\n",
       "        7.28059531e-05, 7.28059531e-05, 7.28059531e-05], dtype=float32),\n",
       " 'ANOMALY_SCORE_22': array([0.00387694, 0.00373513, 0.00373998, ..., 0.00605201, 0.00605201,\n",
       "        0.00605201]),\n",
       " 'ANOMALY_SCORE_23': array([0.00452731, 0.00447393, 0.00446631, ..., 0.0251311 , 0.0251311 ,\n",
       "        0.0251311 ]),\n",
       " 'ANOMALY_SCORE_24': array([0.01255838, 0.01304413, 0.01341908, ..., 0.00191793, 0.00191793,\n",
       "        0.00191793]),\n",
       " 'ANOMALY_SCORE_25': array([1.29806300e-04, 1.34930218e-04, 1.35777213e-04, ...,\n",
       "        9.90342960e-05, 9.90342960e-05, 9.90342960e-05]),\n",
       " 'ANOMALY_SCORE_26': array([0.00458868, 0.00460926, 0.00448557, ..., 0.00545126, 0.00545126,\n",
       "        0.00545126]),\n",
       " 'ANOMALY_SCORE_27': array([0.0090309 , 0.00859446, 0.00868097, ..., 0.00549718, 0.00549718,\n",
       "        0.00549718]),\n",
       " 'ANOMALY_SCORE_28': array([6.11933647e-05, 5.78818581e-05, 4.89926897e-05, ...,\n",
       "        4.24150894e-05, 4.24150894e-05, 4.24150894e-05]),\n",
       " 'ANOMALY_SCORE_29': array([0.02178873, 0.02191785, 0.02182103, ..., 0.02288032, 0.02288032,\n",
       "        0.02288032]),\n",
       " 'ANOMALY_SCORE_30': array([0.03752171, 0.03783318, 0.0378107 , ..., 0.02577158, 0.02577158,\n",
       "        0.02577158]),\n",
       " 'ANOMALY_SCORE_31': array([0.00535021, 0.00492778, 0.00473529, ..., 0.01282914, 0.01282914,\n",
       "        0.01282914]),\n",
       " 'ANOMALY_SCORE_32': array([0.06234412, 0.06295288, 0.06317011, ..., 0.03129878, 0.03129878,\n",
       "        0.03129878], dtype=float32),\n",
       " 'ANOMALY_SCORE_33': array([0.00121144, 0.0011209 , 0.00102214, ..., 0.00127855, 0.00127855,\n",
       "        0.00127855]),\n",
       " 'ANOMALY_SCORE_34': array([0.14723963, 0.14721133, 0.14704676, ..., 0.10975614, 0.10975614,\n",
       "        0.10975614]),\n",
       " 'ANOMALY_SCORE_35': array([0.00013957, 0.00014073, 0.00013714, ..., 0.00010831, 0.00010831,\n",
       "        0.00010831]),\n",
       " 'ANOMALY_SCORE_36': array([0.05344485, 0.05573833, 0.05765489, ..., 0.01634782, 0.01634782,\n",
       "        0.01634782]),\n",
       " 'ANOMALY_SCORE_37': array([1.40607212e-04, 1.36649091e-04, 1.32983478e-04, ...,\n",
       "        9.06134301e-05, 9.06134301e-05, 9.06134301e-05]),\n",
       " 'ANOMALY_SCORE_38': array([0.00015583, 0.00014966, 0.00014609, ..., 0.00010479, 0.00010479,\n",
       "        0.00010479]),\n",
       " 'ANOMALY_SCORE_39': array([0.01070307, 0.01037441, 0.01004346, ..., 0.01149587, 0.01149587,\n",
       "        0.01149587]),\n",
       " 'ANOMALY_SCORE_40': array([0.10550956, 0.10598113, 0.10542478, ..., 0.04256763, 0.04256763,\n",
       "        0.04256763], dtype=float32),\n",
       " 'ANOMALY_SCORE_41': array([0.02650977, 0.02176391, 0.01520851, ..., 0.0042455 , 0.0042455 ,\n",
       "        0.0042455 ]),\n",
       " 'ANOMALY_SCORE_42': array([0.00901899, 0.00919867, 0.0094537 , ..., 0.00625596, 0.00625596,\n",
       "        0.00625596]),\n",
       " 'ANOMALY_SCORE_43': array([0.05987372, 0.05858928, 0.05705338, ..., 0.04222441, 0.04222441,\n",
       "        0.04222441], dtype=float32),\n",
       " 'ANOMALY_SCORE_44': array([0.14061819, 0.14083178, 0.12601124, ..., 0.14716503, 0.14716503,\n",
       "        0.14716503]),\n",
       " 'ANOMALY_SCORE_45': array([0.00614934, 0.00634567, 0.00647302, ..., 0.00660854, 0.00660854,\n",
       "        0.00660854]),\n",
       " 'ANOMALY_SCORE_46': array([0.01317431, 0.01341669, 0.0135841 , ..., 0.01754725, 0.01754725,\n",
       "        0.01754725]),\n",
       " 'ANOMALY_SCORE_47': array([0.01202117, 0.01205831, 0.01234155, ..., 0.00374793, 0.00374793,\n",
       "        0.00374793]),\n",
       " 'ANOMALY_SCORE_48': array([8.2170140e-05, 8.3634288e-05, 8.3971259e-05, ..., 3.5819645e-05,\n",
       "        3.5819645e-05, 3.5819645e-05], dtype=float32),\n",
       " 'ANOMALY_SCORE_49': array([0.01333184, 0.01373959, 0.01448506, ..., 0.01081919, 0.01081919,\n",
       "        0.01081919]),\n",
       " 'ANOMALY_SCORE_50': array([0.01167023, 0.01195275, 0.01245004, ..., 0.05778249, 0.05778249,\n",
       "        0.05778249], dtype=float32),\n",
       " 'ANOMALY_SCORE_51': array([9.32476323e-05, 8.84270630e-05, 8.64337053e-05, ...,\n",
       "        7.13550253e-05, 7.13550253e-05, 7.13550253e-05]),\n",
       " 'ANOMALY_SCORE_52': array([0.02030607, 0.02082638, 0.02194714, ..., 0.01057161, 0.01057161,\n",
       "        0.01057161]),\n",
       " 'ANOMALY_SCORE_53': array([0.01297715, 0.01246281, 0.01236317, ..., 0.02809047, 0.02809047,\n",
       "        0.02809047]),\n",
       " 'ANOMALY_SCORE_54': array([1.41778772e-04, 1.37239011e-04, 1.33312118e-04, ...,\n",
       "        8.69376308e-05, 8.69376308e-05, 8.69376308e-05]),\n",
       " 'ANOMALY_SCORE_55': array([0.00669837, 0.0059439 , 0.00517484, ..., 0.0054049 , 0.0054049 ,\n",
       "        0.0054049 ]),\n",
       " 'ANOMALY_SCORE_56': array([0.00499962, 0.00511922, 0.00507092, ..., 0.03743088, 0.03743088,\n",
       "        0.03743088]),\n",
       " 'ANOMALY_SCORE_57': array([0.04495005, 0.04373096, 0.0421731 , ..., 0.01135243, 0.01135243,\n",
       "        0.01135243], dtype=float32),\n",
       " 'ANOMALY_SCORE_58': array([0.02530716, 0.02540605, 0.02545853, ..., 0.01770217, 0.01770217,\n",
       "        0.01770217]),\n",
       " 'ANOMALY_SCORE_59': array([0.05165943, 0.0493687 , 0.0474683 , ..., 0.04323457, 0.04323457,\n",
       "        0.04323457]),\n",
       " 'ANOMALY_SCORE_60': array([0.01242959, 0.01247204, 0.01277243, ..., 0.00384269, 0.00384269,\n",
       "        0.00384269]),\n",
       " 'ANOMALY_SCORE_61': array([0.04617139, 0.04620172, 0.04549841, ..., 0.03219322, 0.03219322,\n",
       "        0.03219322]),\n",
       " 'ANOMALY_SCORE_62': array([0.00015333, 0.00014621, 0.00014297, ..., 0.00010091, 0.00010091,\n",
       "        0.00010091]),\n",
       " 'ANOMALY_SCORE_63': array([0.00124577, 0.00115513, 0.00105288, ..., 0.00130854, 0.00130854,\n",
       "        0.00130854]),\n",
       " 'ANOMALY_SCORE_64': array([0.0198471 , 0.01926251, 0.01879934, ..., 0.01216591, 0.01216591,\n",
       "        0.01216591]),\n",
       " 'ANOMALY_SCORE_65': array([0.01738953, 0.01741377, 0.01682494, ..., 0.03754308, 0.03754308,\n",
       "        0.03754308]),\n",
       " 'ANOMALY_SCORE_66': array([0.00702144, 0.00715467, 0.00730127, ..., 0.01037043, 0.01037043,\n",
       "        0.01037043], dtype=float32),\n",
       " 'ANOMALY_SCORE_67': array([0.01332688, 0.01283019, 0.01271755, ..., 0.01156479, 0.01156479,\n",
       "        0.01156479]),\n",
       " 'ANOMALY_SCORE_68': array([6.4165324e-05, 6.4992862e-05, 6.4252396e-05, ..., 3.6326404e-05,\n",
       "        3.6326404e-05, 3.6326404e-05], dtype=float32),\n",
       " 'ANOMALY_SCORE_69': array([0.00591442, 0.00555189, 0.00510564, ..., 0.01622315, 0.01622315,\n",
       "        0.01622315]),\n",
       " 'ANOMALY_SCORE_70': array([0.01528114, 0.01557621, 0.01597431, ..., 0.01283664, 0.01283664,\n",
       "        0.01283664]),\n",
       " 'ANOMALY_SCORE_71': array([0.00938156, 0.00909553, 0.00869818, ..., 0.00888371, 0.00888371,\n",
       "        0.00888371]),\n",
       " 'ANOMALY_SCORE_72': array([0.01716988, 0.01753162, 0.01757889, ..., 0.02509964, 0.02509964,\n",
       "        0.02509964]),\n",
       " 'ANOMALY_SCORE_73': array([0.00461033, 0.00481642, 0.00497426, ..., 0.00570696, 0.00570696,\n",
       "        0.00570696]),\n",
       " 'ANOMALY_SCORE_74': array([0.01929402, 0.02003088, 0.01997677, ..., 0.02843746, 0.02843746,\n",
       "        0.02843746]),\n",
       " 'ANOMALY_SCORE_75': array([0.02839742, 0.02877702, 0.02891431, ..., 0.02147374, 0.02147374,\n",
       "        0.02147374]),\n",
       " 'ANOMALY_SCORE_76': array([0.02262981, 0.02193153, 0.02157862, ..., 0.01951442, 0.01951442,\n",
       "        0.01951442]),\n",
       " 'ANOMALY_SCORE_77': array([0.04731214, 0.04916541, 0.05074568, ..., 0.01125838, 0.01125838,\n",
       "        0.01125838]),\n",
       " 'ANOMALY_SCORE_78': array([0.11068084, 0.11030583, 0.10993659, ..., 0.10357003, 0.10357003,\n",
       "        0.10357003], dtype=float32),\n",
       " 'ANOMALY_SCORE_79': array([0.01024856, 0.0096752 , 0.00964956, ..., 0.00602276, 0.00602276,\n",
       "        0.00602276]),\n",
       " 'ANOMALY_SCORE_80': array([0.00614215, 0.00568123, 0.00525769, ..., 0.00505157, 0.00505157,\n",
       "        0.00505157]),\n",
       " 'ANOMALY_SCORE_81': array([1.2453223e-04, 1.2782139e-04, 1.2623881e-04, ..., 8.6544293e-05,\n",
       "        8.6544293e-05, 8.6544293e-05], dtype=float32),\n",
       " 'ANOMALY_SCORE_82': array([0.04289476, 0.04296669, 0.0429205 , ..., 0.04485689, 0.04485689,\n",
       "        0.04485689]),\n",
       " 'ANOMALY_SCORE_83': array([0.00228336, 0.00227325, 0.00225684, ..., 0.00167836, 0.00167836,\n",
       "        0.00167836]),\n",
       " 'ANOMALY_SCORE_84': array([1.32868285e-04, 1.35215523e-04, 1.33111171e-04, ...,\n",
       "        9.12247197e-05, 9.12247197e-05, 9.12247197e-05]),\n",
       " 'ANOMALY_SCORE_85': array([0.02253725, 0.02295092, 0.02319643, ..., 0.00386441, 0.00386441,\n",
       "        0.00386441])}"
      ]
     },
     "execution_count": 121,
     "metadata": {},
     "output_type": "execute_result"
    }
   ],
   "source": [
    "ab_dist"
   ]
  },
  {
   "cell_type": "code",
   "execution_count": 122,
   "id": "ba955beb",
   "metadata": {
    "scrolled": true
   },
   "outputs": [
    {
     "data": {
      "text/plain": [
       "{'ANOMALY_THRES_0': 0.030847,\n",
       " 'ANOMALY_THRES_1': 0.00048,\n",
       " 'ANOMALY_THRES_2': 0.106477,\n",
       " 'ANOMALY_THRES_3': 0.015673,\n",
       " 'ANOMALY_THRES_4': 0.040794,\n",
       " 'ANOMALY_THRES_5': 0.015246,\n",
       " 'ANOMALY_THRES_6': 0.079482,\n",
       " 'ANOMALY_THRES_7': 0.045956,\n",
       " 'ANOMALY_THRES_8': 0.000464,\n",
       " 'ANOMALY_THRES_9': 0.000533,\n",
       " 'ANOMALY_THRES_10': 0.013427,\n",
       " 'ANOMALY_THRES_11': 0.186722,\n",
       " 'ANOMALY_THRES_12': 0.043786,\n",
       " 'ANOMALY_THRES_13': 0.035409,\n",
       " 'ANOMALY_THRES_14': 0.03192,\n",
       " 'ANOMALY_THRES_15': 0.040952,\n",
       " 'ANOMALY_THRES_16': 4e-06,\n",
       " 'ANOMALY_THRES_17': 0.000228,\n",
       " 'ANOMALY_THRES_18': 0.000348,\n",
       " 'ANOMALY_THRES_19': 0.058354,\n",
       " 'ANOMALY_THRES_20': 0.032731,\n",
       " 'ANOMALY_THRES_21': 0.000381,\n",
       " 'ANOMALY_THRES_22': 0.016368,\n",
       " 'ANOMALY_THRES_23': 0.072327,\n",
       " 'ANOMALY_THRES_24': 0.026862,\n",
       " 'ANOMALY_THRES_25': 0.000353,\n",
       " 'ANOMALY_THRES_26': 0.019072,\n",
       " 'ANOMALY_THRES_27': 0.026262,\n",
       " 'ANOMALY_THRES_28': 0.000265,\n",
       " 'ANOMALY_THRES_29': 0.027142,\n",
       " 'ANOMALY_THRES_30': 0.05134,\n",
       " 'ANOMALY_THRES_31': 0.04359,\n",
       " 'ANOMALY_THRES_32': 0.037886,\n",
       " 'ANOMALY_THRES_33': 0.000148,\n",
       " 'ANOMALY_THRES_34': 0.054073,\n",
       " 'ANOMALY_THRES_35': 0.000332,\n",
       " 'ANOMALY_THRES_36': 0.043954,\n",
       " 'ANOMALY_THRES_37': 0.000478,\n",
       " 'ANOMALY_THRES_38': 0.000523,\n",
       " 'ANOMALY_THRES_39': 0.022836,\n",
       " 'ANOMALY_THRES_40': 0.035064,\n",
       " 'ANOMALY_THRES_41': 0.032414,\n",
       " 'ANOMALY_THRES_42': 0.077262,\n",
       " 'ANOMALY_THRES_43': 0.039198,\n",
       " 'ANOMALY_THRES_44': 0.092588,\n",
       " 'ANOMALY_THRES_45': 0.0534,\n",
       " 'ANOMALY_THRES_46': 0.009056,\n",
       " 'ANOMALY_THRES_47': 0.000275,\n",
       " 'ANOMALY_THRES_48': 0.000227,\n",
       " 'ANOMALY_THRES_49': 0.0271,\n",
       " 'ANOMALY_THRES_50': 0.002193,\n",
       " 'ANOMALY_THRES_51': 0.000228,\n",
       " 'ANOMALY_THRES_52': 0.054609,\n",
       " 'ANOMALY_THRES_53': 0.011571,\n",
       " 'ANOMALY_THRES_54': 0.000478,\n",
       " 'ANOMALY_THRES_55': 0.038183,\n",
       " 'ANOMALY_THRES_56': 0.107377,\n",
       " 'ANOMALY_THRES_57': 0.024465,\n",
       " 'ANOMALY_THRES_58': 0.045137,\n",
       " 'ANOMALY_THRES_59': 0.041122,\n",
       " 'ANOMALY_THRES_60': 0.000279,\n",
       " 'ANOMALY_THRES_61': 0.044602,\n",
       " 'ANOMALY_THRES_62': 0.00048,\n",
       " 'ANOMALY_THRES_63': 7e-06,\n",
       " 'ANOMALY_THRES_64': 0.117025,\n",
       " 'ANOMALY_THRES_65': 0.079381,\n",
       " 'ANOMALY_THRES_66': 0.04279,\n",
       " 'ANOMALY_THRES_67': 0.37516,\n",
       " 'ANOMALY_THRES_68': 0.000186,\n",
       " 'ANOMALY_THRES_69': 0.04552,\n",
       " 'ANOMALY_THRES_70': 0.094531,\n",
       " 'ANOMALY_THRES_71': 0.043501,\n",
       " 'ANOMALY_THRES_72': 0.088771,\n",
       " 'ANOMALY_THRES_73': 0.011285,\n",
       " 'ANOMALY_THRES_74': 0.039832,\n",
       " 'ANOMALY_THRES_75': 0.059459,\n",
       " 'ANOMALY_THRES_76': 0.061368,\n",
       " 'ANOMALY_THRES_77': 0.062879,\n",
       " 'ANOMALY_THRES_78': 0.149326,\n",
       " 'ANOMALY_THRES_79': 0.01139,\n",
       " 'ANOMALY_THRES_80': 0.014667,\n",
       " 'ANOMALY_THRES_81': 0.000431,\n",
       " 'ANOMALY_THRES_82': 0.013249,\n",
       " 'ANOMALY_THRES_83': 9.2e-05,\n",
       " 'ANOMALY_THRES_84': 0.000316,\n",
       " 'ANOMALY_THRES_85': 0.018121}"
      ]
     },
     "execution_count": 122,
     "metadata": {},
     "output_type": "execute_result"
    }
   ],
   "source": [
    "ab_thres"
   ]
  },
  {
   "cell_type": "code",
   "execution_count": 123,
   "id": "e27ea819",
   "metadata": {},
   "outputs": [
    {
     "data": {
      "text/plain": [
       "86"
      ]
     },
     "execution_count": 123,
     "metadata": {},
     "output_type": "execute_result"
    }
   ],
   "source": [
    "len(ab_thres)"
   ]
  },
  {
   "cell_type": "code",
   "execution_count": 181,
   "id": "e7b623b0",
   "metadata": {},
   "outputs": [],
   "source": [
    "# LOAD RESULTS\n",
    "with open('./FINAL_PRED.pkl', 'rb') as PRED:\n",
    "    PRED = pkl.load(PRED)"
   ]
  },
  {
   "cell_type": "code",
   "execution_count": 182,
   "id": "bd6ff8fb",
   "metadata": {
    "scrolled": true
   },
   "outputs": [
    {
     "data": {
      "text/plain": [
       "{'COL0': array([0, 0, 0, ..., 0, 0, 0], dtype=int8),\n",
       " 'COL1': array([0, 0, 0, ..., 0, 0, 0], dtype=int8),\n",
       " 'COL2': array([0, 0, 0, ..., 0, 0, 0], dtype=int8),\n",
       " 'COL3': array([0, 0, 0, ..., 1, 1, 1], dtype=int8),\n",
       " 'COL4': array([0, 0, 0, ..., 0, 0, 0], dtype=int8),\n",
       " 'COL5': array([0, 0, 0, ..., 1, 1, 1], dtype=int8),\n",
       " 'COL6': array([0, 0, 0, ..., 0, 0, 0], dtype=int8),\n",
       " 'COL7': array([0, 0, 0, ..., 0, 0, 0], dtype=int8),\n",
       " 'COL8': array([0, 0, 0, ..., 0, 0, 0], dtype=int8),\n",
       " 'COL9': array([0, 0, 0, ..., 0, 0, 0], dtype=int8),\n",
       " 'COL10': array([0, 0, 0, ..., 0, 0, 0], dtype=int8),\n",
       " 'COL11': array([0, 0, 0, ..., 0, 0, 0], dtype=int8),\n",
       " 'COL12': array([0, 0, 0, ..., 1, 1, 1], dtype=int8),\n",
       " 'COL13': array([0, 0, 0, ..., 0, 0, 0], dtype=int8),\n",
       " 'COL14': array([0, 0, 0, ..., 0, 0, 0], dtype=int8),\n",
       " 'COL15': array([0, 0, 0, ..., 0, 0, 0], dtype=int8),\n",
       " 'COL16': array([0, 0, 0, ..., 1, 1, 1], dtype=int8),\n",
       " 'COL17': array([0, 0, 0, ..., 0, 0, 0], dtype=int8),\n",
       " 'COL18': array([0, 0, 0, ..., 0, 0, 0], dtype=int8),\n",
       " 'COL19': array([0, 0, 0, ..., 1, 1, 1], dtype=int8),\n",
       " 'COL20': array([0, 0, 0, ..., 0, 0, 0], dtype=int8),\n",
       " 'COL21': array([0, 0, 0, ..., 0, 0, 0], dtype=int8),\n",
       " 'COL22': array([0, 0, 0, ..., 0, 0, 0], dtype=int8),\n",
       " 'COL23': array([0, 0, 0, ..., 0, 0, 0], dtype=int8),\n",
       " 'COL24': array([0, 0, 0, ..., 1, 1, 1], dtype=int8),\n",
       " 'COL25': array([0, 0, 0, ..., 0, 0, 0], dtype=int8),\n",
       " 'COL26': array([0, 0, 0, ..., 0, 0, 0], dtype=int8),\n",
       " 'COL27': array([0, 0, 0, ..., 0, 0, 0], dtype=int8),\n",
       " 'COL28': array([0, 0, 0, ..., 0, 0, 0], dtype=int8),\n",
       " 'COL29': array([0, 0, 0, ..., 0, 0, 0], dtype=int8),\n",
       " 'COL30': array([0, 0, 0, ..., 0, 0, 0], dtype=int8),\n",
       " 'COL31': array([0, 0, 0, ..., 0, 0, 0], dtype=int8),\n",
       " 'COL32': array([0, 0, 0, ..., 0, 0, 0], dtype=int8),\n",
       " 'COL33': array([0, 0, 0, ..., 1, 1, 1], dtype=int8),\n",
       " 'COL34': array([0, 0, 0, ..., 0, 0, 0], dtype=int8),\n",
       " 'COL35': array([0, 0, 0, ..., 0, 0, 0], dtype=int8),\n",
       " 'COL36': array([0, 0, 0, ..., 1, 1, 1], dtype=int8),\n",
       " 'COL37': array([0, 0, 0, ..., 0, 0, 0], dtype=int8),\n",
       " 'COL38': array([0, 0, 0, ..., 0, 0, 0], dtype=int8),\n",
       " 'COL39': array([0, 0, 0, ..., 0, 0, 0], dtype=int8),\n",
       " 'COL40': array([0, 0, 0, ..., 0, 0, 0], dtype=int8),\n",
       " 'COL41': array([0, 0, 0, ..., 0, 0, 0], dtype=int8),\n",
       " 'COL42': array([0, 0, 0, ..., 0, 0, 0], dtype=int8),\n",
       " 'COL43': array([0, 0, 0, ..., 1, 1, 1], dtype=int8),\n",
       " 'COL44': array([0, 0, 0, ..., 1, 1, 1], dtype=int8),\n",
       " 'COL45': array([0, 0, 0, ..., 0, 0, 0], dtype=int8),\n",
       " 'COL46': array([0, 0, 0, ..., 1, 1, 1], dtype=int8),\n",
       " 'COL47': array([0, 0, 0, ..., 1, 1, 1], dtype=int8),\n",
       " 'COL48': array([0, 0, 0, ..., 0, 0, 0], dtype=int8),\n",
       " 'COL49': array([0, 0, 0, ..., 0, 0, 0], dtype=int8),\n",
       " 'COL50': array([0, 0, 0, ..., 1, 1, 1], dtype=int8),\n",
       " 'COL51': array([0, 0, 0, ..., 0, 0, 0], dtype=int8),\n",
       " 'COL52': array([0, 0, 0, ..., 0, 0, 0], dtype=int8),\n",
       " 'COL53': array([0, 0, 0, ..., 1, 1, 1], dtype=int8),\n",
       " 'COL54': array([0, 0, 0, ..., 0, 0, 0], dtype=int8),\n",
       " 'COL55': array([0, 0, 0, ..., 0, 0, 0], dtype=int8),\n",
       " 'COL56': array([0, 0, 0, ..., 0, 0, 0], dtype=int8),\n",
       " 'COL57': array([0, 0, 0, ..., 0, 0, 0], dtype=int8),\n",
       " 'COL58': array([0, 0, 0, ..., 0, 0, 0], dtype=int8),\n",
       " 'COL59': array([0, 0, 0, ..., 1, 1, 1], dtype=int8),\n",
       " 'COL60': array([0, 0, 0, ..., 1, 1, 1], dtype=int8),\n",
       " 'COL61': array([0, 0, 0, ..., 0, 0, 0], dtype=int8),\n",
       " 'COL62': array([0, 0, 0, ..., 0, 0, 0], dtype=int8),\n",
       " 'COL63': array([0, 0, 0, ..., 1, 1, 1], dtype=int8),\n",
       " 'COL64': array([0, 0, 0, ..., 0, 0, 0], dtype=int8),\n",
       " 'COL65': array([0, 0, 0, ..., 0, 0, 0], dtype=int8),\n",
       " 'COL66': array([0, 0, 0, ..., 0, 0, 0], dtype=int8),\n",
       " 'COL67': array([0, 0, 0, ..., 0, 0, 0], dtype=int8),\n",
       " 'COL68': array([0, 0, 0, ..., 0, 0, 0], dtype=int8),\n",
       " 'COL69': array([0, 0, 0, ..., 0, 0, 0], dtype=int8),\n",
       " 'COL70': array([0, 0, 0, ..., 0, 0, 0], dtype=int8),\n",
       " 'COL71': array([0, 0, 0, ..., 0, 0, 0], dtype=int8),\n",
       " 'COL72': array([0, 0, 0, ..., 0, 0, 0], dtype=int8),\n",
       " 'COL73': array([0, 0, 0, ..., 0, 0, 0], dtype=int8),\n",
       " 'COL74': array([0, 0, 0, ..., 0, 0, 0], dtype=int8),\n",
       " 'COL75': array([0, 0, 0, ..., 0, 0, 0], dtype=int8),\n",
       " 'COL76': array([0, 0, 0, ..., 0, 0, 0], dtype=int8),\n",
       " 'COL77': array([0, 0, 0, ..., 0, 0, 0], dtype=int8),\n",
       " 'COL78': array([0, 0, 0, ..., 0, 0, 0], dtype=int8),\n",
       " 'COL79': array([0, 0, 0, ..., 0, 0, 0], dtype=int8),\n",
       " 'COL80': array([0, 0, 0, ..., 0, 0, 0], dtype=int8),\n",
       " 'COL81': array([0, 0, 0, ..., 0, 0, 0], dtype=int8),\n",
       " 'COL82': array([0, 0, 0, ..., 0, 0, 0], dtype=int8),\n",
       " 'COL83': array([0, 0, 0, ..., 1, 1, 1], dtype=int8),\n",
       " 'COL84': array([0, 0, 0, ..., 0, 0, 0], dtype=int8),\n",
       " 'COL85': array([0, 0, 0, ..., 0, 0, 0], dtype=int8)}"
      ]
     },
     "execution_count": 182,
     "metadata": {},
     "output_type": "execute_result"
    }
   ],
   "source": [
    "PRED"
   ]
  },
  {
   "cell_type": "code",
   "execution_count": 183,
   "id": "4b7bff6e",
   "metadata": {},
   "outputs": [
    {
     "data": {
      "text/plain": [
       "86"
      ]
     },
     "execution_count": 183,
     "metadata": {},
     "output_type": "execute_result"
    }
   ],
   "source": [
    "len(PRED)"
   ]
  },
  {
   "cell_type": "code",
   "execution_count": 184,
   "id": "90aef70a",
   "metadata": {},
   "outputs": [
    {
     "data": {
      "text/plain": [
       "Counter({0: 100869, 1: 173931})"
      ]
     },
     "execution_count": 184,
     "metadata": {},
     "output_type": "execute_result"
    }
   ],
   "source": [
    "import numpy as np\n",
    "from collections import Counter\n",
    "Counter(PRED['COL0'])"
   ]
  },
  {
   "cell_type": "code",
   "execution_count": 185,
   "id": "7b07589f",
   "metadata": {
    "scrolled": true
   },
   "outputs": [
    {
     "name": "stdout",
     "output_type": "stream",
     "text": [
      "COL0 : [0 0 0 ... 0 0 0] \n",
      "Counter({1: 173931, 0: 100869})\n",
      "COL1 : [0 0 0 ... 0 0 0] \n",
      "Counter({0: 273484, 1: 1316})\n",
      "COL2 : [0 0 0 ... 0 0 0] \n",
      "Counter({0: 274301, 1: 499})\n",
      "COL3 : [0 0 0 ... 1 1 1] \n",
      "Counter({0: 221641, 1: 53159})\n",
      "COL4 : [0 0 0 ... 0 0 0] \n",
      "Counter({0: 273471, 1: 1329})\n",
      "COL5 : [0 0 0 ... 1 1 1] \n",
      "Counter({1: 249603, 0: 25197})\n",
      "COL6 : [0 0 0 ... 0 0 0] \n",
      "Counter({0: 255669, 1: 19131})\n",
      "COL7 : [0 0 0 ... 0 0 0] \n",
      "Counter({0: 269774, 1: 5026})\n",
      "COL8 : [0 0 0 ... 0 0 0] \n",
      "Counter({0: 273676, 1: 1124})\n",
      "COL9 : [0 0 0 ... 0 0 0] \n",
      "Counter({0: 273865, 1: 935})\n",
      "COL10 : [0 0 0 ... 0 0 0] \n",
      "Counter({1: 202719, 0: 72081})\n",
      "COL11 : [0 0 0 ... 0 0 0] \n",
      "Counter({0: 274371, 1: 429})\n",
      "COL12 : [0 0 0 ... 1 1 1] \n",
      "Counter({1: 267000, 0: 7800})\n",
      "COL13 : [0 0 0 ... 0 0 0] \n",
      "Counter({1: 143107, 0: 131693})\n",
      "COL14 : [0 0 0 ... 0 0 0] \n",
      "Counter({0: 183604, 1: 91196})\n",
      "COL15 : [0 0 0 ... 0 0 0] \n",
      "Counter({0: 272775, 1: 2025})\n",
      "COL16 : [0 0 0 ... 1 1 1] \n",
      "Counter({1: 274036, 0: 764})\n",
      "COL17 : [0 0 0 ... 0 0 0] \n",
      "Counter({0: 274074, 1: 726})\n",
      "COL18 : [0 0 0 ... 0 0 0] \n",
      "Counter({0: 273441, 1: 1359})\n",
      "COL19 : [0 0 0 ... 1 1 1] \n",
      "Counter({0: 179722, 1: 95078})\n",
      "COL20 : [0 0 0 ... 0 0 0] \n",
      "Counter({1: 169440, 0: 105360})\n",
      "COL21 : [0 0 0 ... 0 0 0] \n",
      "Counter({0: 273368, 1: 1432})\n",
      "COL22 : [0 0 0 ... 0 0 0] \n",
      "Counter({0: 263734, 1: 11066})\n",
      "COL23 : [0 0 0 ... 0 0 0] \n",
      "Counter({0: 273173, 1: 1627})\n",
      "COL24 : [0 0 0 ... 1 1 1] \n",
      "Counter({0: 244754, 1: 30046})\n",
      "COL25 : [0 0 0 ... 0 0 0] \n",
      "Counter({0: 273098, 1: 1702})\n",
      "COL26 : [0 0 0 ... 0 0 0] \n",
      "Counter({0: 268892, 1: 5908})\n",
      "COL27 : [0 0 0 ... 0 0 0] \n",
      "Counter({0: 267163, 1: 7637})\n",
      "COL28 : [0 0 0 ... 0 0 0] \n",
      "Counter({0: 273448, 1: 1352})\n",
      "COL29 : [0 0 0 ... 0 0 0] \n",
      "Counter({0: 264091, 1: 10709})\n",
      "COL30 : [0 0 0 ... 0 0 0] \n",
      "Counter({0: 257910, 1: 16890})\n",
      "COL31 : [0 0 0 ... 0 0 0] \n",
      "Counter({0: 273694, 1: 1106})\n",
      "COL32 : [0 0 0 ... 0 0 0] \n",
      "Counter({1: 142349, 0: 132451})\n",
      "COL33 : [0 0 0 ... 1 1 1] \n",
      "Counter({1: 273979, 0: 821})\n",
      "COL34 : [0 0 0 ... 0 0 0] \n",
      "Counter({0: 221490, 1: 53310})\n",
      "COL35 : [0 0 0 ... 0 0 0] \n",
      "Counter({0: 270098, 1: 4702})\n",
      "COL36 : [0 0 0 ... 1 1 1] \n",
      "Counter({1: 244877, 0: 29923})\n",
      "COL37 : [0 0 0 ... 0 0 0] \n",
      "Counter({0: 273737, 1: 1063})\n",
      "COL38 : [0 0 0 ... 0 0 0] \n",
      "Counter({0: 273738, 1: 1062})\n",
      "COL39 : [0 0 0 ... 0 0 0] \n",
      "Counter({0: 272090, 1: 2710})\n",
      "COL40 : [0 0 0 ... 0 0 0] \n",
      "Counter({0: 146613, 1: 128187})\n",
      "COL41 : [0 0 0 ... 0 0 0] \n",
      "Counter({0: 262480, 1: 12320})\n",
      "COL42 : [0 0 0 ... 0 0 0] \n",
      "Counter({0: 273780, 1: 1020})\n",
      "COL43 : [0 0 0 ... 1 1 1] \n",
      "Counter({1: 147974, 0: 126826})\n",
      "COL44 : [0 0 0 ... 1 1 1] \n",
      "Counter({0: 231806, 1: 42994})\n",
      "COL45 : [0 0 0 ... 0 0 0] \n",
      "Counter({0: 273503, 1: 1297})\n",
      "COL46 : [0 0 0 ... 1 1 1] \n",
      "Counter({0: 158958, 1: 115842})\n",
      "COL47 : [0 0 0 ... 1 1 1] \n",
      "Counter({1: 273935, 0: 865})\n",
      "COL48 : [0 0 0 ... 0 0 0] \n",
      "Counter({0: 273957, 1: 843})\n",
      "COL49 : [0 0 0 ... 0 0 0] \n",
      "Counter({0: 263365, 1: 11435})\n",
      "COL50 : [0 0 0 ... 1 1 1] \n",
      "Counter({1: 270818, 0: 3982})\n",
      "COL51 : [0 0 0 ... 0 0 0] \n",
      "Counter({0: 273365, 1: 1435})\n",
      "COL52 : [0 0 0 ... 0 0 0] \n",
      "Counter({0: 269298, 1: 5502})\n",
      "COL53 : [0 0 0 ... 1 1 1] \n",
      "Counter({0: 151599, 1: 123201})\n",
      "COL54 : [0 0 0 ... 0 0 0] \n",
      "Counter({0: 273707, 1: 1093})\n",
      "COL55 : [0 0 0 ... 0 0 0] \n",
      "Counter({0: 272356, 1: 2444})\n",
      "COL56 : [0 0 0 ... 0 0 0] \n",
      "Counter({0: 273818, 1: 982})\n",
      "COL57 : [0 0 0 ... 0 0 0] \n",
      "Counter({1: 180684, 0: 94116})\n",
      "COL58 : [0 0 0 ... 0 0 0] \n",
      "Counter({0: 267172, 1: 7628})\n",
      "COL59 : [0 0 0 ... 1 1 1] \n",
      "Counter({1: 161777, 0: 113023})\n",
      "COL60 : [0 0 0 ... 1 1 1] \n",
      "Counter({1: 273943, 0: 857})\n",
      "COL61 : [0 0 0 ... 0 0 0] \n",
      "Counter({0: 273383, 1: 1417})\n",
      "COL62 : [0 0 0 ... 0 0 0] \n",
      "Counter({0: 273728, 1: 1072})\n",
      "COL63 : [0 0 0 ... 1 1 1] \n",
      "Counter({1: 274037, 0: 763})\n",
      "COL64 : [0 0 0 ... 0 0 0] \n",
      "Counter({0: 273341, 1: 1459})\n",
      "COL65 : [0 0 0 ... 0 0 0] \n",
      "Counter({0: 264239, 1: 10561})\n",
      "COL66 : [0 0 0 ... 0 0 0] \n",
      "Counter({0: 262051, 1: 12749})\n",
      "COL67 : [0 0 0 ... 0 0 0] \n",
      "Counter({0: 274734, 1: 66})\n",
      "COL68 : [0 0 0 ... 0 0 0] \n",
      "Counter({0: 273731, 1: 1069})\n",
      "COL69 : [0 0 0 ... 0 0 0] \n",
      "Counter({0: 273596, 1: 1204})\n",
      "COL70 : [0 0 0 ... 0 0 0] \n",
      "Counter({0: 271317, 1: 3483})\n",
      "COL71 : [0 0 0 ... 0 0 0] \n",
      "Counter({0: 274208, 1: 592})\n",
      "COL72 : [0 0 0 ... 0 0 0] \n",
      "Counter({0: 271672, 1: 3128})\n",
      "COL73 : [0 0 0 ... 0 0 0] \n",
      "Counter({0: 193029, 1: 81771})\n",
      "COL74 : [0 0 0 ... 0 0 0] \n",
      "Counter({0: 272518, 1: 2282})\n",
      "COL75 : [0 0 0 ... 0 0 0] \n",
      "Counter({0: 273924, 1: 876})\n",
      "COL76 : [0 0 0 ... 0 0 0] \n",
      "Counter({0: 273247, 1: 1553})\n",
      "COL77 : [0 0 0 ... 0 0 0] \n",
      "Counter({1: 231955, 0: 42845})\n",
      "COL78 : [0 0 0 ... 0 0 0] \n",
      "Counter({0: 191471, 1: 83329})\n",
      "COL79 : [0 0 0 ... 0 0 0] \n",
      "Counter({0: 181729, 1: 93071})\n",
      "COL80 : [0 0 0 ... 0 0 0] \n",
      "Counter({0: 243350, 1: 31450})\n",
      "COL81 : [0 0 0 ... 0 0 0] \n",
      "Counter({0: 273321, 1: 1479})\n",
      "COL82 : [0 0 0 ... 0 0 0] \n",
      "Counter({1: 142927, 0: 131873})\n",
      "COL83 : [0 0 0 ... 1 1 1] \n",
      "Counter({1: 273881, 0: 919})\n",
      "COL84 : [0 0 0 ... 0 0 0] \n",
      "Counter({0: 270231, 1: 4569})\n",
      "COL85 : [0 0 0 ... 0 0 0] \n",
      "Counter({0: 235215, 1: 39585})\n"
     ]
    }
   ],
   "source": [
    "concat = []\n",
    "for preds, arr in PRED.items():\n",
    "    print(f'{preds} : {arr} ')\n",
    "    print(Counter(arr))\n",
    "    concat.append(arr)\n",
    "#     concat = np.concatenate((concat, arr), axis=0)\n",
    "#     print(concat)\n",
    "#     print(len(concat))\n",
    "#     print(np.array(concat).shape)"
   ]
  },
  {
   "cell_type": "code",
   "execution_count": 186,
   "id": "327171cc",
   "metadata": {
    "scrolled": true
   },
   "outputs": [
    {
     "data": {
      "text/plain": [
       "[array([0, 0, 0, ..., 0, 0, 0], dtype=int8),\n",
       " array([0, 0, 0, ..., 0, 0, 0], dtype=int8),\n",
       " array([0, 0, 0, ..., 0, 0, 0], dtype=int8),\n",
       " array([0, 0, 0, ..., 1, 1, 1], dtype=int8),\n",
       " array([0, 0, 0, ..., 0, 0, 0], dtype=int8),\n",
       " array([0, 0, 0, ..., 1, 1, 1], dtype=int8),\n",
       " array([0, 0, 0, ..., 0, 0, 0], dtype=int8),\n",
       " array([0, 0, 0, ..., 0, 0, 0], dtype=int8),\n",
       " array([0, 0, 0, ..., 0, 0, 0], dtype=int8),\n",
       " array([0, 0, 0, ..., 0, 0, 0], dtype=int8),\n",
       " array([0, 0, 0, ..., 0, 0, 0], dtype=int8),\n",
       " array([0, 0, 0, ..., 0, 0, 0], dtype=int8),\n",
       " array([0, 0, 0, ..., 1, 1, 1], dtype=int8),\n",
       " array([0, 0, 0, ..., 0, 0, 0], dtype=int8),\n",
       " array([0, 0, 0, ..., 0, 0, 0], dtype=int8),\n",
       " array([0, 0, 0, ..., 0, 0, 0], dtype=int8),\n",
       " array([0, 0, 0, ..., 1, 1, 1], dtype=int8),\n",
       " array([0, 0, 0, ..., 0, 0, 0], dtype=int8),\n",
       " array([0, 0, 0, ..., 0, 0, 0], dtype=int8),\n",
       " array([0, 0, 0, ..., 1, 1, 1], dtype=int8),\n",
       " array([0, 0, 0, ..., 0, 0, 0], dtype=int8),\n",
       " array([0, 0, 0, ..., 0, 0, 0], dtype=int8),\n",
       " array([0, 0, 0, ..., 0, 0, 0], dtype=int8),\n",
       " array([0, 0, 0, ..., 0, 0, 0], dtype=int8),\n",
       " array([0, 0, 0, ..., 1, 1, 1], dtype=int8),\n",
       " array([0, 0, 0, ..., 0, 0, 0], dtype=int8),\n",
       " array([0, 0, 0, ..., 0, 0, 0], dtype=int8),\n",
       " array([0, 0, 0, ..., 0, 0, 0], dtype=int8),\n",
       " array([0, 0, 0, ..., 0, 0, 0], dtype=int8),\n",
       " array([0, 0, 0, ..., 0, 0, 0], dtype=int8),\n",
       " array([0, 0, 0, ..., 0, 0, 0], dtype=int8),\n",
       " array([0, 0, 0, ..., 0, 0, 0], dtype=int8),\n",
       " array([0, 0, 0, ..., 0, 0, 0], dtype=int8),\n",
       " array([0, 0, 0, ..., 1, 1, 1], dtype=int8),\n",
       " array([0, 0, 0, ..., 0, 0, 0], dtype=int8),\n",
       " array([0, 0, 0, ..., 0, 0, 0], dtype=int8),\n",
       " array([0, 0, 0, ..., 1, 1, 1], dtype=int8),\n",
       " array([0, 0, 0, ..., 0, 0, 0], dtype=int8),\n",
       " array([0, 0, 0, ..., 0, 0, 0], dtype=int8),\n",
       " array([0, 0, 0, ..., 0, 0, 0], dtype=int8),\n",
       " array([0, 0, 0, ..., 0, 0, 0], dtype=int8),\n",
       " array([0, 0, 0, ..., 0, 0, 0], dtype=int8),\n",
       " array([0, 0, 0, ..., 0, 0, 0], dtype=int8),\n",
       " array([0, 0, 0, ..., 1, 1, 1], dtype=int8),\n",
       " array([0, 0, 0, ..., 1, 1, 1], dtype=int8),\n",
       " array([0, 0, 0, ..., 0, 0, 0], dtype=int8),\n",
       " array([0, 0, 0, ..., 1, 1, 1], dtype=int8),\n",
       " array([0, 0, 0, ..., 1, 1, 1], dtype=int8),\n",
       " array([0, 0, 0, ..., 0, 0, 0], dtype=int8),\n",
       " array([0, 0, 0, ..., 0, 0, 0], dtype=int8),\n",
       " array([0, 0, 0, ..., 1, 1, 1], dtype=int8),\n",
       " array([0, 0, 0, ..., 0, 0, 0], dtype=int8),\n",
       " array([0, 0, 0, ..., 0, 0, 0], dtype=int8),\n",
       " array([0, 0, 0, ..., 1, 1, 1], dtype=int8),\n",
       " array([0, 0, 0, ..., 0, 0, 0], dtype=int8),\n",
       " array([0, 0, 0, ..., 0, 0, 0], dtype=int8),\n",
       " array([0, 0, 0, ..., 0, 0, 0], dtype=int8),\n",
       " array([0, 0, 0, ..., 0, 0, 0], dtype=int8),\n",
       " array([0, 0, 0, ..., 0, 0, 0], dtype=int8),\n",
       " array([0, 0, 0, ..., 1, 1, 1], dtype=int8),\n",
       " array([0, 0, 0, ..., 1, 1, 1], dtype=int8),\n",
       " array([0, 0, 0, ..., 0, 0, 0], dtype=int8),\n",
       " array([0, 0, 0, ..., 0, 0, 0], dtype=int8),\n",
       " array([0, 0, 0, ..., 1, 1, 1], dtype=int8),\n",
       " array([0, 0, 0, ..., 0, 0, 0], dtype=int8),\n",
       " array([0, 0, 0, ..., 0, 0, 0], dtype=int8),\n",
       " array([0, 0, 0, ..., 0, 0, 0], dtype=int8),\n",
       " array([0, 0, 0, ..., 0, 0, 0], dtype=int8),\n",
       " array([0, 0, 0, ..., 0, 0, 0], dtype=int8),\n",
       " array([0, 0, 0, ..., 0, 0, 0], dtype=int8),\n",
       " array([0, 0, 0, ..., 0, 0, 0], dtype=int8),\n",
       " array([0, 0, 0, ..., 0, 0, 0], dtype=int8),\n",
       " array([0, 0, 0, ..., 0, 0, 0], dtype=int8),\n",
       " array([0, 0, 0, ..., 0, 0, 0], dtype=int8),\n",
       " array([0, 0, 0, ..., 0, 0, 0], dtype=int8),\n",
       " array([0, 0, 0, ..., 0, 0, 0], dtype=int8),\n",
       " array([0, 0, 0, ..., 0, 0, 0], dtype=int8),\n",
       " array([0, 0, 0, ..., 0, 0, 0], dtype=int8),\n",
       " array([0, 0, 0, ..., 0, 0, 0], dtype=int8),\n",
       " array([0, 0, 0, ..., 0, 0, 0], dtype=int8),\n",
       " array([0, 0, 0, ..., 0, 0, 0], dtype=int8),\n",
       " array([0, 0, 0, ..., 0, 0, 0], dtype=int8),\n",
       " array([0, 0, 0, ..., 0, 0, 0], dtype=int8),\n",
       " array([0, 0, 0, ..., 1, 1, 1], dtype=int8),\n",
       " array([0, 0, 0, ..., 0, 0, 0], dtype=int8),\n",
       " array([0, 0, 0, ..., 0, 0, 0], dtype=int8)]"
      ]
     },
     "execution_count": 186,
     "metadata": {},
     "output_type": "execute_result"
    }
   ],
   "source": [
    "concat"
   ]
  },
  {
   "cell_type": "code",
   "execution_count": 187,
   "id": "56478b42",
   "metadata": {},
   "outputs": [
    {
     "data": {
      "text/plain": [
       "86"
      ]
     },
     "execution_count": 187,
     "metadata": {},
     "output_type": "execute_result"
    }
   ],
   "source": [
    "len(concat)"
   ]
  },
  {
   "cell_type": "code",
   "execution_count": 188,
   "id": "5ee67b7b",
   "metadata": {},
   "outputs": [
    {
     "data": {
      "text/plain": [
       "array([0.        , 0.        , 0.        , ..., 0.20930233, 0.20930233,\n",
       "       0.20930233])"
      ]
     },
     "execution_count": 188,
     "metadata": {},
     "output_type": "execute_result"
    }
   ],
   "source": [
    "avg_concat = np.mean(concat, axis =0)\n",
    "avg_concat"
   ]
  },
  {
   "cell_type": "code",
   "execution_count": 189,
   "id": "3ebff5ed",
   "metadata": {},
   "outputs": [
    {
     "data": {
      "text/plain": [
       "array([0.        , 0.        , 0.        , ..., 0.20930233, 0.20930233,\n",
       "       0.20930233])"
      ]
     },
     "execution_count": 189,
     "metadata": {},
     "output_type": "execute_result"
    }
   ],
   "source": [
    "avg_concat"
   ]
  },
  {
   "cell_type": "code",
   "execution_count": 190,
   "id": "38539fdd",
   "metadata": {},
   "outputs": [
    {
     "data": {
      "text/plain": [
       "274800"
      ]
     },
     "execution_count": 190,
     "metadata": {},
     "output_type": "execute_result"
    }
   ],
   "source": [
    "len(avg_concat)"
   ]
  },
  {
   "cell_type": "code",
   "execution_count": 198,
   "id": "c01d3c35",
   "metadata": {},
   "outputs": [
    {
     "data": {
      "text/plain": [
       "(274800, 2)"
      ]
     },
     "execution_count": 198,
     "metadata": {},
     "output_type": "execute_result"
    }
   ],
   "source": [
    "import pandas as pd\n",
    "submission = pd.read_csv('./HAICon2021_dataset/sample_submission.csv')\n",
    "submission.shape"
   ]
  },
  {
   "cell_type": "code",
   "execution_count": 199,
   "id": "b72c3db7",
   "metadata": {},
   "outputs": [],
   "source": [
    "def put_labels(distance, threshold):\n",
    "    xs = np.zeros_like(distance)\n",
    "    xs[distance > threshold] = 1\n",
    "    return xs"
   ]
  },
  {
   "cell_type": "code",
   "execution_count": 200,
   "id": "a5a9a49e",
   "metadata": {},
   "outputs": [
    {
     "name": "stdout",
     "output_type": "stream",
     "text": [
      "[0. 0. 0. ... 0. 0. 0.] (274800,)\n",
      "Counter({0.0: 273029, 1.0: 1771})\n"
     ]
    }
   ],
   "source": [
    "LABELS_4 = put_labels(avg_concat, 0.4)\n",
    "print(LABELS_4, LABELS_4.shape)\n",
    "print(Counter(LABELS_4))"
   ]
  },
  {
   "cell_type": "code",
   "execution_count": 201,
   "id": "e9e625d2",
   "metadata": {},
   "outputs": [
    {
     "data": {
      "text/plain": [
       "0         0.0\n",
       "1         0.0\n",
       "2         0.0\n",
       "3         0.0\n",
       "4         0.0\n",
       "         ... \n",
       "274795    0.0\n",
       "274796    0.0\n",
       "274797    0.0\n",
       "274798    0.0\n",
       "274799    0.0\n",
       "Name: attack, Length: 274800, dtype: float64"
      ]
     },
     "execution_count": 201,
     "metadata": {},
     "output_type": "execute_result"
    }
   ],
   "source": [
    "submission['attack'] = pd.Series(LABELS_4)\n",
    "submission['attack'] "
   ]
  },
  {
   "cell_type": "code",
   "execution_count": 202,
   "id": "c1d629b2",
   "metadata": {},
   "outputs": [
    {
     "data": {
      "text/plain": [
       "0.0    273029\n",
       "1.0      1771\n",
       "Name: attack, dtype: int64"
      ]
     },
     "execution_count": 202,
     "metadata": {},
     "output_type": "execute_result"
    }
   ],
   "source": [
    "submission['attack'].value_counts()"
   ]
  },
  {
   "cell_type": "code",
   "execution_count": 203,
   "id": "b5db7496",
   "metadata": {},
   "outputs": [],
   "source": [
    "submission.to_csv(f'GPT_254_thres4.csv', index=False)"
   ]
  },
  {
   "cell_type": "markdown",
   "id": "5b426f58",
   "metadata": {},
   "source": [
    "### VAL"
   ]
  },
  {
   "cell_type": "code",
   "execution_count": 142,
   "id": "c8618be0",
   "metadata": {},
   "outputs": [
    {
     "data": {
      "application/vnd.jupyter.widget-view+json": {
       "model_id": "ed6d0ceb89f6473782ea469759d35558",
       "version_major": 2,
       "version_minor": 0
      },
      "text/plain": [
       "HBox(children=(FloatProgress(value=0.0, max=1004148.0), HTML(value='')))"
      ]
     },
     "metadata": {},
     "output_type": "display_data"
    },
    {
     "name": "stdout",
     "output_type": "stream",
     "text": [
      "\n",
      "# of valid windows: 100288\n"
     ]
    },
    {
     "data": {
      "application/vnd.jupyter.widget-view+json": {
       "model_id": "6a1d9543f2ea4ac4a0c7a5fc7f4eeb5e",
       "version_major": 2,
       "version_minor": 0
      },
      "text/plain": [
       "HBox(children=(FloatProgress(value=0.0, max=86146.0), HTML(value='')))"
      ]
     },
     "metadata": {},
     "output_type": "display_data"
    },
    {
     "name": "stdout",
     "output_type": "stream",
     "text": [
      "\n",
      "# of valid windows: 86146\n"
     ]
    },
    {
     "data": {
      "application/vnd.jupyter.widget-view+json": {
       "model_id": "bbb8d860bbd84456a27d98f5abd4f873",
       "version_major": 2,
       "version_minor": 0
      },
      "text/plain": [
       "HBox(children=(FloatProgress(value=0.0, max=274546.0), HTML(value='')))"
      ]
     },
     "metadata": {},
     "output_type": "display_data"
    },
    {
     "name": "stdout",
     "output_type": "stream",
     "text": [
      "\n",
      "# of valid windows: 274038\n"
     ]
    },
    {
     "data": {
      "text/plain": [
       "<All keys matched successfully>"
      ]
     },
     "execution_count": 142,
     "metadata": {},
     "output_type": "execute_result"
    }
   ],
   "source": [
    "import sys\n",
    "\n",
    "from pathlib import Path\n",
    "from datetime import timedelta\n",
    "\n",
    "import dateutil\n",
    "import numpy as np\n",
    "import matplotlib.pyplot as plt\n",
    "import pandas as pd\n",
    "import torch\n",
    "import torch.nn as nn\n",
    "import torch.nn.functional as F\n",
    "import torch.optim as optim\n",
    "from torch.utils.data import Dataset, DataLoader\n",
    "from tqdm.notebook import trange\n",
    "from TaPR_pkg import etapr\n",
    "from src import dataset\n",
    "import random\n",
    "import pickle\n",
    "from torchinfo import summary\n",
    "# import wandb\n",
    "\n",
    "import datetime\n",
    "now = datetime.datetime.now()\n",
    "# wandb.run.name = now.strftime(\"%Y/%m/%d %H:%m:%S\")\n",
    "\n",
    "import transformers\n",
    "from src.models.gpt2 import GPT2Model\n",
    "\n",
    "device = torch.device(\"cuda\" if torch.cuda.is_available() else \"cpu\")\n",
    "torch.backends.cudnn.benchmark = True\n",
    "\n",
    "def set_seed(random_seed):\n",
    "    torch.manual_seed(random_seed)\n",
    "    torch.cuda.manual_seed(random_seed)\n",
    "    torch.cuda.manual_seed_all(random_seed)  # if use multi-GPU\n",
    "    torch.backends.cudnn.deterministic = True\n",
    "    torch.backends.cudnn.benchmark = False\n",
    "    np.random.seed(random_seed)\n",
    "    random.seed(random_seed)\n",
    "\n",
    "set_seed(72)\n",
    "\n",
    "WINDOW_GIVEN = 254\n",
    "WINDOW_SIZE = 255\n",
    "\n",
    "class HaiDataset(Dataset):\n",
    "    def __init__(self, timestamps, df, stride=1, attacks=None):\n",
    "        self.ts = np.array(timestamps)\n",
    "        self.tag_values = np.array(df, dtype=np.float32)\n",
    "        self.valid_idxs = []\n",
    "        for L in trange(len(self.ts) - WINDOW_SIZE + 1):\n",
    "            R = L + WINDOW_SIZE - 1\n",
    "            if dateutil.parser.parse(self.ts[R]) - dateutil.parser.parse(\n",
    "                self.ts[L]\n",
    "            ) == timedelta(seconds=WINDOW_SIZE - 1):\n",
    "                self.valid_idxs.append(L)\n",
    "        self.valid_idxs = np.array(self.valid_idxs, dtype=np.int32)[::stride]\n",
    "        self.n_idxs = len(self.valid_idxs)\n",
    "        print(f\"# of valid windows: {self.n_idxs}\")\n",
    "        if attacks is not None:\n",
    "            self.attacks = np.array(attacks, dtype=np.float32)\n",
    "            self.with_attack = True\n",
    "        else:\n",
    "            self.with_attack = False\n",
    "\n",
    "    def __len__(self):\n",
    "        return self.n_idxs\n",
    "\n",
    "    def __getitem__(self, idx):\n",
    "        i = self.valid_idxs[idx]\n",
    "        last = i + WINDOW_SIZE - 1\n",
    "        item = {\"attack\": self.attacks[last]} if self.with_attack else {}\n",
    "        item[\"ts\"] = self.ts[i + WINDOW_SIZE - 1]\n",
    "        item[\"given\"] = torch.from_numpy(self.tag_values[i : i + WINDOW_GIVEN])\n",
    "        item[\"answer\"] = torch.from_numpy(self.tag_values[last])\n",
    "        return item\n",
    "    \n",
    "def boundary_check(df):\n",
    "    x = np.array(df, dtype=np.float32)\n",
    "    return np.any(x > 1.0), np.any(x < 0), np.any(np.isnan(x))\n",
    "\n",
    "TRAIN_DATASET = sorted([x for x in Path(\"HAICon2021_dataset/train/\").glob(\"*.csv\")])\n",
    "# TRAIN_DATASET\n",
    "\n",
    "VALIDATION_DATASET = sorted([x for x in Path(\"HAICon2021_dataset/validation/\").glob(\"*.csv\")])\n",
    "# VALIDATION_DATASET\n",
    "\n",
    "TEST_DATASET = sorted([x for x in Path(\"HAICon2021_dataset/test/\").glob(\"*.csv\")])\n",
    "# TEST_DATASET\n",
    "\n",
    "def dataframe_from_csv(target):\n",
    "    return pd.read_csv(target).rename(columns=lambda x: x.strip())\n",
    "\n",
    "def dataframe_from_csvs(targets):\n",
    "    return pd.concat([dataframe_from_csv(x) for x in targets])\n",
    "\n",
    "TRAIN_DF_RAW = dataframe_from_csvs(TRAIN_DATASET)\n",
    "\n",
    "TIMESTAMP_FIELD = \"timestamp\"\n",
    "IDSTAMP_FIELD = 'id'\n",
    "ATTACK_FIELD = \"attack\"\n",
    "VALID_COLUMNS_IN_TRAIN_DATASET = TRAIN_DF_RAW.columns.drop([TIMESTAMP_FIELD])\n",
    "VALID_COLUMNS_IN_TRAIN_DATASET\n",
    "\n",
    "TAG_MIN = TRAIN_DF_RAW[VALID_COLUMNS_IN_TRAIN_DATASET].min()\n",
    "TAG_MAX = TRAIN_DF_RAW[VALID_COLUMNS_IN_TRAIN_DATASET].max()\n",
    "\n",
    "def normalize(df):\n",
    "    ndf = df.copy()\n",
    "    for c in df.columns:\n",
    "        if TAG_MIN[c] == TAG_MAX[c]:\n",
    "            ndf[c] = df[c] - TAG_MIN[c]\n",
    "        else:\n",
    "            ndf[c] = (df[c] - TAG_MIN[c]) / (TAG_MAX[c] - TAG_MIN[c])\n",
    "    return ndf\n",
    "\n",
    "# TRAIN\n",
    "TRAIN_DF = normalize(TRAIN_DF_RAW[VALID_COLUMNS_IN_TRAIN_DATASET]).ewm(alpha=0.9).mean()\n",
    "HAI_DATASET_TRAIN = HaiDataset(TRAIN_DF_RAW[TIMESTAMP_FIELD], TRAIN_DF, stride=10)\n",
    "\n",
    "# VAL\n",
    "VALIDATION_DF_RAW = dataframe_from_csvs(VALIDATION_DATASET)\n",
    "VALIDATION_DF = normalize(VALIDATION_DF_RAW[VALID_COLUMNS_IN_TRAIN_DATASET]).ewm(alpha=0.9).mean()\n",
    "\n",
    "HAI_DATASET_VALIDATION = HaiDataset(\n",
    "    VALIDATION_DF_RAW[TIMESTAMP_FIELD], VALIDATION_DF, attacks=VALIDATION_DF_RAW[ATTACK_FIELD]\n",
    ")\n",
    "\n",
    "# TEST\n",
    "TEST_DF_RAW = dataframe_from_csvs(TEST_DATASET)\n",
    "TEST_DF = normalize(TEST_DF_RAW[VALID_COLUMNS_IN_TRAIN_DATASET]).ewm(alpha=0.9).mean()\n",
    "\n",
    "HAI_DATASET_TEST = HaiDataset(\n",
    "    TEST_DF_RAW[TIMESTAMP_FIELD], TEST_DF, attacks=None\n",
    ")\n",
    "\n",
    "params = {'batch_size': 512,\n",
    "          'shuffle': True,\n",
    "          'num_workers': 4,\n",
    "          'pin_memory' : True}\n",
    "trainloader = DataLoader(HAI_DATASET_TRAIN, **params)\n",
    "params['shuffle'] = False\n",
    "validloader = DataLoader(HAI_DATASET_VALIDATION, **params)\n",
    "testloader = DataLoader(HAI_DATASET_TEST, **params)\n",
    "\n",
    "train_shape = next(iter(trainloader))['given'].shape\n",
    "\n",
    "class HAIGPT(nn.Module):\n",
    "\n",
    "    def __init__(\n",
    "            self,\n",
    "            input_dim,\n",
    "            hidden_size,\n",
    "            max_len=WINDOW_GIVEN,\n",
    "            device='cuda',\n",
    "            **kwargs\n",
    "    ):\n",
    "        super().__init__()\n",
    "        self.input_dim = input_dim\n",
    "        self.hidden_size = hidden_size\n",
    "        self.device = device\n",
    "        config = transformers.GPT2Config(\n",
    "            vocab_size=1,  # doesn't matter -- we don't use the vocab\n",
    "            n_embd=hidden_size,\n",
    "            **kwargs\n",
    "        )\n",
    "\n",
    "        # note: the only difference between this GPT2Model and the default Huggingface version\n",
    "        # is that the positional embeddings are removed (since we'll add those ourselves)\n",
    "        self.transformer = GPT2Model(config)\n",
    "\n",
    "        self.pos_embedding = nn.Parameter(torch.randn(1, max_len, hidden_size))\n",
    "        self.embed_token = nn.Linear(self.input_dim, hidden_size)\n",
    "\n",
    "        self.embed_ln = nn.LayerNorm(hidden_size)\n",
    "\n",
    "        self.predict = nn.Linear(hidden_size, self.input_dim)\n",
    "\n",
    "    def forward(self, token, attention_mask=None):\n",
    "\n",
    "        batch_size, seq_length = token.shape[0], token.shape[1]\n",
    "\n",
    "        if attention_mask is None:\n",
    "            # attention mask for GPT: 1 if can be attended to, 0 if not\n",
    "            attention_mask = torch.ones((batch_size, seq_length), dtype=torch.long).to(self.device)\n",
    "\n",
    "        # embed each modality with a different head\n",
    "        token_embeddings = self.embed_token(token)\n",
    "\n",
    "        # time embeddings are treated similar to positional embeddings\n",
    "        token_embeddings = token_embeddings + self.pos_embedding\n",
    "\n",
    "        # which works nice in an autoregressive sense since states predict actions\n",
    "        inputs = self.embed_ln(token_embeddings)\n",
    "\n",
    "        # we feed in the input embeddings (not word indices as in NLP) to the model\n",
    "        transformer_outputs = self.transformer(\n",
    "            inputs_embeds=inputs,\n",
    "            attention_mask=attention_mask,\n",
    "        )\n",
    "        x = transformer_outputs['last_hidden_state']\n",
    "        \n",
    "        # get predictions\n",
    "        preds = self.predict(x)  \n",
    "\n",
    "        return preds[:,-1]\n",
    "    \n",
    "input_shape = train_shape[1:]\n",
    "model = HAIGPT(\n",
    "    input_dim=input_shape[-1],\n",
    "    hidden_size=128,\n",
    "    max_len=WINDOW_GIVEN,\n",
    "    n_layer=3,\n",
    "    n_head=4,\n",
    "    n_inner=4*128,\n",
    "    activation_function='relu',\n",
    "    n_positions=1024,\n",
    "    resid_pdrop=0.1,\n",
    "    attn_pdrop=0.1,\n",
    ").to(device)\n",
    "\n",
    "optimizer = optim.AdamW(model.parameters())\n",
    "loss_fn = nn.MSELoss()\n",
    "\n",
    "def train(model, train_data, optimizer, loss_fn, use_fp16=True, max_norm=None):\n",
    "    \n",
    "    epoch_loss = 0\n",
    "    \n",
    "    model.train() \n",
    "\n",
    "    for idx, batch in enumerate(train_data):\n",
    "        \n",
    "        optimizer.zero_grad(set_to_none=True)\n",
    "        scaler = torch.cuda.amp.GradScaler()\n",
    "                \n",
    "        input = batch['given'].to(device)\n",
    "        answer = batch[\"answer\"].to(device)\n",
    "        \n",
    "        with torch.cuda.amp.autocast(enabled=use_fp16):\n",
    "            predictions = model.forward(input)\n",
    "            train_loss = loss_fn(predictions, answer)\n",
    "        if use_fp16:\n",
    "            scaler.scale(train_loss).backward()\n",
    "            if max_norm is not None:\n",
    "                scaler.unscale_(optimizer)\n",
    "                torch.nn.utils.clip_grad_norm_(model.parameters(), max_norm)\n",
    "            scaler.step(optimizer)\n",
    "            scaler.update()\n",
    "        else:\n",
    "            train_loss.backward()\n",
    "            optimizer.step()\n",
    "        \n",
    "        epoch_loss += train_loss.item()\n",
    "        \n",
    "    return epoch_loss\n",
    "\n",
    "def validation(model, val_data, loss_fn):\n",
    "    model.eval()\n",
    "    val_loss = 0\n",
    "    for idx, batch in enumerate(val_data):\n",
    "        input = batch['given'].to(device)\n",
    "        answer = batch[\"answer\"].to(device)\n",
    "        with torch.no_grad():\n",
    "            predictions = model.forward(input)\n",
    "            val_loss += loss_fn(predictions, answer).item()\n",
    "        \n",
    "    return val_loss\n",
    "\n",
    "class EarlyStopping():\n",
    "    def __init__(self, patience=0, verbose=0):\n",
    "        self._step = 0\n",
    "        self._loss = float('inf')\n",
    "        self.patience = patience\n",
    "        self.verbose = verbose\n",
    "\n",
    "    def validate(self, loss):\n",
    "        if self._loss < loss:\n",
    "            self._step += 1\n",
    "            if self._step > self.patience:\n",
    "                if self.verbose:\n",
    "                    print(f'\\n Training process is stopped early....')\n",
    "                return True\n",
    "        else:\n",
    "            self._step = 0\n",
    "            self._loss = loss\n",
    "\n",
    "        return False\n",
    "\n",
    "def inference(dataloader, model):\n",
    "    model.eval()\n",
    "    ts, pred, dist, att = [], [], [], []\n",
    "    with torch.no_grad():\n",
    "        for batch in dataloader:\n",
    "            given = batch['given'].to(device)\n",
    "            answer = batch[\"answer\"].to(device)\n",
    "            guess = model(given)\n",
    "            ts.append(np.array(batch[\"ts\"]))\n",
    "            pred.append(guess.cpu().numpy())\n",
    "            dist.append(torch.abs(answer - guess).cpu().numpy())\n",
    "#             dist.append(torch.sum(torch.abs(guess-given), 1).cpu().numpy())\n",
    "            try:\n",
    "                att.append(np.array(batch[\"attack\"]))\n",
    "            except:\n",
    "                att.append(np.zeros(given.shape[0]))\n",
    "            \n",
    "    return (\n",
    "        np.concatenate(ts),\n",
    "        np.concatenate(pred),\n",
    "        np.concatenate(dist),\n",
    "        np.concatenate(att),\n",
    "    )\n",
    "\n",
    "def range_check(series, size):\n",
    "    size = size\n",
    "    data = []\n",
    "\n",
    "    for i in range(len(series)-size+1):\n",
    "        if i == 0 :\n",
    "            check_std = np.std(series[i:i+size])\n",
    "        std = np.std(series[i:i+size])\n",
    "        mean = np.mean(series[i:i+size])\n",
    "        max = np.max(series[i:i+size])\n",
    "        if check_std * 2 >= std:\n",
    "            check_std = std\n",
    "            data.append(mean)\n",
    "        elif max == series[i]:\n",
    "            data.append(max*5)\n",
    "            check_std = std\n",
    "        else:\n",
    "            data.append(series[i]*3)\n",
    "    for _ in range(size-1):\n",
    "        data.append(mean)\n",
    "\n",
    "    return np.array(data)\n",
    "\n",
    "# LOAD MODEL\n",
    "model.load_state_dict(torch.load('GPT_254.tar')['model'])"
   ]
  },
  {
   "cell_type": "code",
   "execution_count": 144,
   "id": "fef9375b",
   "metadata": {},
   "outputs": [],
   "source": [
    "from einops import rearrange, repeat\n",
    "\n",
    "def put_labels(distance, threshold):\n",
    "    xs = np.zeros_like(distance)\n",
    "    xs[distance > threshold] = 1\n",
    "    return xs\n",
    "\n",
    "def fill_blank(check_ts, labels, total_ts):\n",
    "    def ts_generator():\n",
    "        for t in total_ts:\n",
    "            yield dateutil.parser.parse(t)\n",
    "\n",
    "    def label_generator():\n",
    "        for t, label in zip(check_ts, labels):\n",
    "            yield dateutil.parser.parse(t), label\n",
    "\n",
    "    g_ts = ts_generator()\n",
    "    g_label = label_generator()\n",
    "    final_labels = []\n",
    "\n",
    "    try:\n",
    "        current = next(g_ts)\n",
    "        ts_label, label = next(g_label)\n",
    "        while True:\n",
    "            if current > ts_label:\n",
    "                ts_label, label = next(g_label)\n",
    "                continue\n",
    "            elif current < ts_label:\n",
    "                final_labels.append(0)\n",
    "                current = next(g_ts)\n",
    "                continue\n",
    "            final_labels.append(label)\n",
    "            current = next(g_ts)\n",
    "            ts_label, label = next(g_label)\n",
    "    except StopIteration:\n",
    "        return np.array(final_labels, dtype=np.int8)\n",
    "    \n",
    "import numpy as np\n",
    "from collections import Counter\n",
    "import pickle as pkl\n"
   ]
  },
  {
   "cell_type": "code",
   "execution_count": 146,
   "id": "923542fd",
   "metadata": {
    "scrolled": true
   },
   "outputs": [
    {
     "name": "stdout",
     "output_type": "stream",
     "text": [
      "Using best threshold for col 0\n",
      "Using best threshold for col 1\n",
      "Using best threshold for col 2\n",
      "Using best threshold for col 3\n",
      "Using best threshold for col 4\n",
      "Using best threshold for col 5\n",
      "Using best threshold for col 6\n",
      "Using best threshold for col 7\n",
      "Using best threshold for col 8\n",
      "Using best threshold for col 9\n",
      "Using best threshold for col 10\n",
      "Using best threshold for col 11\n",
      "Using best threshold for col 12\n",
      "Using best threshold for col 13\n",
      "Using best threshold for col 14\n",
      "Using best threshold for col 15\n",
      "Using best threshold for col 16\n",
      "Using best threshold for col 17\n",
      "Using best threshold for col 18\n",
      "Using best threshold for col 19\n",
      "Using best threshold for col 20\n",
      "Using best threshold for col 21\n",
      "Using best threshold for col 22\n",
      "Using best threshold for col 23\n",
      "Using best threshold for col 24\n",
      "Using best threshold for col 25\n",
      "Using best threshold for col 26\n",
      "Using best threshold for col 27\n",
      "Using best threshold for col 28\n",
      "Using best threshold for col 29\n",
      "Using best threshold for col 30\n",
      "Using best threshold for col 31\n",
      "Using best threshold for col 32\n",
      "Using best threshold for col 33\n",
      "Using best threshold for col 34\n",
      "Using best threshold for col 35\n",
      "Using best threshold for col 36\n",
      "Using best threshold for col 37\n",
      "Using best threshold for col 38\n",
      "Using best threshold for col 39\n",
      "Using best threshold for col 40\n",
      "Using best threshold for col 41\n",
      "Using best threshold for col 42\n",
      "Using best threshold for col 43\n",
      "Using best threshold for col 44\n",
      "Using best threshold for col 45\n",
      "Using best threshold for col 46\n",
      "Using best threshold for col 47\n",
      "Using best threshold for col 48\n",
      "Using best threshold for col 49\n",
      "Using best threshold for col 50\n",
      "Using best threshold for col 51\n",
      "Using best threshold for col 52\n",
      "Using best threshold for col 53\n",
      "Using best threshold for col 54\n",
      "Using best threshold for col 55\n",
      "Using best threshold for col 56\n",
      "Using best threshold for col 57\n",
      "Using best threshold for col 58\n",
      "Using best threshold for col 59\n",
      "Using best threshold for col 60\n",
      "Using best threshold for col 61\n",
      "Using best threshold for col 62\n",
      "Using best threshold for col 63\n",
      "Using best threshold for col 64\n",
      "Using best threshold for col 65\n",
      "Using best threshold for col 66\n",
      "Using best threshold for col 67\n",
      "Using best threshold for col 68\n",
      "Using best threshold for col 69\n",
      "Using best threshold for col 70\n",
      "Using best threshold for col 71\n",
      "Using best threshold for col 72\n",
      "Using best threshold for col 73\n",
      "Using best threshold for col 74\n",
      "Using best threshold for col 75\n",
      "Using best threshold for col 76\n",
      "Using best threshold for col 77\n",
      "Using best threshold for col 78\n",
      "Using best threshold for col 79\n",
      "Using best threshold for col 80\n",
      "Using best threshold for col 81\n",
      "Using best threshold for col 82\n",
      "Using best threshold for col 83\n",
      "Using best threshold for col 84\n",
      "Using best threshold for col 85\n"
     ]
    }
   ],
   "source": [
    "# VALIDATION\n",
    "model.eval()\n",
    "CHECK_TS, PRED, CHECK_DIST, CHECK_ATT = inference(validloader, model)\n",
    "\n",
    "CHECK_DIST_DF = pd.DataFrame(CHECK_DIST)\n",
    "val_pred = {}\n",
    "\n",
    "# GET BEST THRESHOLD\n",
    "for i in range(CHECK_DIST_DF.shape[1]):\n",
    "    print(f'Using best threshold for col {i}')\n",
    "    \n",
    "    if ab_thres[f'ANOMALY_THRES_{i}'] != None:\n",
    "        \n",
    "        ANOMALY_SCORE =  range_check(CHECK_DIST_DF[i].to_numpy(), size=30)\n",
    "        \n",
    "        THRESHOLD = ab_thres[f'ANOMALY_THRES_{i}']\n",
    "        \n",
    "        LABELS = put_labels(ANOMALY_SCORE, THRESHOLD)\n",
    "        \n",
    "        FINAL_LABELS = fill_blank(CHECK_TS, LABELS, np.array(VALIDATION_DF_RAW[TIMESTAMP_FIELD]))\n",
    "        \n",
    "        val_pred[f'COL{i}'] = FINAL_LABELS\n",
    "    \n",
    "    else:\n",
    "        pass\n",
    "    \n",
    "    # SAVE\n",
    "    with open('./VAL_PRED.pkl', 'wb') as V_PRED:\n",
    "        pkl.dump(val_pred, V_PRED)"
   ]
  },
  {
   "cell_type": "code",
   "execution_count": 147,
   "id": "53dbdb56",
   "metadata": {},
   "outputs": [],
   "source": [
    "# LOAD RESULTS\n",
    "with open('./VAL_PRED.pkl', 'rb') as V_PRED:\n",
    "    V_PRED = pkl.load(V_PRED)"
   ]
  },
  {
   "cell_type": "code",
   "execution_count": 173,
   "id": "0f39ac0f",
   "metadata": {},
   "outputs": [
    {
     "data": {
      "text/plain": [
       "Counter({0: 85515, 1: 885})"
      ]
     },
     "execution_count": 173,
     "metadata": {},
     "output_type": "execute_result"
    }
   ],
   "source": [
    "ATTACK_LABELS = put_labels(np.array(VALIDATION_DF_RAW[ATTACK_FIELD]), threshold=0.5)\n",
    "Counter(ATTACK_LABELS)"
   ]
  },
  {
   "cell_type": "code",
   "execution_count": 148,
   "id": "a28fd364",
   "metadata": {
    "scrolled": true
   },
   "outputs": [
    {
     "name": "stdout",
     "output_type": "stream",
     "text": [
      "COL0 : [0 0 0 ... 1 1 1] \n",
      "Counter({1: 72503, 0: 13897})\n",
      "COL1 : [0 0 0 ... 0 0 0] \n",
      "Counter({0: 86215, 1: 185})\n",
      "COL2 : [0 0 0 ... 0 0 0] \n",
      "Counter({0: 86322, 1: 78})\n",
      "COL3 : [0 0 0 ... 0 0 0] \n",
      "Counter({0: 60673, 1: 25727})\n",
      "COL4 : [0 0 0 ... 0 0 0] \n",
      "Counter({0: 86078, 1: 322})\n",
      "COL5 : [0 0 0 ... 1 1 1] \n",
      "Counter({1: 76826, 0: 9574})\n",
      "COL6 : [0 0 0 ... 0 0 0] \n",
      "Counter({0: 53741, 1: 32659})\n",
      "COL7 : [0 0 0 ... 0 0 0] \n",
      "Counter({0: 86263, 1: 137})\n",
      "COL8 : [0 0 0 ... 0 0 0] \n",
      "Counter({0: 86255, 1: 145})\n",
      "COL9 : [0 0 0 ... 0 0 0] \n",
      "Counter({0: 86297, 1: 103})\n",
      "COL10 : [0 0 0 ... 0 0 0] \n",
      "Counter({1: 63610, 0: 22790})\n",
      "COL11 : [0 0 0 ... 0 0 0] \n",
      "Counter({0: 86383, 1: 17})\n",
      "COL12 : [0 0 0 ... 1 1 1] \n",
      "Counter({1: 83920, 0: 2480})\n",
      "COL13 : [0 0 0 ... 0 0 0] \n",
      "Counter({0: 86213, 1: 187})\n",
      "COL14 : [0 0 0 ... 0 0 0] \n",
      "Counter({0: 81490, 1: 4910})\n",
      "COL15 : [0 0 0 ... 0 0 0] \n",
      "Counter({0: 86192, 1: 208})\n",
      "COL16 : [0 0 0 ... 1 1 1] \n",
      "Counter({1: 86145, 0: 255})\n",
      "COL17 : [0 0 0 ... 0 0 0] \n",
      "Counter({0: 86258, 1: 142})\n",
      "COL18 : [0 0 0 ... 0 0 0] \n",
      "Counter({0: 86217, 1: 183})\n",
      "COL19 : [0 0 0 ... 1 1 1] \n",
      "Counter({1: 55665, 0: 30735})\n",
      "COL20 : [0 0 0 ... 0 0 0] \n",
      "Counter({0: 85905, 1: 495})\n",
      "COL21 : [0 0 0 ... 0 0 0] \n",
      "Counter({0: 86163, 1: 237})\n",
      "COL22 : [0 0 0 ... 0 0 0] \n",
      "Counter({0: 84445, 1: 1955})\n",
      "COL23 : [0 0 0 ... 0 0 0] \n",
      "Counter({0: 86261, 1: 139})\n",
      "COL24 : [0 0 0 ... 0 0 0] \n",
      "Counter({0: 79260, 1: 7140})\n",
      "COL25 : [0 0 0 ... 0 0 0] \n",
      "Counter({0: 86143, 1: 257})\n",
      "COL26 : [0 0 0 ... 0 0 0] \n",
      "Counter({0: 85111, 1: 1289})\n",
      "COL27 : [0 0 0 ... 0 0 0] \n",
      "Counter({0: 85714, 1: 686})\n",
      "COL28 : [0 0 0 ... 0 0 0] \n",
      "Counter({0: 86249, 1: 151})\n",
      "COL29 : [0 0 0 ... 0 0 0] \n",
      "Counter({0: 71959, 1: 14441})\n",
      "COL30 : [0 0 0 ... 0 0 0] \n",
      "Counter({0: 85348, 1: 1052})\n",
      "COL31 : [0 0 0 ... 0 0 0] \n",
      "Counter({0: 86157, 1: 243})\n",
      "COL32 : [0 0 0 ... 0 0 0] \n",
      "Counter({1: 57104, 0: 29296})\n",
      "COL33 : [0 0 0 ... 1 1 1] \n",
      "Counter({1: 86146, 0: 254})\n",
      "COL34 : [0 0 0 ... 1 1 1] \n",
      "Counter({1: 62600, 0: 23800})\n",
      "COL35 : [0 0 0 ... 0 0 0] \n",
      "Counter({0: 84774, 1: 1626})\n",
      "COL36 : [0 0 0 ... 0 0 0] \n",
      "Counter({0: 77490, 1: 8910})\n",
      "COL37 : [0 0 0 ... 0 0 0] \n",
      "Counter({0: 86265, 1: 135})\n",
      "COL38 : [0 0 0 ... 0 0 0] \n",
      "Counter({0: 86234, 1: 166})\n",
      "COL39 : [0 0 0 ... 0 0 0] \n",
      "Counter({0: 82648, 1: 3752})\n",
      "COL40 : [0 0 0 ... 1 1 1] \n",
      "Counter({1: 59154, 0: 27246})\n",
      "COL41 : [0 0 0 ... 0 0 0] \n",
      "Counter({0: 82108, 1: 4292})\n",
      "COL42 : [0 0 0 ... 0 0 0] \n",
      "Counter({0: 86214, 1: 186})\n",
      "COL43 : [0 0 0 ... 1 1 1] \n",
      "Counter({1: 70256, 0: 16144})\n",
      "COL44 : [0 0 0 ... 1 1 1] \n",
      "Counter({1: 44763, 0: 41637})\n",
      "COL45 : [0 0 0 ... 0 0 0] \n",
      "Counter({0: 86305, 1: 95})\n",
      "COL46 : [0 0 0 ... 1 1 1] \n",
      "Counter({1: 60230, 0: 26170})\n",
      "COL47 : [0 0 0 ... 1 1 1] \n",
      "Counter({1: 86145, 0: 255})\n",
      "COL48 : [0 0 0 ... 0 0 0] \n",
      "Counter({0: 86254, 1: 146})\n",
      "COL49 : [0 0 0 ... 0 0 0] \n",
      "Counter({0: 80509, 1: 5891})\n",
      "COL50 : [0 0 0 ... 1 1 1] \n",
      "Counter({1: 85786, 0: 614})\n",
      "COL51 : [0 0 0 ... 0 0 0] \n",
      "Counter({0: 85890, 1: 510})\n",
      "COL52 : [0 0 0 ... 0 0 0] \n",
      "Counter({0: 84425, 1: 1975})\n",
      "COL53 : [0 0 0 ... 1 1 1] \n",
      "Counter({1: 68386, 0: 18014})\n",
      "COL54 : [0 0 0 ... 0 0 0] \n",
      "Counter({0: 86251, 1: 149})\n",
      "COL55 : [0 0 0 ... 0 0 0] \n",
      "Counter({0: 86262, 1: 138})\n",
      "COL56 : [0 0 0 ... 0 0 0] \n",
      "Counter({0: 86248, 1: 152})\n",
      "COL57 : [0 0 0 ... 0 0 0] \n",
      "Counter({1: 57650, 0: 28750})\n",
      "COL58 : [0 0 0 ... 0 0 0] \n",
      "Counter({0: 85148, 1: 1252})\n",
      "COL59 : [0 0 0 ... 1 1 1] \n",
      "Counter({1: 59812, 0: 26588})\n",
      "COL60 : [0 0 0 ... 1 1 1] \n",
      "Counter({1: 86145, 0: 255})\n",
      "COL61 : [0 0 0 ... 0 0 0] \n",
      "Counter({0: 65743, 1: 20657})\n",
      "COL62 : [0 0 0 ... 0 0 0] \n",
      "Counter({0: 86255, 1: 145})\n",
      "COL63 : [0 0 0 ... 1 1 1] \n",
      "Counter({1: 86145, 0: 255})\n",
      "COL64 : [0 0 0 ... 0 0 0] \n",
      "Counter({0: 86203, 1: 197})\n",
      "COL65 : [0 0 0 ... 0 0 0] \n",
      "Counter({0: 80837, 1: 5563})\n",
      "COL66 : [0 0 0 ... 0 0 0] \n",
      "Counter({0: 86058, 1: 342})\n",
      "COL67 : [0 0 0 ... 0 0 0] \n",
      "Counter({0: 86364, 1: 36})\n",
      "COL68 : [0 0 0 ... 0 0 0] \n",
      "Counter({0: 86026, 1: 374})\n",
      "COL69 : [0 0 0 ... 0 0 0] \n",
      "Counter({0: 86128, 1: 272})\n",
      "COL70 : [0 0 0 ... 0 0 0] \n",
      "Counter({0: 86198, 1: 202})\n",
      "COL71 : [0 0 0 ... 0 0 0] \n",
      "Counter({0: 85940, 1: 460})\n",
      "COL72 : [0 0 0 ... 0 0 0] \n",
      "Counter({0: 86207, 1: 193})\n",
      "COL73 : [0 0 0 ... 0 0 0] \n",
      "Counter({0: 56762, 1: 29638})\n",
      "COL74 : [0 0 0 ... 0 0 0] \n",
      "Counter({0: 86149, 1: 251})\n",
      "COL75 : [0 0 0 ... 0 0 0] \n",
      "Counter({0: 86186, 1: 214})\n",
      "COL76 : [0 0 0 ... 0 0 0] \n",
      "Counter({0: 86165, 1: 235})\n",
      "COL77 : [0 0 0 ... 0 0 0] \n",
      "Counter({0: 83884, 1: 2516})\n",
      "COL78 : [0 0 0 ... 0 0 0] \n",
      "Counter({0: 76996, 1: 9404})\n",
      "COL79 : [0 0 0 ... 0 0 0] \n",
      "Counter({1: 45697, 0: 40703})\n",
      "COL80 : [0 0 0 ... 0 0 0] \n",
      "Counter({0: 75365, 1: 11035})\n",
      "COL81 : [0 0 0 ... 0 0 0] \n",
      "Counter({0: 86183, 1: 217})\n",
      "COL82 : [0 0 0 ... 1 1 1] \n",
      "Counter({1: 71377, 0: 15023})\n",
      "COL83 : [0 0 0 ... 1 1 1] \n",
      "Counter({1: 86146, 0: 254})\n",
      "COL84 : [0 0 0 ... 0 0 0] \n",
      "Counter({0: 84545, 1: 1855})\n",
      "COL85 : [0 0 0 ... 0 0 0] \n",
      "Counter({0: 76748, 1: 9652})\n"
     ]
    }
   ],
   "source": [
    "concat_val = []\n",
    "for preds, arr in V_PRED.items():\n",
    "    print(f'{preds} : {arr} ')\n",
    "    print(Counter(arr))\n",
    "    concat_val.append(arr)\n",
    "#     concat = np.concatenate((concat, arr), axis=0)\n",
    "#     print(concat)\n",
    "#     print(len(concat))\n",
    "#     print(np.array(concat).shape)"
   ]
  },
  {
   "cell_type": "code",
   "execution_count": 164,
   "id": "88b9943e",
   "metadata": {},
   "outputs": [
    {
     "data": {
      "text/plain": [
       "array([0.        , 0.        , 0.        , ..., 0.22093023, 0.22093023,\n",
       "       0.22093023])"
      ]
     },
     "execution_count": 164,
     "metadata": {},
     "output_type": "execute_result"
    }
   ],
   "source": [
    "avg_concat = np.mean(concat_val, axis =0)\n",
    "avg_concat"
   ]
  },
  {
   "cell_type": "code",
   "execution_count": 165,
   "id": "536fd170",
   "metadata": {},
   "outputs": [
    {
     "data": {
      "text/plain": [
       "Counter({0: 85515, 1: 885})"
      ]
     },
     "execution_count": 165,
     "metadata": {},
     "output_type": "execute_result"
    }
   ],
   "source": [
    "ATTACK_LABELS = VALIDATION_DF_RAW['attack']\n",
    "Counter(ATTACK_LABELS)"
   ]
  },
  {
   "cell_type": "code",
   "execution_count": 166,
   "id": "4017b6ee",
   "metadata": {},
   "outputs": [
    {
     "name": "stdout",
     "output_type": "stream",
     "text": [
      "[0. 0. 0. ... 0. 0. 0.] (86400,)\n",
      "Counter({0.0: 86260, 1.0: 140})\n"
     ]
    }
   ],
   "source": [
    "VAL_LABELS = put_labels(avg_concat, 0.5)\n",
    "print(VAL_LABELS, VAL_LABELS.shape)\n",
    "print(Counter(VAL_LABELS))"
   ]
  },
  {
   "cell_type": "code",
   "execution_count": 161,
   "id": "bbfbc229",
   "metadata": {
    "scrolled": true
   },
   "outputs": [
    {
     "name": "stdout",
     "output_type": "stream",
     "text": [
      "-----------0.3------------\n"
     ]
    },
    {
     "ename": "KeyboardInterrupt",
     "evalue": "",
     "output_type": "error",
     "traceback": [
      "\u001b[0;31m---------------------------------------------------------------------------\u001b[0m",
      "\u001b[0;31mKeyboardInterrupt\u001b[0m                         Traceback (most recent call last)",
      "\u001b[0;32m<ipython-input-161-34826d8e8ec3>\u001b[0m in \u001b[0;36m<module>\u001b[0;34m\u001b[0m\n\u001b[1;32m      9\u001b[0m     \u001b[0mprint\u001b[0m\u001b[0;34m(\u001b[0m\u001b[0;34mf'-----------{THRESHOLD}------------'\u001b[0m\u001b[0;34m)\u001b[0m\u001b[0;34m\u001b[0m\u001b[0;34m\u001b[0m\u001b[0m\n\u001b[1;32m     10\u001b[0m     \u001b[0mVAL_LABELS\u001b[0m \u001b[0;34m=\u001b[0m \u001b[0mput_labels\u001b[0m\u001b[0;34m(\u001b[0m\u001b[0mavg_concat\u001b[0m\u001b[0;34m,\u001b[0m \u001b[0mTHRESHOLD\u001b[0m\u001b[0;34m)\u001b[0m\u001b[0;34m\u001b[0m\u001b[0;34m\u001b[0m\u001b[0m\n\u001b[0;32m---> 11\u001b[0;31m     \u001b[0mVAL_LABELS\u001b[0m \u001b[0;34m=\u001b[0m \u001b[0mfill_blank\u001b[0m\u001b[0;34m(\u001b[0m\u001b[0mCHECK_TS\u001b[0m\u001b[0;34m,\u001b[0m \u001b[0mVAL_LABELS\u001b[0m\u001b[0;34m,\u001b[0m \u001b[0mnp\u001b[0m\u001b[0;34m.\u001b[0m\u001b[0marray\u001b[0m\u001b[0;34m(\u001b[0m\u001b[0mVALIDATION_DF_RAW\u001b[0m\u001b[0;34m[\u001b[0m\u001b[0mTIMESTAMP_FIELD\u001b[0m\u001b[0;34m]\u001b[0m\u001b[0;34m)\u001b[0m\u001b[0;34m)\u001b[0m\u001b[0;34m\u001b[0m\u001b[0;34m\u001b[0m\u001b[0m\n\u001b[0m\u001b[1;32m     12\u001b[0m \u001b[0;34m\u001b[0m\u001b[0m\n\u001b[1;32m     13\u001b[0m     \u001b[0mprint\u001b[0m\u001b[0;34m(\u001b[0m\u001b[0mVAL_LABELS\u001b[0m\u001b[0;34m,\u001b[0m \u001b[0mVAL_LABELS\u001b[0m\u001b[0;34m.\u001b[0m\u001b[0mshape\u001b[0m\u001b[0;34m)\u001b[0m\u001b[0;34m\u001b[0m\u001b[0;34m\u001b[0m\u001b[0m\n",
      "\u001b[0;32m<ipython-input-144-27751a9ddf00>\u001b[0m in \u001b[0;36mfill_blank\u001b[0;34m(check_ts, labels, total_ts)\u001b[0m\n\u001b[1;32m     32\u001b[0m             \u001b[0mfinal_labels\u001b[0m\u001b[0;34m.\u001b[0m\u001b[0mappend\u001b[0m\u001b[0;34m(\u001b[0m\u001b[0mlabel\u001b[0m\u001b[0;34m)\u001b[0m\u001b[0;34m\u001b[0m\u001b[0;34m\u001b[0m\u001b[0m\n\u001b[1;32m     33\u001b[0m             \u001b[0mcurrent\u001b[0m \u001b[0;34m=\u001b[0m \u001b[0mnext\u001b[0m\u001b[0;34m(\u001b[0m\u001b[0mg_ts\u001b[0m\u001b[0;34m)\u001b[0m\u001b[0;34m\u001b[0m\u001b[0;34m\u001b[0m\u001b[0m\n\u001b[0;32m---> 34\u001b[0;31m             \u001b[0mts_label\u001b[0m\u001b[0;34m,\u001b[0m \u001b[0mlabel\u001b[0m \u001b[0;34m=\u001b[0m \u001b[0mnext\u001b[0m\u001b[0;34m(\u001b[0m\u001b[0mg_label\u001b[0m\u001b[0;34m)\u001b[0m\u001b[0;34m\u001b[0m\u001b[0;34m\u001b[0m\u001b[0m\n\u001b[0m\u001b[1;32m     35\u001b[0m     \u001b[0;32mexcept\u001b[0m \u001b[0mStopIteration\u001b[0m\u001b[0;34m:\u001b[0m\u001b[0;34m\u001b[0m\u001b[0;34m\u001b[0m\u001b[0m\n\u001b[1;32m     36\u001b[0m         \u001b[0;32mreturn\u001b[0m \u001b[0mnp\u001b[0m\u001b[0;34m.\u001b[0m\u001b[0marray\u001b[0m\u001b[0;34m(\u001b[0m\u001b[0mfinal_labels\u001b[0m\u001b[0;34m,\u001b[0m \u001b[0mdtype\u001b[0m\u001b[0;34m=\u001b[0m\u001b[0mnp\u001b[0m\u001b[0;34m.\u001b[0m\u001b[0mint8\u001b[0m\u001b[0;34m)\u001b[0m\u001b[0;34m\u001b[0m\u001b[0;34m\u001b[0m\u001b[0m\n",
      "\u001b[0;32m<ipython-input-144-27751a9ddf00>\u001b[0m in \u001b[0;36mlabel_generator\u001b[0;34m()\u001b[0m\n\u001b[1;32m     13\u001b[0m     \u001b[0;32mdef\u001b[0m \u001b[0mlabel_generator\u001b[0m\u001b[0;34m(\u001b[0m\u001b[0;34m)\u001b[0m\u001b[0;34m:\u001b[0m\u001b[0;34m\u001b[0m\u001b[0;34m\u001b[0m\u001b[0m\n\u001b[1;32m     14\u001b[0m         \u001b[0;32mfor\u001b[0m \u001b[0mt\u001b[0m\u001b[0;34m,\u001b[0m \u001b[0mlabel\u001b[0m \u001b[0;32min\u001b[0m \u001b[0mzip\u001b[0m\u001b[0;34m(\u001b[0m\u001b[0mcheck_ts\u001b[0m\u001b[0;34m,\u001b[0m \u001b[0mlabels\u001b[0m\u001b[0;34m)\u001b[0m\u001b[0;34m:\u001b[0m\u001b[0;34m\u001b[0m\u001b[0;34m\u001b[0m\u001b[0m\n\u001b[0;32m---> 15\u001b[0;31m             \u001b[0;32myield\u001b[0m \u001b[0mdateutil\u001b[0m\u001b[0;34m.\u001b[0m\u001b[0mparser\u001b[0m\u001b[0;34m.\u001b[0m\u001b[0mparse\u001b[0m\u001b[0;34m(\u001b[0m\u001b[0mt\u001b[0m\u001b[0;34m)\u001b[0m\u001b[0;34m,\u001b[0m \u001b[0mlabel\u001b[0m\u001b[0;34m\u001b[0m\u001b[0;34m\u001b[0m\u001b[0m\n\u001b[0m\u001b[1;32m     16\u001b[0m \u001b[0;34m\u001b[0m\u001b[0m\n\u001b[1;32m     17\u001b[0m     \u001b[0mg_ts\u001b[0m \u001b[0;34m=\u001b[0m \u001b[0mts_generator\u001b[0m\u001b[0;34m(\u001b[0m\u001b[0;34m)\u001b[0m\u001b[0;34m\u001b[0m\u001b[0;34m\u001b[0m\u001b[0m\n",
      "\u001b[0;32m/usr/local/lib/python3.6/dist-packages/dateutil/parser/_parser.py\u001b[0m in \u001b[0;36mparse\u001b[0;34m(timestr, parserinfo, **kwargs)\u001b[0m\n\u001b[1;32m   1366\u001b[0m         \u001b[0;32mreturn\u001b[0m \u001b[0mparser\u001b[0m\u001b[0;34m(\u001b[0m\u001b[0mparserinfo\u001b[0m\u001b[0;34m)\u001b[0m\u001b[0;34m.\u001b[0m\u001b[0mparse\u001b[0m\u001b[0;34m(\u001b[0m\u001b[0mtimestr\u001b[0m\u001b[0;34m,\u001b[0m \u001b[0;34m**\u001b[0m\u001b[0mkwargs\u001b[0m\u001b[0;34m)\u001b[0m\u001b[0;34m\u001b[0m\u001b[0;34m\u001b[0m\u001b[0m\n\u001b[1;32m   1367\u001b[0m     \u001b[0;32melse\u001b[0m\u001b[0;34m:\u001b[0m\u001b[0;34m\u001b[0m\u001b[0;34m\u001b[0m\u001b[0m\n\u001b[0;32m-> 1368\u001b[0;31m         \u001b[0;32mreturn\u001b[0m \u001b[0mDEFAULTPARSER\u001b[0m\u001b[0;34m.\u001b[0m\u001b[0mparse\u001b[0m\u001b[0;34m(\u001b[0m\u001b[0mtimestr\u001b[0m\u001b[0;34m,\u001b[0m \u001b[0;34m**\u001b[0m\u001b[0mkwargs\u001b[0m\u001b[0;34m)\u001b[0m\u001b[0;34m\u001b[0m\u001b[0;34m\u001b[0m\u001b[0m\n\u001b[0m\u001b[1;32m   1369\u001b[0m \u001b[0;34m\u001b[0m\u001b[0m\n\u001b[1;32m   1370\u001b[0m \u001b[0;34m\u001b[0m\u001b[0m\n",
      "\u001b[0;32m/usr/local/lib/python3.6/dist-packages/dateutil/parser/_parser.py\u001b[0m in \u001b[0;36mparse\u001b[0;34m(self, timestr, default, ignoretz, tzinfos, **kwargs)\u001b[0m\n\u001b[1;32m    638\u001b[0m                                                       second=0, microsecond=0)\n\u001b[1;32m    639\u001b[0m \u001b[0;34m\u001b[0m\u001b[0m\n\u001b[0;32m--> 640\u001b[0;31m         \u001b[0mres\u001b[0m\u001b[0;34m,\u001b[0m \u001b[0mskipped_tokens\u001b[0m \u001b[0;34m=\u001b[0m \u001b[0mself\u001b[0m\u001b[0;34m.\u001b[0m\u001b[0m_parse\u001b[0m\u001b[0;34m(\u001b[0m\u001b[0mtimestr\u001b[0m\u001b[0;34m,\u001b[0m \u001b[0;34m**\u001b[0m\u001b[0mkwargs\u001b[0m\u001b[0;34m)\u001b[0m\u001b[0;34m\u001b[0m\u001b[0;34m\u001b[0m\u001b[0m\n\u001b[0m\u001b[1;32m    641\u001b[0m \u001b[0;34m\u001b[0m\u001b[0m\n\u001b[1;32m    642\u001b[0m         \u001b[0;32mif\u001b[0m \u001b[0mres\u001b[0m \u001b[0;32mis\u001b[0m \u001b[0;32mNone\u001b[0m\u001b[0;34m:\u001b[0m\u001b[0;34m\u001b[0m\u001b[0;34m\u001b[0m\u001b[0m\n",
      "\u001b[0;32m/usr/local/lib/python3.6/dist-packages/dateutil/parser/_parser.py\u001b[0m in \u001b[0;36m_parse\u001b[0;34m(self, timestr, dayfirst, yearfirst, fuzzy, fuzzy_with_tokens)\u001b[0m\n\u001b[1;32m    717\u001b[0m \u001b[0;34m\u001b[0m\u001b[0m\n\u001b[1;32m    718\u001b[0m         \u001b[0mres\u001b[0m \u001b[0;34m=\u001b[0m \u001b[0mself\u001b[0m\u001b[0;34m.\u001b[0m\u001b[0m_result\u001b[0m\u001b[0;34m(\u001b[0m\u001b[0;34m)\u001b[0m\u001b[0;34m\u001b[0m\u001b[0;34m\u001b[0m\u001b[0m\n\u001b[0;32m--> 719\u001b[0;31m         \u001b[0ml\u001b[0m \u001b[0;34m=\u001b[0m \u001b[0m_timelex\u001b[0m\u001b[0;34m.\u001b[0m\u001b[0msplit\u001b[0m\u001b[0;34m(\u001b[0m\u001b[0mtimestr\u001b[0m\u001b[0;34m)\u001b[0m         \u001b[0;31m# Splits the timestr into tokens\u001b[0m\u001b[0;34m\u001b[0m\u001b[0;34m\u001b[0m\u001b[0m\n\u001b[0m\u001b[1;32m    720\u001b[0m \u001b[0;34m\u001b[0m\u001b[0m\n\u001b[1;32m    721\u001b[0m         \u001b[0mskipped_idxs\u001b[0m \u001b[0;34m=\u001b[0m \u001b[0;34m[\u001b[0m\u001b[0;34m]\u001b[0m\u001b[0;34m\u001b[0m\u001b[0;34m\u001b[0m\u001b[0m\n",
      "\u001b[0;32m/usr/local/lib/python3.6/dist-packages/dateutil/parser/_parser.py\u001b[0m in \u001b[0;36msplit\u001b[0;34m(cls, s)\u001b[0m\n\u001b[1;32m    199\u001b[0m     \u001b[0;34m@\u001b[0m\u001b[0mclassmethod\u001b[0m\u001b[0;34m\u001b[0m\u001b[0;34m\u001b[0m\u001b[0m\n\u001b[1;32m    200\u001b[0m     \u001b[0;32mdef\u001b[0m \u001b[0msplit\u001b[0m\u001b[0;34m(\u001b[0m\u001b[0mcls\u001b[0m\u001b[0;34m,\u001b[0m \u001b[0ms\u001b[0m\u001b[0;34m)\u001b[0m\u001b[0;34m:\u001b[0m\u001b[0;34m\u001b[0m\u001b[0;34m\u001b[0m\u001b[0m\n\u001b[0;32m--> 201\u001b[0;31m         \u001b[0;32mreturn\u001b[0m \u001b[0mlist\u001b[0m\u001b[0;34m(\u001b[0m\u001b[0mcls\u001b[0m\u001b[0;34m(\u001b[0m\u001b[0ms\u001b[0m\u001b[0;34m)\u001b[0m\u001b[0;34m)\u001b[0m\u001b[0;34m\u001b[0m\u001b[0;34m\u001b[0m\u001b[0m\n\u001b[0m\u001b[1;32m    202\u001b[0m \u001b[0;34m\u001b[0m\u001b[0m\n\u001b[1;32m    203\u001b[0m     \u001b[0;34m@\u001b[0m\u001b[0mclassmethod\u001b[0m\u001b[0;34m\u001b[0m\u001b[0;34m\u001b[0m\u001b[0m\n",
      "\u001b[0;32m/usr/local/lib/python3.6/dist-packages/dateutil/parser/_parser.py\u001b[0m in \u001b[0;36m__iter__\u001b[0;34m(self)\u001b[0m\n\u001b[1;32m    184\u001b[0m         \u001b[0;32mreturn\u001b[0m \u001b[0mtoken\u001b[0m\u001b[0;34m\u001b[0m\u001b[0;34m\u001b[0m\u001b[0m\n\u001b[1;32m    185\u001b[0m \u001b[0;34m\u001b[0m\u001b[0m\n\u001b[0;32m--> 186\u001b[0;31m     \u001b[0;32mdef\u001b[0m \u001b[0m__iter__\u001b[0m\u001b[0;34m(\u001b[0m\u001b[0mself\u001b[0m\u001b[0;34m)\u001b[0m\u001b[0;34m:\u001b[0m\u001b[0;34m\u001b[0m\u001b[0;34m\u001b[0m\u001b[0m\n\u001b[0m\u001b[1;32m    187\u001b[0m         \u001b[0;32mreturn\u001b[0m \u001b[0mself\u001b[0m\u001b[0;34m\u001b[0m\u001b[0;34m\u001b[0m\u001b[0m\n\u001b[1;32m    188\u001b[0m \u001b[0;34m\u001b[0m\u001b[0m\n",
      "\u001b[0;31mKeyboardInterrupt\u001b[0m: "
     ]
    }
   ],
   "source": [
    "MIN = 0.3\n",
    "MAX = 0.8\n",
    "DIFF = (MAX-MIN)/50\n",
    "\n",
    "best_f1=0\n",
    "best_thres=0\n",
    "\n",
    "for THRESHOLD in list(np.round(np.arange(0.3, 0.8,(0.5/100)),3)):\n",
    "    print(f'-----------{THRESHOLD}------------')\n",
    "    VAL_LABELS = put_labels(avg_concat, THRESHOLD)\n",
    "    VAL_LABELS = fill_blank(CHECK_TS, VAL_LABELS, np.array(VALIDATION_DF_RAW[TIMESTAMP_FIELD]))\n",
    "    \n",
    "    print(VAL_LABELS, VAL_LABELS.shape)\n",
    "    print(Counter(VAL_LABELS))\n",
    "\n",
    "    # print\n",
    "    print(f'>>>> ATTACK_LABELS : {Counter(ATTACK_LABELS)}')\n",
    "    print(f'>>>> VAL_LABELS : {Counter(VAL_LABELS)}')\n",
    "\n",
    "    #  check\n",
    "    if ATTACK_LABELS.shape[0] == VAL_LABELS.shape[0]:\n",
    "        TaPR = etapr.evaluate_haicon(anomalies=ATTACK_LABELS, predictions=VAL_LABELS)\n",
    "        print(f\">>> F1: {TaPR['f1']:.3f} (TaP: {TaPR['TaP']:.3f}, TaR: {TaPR['TaR']:.3f})\")\n",
    "        print(f\">>> # of detected anomalies: {len(TaPR['Detected_Anomalies'])}\")\n",
    "        print(f\">>> Detected anomalies: {TaPR['Detected_Anomalies']}\")\n",
    "\n",
    "        if TaPR['f1']>best_f1:\n",
    "            best_thres = THRESHOLD\n",
    "            best_f1 = TaPR['f1']\n",
    "            print(\"***Best Threshold updated!!***\")"
   ]
  },
  {
   "cell_type": "code",
   "execution_count": null,
   "id": "42dc7716",
   "metadata": {},
   "outputs": [],
   "source": [
    "best_thres"
   ]
  },
  {
   "cell_type": "code",
   "execution_count": 167,
   "id": "7c786f2d",
   "metadata": {},
   "outputs": [],
   "source": [
    "def check_graph(xs, att, piece=2, THRESHOLD=None, title = False, title_nm = None):\n",
    "    l = xs.shape[0]\n",
    "    chunk = l // piece\n",
    "    fig, axs = plt.subplots(piece, figsize=(20, 4 * piece))\n",
    "    for i in range(piece):\n",
    "        L = i * chunk\n",
    "        R = min(L + chunk, l)\n",
    "        xticks = range(L, R)\n",
    "        axs[i].plot(xticks, xs[L:R])\n",
    "        if len(xs[L:R]) > 0:\n",
    "            peak = max(xs[L:R])\n",
    "            axs[i].plot(xticks, att[L:R] * peak * 0.3)\n",
    "        if THRESHOLD!=None:\n",
    "            axs[i].axhline(y=THRESHOLD, color='r')\n",
    "    \n",
    "    if title == True:\n",
    "        plt.title(f'{title_nm}')\n",
    "        \n",
    "    plt.show()\n",
    "    \n",
    "    return plt"
   ]
  },
  {
   "cell_type": "code",
   "execution_count": 169,
   "id": "04603534",
   "metadata": {},
   "outputs": [
    {
     "data": {
      "text/plain": [
       "86400"
      ]
     },
     "execution_count": 169,
     "metadata": {},
     "output_type": "execute_result"
    }
   ],
   "source": [
    "len(avg_concat)"
   ]
  },
  {
   "cell_type": "code",
   "execution_count": 170,
   "id": "f1353f53",
   "metadata": {},
   "outputs": [
    {
     "data": {
      "text/plain": [
       "86146"
      ]
     },
     "execution_count": 170,
     "metadata": {},
     "output_type": "execute_result"
    }
   ],
   "source": [
    "len(CHECK_ATT)"
   ]
  },
  {
   "cell_type": "code",
   "execution_count": 174,
   "id": "b64de1b6",
   "metadata": {},
   "outputs": [
    {
     "data": {
      "image/png": "[encoded data removed]",
      "text/plain": [
       "<Figure size 1440x576 with 2 Axes>"
      ]
     },
     "metadata": {
      "needs_background": "light"
     },
     "output_type": "display_data"
    },
    {
     "data": {
      "text/plain": [
       "<module 'matplotlib.pyplot' from '/usr/local/lib/python3.6/dist-packages/matplotlib/pyplot.py'>"
      ]
     },
     "execution_count": 174,
     "metadata": {},
     "output_type": "execute_result"
    }
   ],
   "source": [
    "THRES = 0\n",
    "check_graph(avg_concat, ATTACK_LABELS, piece=2, THRESHOLD=THRES)"
   ]
  },
  {
   "cell_type": "code",
   "execution_count": 179,
   "id": "b11546f6",
   "metadata": {},
   "outputs": [],
   "source": [
    "ANOMALY_SCORE =  range_check(avg_concat, size=90)"
   ]
  },
  {
   "cell_type": "code",
   "execution_count": 180,
   "id": "92f76233",
   "metadata": {},
   "outputs": [
    {
     "data": {
      "image/png": "[encoded data removed]",
      "text/plain": [
       "<Figure size 1440x576 with 2 Axes>"
      ]
     },
     "metadata": {
      "needs_background": "light"
     },
     "output_type": "display_data"
    },
    {
     "data": {
      "text/plain": [
       "<module 'matplotlib.pyplot' from '/usr/local/lib/python3.6/dist-packages/matplotlib/pyplot.py'>"
      ]
     },
     "execution_count": 180,
     "metadata": {},
     "output_type": "execute_result"
    }
   ],
   "source": [
    "THRES = 0\n",
    "check_graph(ANOMALY_SCORE, ATTACK_LABELS, piece=2, THRESHOLD=THRES)"
   ]
  },
  {
   "cell_type": "code",
   "execution_count": null,
   "id": "5e650a95",
   "metadata": {},
   "outputs": [],
   "source": []
  }
 ],
 "metadata": {
  "kernelspec": {
   "display_name": "Python 3",
   "language": "python",
   "name": "python3"
  },
  "language_info": {
   "codemirror_mode": {
    "name": "ipython",
    "version": 3
   },
   "file_extension": ".py",
   "mimetype": "text/x-python",
   "name": "python",
   "nbconvert_exporter": "python",
   "pygments_lexer": "ipython3",
   "version": "3.6.9"
  }
 },
 "nbformat": 4,
 "nbformat_minor": 5
}
