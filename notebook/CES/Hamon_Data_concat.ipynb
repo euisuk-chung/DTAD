{
 "cells": [
  {
   "cell_type": "code",
   "execution_count": 1,
   "id": "satellite-welcome",
   "metadata": {},
   "outputs": [],
   "source": [
    "import os\n",
    "import pandas as pd\n",
    "import glob"
   ]
  },
  {
   "cell_type": "code",
   "execution_count": 2,
   "id": "restricted-rebound",
   "metadata": {},
   "outputs": [
    {
     "data": {
      "text/plain": [
       "'/repo/projects/timeseries_anomaly/EDA'"
      ]
     },
     "execution_count": 2,
     "metadata": {},
     "output_type": "execute_result"
    }
   ],
   "source": [
    "os.getcwd()"
   ]
  },
  {
   "cell_type": "code",
   "execution_count": 3,
   "id": "magnetic-blair",
   "metadata": {},
   "outputs": [],
   "source": [
    "data_path = '/repo/projects/timeseries_anomaly/dataset/cm_if_perf_1/*.csv'"
   ]
  },
  {
   "cell_type": "code",
   "execution_count": 4,
   "id": "assumed-suspension",
   "metadata": {},
   "outputs": [
    {
     "data": {
      "text/plain": [
       "['/repo/projects/timeseries_anomaly/dataset/cm_if_perf_1/20210623.csv',\n",
       " '/repo/projects/timeseries_anomaly/dataset/cm_if_perf_1/20210621.csv',\n",
       " '/repo/projects/timeseries_anomaly/dataset/cm_if_perf_1/20210620.csv',\n",
       " '/repo/projects/timeseries_anomaly/dataset/cm_if_perf_1/20210622.csv',\n",
       " '/repo/projects/timeseries_anomaly/dataset/cm_if_perf_1/20210624.csv',\n",
       " '/repo/projects/timeseries_anomaly/dataset/cm_if_perf_1/20210626.csv',\n",
       " '/repo/projects/timeseries_anomaly/dataset/cm_if_perf_1/20210625.csv']"
      ]
     },
     "execution_count": 4,
     "metadata": {},
     "output_type": "execute_result"
    }
   ],
   "source": [
    "file_list = glob.glob(data_path)\n",
    "file_list"
   ]
  },
  {
   "cell_type": "code",
   "execution_count": 5,
   "id": "residential-colony",
   "metadata": {},
   "outputs": [],
   "source": [
    "# 전체 데이터\n",
    "df_total = pd.DataFrame()\n",
    "\n",
    "for i in file_list:\n",
    "    data = pd.read_csv(i)\n",
    "    df_total = pd.concat([df_total, data])\n",
    "\n",
    "# Sort by date\n",
    "df_total= df_total.sort_values(by=['YYYYMMDD'], axis=0)\n",
    "df_total = df_total.reset_index(drop = True)"
   ]
  },
  {
   "cell_type": "code",
   "execution_count": 6,
   "id": "chemical-greeting",
   "metadata": {},
   "outputs": [
    {
     "data": {
      "text/html": [
       "<div>\n",
       "<style scoped>\n",
       "    .dataframe tbody tr th:only-of-type {\n",
       "        vertical-align: middle;\n",
       "    }\n",
       "\n",
       "    .dataframe tbody tr th {\n",
       "        vertical-align: top;\n",
       "    }\n",
       "\n",
       "    .dataframe thead th {\n",
       "        text-align: right;\n",
       "    }\n",
       "</style>\n",
       "<table border=\"1\" class=\"dataframe\">\n",
       "  <thead>\n",
       "    <tr style=\"text-align: right;\">\n",
       "      <th></th>\n",
       "      <th>YYYYMMDD</th>\n",
       "      <th>HHMMSS</th>\n",
       "      <th>MNG_NO</th>\n",
       "      <th>IF_IDX</th>\n",
       "      <th>AVG_INBPS</th>\n",
       "      <th>MIN_INBPS</th>\n",
       "      <th>MAX_INBPS</th>\n",
       "      <th>AVG_OUTBPS</th>\n",
       "      <th>MIN_OUTBPS</th>\n",
       "      <th>MAX_OUTBPS</th>\n",
       "      <th>...</th>\n",
       "      <th>MAX_INMCASTPPS</th>\n",
       "      <th>AVG_OUTMCASTPPS</th>\n",
       "      <th>MIN_OUTMCASTPPS</th>\n",
       "      <th>MAX_OUTMCASTPPS</th>\n",
       "      <th>AVG_INBCASTPPS</th>\n",
       "      <th>MIN_INBCASTPPS</th>\n",
       "      <th>MAX_INBCASTPPS</th>\n",
       "      <th>AVG_OUTBCASTPPS</th>\n",
       "      <th>MIN_OUTBCASTPPS</th>\n",
       "      <th>MAX_OUTBCASTPPS</th>\n",
       "    </tr>\n",
       "  </thead>\n",
       "  <tbody>\n",
       "    <tr>\n",
       "      <th>0</th>\n",
       "      <td>20210620</td>\n",
       "      <td>25500</td>\n",
       "      <td>10573</td>\n",
       "      <td>10</td>\n",
       "      <td>27264</td>\n",
       "      <td>27264</td>\n",
       "      <td>27264</td>\n",
       "      <td>28376</td>\n",
       "      <td>28376</td>\n",
       "      <td>28376</td>\n",
       "      <td>...</td>\n",
       "      <td>0</td>\n",
       "      <td>0</td>\n",
       "      <td>0</td>\n",
       "      <td>0</td>\n",
       "      <td>0</td>\n",
       "      <td>0</td>\n",
       "      <td>0</td>\n",
       "      <td>0</td>\n",
       "      <td>0</td>\n",
       "      <td>0</td>\n",
       "    </tr>\n",
       "    <tr>\n",
       "      <th>1</th>\n",
       "      <td>20210620</td>\n",
       "      <td>91000</td>\n",
       "      <td>9369</td>\n",
       "      <td>10</td>\n",
       "      <td>74136</td>\n",
       "      <td>74136</td>\n",
       "      <td>74136</td>\n",
       "      <td>261408</td>\n",
       "      <td>261408</td>\n",
       "      <td>261408</td>\n",
       "      <td>...</td>\n",
       "      <td>0</td>\n",
       "      <td>0</td>\n",
       "      <td>0</td>\n",
       "      <td>0</td>\n",
       "      <td>0</td>\n",
       "      <td>0</td>\n",
       "      <td>0</td>\n",
       "      <td>0</td>\n",
       "      <td>0</td>\n",
       "      <td>0</td>\n",
       "    </tr>\n",
       "    <tr>\n",
       "      <th>2</th>\n",
       "      <td>20210620</td>\n",
       "      <td>90500</td>\n",
       "      <td>9369</td>\n",
       "      <td>10</td>\n",
       "      <td>71704</td>\n",
       "      <td>71704</td>\n",
       "      <td>71704</td>\n",
       "      <td>264968</td>\n",
       "      <td>264968</td>\n",
       "      <td>264968</td>\n",
       "      <td>...</td>\n",
       "      <td>0</td>\n",
       "      <td>0</td>\n",
       "      <td>0</td>\n",
       "      <td>0</td>\n",
       "      <td>0</td>\n",
       "      <td>0</td>\n",
       "      <td>0</td>\n",
       "      <td>0</td>\n",
       "      <td>0</td>\n",
       "      <td>0</td>\n",
       "    </tr>\n",
       "    <tr>\n",
       "      <th>3</th>\n",
       "      <td>20210620</td>\n",
       "      <td>90000</td>\n",
       "      <td>9369</td>\n",
       "      <td>10</td>\n",
       "      <td>209248</td>\n",
       "      <td>209248</td>\n",
       "      <td>209248</td>\n",
       "      <td>262584</td>\n",
       "      <td>262584</td>\n",
       "      <td>262584</td>\n",
       "      <td>...</td>\n",
       "      <td>0</td>\n",
       "      <td>0</td>\n",
       "      <td>0</td>\n",
       "      <td>0</td>\n",
       "      <td>0</td>\n",
       "      <td>0</td>\n",
       "      <td>0</td>\n",
       "      <td>0</td>\n",
       "      <td>0</td>\n",
       "      <td>0</td>\n",
       "    </tr>\n",
       "    <tr>\n",
       "      <th>4</th>\n",
       "      <td>20210620</td>\n",
       "      <td>95500</td>\n",
       "      <td>9366</td>\n",
       "      <td>10</td>\n",
       "      <td>15808</td>\n",
       "      <td>15808</td>\n",
       "      <td>15808</td>\n",
       "      <td>22384</td>\n",
       "      <td>22384</td>\n",
       "      <td>22384</td>\n",
       "      <td>...</td>\n",
       "      <td>0</td>\n",
       "      <td>0</td>\n",
       "      <td>0</td>\n",
       "      <td>0</td>\n",
       "      <td>0</td>\n",
       "      <td>0</td>\n",
       "      <td>0</td>\n",
       "      <td>0</td>\n",
       "      <td>0</td>\n",
       "      <td>0</td>\n",
       "    </tr>\n",
       "  </tbody>\n",
       "</table>\n",
       "<p>5 rows × 58 columns</p>\n",
       "</div>"
      ],
      "text/plain": [
       "   YYYYMMDD  HHMMSS  MNG_NO  IF_IDX  AVG_INBPS  MIN_INBPS  MAX_INBPS  \\\n",
       "0  20210620   25500   10573      10      27264      27264      27264   \n",
       "1  20210620   91000    9369      10      74136      74136      74136   \n",
       "2  20210620   90500    9369      10      71704      71704      71704   \n",
       "3  20210620   90000    9369      10     209248     209248     209248   \n",
       "4  20210620   95500    9366      10      15808      15808      15808   \n",
       "\n",
       "   AVG_OUTBPS  MIN_OUTBPS  MAX_OUTBPS  ...  MAX_INMCASTPPS  AVG_OUTMCASTPPS  \\\n",
       "0       28376       28376       28376  ...               0                0   \n",
       "1      261408      261408      261408  ...               0                0   \n",
       "2      264968      264968      264968  ...               0                0   \n",
       "3      262584      262584      262584  ...               0                0   \n",
       "4       22384       22384       22384  ...               0                0   \n",
       "\n",
       "   MIN_OUTMCASTPPS  MAX_OUTMCASTPPS  AVG_INBCASTPPS  MIN_INBCASTPPS  \\\n",
       "0                0                0               0               0   \n",
       "1                0                0               0               0   \n",
       "2                0                0               0               0   \n",
       "3                0                0               0               0   \n",
       "4                0                0               0               0   \n",
       "\n",
       "   MAX_INBCASTPPS  AVG_OUTBCASTPPS  MIN_OUTBCASTPPS  MAX_OUTBCASTPPS  \n",
       "0               0                0                0                0  \n",
       "1               0                0                0                0  \n",
       "2               0                0                0                0  \n",
       "3               0                0                0                0  \n",
       "4               0                0                0                0  \n",
       "\n",
       "[5 rows x 58 columns]"
      ]
     },
     "execution_count": 6,
     "metadata": {},
     "output_type": "execute_result"
    }
   ],
   "source": [
    "df_total.head(5)"
   ]
  },
  {
   "cell_type": "code",
   "execution_count": 7,
   "id": "piano-survey",
   "metadata": {},
   "outputs": [
    {
     "data": {
      "text/plain": [
       "(23195128, 58)"
      ]
     },
     "execution_count": 7,
     "metadata": {},
     "output_type": "execute_result"
    }
   ],
   "source": [
    "df_total.shape"
   ]
  },
  {
   "cell_type": "code",
   "execution_count": 8,
   "id": "ahead-bubble",
   "metadata": {},
   "outputs": [],
   "source": [
    "dataset_loc = '/repo/projects/timeseries_anomaly/dataset/cm_if_perf_1/'\n",
    "export_file = 'total_cm_if_perf.csv'\n",
    "df_total.to_csv(dataset_loc + export_file, index = False)"
   ]
  }
 ],
 "metadata": {
  "kernelspec": {
   "display_name": "Python 3",
   "language": "python",
   "name": "python3"
  },
  "language_info": {
   "codemirror_mode": {
    "name": "ipython",
    "version": 3
   },
   "file_extension": ".py",
   "mimetype": "text/x-python",
   "name": "python",
   "nbconvert_exporter": "python",
   "pygments_lexer": "ipython3",
   "version": "3.6.9"
  }
 },
 "nbformat": 4,
 "nbformat_minor": 5
}
