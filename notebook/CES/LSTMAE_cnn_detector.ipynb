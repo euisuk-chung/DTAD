{
 "cells": [
  {
   "cell_type": "markdown",
   "id": "efe10a39",
   "metadata": {},
   "source": [
    "## Module Import & Data Load"
   ]
  },
  {
   "cell_type": "code",
   "execution_count": 166,
   "id": "e442bcc3",
   "metadata": {
    "ExecuteTime": {
     "end_time": "2021-09-01T11:51:56.041114Z",
     "start_time": "2021-09-01T11:51:55.111714Z"
    }
   },
   "outputs": [],
   "source": [
    "import sys\n",
    "\n",
    "from pathlib import Path\n",
    "from datetime import timedelta\n",
    "\n",
    "import dateutil\n",
    "import numpy as np\n",
    "import matplotlib.pyplot as plt\n",
    "import pandas as pd\n",
    "import torch\n",
    "import torch.nn as nn\n",
    "import torch.nn.functional as F\n",
    "import torch.optim as optim\n",
    "from torch.utils.data import Dataset, DataLoader\n",
    "from tqdm.notebook import trange\n",
    "from TaPR_pkg import etapr\n",
    "from src import dataset\n",
    "import tqdm\n",
    "\n",
    "import pickle\n",
    "from torchinfo import summary"
   ]
  },
  {
   "cell_type": "code",
   "execution_count": 167,
   "id": "d484eb5e",
   "metadata": {
    "ExecuteTime": {
     "end_time": "2021-09-01T11:51:56.339698Z",
     "start_time": "2021-09-01T11:51:56.315144Z"
    }
   },
   "outputs": [],
   "source": [
    "# GPU 할당 변경하기\n",
    "GPU_NUM = 0 # 원하는 GPU 번호 입력\n",
    "device = torch.device(f'cuda:{GPU_NUM}' if torch.cuda.is_available() else 'cpu')\n",
    "torch.cuda.set_device(device) # change allocation of current GPU\n",
    "\n",
    "device = torch.device(\"cuda\" if torch.cuda.is_available() else \"cpu\")\n",
    "torch.backends.cudnn.benchmark = True"
   ]
  },
  {
   "cell_type": "markdown",
   "id": "4b9d257b",
   "metadata": {},
   "source": [
    "# Define HAI Dataset for AE"
   ]
  },
  {
   "cell_type": "code",
   "execution_count": 168,
   "id": "a6dcdf1c",
   "metadata": {
    "ExecuteTime": {
     "end_time": "2021-09-01T11:51:56.878948Z",
     "start_time": "2021-09-01T11:51:56.850797Z"
    }
   },
   "outputs": [],
   "source": [
    "# WINDOW_GIVEN = 90\n",
    "# WINDOW_SIZE = 91\n",
    "\n",
    "WINDOW_SIZE = 90\n",
    "\n",
    "class HaiDataset(Dataset):\n",
    "    def __init__(self, timestamps, df, stride=1, attacks=None):\n",
    "        self.ts = np.array(timestamps)\n",
    "        self.tag_values = np.array(df, dtype=np.float32)\n",
    "        self.valid_idxs = []\n",
    "        for L in trange(len(self.ts) - WINDOW_SIZE):\n",
    "            R = L + WINDOW_SIZE\n",
    "            if dateutil.parser.parse(self.ts[R]) - dateutil.parser.parse(self.ts[L]) == timedelta(seconds=WINDOW_SIZE):\n",
    "                self.valid_idxs.append(L)\n",
    "        self.valid_idxs = np.array(self.valid_idxs, dtype=np.int32)[::stride]\n",
    "        self.n_idxs = len(self.valid_idxs)\n",
    "        print(f\"# of valid windows: {self.n_idxs}\")\n",
    "        if attacks is not None:\n",
    "            self.attacks = np.array(attacks, dtype=np.float32)\n",
    "            self.with_attack = True\n",
    "        else:\n",
    "            self.with_attack = False\n",
    "\n",
    "    def __len__(self):\n",
    "        return self.n_idxs\n",
    "\n",
    "    def __getitem__(self, idx):\n",
    "        i = self.valid_idxs[idx]\n",
    "        item = {\"attack\": self.attacks[i : i + WINDOW_SIZE]} if self.with_attack else {}\n",
    "        item[\"ts\"] = self.ts[i + WINDOW_SIZE]\n",
    "        item[\"given\"] = torch.from_numpy(self.tag_values[i : i + WINDOW_SIZE])\n",
    "        return item"
   ]
  },
  {
   "cell_type": "code",
   "execution_count": 169,
   "id": "ffa5d700",
   "metadata": {
    "ExecuteTime": {
     "end_time": "2021-09-01T11:51:57.708510Z",
     "start_time": "2021-09-01T11:51:57.702133Z"
    }
   },
   "outputs": [],
   "source": [
    "def boundary_check(df):\n",
    "    x = np.array(df, dtype=np.float32)\n",
    "    return np.any(x > 1.0), np.any(x < 0), np.any(np.isnan(x))"
   ]
  },
  {
   "cell_type": "code",
   "execution_count": 170,
   "id": "28deeef9",
   "metadata": {
    "ExecuteTime": {
     "end_time": "2021-09-01T11:52:17.078169Z",
     "start_time": "2021-09-01T11:52:17.072362Z"
    }
   },
   "outputs": [
    {
     "data": {
      "text/plain": [
       "[PosixPath('HAICon2021_dataset/train/train1.csv'),\n",
       " PosixPath('HAICon2021_dataset/train/train2.csv'),\n",
       " PosixPath('HAICon2021_dataset/train/train3.csv'),\n",
       " PosixPath('HAICon2021_dataset/train/train4.csv'),\n",
       " PosixPath('HAICon2021_dataset/train/train5.csv'),\n",
       " PosixPath('HAICon2021_dataset/train/train6.csv')]"
      ]
     },
     "execution_count": 170,
     "metadata": {},
     "output_type": "execute_result"
    }
   ],
   "source": [
    "TRAIN_DATASET = sorted([x for x in Path(\"HAICon2021_dataset/train/\").glob(\"*.csv\")])\n",
    "TRAIN_DATASET"
   ]
  },
  {
   "cell_type": "code",
   "execution_count": 171,
   "id": "5109acbd",
   "metadata": {
    "ExecuteTime": {
     "end_time": "2021-09-01T11:52:18.073700Z",
     "start_time": "2021-09-01T11:52:18.067366Z"
    }
   },
   "outputs": [
    {
     "data": {
      "text/plain": [
       "[PosixPath('HAICon2021_dataset/test/test1.csv'),\n",
       " PosixPath('HAICon2021_dataset/test/test2.csv'),\n",
       " PosixPath('HAICon2021_dataset/test/test3.csv')]"
      ]
     },
     "execution_count": 171,
     "metadata": {},
     "output_type": "execute_result"
    }
   ],
   "source": [
    "TEST_DATASET = sorted([x for x in Path(\"HAICon2021_dataset/test/\").glob(\"*.csv\")])\n",
    "TEST_DATASET"
   ]
  },
  {
   "cell_type": "code",
   "execution_count": 172,
   "id": "236a10ed",
   "metadata": {
    "ExecuteTime": {
     "end_time": "2021-09-01T11:52:18.365488Z",
     "start_time": "2021-09-01T11:52:18.351102Z"
    }
   },
   "outputs": [
    {
     "data": {
      "text/plain": [
       "[PosixPath('HAICon2021_dataset/validation/validation.csv')]"
      ]
     },
     "execution_count": 172,
     "metadata": {},
     "output_type": "execute_result"
    }
   ],
   "source": [
    "VALIDATION_DATASET = sorted([x for x in Path(\"HAICon2021_dataset/validation/\").glob(\"*.csv\")])\n",
    "VALIDATION_DATASET"
   ]
  },
  {
   "cell_type": "code",
   "execution_count": 173,
   "id": "0849adf9",
   "metadata": {
    "ExecuteTime": {
     "end_time": "2021-09-01T11:52:18.679143Z",
     "start_time": "2021-09-01T11:52:18.673170Z"
    }
   },
   "outputs": [],
   "source": [
    "def dataframe_from_csv(target):\n",
    "    return pd.read_csv(target).rename(columns=lambda x: x.strip())\n",
    "\n",
    "def dataframe_from_csvs(targets):\n",
    "    return pd.concat([dataframe_from_csv(x) for x in targets])"
   ]
  },
  {
   "cell_type": "code",
   "execution_count": 174,
   "id": "36c8f747",
   "metadata": {
    "ExecuteTime": {
     "end_time": "2021-09-01T11:52:27.194481Z",
     "start_time": "2021-09-01T11:52:18.962735Z"
    }
   },
   "outputs": [
    {
     "data": {
      "text/html": [
       "<div>\n",
       "<style scoped>\n",
       "    .dataframe tbody tr th:only-of-type {\n",
       "        vertical-align: middle;\n",
       "    }\n",
       "\n",
       "    .dataframe tbody tr th {\n",
       "        vertical-align: top;\n",
       "    }\n",
       "\n",
       "    .dataframe thead th {\n",
       "        text-align: right;\n",
       "    }\n",
       "</style>\n",
       "<table border=\"1\" class=\"dataframe\">\n",
       "  <thead>\n",
       "    <tr style=\"text-align: right;\">\n",
       "      <th></th>\n",
       "      <th>timestamp</th>\n",
       "      <th>C01</th>\n",
       "      <th>C02</th>\n",
       "      <th>C03</th>\n",
       "      <th>C04</th>\n",
       "      <th>C05</th>\n",
       "      <th>C06</th>\n",
       "      <th>C07</th>\n",
       "      <th>C08</th>\n",
       "      <th>C09</th>\n",
       "      <th>...</th>\n",
       "      <th>C77</th>\n",
       "      <th>C78</th>\n",
       "      <th>C79</th>\n",
       "      <th>C80</th>\n",
       "      <th>C81</th>\n",
       "      <th>C82</th>\n",
       "      <th>C83</th>\n",
       "      <th>C84</th>\n",
       "      <th>C85</th>\n",
       "      <th>C86</th>\n",
       "    </tr>\n",
       "  </thead>\n",
       "  <tbody>\n",
       "    <tr>\n",
       "      <th>0</th>\n",
       "      <td>2021-07-11 10:00:00</td>\n",
       "      <td>-2.2642</td>\n",
       "      <td>0</td>\n",
       "      <td>12.26196</td>\n",
       "      <td>-0.00087</td>\n",
       "      <td>12.01019</td>\n",
       "      <td>0.2254</td>\n",
       "      <td>12.66931</td>\n",
       "      <td>70</td>\n",
       "      <td>1</td>\n",
       "      <td>...</td>\n",
       "      <td>0.92255</td>\n",
       "      <td>30.08042</td>\n",
       "      <td>7.08818</td>\n",
       "      <td>595.06104</td>\n",
       "      <td>276.40338</td>\n",
       "      <td>1</td>\n",
       "      <td>1014.79321</td>\n",
       "      <td>12.0</td>\n",
       "      <td>50</td>\n",
       "      <td>3506</td>\n",
       "    </tr>\n",
       "    <tr>\n",
       "      <th>1</th>\n",
       "      <td>2021-07-11 10:00:01</td>\n",
       "      <td>-2.4923</td>\n",
       "      <td>0</td>\n",
       "      <td>12.26196</td>\n",
       "      <td>0.00058</td>\n",
       "      <td>12.56714</td>\n",
       "      <td>-0.0711</td>\n",
       "      <td>12.66931</td>\n",
       "      <td>70</td>\n",
       "      <td>1</td>\n",
       "      <td>...</td>\n",
       "      <td>0.92255</td>\n",
       "      <td>30.08423</td>\n",
       "      <td>7.08818</td>\n",
       "      <td>531.50317</td>\n",
       "      <td>276.18634</td>\n",
       "      <td>1</td>\n",
       "      <td>1014.79321</td>\n",
       "      <td>12.0</td>\n",
       "      <td>50</td>\n",
       "      <td>3493</td>\n",
       "    </tr>\n",
       "    <tr>\n",
       "      <th>2</th>\n",
       "      <td>2021-07-11 10:00:02</td>\n",
       "      <td>-2.8460</td>\n",
       "      <td>0</td>\n",
       "      <td>12.26196</td>\n",
       "      <td>-0.00072</td>\n",
       "      <td>14.48975</td>\n",
       "      <td>0.0051</td>\n",
       "      <td>12.66931</td>\n",
       "      <td>70</td>\n",
       "      <td>1</td>\n",
       "      <td>...</td>\n",
       "      <td>0.91873</td>\n",
       "      <td>30.09148</td>\n",
       "      <td>7.08818</td>\n",
       "      <td>451.06253</td>\n",
       "      <td>279.85754</td>\n",
       "      <td>1</td>\n",
       "      <td>1014.79321</td>\n",
       "      <td>12.0</td>\n",
       "      <td>50</td>\n",
       "      <td>3490</td>\n",
       "    </tr>\n",
       "    <tr>\n",
       "      <th>3</th>\n",
       "      <td>2021-07-11 10:00:03</td>\n",
       "      <td>-2.1235</td>\n",
       "      <td>0</td>\n",
       "      <td>12.26196</td>\n",
       "      <td>0.00101</td>\n",
       "      <td>15.93170</td>\n",
       "      <td>0.1842</td>\n",
       "      <td>12.66931</td>\n",
       "      <td>70</td>\n",
       "      <td>1</td>\n",
       "      <td>...</td>\n",
       "      <td>0.91644</td>\n",
       "      <td>30.10407</td>\n",
       "      <td>7.08818</td>\n",
       "      <td>404.38739</td>\n",
       "      <td>281.50317</td>\n",
       "      <td>1</td>\n",
       "      <td>1014.79321</td>\n",
       "      <td>12.0</td>\n",
       "      <td>50</td>\n",
       "      <td>3525</td>\n",
       "    </tr>\n",
       "    <tr>\n",
       "      <th>4</th>\n",
       "      <td>2021-07-11 10:00:04</td>\n",
       "      <td>-2.9074</td>\n",
       "      <td>0</td>\n",
       "      <td>12.26196</td>\n",
       "      <td>0.00043</td>\n",
       "      <td>16.10718</td>\n",
       "      <td>0.1842</td>\n",
       "      <td>12.66931</td>\n",
       "      <td>70</td>\n",
       "      <td>1</td>\n",
       "      <td>...</td>\n",
       "      <td>0.91797</td>\n",
       "      <td>30.10331</td>\n",
       "      <td>7.08818</td>\n",
       "      <td>382.53925</td>\n",
       "      <td>281.34039</td>\n",
       "      <td>1</td>\n",
       "      <td>1014.79321</td>\n",
       "      <td>12.0</td>\n",
       "      <td>50</td>\n",
       "      <td>3503</td>\n",
       "    </tr>\n",
       "    <tr>\n",
       "      <th>...</th>\n",
       "      <td>...</td>\n",
       "      <td>...</td>\n",
       "      <td>...</td>\n",
       "      <td>...</td>\n",
       "      <td>...</td>\n",
       "      <td>...</td>\n",
       "      <td>...</td>\n",
       "      <td>...</td>\n",
       "      <td>...</td>\n",
       "      <td>...</td>\n",
       "      <td>...</td>\n",
       "      <td>...</td>\n",
       "      <td>...</td>\n",
       "      <td>...</td>\n",
       "      <td>...</td>\n",
       "      <td>...</td>\n",
       "      <td>...</td>\n",
       "      <td>...</td>\n",
       "      <td>...</td>\n",
       "      <td>...</td>\n",
       "      <td>...</td>\n",
       "    </tr>\n",
       "    <tr>\n",
       "      <th>259195</th>\n",
       "      <td>2021-08-09 08:59:56</td>\n",
       "      <td>-2.0065</td>\n",
       "      <td>0</td>\n",
       "      <td>12.26196</td>\n",
       "      <td>0.00051</td>\n",
       "      <td>100.28228</td>\n",
       "      <td>0.5977</td>\n",
       "      <td>12.53358</td>\n",
       "      <td>70</td>\n",
       "      <td>1</td>\n",
       "      <td>...</td>\n",
       "      <td>1.17355</td>\n",
       "      <td>35.05434</td>\n",
       "      <td>10.00000</td>\n",
       "      <td>3178.48877</td>\n",
       "      <td>370.02679</td>\n",
       "      <td>1</td>\n",
       "      <td>986.05908</td>\n",
       "      <td>12.0</td>\n",
       "      <td>50</td>\n",
       "      <td>136</td>\n",
       "    </tr>\n",
       "    <tr>\n",
       "      <th>259196</th>\n",
       "      <td>2021-08-09 08:59:57</td>\n",
       "      <td>-2.2101</td>\n",
       "      <td>0</td>\n",
       "      <td>12.26196</td>\n",
       "      <td>-0.00029</td>\n",
       "      <td>100.28228</td>\n",
       "      <td>0.5509</td>\n",
       "      <td>12.53358</td>\n",
       "      <td>70</td>\n",
       "      <td>1</td>\n",
       "      <td>...</td>\n",
       "      <td>1.16898</td>\n",
       "      <td>35.03488</td>\n",
       "      <td>10.00000</td>\n",
       "      <td>3175.36084</td>\n",
       "      <td>370.40656</td>\n",
       "      <td>1</td>\n",
       "      <td>986.05908</td>\n",
       "      <td>12.0</td>\n",
       "      <td>50</td>\n",
       "      <td>89</td>\n",
       "    </tr>\n",
       "    <tr>\n",
       "      <th>259197</th>\n",
       "      <td>2021-08-09 08:59:58</td>\n",
       "      <td>-2.3325</td>\n",
       "      <td>0</td>\n",
       "      <td>12.26196</td>\n",
       "      <td>0.00152</td>\n",
       "      <td>100.28228</td>\n",
       "      <td>0.5425</td>\n",
       "      <td>12.53358</td>\n",
       "      <td>70</td>\n",
       "      <td>1</td>\n",
       "      <td>...</td>\n",
       "      <td>1.16974</td>\n",
       "      <td>35.02840</td>\n",
       "      <td>10.00000</td>\n",
       "      <td>3175.73608</td>\n",
       "      <td>368.12787</td>\n",
       "      <td>1</td>\n",
       "      <td>986.05908</td>\n",
       "      <td>12.0</td>\n",
       "      <td>50</td>\n",
       "      <td>90</td>\n",
       "    </tr>\n",
       "    <tr>\n",
       "      <th>259198</th>\n",
       "      <td>2021-08-09 08:59:59</td>\n",
       "      <td>-2.3049</td>\n",
       "      <td>0</td>\n",
       "      <td>12.26196</td>\n",
       "      <td>0.00058</td>\n",
       "      <td>100.26703</td>\n",
       "      <td>0.6266</td>\n",
       "      <td>12.53358</td>\n",
       "      <td>70</td>\n",
       "      <td>1</td>\n",
       "      <td>...</td>\n",
       "      <td>1.16974</td>\n",
       "      <td>35.02420</td>\n",
       "      <td>10.00000</td>\n",
       "      <td>3176.61182</td>\n",
       "      <td>368.01941</td>\n",
       "      <td>1</td>\n",
       "      <td>986.05908</td>\n",
       "      <td>12.0</td>\n",
       "      <td>50</td>\n",
       "      <td>74</td>\n",
       "    </tr>\n",
       "    <tr>\n",
       "      <th>259199</th>\n",
       "      <td>2021-08-09 09:00:00</td>\n",
       "      <td>-2.2011</td>\n",
       "      <td>0</td>\n",
       "      <td>12.26196</td>\n",
       "      <td>-0.00014</td>\n",
       "      <td>100.27466</td>\n",
       "      <td>0.7209</td>\n",
       "      <td>12.53358</td>\n",
       "      <td>70</td>\n",
       "      <td>1</td>\n",
       "      <td>...</td>\n",
       "      <td>1.17508</td>\n",
       "      <td>35.01695</td>\n",
       "      <td>10.00000</td>\n",
       "      <td>3172.23267</td>\n",
       "      <td>367.78424</td>\n",
       "      <td>1</td>\n",
       "      <td>986.05908</td>\n",
       "      <td>12.0</td>\n",
       "      <td>50</td>\n",
       "      <td>101</td>\n",
       "    </tr>\n",
       "  </tbody>\n",
       "</table>\n",
       "<p>1004402 rows × 87 columns</p>\n",
       "</div>"
      ],
      "text/plain": [
       "                  timestamp     C01  C02       C03      C04        C05  \\\n",
       "0       2021-07-11 10:00:00 -2.2642    0  12.26196 -0.00087   12.01019   \n",
       "1       2021-07-11 10:00:01 -2.4923    0  12.26196  0.00058   12.56714   \n",
       "2       2021-07-11 10:00:02 -2.8460    0  12.26196 -0.00072   14.48975   \n",
       "3       2021-07-11 10:00:03 -2.1235    0  12.26196  0.00101   15.93170   \n",
       "4       2021-07-11 10:00:04 -2.9074    0  12.26196  0.00043   16.10718   \n",
       "...                     ...     ...  ...       ...      ...        ...   \n",
       "259195  2021-08-09 08:59:56 -2.0065    0  12.26196  0.00051  100.28228   \n",
       "259196  2021-08-09 08:59:57 -2.2101    0  12.26196 -0.00029  100.28228   \n",
       "259197  2021-08-09 08:59:58 -2.3325    0  12.26196  0.00152  100.28228   \n",
       "259198  2021-08-09 08:59:59 -2.3049    0  12.26196  0.00058  100.26703   \n",
       "259199  2021-08-09 09:00:00 -2.2011    0  12.26196 -0.00014  100.27466   \n",
       "\n",
       "           C06       C07  C08  C09  ...      C77       C78       C79  \\\n",
       "0       0.2254  12.66931   70    1  ...  0.92255  30.08042   7.08818   \n",
       "1      -0.0711  12.66931   70    1  ...  0.92255  30.08423   7.08818   \n",
       "2       0.0051  12.66931   70    1  ...  0.91873  30.09148   7.08818   \n",
       "3       0.1842  12.66931   70    1  ...  0.91644  30.10407   7.08818   \n",
       "4       0.1842  12.66931   70    1  ...  0.91797  30.10331   7.08818   \n",
       "...        ...       ...  ...  ...  ...      ...       ...       ...   \n",
       "259195  0.5977  12.53358   70    1  ...  1.17355  35.05434  10.00000   \n",
       "259196  0.5509  12.53358   70    1  ...  1.16898  35.03488  10.00000   \n",
       "259197  0.5425  12.53358   70    1  ...  1.16974  35.02840  10.00000   \n",
       "259198  0.6266  12.53358   70    1  ...  1.16974  35.02420  10.00000   \n",
       "259199  0.7209  12.53358   70    1  ...  1.17508  35.01695  10.00000   \n",
       "\n",
       "               C80        C81  C82         C83   C84  C85   C86  \n",
       "0        595.06104  276.40338    1  1014.79321  12.0   50  3506  \n",
       "1        531.50317  276.18634    1  1014.79321  12.0   50  3493  \n",
       "2        451.06253  279.85754    1  1014.79321  12.0   50  3490  \n",
       "3        404.38739  281.50317    1  1014.79321  12.0   50  3525  \n",
       "4        382.53925  281.34039    1  1014.79321  12.0   50  3503  \n",
       "...            ...        ...  ...         ...   ...  ...   ...  \n",
       "259195  3178.48877  370.02679    1   986.05908  12.0   50   136  \n",
       "259196  3175.36084  370.40656    1   986.05908  12.0   50    89  \n",
       "259197  3175.73608  368.12787    1   986.05908  12.0   50    90  \n",
       "259198  3176.61182  368.01941    1   986.05908  12.0   50    74  \n",
       "259199  3172.23267  367.78424    1   986.05908  12.0   50   101  \n",
       "\n",
       "[1004402 rows x 87 columns]"
      ]
     },
     "execution_count": 174,
     "metadata": {},
     "output_type": "execute_result"
    }
   ],
   "source": [
    "TRAIN_DF_RAW = dataframe_from_csvs(TRAIN_DATASET)\n",
    "TRAIN_DF_RAW"
   ]
  },
  {
   "cell_type": "code",
   "execution_count": 175,
   "id": "fe63cba4",
   "metadata": {
    "ExecuteTime": {
     "end_time": "2021-09-01T11:52:27.452012Z",
     "start_time": "2021-09-01T11:52:27.447196Z"
    }
   },
   "outputs": [
    {
     "data": {
      "text/plain": [
       "Index(['C01', 'C02', 'C03', 'C04', 'C05', 'C06', 'C07', 'C08', 'C09', 'C10',\n",
       "       'C11', 'C12', 'C13', 'C14', 'C15', 'C16', 'C17', 'C18', 'C19', 'C20',\n",
       "       'C21', 'C22', 'C23', 'C24', 'C25', 'C26', 'C27', 'C28', 'C29', 'C30',\n",
       "       'C31', 'C32', 'C33', 'C34', 'C35', 'C36', 'C37', 'C38', 'C39', 'C40',\n",
       "       'C41', 'C42', 'C43', 'C44', 'C45', 'C46', 'C47', 'C48', 'C49', 'C50',\n",
       "       'C51', 'C52', 'C53', 'C54', 'C55', 'C56', 'C57', 'C58', 'C59', 'C60',\n",
       "       'C61', 'C62', 'C63', 'C64', 'C65', 'C66', 'C67', 'C68', 'C69', 'C70',\n",
       "       'C71', 'C72', 'C73', 'C74', 'C75', 'C76', 'C77', 'C78', 'C79', 'C80',\n",
       "       'C81', 'C82', 'C83', 'C84', 'C85', 'C86'],\n",
       "      dtype='object')"
      ]
     },
     "execution_count": 175,
     "metadata": {},
     "output_type": "execute_result"
    }
   ],
   "source": [
    "TIMESTAMP_FIELD = \"timestamp\"\n",
    "IDSTAMP_FIELD = 'id'\n",
    "ATTACK_FIELD = \"attack\"\n",
    "VALID_COLUMNS_IN_TRAIN_DATASET = TRAIN_DF_RAW.columns.drop([TIMESTAMP_FIELD])\n",
    "VALID_COLUMNS_IN_TRAIN_DATASET"
   ]
  },
  {
   "cell_type": "code",
   "execution_count": 176,
   "id": "efcc5879",
   "metadata": {
    "ExecuteTime": {
     "end_time": "2021-09-01T11:52:28.517371Z",
     "start_time": "2021-09-01T11:52:27.705733Z"
    }
   },
   "outputs": [],
   "source": [
    "TAG_MIN = TRAIN_DF_RAW[VALID_COLUMNS_IN_TRAIN_DATASET].min()\n",
    "TAG_MAX = TRAIN_DF_RAW[VALID_COLUMNS_IN_TRAIN_DATASET].max()"
   ]
  },
  {
   "cell_type": "code",
   "execution_count": 177,
   "id": "fdf4eff7",
   "metadata": {
    "ExecuteTime": {
     "end_time": "2021-09-01T11:52:28.704525Z",
     "start_time": "2021-09-01T11:52:28.700555Z"
    }
   },
   "outputs": [],
   "source": [
    "def normalize(df):\n",
    "    ndf = df.copy()\n",
    "    for c in df.columns:\n",
    "        if TAG_MIN[c] == TAG_MAX[c]:\n",
    "            ndf[c] = df[c] - TAG_MIN[c]\n",
    "        else:\n",
    "            ndf[c] = (df[c] - TAG_MIN[c]) / (TAG_MAX[c] - TAG_MIN[c])\n",
    "    return ndf"
   ]
  },
  {
   "cell_type": "markdown",
   "id": "5c974410",
   "metadata": {},
   "source": [
    "## TRAIN"
   ]
  },
  {
   "cell_type": "code",
   "execution_count": 178,
   "id": "b204b966",
   "metadata": {
    "ExecuteTime": {
     "end_time": "2021-09-01T11:52:31.249152Z",
     "start_time": "2021-09-01T11:52:28.883634Z"
    }
   },
   "outputs": [
    {
     "data": {
      "text/html": [
       "<div>\n",
       "<style scoped>\n",
       "    .dataframe tbody tr th:only-of-type {\n",
       "        vertical-align: middle;\n",
       "    }\n",
       "\n",
       "    .dataframe tbody tr th {\n",
       "        vertical-align: top;\n",
       "    }\n",
       "\n",
       "    .dataframe thead th {\n",
       "        text-align: right;\n",
       "    }\n",
       "</style>\n",
       "<table border=\"1\" class=\"dataframe\">\n",
       "  <thead>\n",
       "    <tr style=\"text-align: right;\">\n",
       "      <th></th>\n",
       "      <th>C01</th>\n",
       "      <th>C02</th>\n",
       "      <th>C03</th>\n",
       "      <th>C04</th>\n",
       "      <th>C05</th>\n",
       "      <th>C06</th>\n",
       "      <th>C07</th>\n",
       "      <th>C08</th>\n",
       "      <th>C09</th>\n",
       "      <th>C10</th>\n",
       "      <th>...</th>\n",
       "      <th>C77</th>\n",
       "      <th>C78</th>\n",
       "      <th>C79</th>\n",
       "      <th>C80</th>\n",
       "      <th>C81</th>\n",
       "      <th>C82</th>\n",
       "      <th>C83</th>\n",
       "      <th>C84</th>\n",
       "      <th>C85</th>\n",
       "      <th>C86</th>\n",
       "    </tr>\n",
       "  </thead>\n",
       "  <tbody>\n",
       "    <tr>\n",
       "      <th>0</th>\n",
       "      <td>0.433107</td>\n",
       "      <td>0.0</td>\n",
       "      <td>0.056338</td>\n",
       "      <td>0.501686</td>\n",
       "      <td>0.116706</td>\n",
       "      <td>0.447955</td>\n",
       "      <td>0.816071</td>\n",
       "      <td>0.0</td>\n",
       "      <td>0.0</td>\n",
       "      <td>0.0</td>\n",
       "      <td>...</td>\n",
       "      <td>0.240561</td>\n",
       "      <td>0.194185</td>\n",
       "      <td>0.708818</td>\n",
       "      <td>0.183693</td>\n",
       "      <td>0.169066</td>\n",
       "      <td>0.0</td>\n",
       "      <td>0.538147</td>\n",
       "      <td>0.0</td>\n",
       "      <td>0.0</td>\n",
       "      <td>0.276078</td>\n",
       "    </tr>\n",
       "    <tr>\n",
       "      <th>1</th>\n",
       "      <td>0.395098</td>\n",
       "      <td>0.0</td>\n",
       "      <td>0.056338</td>\n",
       "      <td>0.517560</td>\n",
       "      <td>0.121738</td>\n",
       "      <td>0.397053</td>\n",
       "      <td>0.816071</td>\n",
       "      <td>0.0</td>\n",
       "      <td>0.0</td>\n",
       "      <td>0.0</td>\n",
       "      <td>...</td>\n",
       "      <td>0.240561</td>\n",
       "      <td>0.194535</td>\n",
       "      <td>0.708818</td>\n",
       "      <td>0.165517</td>\n",
       "      <td>0.168332</td>\n",
       "      <td>0.0</td>\n",
       "      <td>0.538147</td>\n",
       "      <td>0.0</td>\n",
       "      <td>0.0</td>\n",
       "      <td>0.275176</td>\n",
       "    </tr>\n",
       "    <tr>\n",
       "      <th>2</th>\n",
       "      <td>0.333267</td>\n",
       "      <td>0.0</td>\n",
       "      <td>0.056338</td>\n",
       "      <td>0.504886</td>\n",
       "      <td>0.139408</td>\n",
       "      <td>0.405431</td>\n",
       "      <td>0.816071</td>\n",
       "      <td>0.0</td>\n",
       "      <td>0.0</td>\n",
       "      <td>0.0</td>\n",
       "      <td>...</td>\n",
       "      <td>0.238319</td>\n",
       "      <td>0.195226</td>\n",
       "      <td>0.708818</td>\n",
       "      <td>0.141083</td>\n",
       "      <td>0.180570</td>\n",
       "      <td>0.0</td>\n",
       "      <td>0.538147</td>\n",
       "      <td>0.0</td>\n",
       "      <td>0.0</td>\n",
       "      <td>0.274889</td>\n",
       "    </tr>\n",
       "    <tr>\n",
       "      <th>3</th>\n",
       "      <td>0.446345</td>\n",
       "      <td>0.0</td>\n",
       "      <td>0.056338</td>\n",
       "      <td>0.522383</td>\n",
       "      <td>0.154058</td>\n",
       "      <td>0.436703</td>\n",
       "      <td>0.816071</td>\n",
       "      <td>0.0</td>\n",
       "      <td>0.0</td>\n",
       "      <td>0.0</td>\n",
       "      <td>...</td>\n",
       "      <td>0.236754</td>\n",
       "      <td>0.196440</td>\n",
       "      <td>0.708818</td>\n",
       "      <td>0.125447</td>\n",
       "      <td>0.187292</td>\n",
       "      <td>0.0</td>\n",
       "      <td>0.538147</td>\n",
       "      <td>0.0</td>\n",
       "      <td>0.0</td>\n",
       "      <td>0.277264</td>\n",
       "    </tr>\n",
       "    <tr>\n",
       "      <th>4</th>\n",
       "      <td>0.328324</td>\n",
       "      <td>0.0</td>\n",
       "      <td>0.056338</td>\n",
       "      <td>0.517845</td>\n",
       "      <td>0.157091</td>\n",
       "      <td>0.439827</td>\n",
       "      <td>0.816071</td>\n",
       "      <td>0.0</td>\n",
       "      <td>0.0</td>\n",
       "      <td>0.0</td>\n",
       "      <td>...</td>\n",
       "      <td>0.237495</td>\n",
       "      <td>0.196492</td>\n",
       "      <td>0.708818</td>\n",
       "      <td>0.117700</td>\n",
       "      <td>0.187419</td>\n",
       "      <td>0.0</td>\n",
       "      <td>0.538147</td>\n",
       "      <td>0.0</td>\n",
       "      <td>0.0</td>\n",
       "      <td>0.275990</td>\n",
       "    </tr>\n",
       "    <tr>\n",
       "      <th>...</th>\n",
       "      <td>...</td>\n",
       "      <td>...</td>\n",
       "      <td>...</td>\n",
       "      <td>...</td>\n",
       "      <td>...</td>\n",
       "      <td>...</td>\n",
       "      <td>...</td>\n",
       "      <td>...</td>\n",
       "      <td>...</td>\n",
       "      <td>...</td>\n",
       "      <td>...</td>\n",
       "      <td>...</td>\n",
       "      <td>...</td>\n",
       "      <td>...</td>\n",
       "      <td>...</td>\n",
       "      <td>...</td>\n",
       "      <td>...</td>\n",
       "      <td>...</td>\n",
       "      <td>...</td>\n",
       "      <td>...</td>\n",
       "      <td>...</td>\n",
       "    </tr>\n",
       "    <tr>\n",
       "      <th>259195</th>\n",
       "      <td>0.485034</td>\n",
       "      <td>0.0</td>\n",
       "      <td>0.056340</td>\n",
       "      <td>0.515751</td>\n",
       "      <td>0.994085</td>\n",
       "      <td>0.520004</td>\n",
       "      <td>0.640361</td>\n",
       "      <td>0.0</td>\n",
       "      <td>0.0</td>\n",
       "      <td>0.0</td>\n",
       "      <td>...</td>\n",
       "      <td>0.403941</td>\n",
       "      <td>0.696846</td>\n",
       "      <td>1.000000</td>\n",
       "      <td>0.996289</td>\n",
       "      <td>0.517805</td>\n",
       "      <td>0.0</td>\n",
       "      <td>0.414192</td>\n",
       "      <td>0.0</td>\n",
       "      <td>0.0</td>\n",
       "      <td>0.018717</td>\n",
       "    </tr>\n",
       "    <tr>\n",
       "      <th>259196</th>\n",
       "      <td>0.447224</td>\n",
       "      <td>0.0</td>\n",
       "      <td>0.056338</td>\n",
       "      <td>0.509379</td>\n",
       "      <td>0.994085</td>\n",
       "      <td>0.510481</td>\n",
       "      <td>0.640361</td>\n",
       "      <td>0.0</td>\n",
       "      <td>0.0</td>\n",
       "      <td>0.0</td>\n",
       "      <td>...</td>\n",
       "      <td>0.401381</td>\n",
       "      <td>0.695028</td>\n",
       "      <td>1.000000</td>\n",
       "      <td>0.995484</td>\n",
       "      <td>0.518674</td>\n",
       "      <td>0.0</td>\n",
       "      <td>0.414192</td>\n",
       "      <td>0.0</td>\n",
       "      <td>0.0</td>\n",
       "      <td>0.015676</td>\n",
       "    </tr>\n",
       "    <tr>\n",
       "      <th>259197</th>\n",
       "      <td>0.423251</td>\n",
       "      <td>0.0</td>\n",
       "      <td>0.056338</td>\n",
       "      <td>0.528358</td>\n",
       "      <td>0.994085</td>\n",
       "      <td>0.508101</td>\n",
       "      <td>0.640361</td>\n",
       "      <td>0.0</td>\n",
       "      <td>0.0</td>\n",
       "      <td>0.0</td>\n",
       "      <td>...</td>\n",
       "      <td>0.401571</td>\n",
       "      <td>0.694256</td>\n",
       "      <td>1.000000</td>\n",
       "      <td>0.995510</td>\n",
       "      <td>0.511131</td>\n",
       "      <td>0.0</td>\n",
       "      <td>0.414192</td>\n",
       "      <td>0.0</td>\n",
       "      <td>0.0</td>\n",
       "      <td>0.015440</td>\n",
       "    </tr>\n",
       "    <tr>\n",
       "      <th>259198</th>\n",
       "      <td>0.425407</td>\n",
       "      <td>0.0</td>\n",
       "      <td>0.056338</td>\n",
       "      <td>0.520068</td>\n",
       "      <td>0.993949</td>\n",
       "      <td>0.522157</td>\n",
       "      <td>0.640361</td>\n",
       "      <td>0.0</td>\n",
       "      <td>0.0</td>\n",
       "      <td>0.0</td>\n",
       "      <td>...</td>\n",
       "      <td>0.401590</td>\n",
       "      <td>0.693797</td>\n",
       "      <td>1.000000</td>\n",
       "      <td>0.995761</td>\n",
       "      <td>0.510014</td>\n",
       "      <td>0.0</td>\n",
       "      <td>0.414192</td>\n",
       "      <td>0.0</td>\n",
       "      <td>0.0</td>\n",
       "      <td>0.014318</td>\n",
       "    </tr>\n",
       "    <tr>\n",
       "      <th>259199</th>\n",
       "      <td>0.442746</td>\n",
       "      <td>0.0</td>\n",
       "      <td>0.056338</td>\n",
       "      <td>0.511436</td>\n",
       "      <td>0.994003</td>\n",
       "      <td>0.539590</td>\n",
       "      <td>0.640361</td>\n",
       "      <td>0.0</td>\n",
       "      <td>0.0</td>\n",
       "      <td>0.0</td>\n",
       "      <td>...</td>\n",
       "      <td>0.404723</td>\n",
       "      <td>0.693092</td>\n",
       "      <td>1.000000</td>\n",
       "      <td>0.994546</td>\n",
       "      <td>0.509115</td>\n",
       "      <td>0.0</td>\n",
       "      <td>0.414192</td>\n",
       "      <td>0.0</td>\n",
       "      <td>0.0</td>\n",
       "      <td>0.016060</td>\n",
       "    </tr>\n",
       "  </tbody>\n",
       "</table>\n",
       "<p>1004402 rows × 86 columns</p>\n",
       "</div>"
      ],
      "text/plain": [
       "             C01  C02       C03       C04       C05       C06       C07  C08  \\\n",
       "0       0.433107  0.0  0.056338  0.501686  0.116706  0.447955  0.816071  0.0   \n",
       "1       0.395098  0.0  0.056338  0.517560  0.121738  0.397053  0.816071  0.0   \n",
       "2       0.333267  0.0  0.056338  0.504886  0.139408  0.405431  0.816071  0.0   \n",
       "3       0.446345  0.0  0.056338  0.522383  0.154058  0.436703  0.816071  0.0   \n",
       "4       0.328324  0.0  0.056338  0.517845  0.157091  0.439827  0.816071  0.0   \n",
       "...          ...  ...       ...       ...       ...       ...       ...  ...   \n",
       "259195  0.485034  0.0  0.056340  0.515751  0.994085  0.520004  0.640361  0.0   \n",
       "259196  0.447224  0.0  0.056338  0.509379  0.994085  0.510481  0.640361  0.0   \n",
       "259197  0.423251  0.0  0.056338  0.528358  0.994085  0.508101  0.640361  0.0   \n",
       "259198  0.425407  0.0  0.056338  0.520068  0.993949  0.522157  0.640361  0.0   \n",
       "259199  0.442746  0.0  0.056338  0.511436  0.994003  0.539590  0.640361  0.0   \n",
       "\n",
       "        C09  C10  ...       C77       C78       C79       C80       C81  C82  \\\n",
       "0       0.0  0.0  ...  0.240561  0.194185  0.708818  0.183693  0.169066  0.0   \n",
       "1       0.0  0.0  ...  0.240561  0.194535  0.708818  0.165517  0.168332  0.0   \n",
       "2       0.0  0.0  ...  0.238319  0.195226  0.708818  0.141083  0.180570  0.0   \n",
       "3       0.0  0.0  ...  0.236754  0.196440  0.708818  0.125447  0.187292  0.0   \n",
       "4       0.0  0.0  ...  0.237495  0.196492  0.708818  0.117700  0.187419  0.0   \n",
       "...     ...  ...  ...       ...       ...       ...       ...       ...  ...   \n",
       "259195  0.0  0.0  ...  0.403941  0.696846  1.000000  0.996289  0.517805  0.0   \n",
       "259196  0.0  0.0  ...  0.401381  0.695028  1.000000  0.995484  0.518674  0.0   \n",
       "259197  0.0  0.0  ...  0.401571  0.694256  1.000000  0.995510  0.511131  0.0   \n",
       "259198  0.0  0.0  ...  0.401590  0.693797  1.000000  0.995761  0.510014  0.0   \n",
       "259199  0.0  0.0  ...  0.404723  0.693092  1.000000  0.994546  0.509115  0.0   \n",
       "\n",
       "             C83  C84  C85       C86  \n",
       "0       0.538147  0.0  0.0  0.276078  \n",
       "1       0.538147  0.0  0.0  0.275176  \n",
       "2       0.538147  0.0  0.0  0.274889  \n",
       "3       0.538147  0.0  0.0  0.277264  \n",
       "4       0.538147  0.0  0.0  0.275990  \n",
       "...          ...  ...  ...       ...  \n",
       "259195  0.414192  0.0  0.0  0.018717  \n",
       "259196  0.414192  0.0  0.0  0.015676  \n",
       "259197  0.414192  0.0  0.0  0.015440  \n",
       "259198  0.414192  0.0  0.0  0.014318  \n",
       "259199  0.414192  0.0  0.0  0.016060  \n",
       "\n",
       "[1004402 rows x 86 columns]"
      ]
     },
     "execution_count": 178,
     "metadata": {},
     "output_type": "execute_result"
    }
   ],
   "source": [
    "TRAIN_DF = normalize(TRAIN_DF_RAW[VALID_COLUMNS_IN_TRAIN_DATASET]).ewm(alpha=0.9).mean()\n",
    "TRAIN_DF"
   ]
  },
  {
   "cell_type": "code",
   "execution_count": 179,
   "id": "7b32d5dc",
   "metadata": {
    "ExecuteTime": {
     "end_time": "2021-09-01T11:55:25.040729Z",
     "start_time": "2021-09-01T11:52:31.479329Z"
    }
   },
   "outputs": [
    {
     "data": {
      "application/vnd.jupyter.widget-view+json": {
       "model_id": "f5a35f651aea4784915ee7fcafd3d5b2",
       "version_major": 2,
       "version_minor": 0
      },
      "text/plain": [
       "HBox(children=(FloatProgress(value=0.0, max=1004312.0), HTML(value='')))"
      ]
     },
     "metadata": {},
     "output_type": "display_data"
    },
    {
     "name": "stdout",
     "output_type": "stream",
     "text": [
      "\n"
     ]
    },
    {
     "ename": "KeyboardInterrupt",
     "evalue": "",
     "output_type": "error",
     "traceback": [
      "\u001b[0;31m---------------------------------------------------------------------------\u001b[0m",
      "\u001b[0;31mKeyboardInterrupt\u001b[0m                         Traceback (most recent call last)",
      "\u001b[0;32m<ipython-input-179-3e834de921f4>\u001b[0m in \u001b[0;36m<module>\u001b[0;34m\u001b[0m\n\u001b[0;32m----> 1\u001b[0;31m \u001b[0mHAI_DATASET_TRAIN\u001b[0m \u001b[0;34m=\u001b[0m \u001b[0mHaiDataset\u001b[0m\u001b[0;34m(\u001b[0m\u001b[0mTRAIN_DF_RAW\u001b[0m\u001b[0;34m[\u001b[0m\u001b[0mTIMESTAMP_FIELD\u001b[0m\u001b[0;34m]\u001b[0m\u001b[0;34m,\u001b[0m \u001b[0mTRAIN_DF\u001b[0m\u001b[0;34m,\u001b[0m \u001b[0mstride\u001b[0m\u001b[0;34m=\u001b[0m\u001b[0;36m1\u001b[0m\u001b[0;34m)\u001b[0m\u001b[0;34m\u001b[0m\u001b[0;34m\u001b[0m\u001b[0m\n\u001b[0m\u001b[1;32m      2\u001b[0m \u001b[0mHAI_DATASET_TRAIN\u001b[0m\u001b[0;34m[\u001b[0m\u001b[0;36m0\u001b[0m\u001b[0;34m]\u001b[0m\u001b[0;34m\u001b[0m\u001b[0;34m\u001b[0m\u001b[0m\n",
      "\u001b[0;32m<ipython-input-168-62d290053881>\u001b[0m in \u001b[0;36m__init__\u001b[0;34m(self, timestamps, df, stride, attacks)\u001b[0m\n\u001b[1;32m     11\u001b[0m         \u001b[0;32mfor\u001b[0m \u001b[0mL\u001b[0m \u001b[0;32min\u001b[0m \u001b[0mtrange\u001b[0m\u001b[0;34m(\u001b[0m\u001b[0mlen\u001b[0m\u001b[0;34m(\u001b[0m\u001b[0mself\u001b[0m\u001b[0;34m.\u001b[0m\u001b[0mts\u001b[0m\u001b[0;34m)\u001b[0m \u001b[0;34m-\u001b[0m \u001b[0mWINDOW_SIZE\u001b[0m\u001b[0;34m)\u001b[0m\u001b[0;34m:\u001b[0m\u001b[0;34m\u001b[0m\u001b[0;34m\u001b[0m\u001b[0m\n\u001b[1;32m     12\u001b[0m             \u001b[0mR\u001b[0m \u001b[0;34m=\u001b[0m \u001b[0mL\u001b[0m \u001b[0;34m+\u001b[0m \u001b[0mWINDOW_SIZE\u001b[0m\u001b[0;34m\u001b[0m\u001b[0;34m\u001b[0m\u001b[0m\n\u001b[0;32m---> 13\u001b[0;31m             \u001b[0;32mif\u001b[0m \u001b[0mdateutil\u001b[0m\u001b[0;34m.\u001b[0m\u001b[0mparser\u001b[0m\u001b[0;34m.\u001b[0m\u001b[0mparse\u001b[0m\u001b[0;34m(\u001b[0m\u001b[0mself\u001b[0m\u001b[0;34m.\u001b[0m\u001b[0mts\u001b[0m\u001b[0;34m[\u001b[0m\u001b[0mR\u001b[0m\u001b[0;34m]\u001b[0m\u001b[0;34m)\u001b[0m \u001b[0;34m-\u001b[0m \u001b[0mdateutil\u001b[0m\u001b[0;34m.\u001b[0m\u001b[0mparser\u001b[0m\u001b[0;34m.\u001b[0m\u001b[0mparse\u001b[0m\u001b[0;34m(\u001b[0m\u001b[0mself\u001b[0m\u001b[0;34m.\u001b[0m\u001b[0mts\u001b[0m\u001b[0;34m[\u001b[0m\u001b[0mL\u001b[0m\u001b[0;34m]\u001b[0m\u001b[0;34m)\u001b[0m \u001b[0;34m==\u001b[0m \u001b[0mtimedelta\u001b[0m\u001b[0;34m(\u001b[0m\u001b[0mseconds\u001b[0m\u001b[0;34m=\u001b[0m\u001b[0mWINDOW_SIZE\u001b[0m\u001b[0;34m)\u001b[0m\u001b[0;34m:\u001b[0m\u001b[0;34m\u001b[0m\u001b[0;34m\u001b[0m\u001b[0m\n\u001b[0m\u001b[1;32m     14\u001b[0m                 \u001b[0mself\u001b[0m\u001b[0;34m.\u001b[0m\u001b[0mvalid_idxs\u001b[0m\u001b[0;34m.\u001b[0m\u001b[0mappend\u001b[0m\u001b[0;34m(\u001b[0m\u001b[0mL\u001b[0m\u001b[0;34m)\u001b[0m\u001b[0;34m\u001b[0m\u001b[0;34m\u001b[0m\u001b[0m\n\u001b[1;32m     15\u001b[0m         \u001b[0mself\u001b[0m\u001b[0;34m.\u001b[0m\u001b[0mvalid_idxs\u001b[0m \u001b[0;34m=\u001b[0m \u001b[0mnp\u001b[0m\u001b[0;34m.\u001b[0m\u001b[0marray\u001b[0m\u001b[0;34m(\u001b[0m\u001b[0mself\u001b[0m\u001b[0;34m.\u001b[0m\u001b[0mvalid_idxs\u001b[0m\u001b[0;34m,\u001b[0m \u001b[0mdtype\u001b[0m\u001b[0;34m=\u001b[0m\u001b[0mnp\u001b[0m\u001b[0;34m.\u001b[0m\u001b[0mint32\u001b[0m\u001b[0;34m)\u001b[0m\u001b[0;34m[\u001b[0m\u001b[0;34m:\u001b[0m\u001b[0;34m:\u001b[0m\u001b[0mstride\u001b[0m\u001b[0;34m]\u001b[0m\u001b[0;34m\u001b[0m\u001b[0;34m\u001b[0m\u001b[0m\n",
      "\u001b[0;31mKeyboardInterrupt\u001b[0m: "
     ]
    }
   ],
   "source": [
    "HAI_DATASET_TRAIN = HaiDataset(TRAIN_DF_RAW[TIMESTAMP_FIELD], TRAIN_DF, stride=1)\n",
    "HAI_DATASET_TRAIN[0]"
   ]
  },
  {
   "cell_type": "markdown",
   "id": "d28717f4",
   "metadata": {},
   "source": [
    "## VALIDATION"
   ]
  },
  {
   "cell_type": "code",
   "execution_count": null,
   "id": "ad2c01ff",
   "metadata": {
    "ExecuteTime": {
     "end_time": "2021-09-01T11:55:25.996615Z",
     "start_time": "2021-09-01T11:55:25.267767Z"
    }
   },
   "outputs": [],
   "source": [
    "VALIDATION_DF_RAW = dataframe_from_csvs(VALIDATION_DATASET)\n",
    "VALIDATION_DF_RAW"
   ]
  },
  {
   "cell_type": "code",
   "execution_count": null,
   "id": "e3b3a199",
   "metadata": {
    "ExecuteTime": {
     "end_time": "2021-09-01T11:55:26.405272Z",
     "start_time": "2021-09-01T11:55:26.275837Z"
    }
   },
   "outputs": [],
   "source": [
    "VALIDATION_DF = normalize(VALIDATION_DF_RAW[VALID_COLUMNS_IN_TRAIN_DATASET])"
   ]
  },
  {
   "cell_type": "code",
   "execution_count": null,
   "id": "1d3f16f7",
   "metadata": {
    "ExecuteTime": {
     "end_time": "2021-09-01T11:55:41.780185Z",
     "start_time": "2021-09-01T11:55:26.744011Z"
    }
   },
   "outputs": [],
   "source": [
    "HAI_DATASET_VALIDATION = HaiDataset(\n",
    "    VALIDATION_DF_RAW[TIMESTAMP_FIELD], \n",
    "    VALIDATION_DF, \n",
    "    attacks=VALIDATION_DF_RAW[ATTACK_FIELD], \n",
    "    stride = 1\n",
    ")\n",
    "HAI_DATASET_VALIDATION[0]"
   ]
  },
  {
   "cell_type": "code",
   "execution_count": null,
   "id": "a12c562b",
   "metadata": {
    "ExecuteTime": {
     "end_time": "2021-09-01T11:55:42.119826Z",
     "start_time": "2021-09-01T11:55:42.101522Z"
    }
   },
   "outputs": [],
   "source": [
    "boundary_check(VALIDATION_DF)"
   ]
  },
  {
   "cell_type": "markdown",
   "id": "454eb0da",
   "metadata": {},
   "source": [
    "## TEST"
   ]
  },
  {
   "cell_type": "code",
   "execution_count": null,
   "id": "10360408",
   "metadata": {
    "ExecuteTime": {
     "end_time": "2021-09-01T11:58:03.313390Z",
     "start_time": "2021-09-01T11:58:01.107431Z"
    }
   },
   "outputs": [],
   "source": [
    "TEST_DF_RAW = dataframe_from_csvs(TEST_DATASET)\n",
    "TEST_DF_RAW"
   ]
  },
  {
   "cell_type": "code",
   "execution_count": null,
   "id": "4900c730",
   "metadata": {
    "ExecuteTime": {
     "end_time": "2021-09-01T11:58:04.471112Z",
     "start_time": "2021-09-01T11:58:03.752937Z"
    }
   },
   "outputs": [],
   "source": [
    "TEST_DF = normalize(TEST_DF_RAW[VALID_COLUMNS_IN_TRAIN_DATASET]).ewm(alpha=0.9).mean()\n",
    "TEST_DF"
   ]
  },
  {
   "cell_type": "code",
   "execution_count": null,
   "id": "aa09b2af",
   "metadata": {
    "ExecuteTime": {
     "end_time": "2021-09-01T11:58:05.314858Z",
     "start_time": "2021-09-01T11:58:05.252660Z"
    }
   },
   "outputs": [],
   "source": [
    "boundary_check(TEST_DF)"
   ]
  },
  {
   "cell_type": "code",
   "execution_count": null,
   "id": "f51a7e99",
   "metadata": {
    "ExecuteTime": {
     "end_time": "2021-09-01T11:58:53.991870Z",
     "start_time": "2021-09-01T11:58:06.116508Z"
    }
   },
   "outputs": [],
   "source": [
    "HAI_DATASET_TEST = HaiDataset(\n",
    "    TEST_DF_RAW[TIMESTAMP_FIELD], \n",
    "    TEST_DF,\n",
    "    stride = 90,\n",
    "    attacks=None\n",
    ")\n",
    "HAI_DATASET_TEST[0]"
   ]
  },
  {
   "cell_type": "code",
   "execution_count": 23,
   "id": "b021dad1",
   "metadata": {
    "ExecuteTime": {
     "end_time": "2021-09-01T11:58:54.409054Z",
     "start_time": "2021-09-01T11:58:54.405546Z"
    }
   },
   "outputs": [],
   "source": [
    "# train param\n",
    "params = {'batch_size': 64,\n",
    "          'shuffle': True,\n",
    "          'num_workers': 4,\n",
    "          'pin_memory' : True}\n",
    "\n",
    "trainloader = DataLoader(HAI_DATASET_TRAIN, **params)\n",
    "\n",
    "# test, valid는 shuffle x\n",
    "params['shuffle'] = False\n",
    "validloader = DataLoader(HAI_DATASET_VALIDATION, **params)\n",
    "testloader = DataLoader(HAI_DATASET_TEST, **params)"
   ]
  },
  {
   "cell_type": "code",
   "execution_count": 24,
   "id": "f1c0db3d",
   "metadata": {
    "ExecuteTime": {
     "end_time": "2021-09-01T11:58:59.166897Z",
     "start_time": "2021-09-01T11:58:56.247485Z"
    }
   },
   "outputs": [
    {
     "name": "stdout",
     "output_type": "stream",
     "text": [
      "torch.Size([64, 90, 86])\n"
     ]
    }
   ],
   "source": [
    "train_shape = next(iter(trainloader))['given'].shape\n",
    "print(train_shape)"
   ]
  },
  {
   "cell_type": "markdown",
   "id": "b7603e8c",
   "metadata": {},
   "source": [
    "# Model"
   ]
  },
  {
   "cell_type": "code",
   "execution_count": 25,
   "id": "ce7f174e",
   "metadata": {
    "ExecuteTime": {
     "end_time": "2021-09-01T12:24:27.562266Z",
     "start_time": "2021-09-01T12:24:27.553493Z"
    }
   },
   "outputs": [],
   "source": [
    "class Encoder(nn.Module):\n",
    "    def __init__(self, seq_len, n_features, embedding_dim=64):\n",
    "        super(Encoder, self).__init__()\n",
    "        self.seq_len, self.n_features = seq_len, n_features\n",
    "        self.embedding_dim, self.hidden_dim = (\n",
    "            embedding_dim, 2 * embedding_dim\n",
    "        )\n",
    "        self.rnn1 = nn.LSTM(\n",
    "          input_size=n_features,\n",
    "          hidden_size=self.hidden_dim,\n",
    "          num_layers=1,\n",
    "          batch_first=True\n",
    "        )\n",
    "        self.rnn2 = nn.LSTM(\n",
    "          input_size=self.hidden_dim,\n",
    "          hidden_size=embedding_dim,\n",
    "          num_layers=1,\n",
    "          batch_first=True\n",
    "        )\n",
    "    def forward(self, x):\n",
    "        x, (_, _) = self.rnn1(x)\n",
    "        x, (hidden_n, _) = self.rnn2(x)\n",
    "        return  x[:,-1,:]"
   ]
  },
  {
   "cell_type": "code",
   "execution_count": 26,
   "id": "f5d09b20",
   "metadata": {
    "ExecuteTime": {
     "end_time": "2021-09-01T12:24:28.761367Z",
     "start_time": "2021-09-01T12:24:28.752211Z"
    }
   },
   "outputs": [],
   "source": [
    "class TimeDistributed(nn.Module):\n",
    "    def __init__(self, module, batch_first=False):\n",
    "        super(TimeDistributed, self).__init__()\n",
    "        self.module = module\n",
    "        self.batch_first = batch_first\n",
    "\n",
    "    def forward(self, x):\n",
    "        if len(x.size()) <= 2:\n",
    "            return self.module(x)\n",
    "        # Squash samples and timesteps into a single axis\n",
    "        x_reshape = x.contiguous().view(-1, x.size(-1))  # (samples * timesteps, input_size)\n",
    "        y = self.module(x_reshape)\n",
    "        # We have to reshape Y\n",
    "        if self.batch_first:\n",
    "            y = y.contiguous().view(x.size(0), -1, y.size(-1))  # (samples, timesteps, output_size)\n",
    "        else:\n",
    "            y = y.view(-1, x.size(1), y.size(-1))  # (timesteps, samples, output_size)\n",
    "        return y"
   ]
  },
  {
   "cell_type": "code",
   "execution_count": 27,
   "id": "c5c51e3a",
   "metadata": {
    "ExecuteTime": {
     "end_time": "2021-09-01T12:24:29.872473Z",
     "start_time": "2021-09-01T12:24:29.863175Z"
    }
   },
   "outputs": [],
   "source": [
    "class Decoder(nn.Module):\n",
    "    def __init__(self, seq_len, input_dim=64, n_features=1):\n",
    "        super(Decoder, self).__init__()\n",
    "        self.seq_len, self.input_dim = seq_len, input_dim\n",
    "        self.hidden_dim, self.n_features = 2 * input_dim, n_features\n",
    "        self.rnn1 = nn.LSTM(\n",
    "          input_size=input_dim,\n",
    "          hidden_size=input_dim,\n",
    "          num_layers=1,\n",
    "          batch_first=True\n",
    "        )\n",
    "        self.rnn2 = nn.LSTM(\n",
    "          input_size=input_dim,\n",
    "          hidden_size=self.hidden_dim,\n",
    "          num_layers=1,\n",
    "          batch_first=True\n",
    "        )\n",
    "        self.output_layer = torch.nn.Linear(self.hidden_dim, n_features)\n",
    "        self.timedist = TimeDistributed(self.output_layer)\n",
    "        \n",
    "    def forward(self, x):\n",
    "        x=x.reshape(-1,1,self.input_dim).repeat(1,self.seq_len,1)       \n",
    "        x, (hidden_n, cell_n) = self.rnn1(x)\n",
    "        x, (hidden_n, cell_n) = self.rnn2(x)\n",
    "        return self.timedist(x)"
   ]
  },
  {
   "cell_type": "code",
   "execution_count": 28,
   "id": "1253984d",
   "metadata": {
    "ExecuteTime": {
     "end_time": "2021-09-01T12:24:53.025406Z",
     "start_time": "2021-09-01T12:24:53.019930Z"
    }
   },
   "outputs": [],
   "source": [
    "class RecurrentAutoencoder(nn.Module):\n",
    "    def __init__(self, seq_len, n_features, embedding_dim=64):\n",
    "        super(RecurrentAutoencoder, self).__init__()\n",
    "        self.encoder = Encoder(seq_len, n_features, embedding_dim).to(device)\n",
    "        self.decoder = Decoder(seq_len, embedding_dim, n_features).to(device)\n",
    "    def forward(self, x):\n",
    "        x = self.encoder(x)\n",
    "        x = self.decoder(x)\n",
    "        return x"
   ]
  },
  {
   "cell_type": "code",
   "execution_count": 29,
   "id": "3b2484ae",
   "metadata": {
    "ExecuteTime": {
     "end_time": "2021-09-01T12:31:33.697690Z",
     "start_time": "2021-09-01T12:31:33.674420Z"
    }
   },
   "outputs": [
    {
     "data": {
      "text/plain": [
       "==========================================================================================\n",
       "Layer (type:depth-idx)                   Output Shape              Param #\n",
       "==========================================================================================\n",
       "RecurrentAutoencoder                     --                        --\n",
       "├─Encoder: 1-1                           [64, 64]                  --\n",
       "│    └─LSTM: 2-1                         [64, 90, 128]             110,592\n",
       "│    └─LSTM: 2-2                         [64, 90, 64]              49,664\n",
       "├─Decoder: 1-2                           [64, 90, 86]              --\n",
       "│    └─LSTM: 2-3                         [64, 90, 64]              33,280\n",
       "│    └─LSTM: 2-4                         [64, 90, 128]             99,328\n",
       "│    └─TimeDistributed: 2-5              [64, 90, 86]              --\n",
       "│    └─Linear: 2-6                       [5760, 86]                11,094\n",
       "│    └─TimeDistributed: 2                --                        --\n",
       "│    │    └─Linear: 3-1                  [5760, 86]                (recursive)\n",
       "==========================================================================================\n",
       "Total params: 303,958\n",
       "Trainable params: 303,958\n",
       "Non-trainable params: 0\n",
       "Total mult-adds (G): 1.81\n",
       "==========================================================================================\n",
       "Input size (MB): 1.98\n",
       "Forward/backward pass size (MB): 21.66\n",
       "Params size (MB): 1.22\n",
       "Estimated Total Size (MB): 24.85\n",
       "=========================================================================================="
      ]
     },
     "execution_count": 29,
     "metadata": {},
     "output_type": "execute_result"
    }
   ],
   "source": [
    "timesteps = train_shape[1]\n",
    "n_features = train_shape[2]\n",
    "embedding_dim = 64\n",
    "model = RecurrentAutoencoder(timesteps, n_features, embedding_dim).to(device)\n",
    "summary(model, train_shape)"
   ]
  },
  {
   "cell_type": "code",
   "execution_count": 30,
   "id": "1cdec7c5",
   "metadata": {
    "ExecuteTime": {
     "end_time": "2021-09-01T12:31:34.305017Z",
     "start_time": "2021-09-01T12:31:34.295627Z"
    }
   },
   "outputs": [],
   "source": [
    "optimizer = optim.AdamW(model.parameters())\n",
    "loss_fn = nn.MSELoss()"
   ]
  },
  {
   "cell_type": "markdown",
   "id": "072c0886",
   "metadata": {},
   "source": [
    "## TRAIN"
   ]
  },
  {
   "cell_type": "code",
   "execution_count": 31,
   "id": "32652932",
   "metadata": {
    "ExecuteTime": {
     "end_time": "2021-09-01T12:30:57.790318Z",
     "start_time": "2021-09-01T12:30:57.780675Z"
    }
   },
   "outputs": [],
   "source": [
    "def train(model, train_data, optimizer, loss_fn, use_fp16=True, max_norm=None):\n",
    "    \n",
    "    epoch_loss = 0\n",
    "    \n",
    "    model.train() \n",
    "\n",
    "    for idx, batch in enumerate(train_data):\n",
    "        \n",
    "        optimizer.zero_grad(set_to_none=True)\n",
    "        scaler = torch.cuda.amp.GradScaler()\n",
    "                \n",
    "        input = batch['given'].to(device)\n",
    "        \n",
    "        with torch.cuda.amp.autocast(enabled=use_fp16):\n",
    "            predictions = model.forward(input)\n",
    "            train_loss = loss_fn(predictions, input)\n",
    "        if use_fp16:\n",
    "            scaler.scale(train_loss).backward()\n",
    "            if max_norm is not None:\n",
    "                scaler.unscale_(optimizer)\n",
    "                torch.nn.utils.clip_grad_norm_(model.parameters(), max_norm)\n",
    "            scaler.step(optimizer)\n",
    "            scaler.update()\n",
    "        else:\n",
    "            train_loss.backward()\n",
    "            optimizer.step()\n",
    "        \n",
    "        epoch_loss += train_loss.item()\n",
    "        \n",
    "    return epoch_loss/len(train_data)"
   ]
  },
  {
   "cell_type": "code",
   "execution_count": 38,
   "id": "43b43ffd",
   "metadata": {
    "ExecuteTime": {
     "end_time": "2021-09-01T12:30:59.395166Z",
     "start_time": "2021-09-01T12:30:59.387508Z"
    }
   },
   "outputs": [],
   "source": [
    "class EarlyStopping():\n",
    "    def __init__(self, patience=0, verbose=0):\n",
    "        self._step = 0\n",
    "        self._loss = float('inf')\n",
    "        self.patience = patience\n",
    "        self.verbose = verbose\n",
    "\n",
    "    def validate(self, loss):\n",
    "        if self._loss < loss:\n",
    "            self._step += 1\n",
    "            if self._step > self.patience:\n",
    "                if self.verbose:\n",
    "                    print(f'\\n Training process is stopped early....')\n",
    "                return True\n",
    "        else:\n",
    "            self._step = 0\n",
    "            self._loss = loss\n",
    "\n",
    "        return False"
   ]
  },
  {
   "cell_type": "code",
   "execution_count": 101,
   "id": "2400f6cb",
   "metadata": {
    "ExecuteTime": {
     "end_time": "2021-09-01T13:24:25.469085Z",
     "start_time": "2021-09-01T12:31:38.272463Z"
    }
   },
   "outputs": [
    {
     "data": {
      "application/vnd.jupyter.widget-view+json": {
       "model_id": "8e870aeff79445c3892a42e383393dd2",
       "version_major": 2,
       "version_minor": 0
      },
      "text/plain": [
       "HBox(children=(FloatProgress(value=0.0, max=1.0), HTML(value='')))"
      ]
     },
     "metadata": {},
     "output_type": "display_data"
    },
    {
     "name": "stdout",
     "output_type": "stream",
     "text": [
      "[Train] Epoch :  1 Train Loss: 0.3351\n",
      "\n",
      "CPU times: user 3min 45s, sys: 7.46 s, total: 3min 53s\n",
      "Wall time: 3min 36s\n"
     ]
    }
   ],
   "source": [
    "%%time\n",
    "epochs = 1\n",
    "history = dict()\n",
    "best = {\"loss\": sys.float_info.max}\n",
    "early_stopping = EarlyStopping(patience=50, verbose=1)\n",
    "for epoch in trange(1, epochs+1):\n",
    "    epoch_loss = train(model, trainloader, optimizer, loss_fn, use_fp16=True)\n",
    "    \n",
    "    history.setdefault('loss', []).append(epoch_loss) \n",
    "\n",
    "    print(f\"[Train] Epoch : {epoch:^3}\"\\\n",
    "          f\"Train Loss: {epoch_loss:.4}\")\n",
    "    \n",
    "    if epoch_loss < best[\"loss\"]:\n",
    "            best[\"state\"] = model.state_dict()\n",
    "            best[\"loss\"] = epoch_loss\n",
    "            best[\"epoch\"] = epoch + 1\n",
    "    if early_stopping.validate(epoch_loss):\n",
    "        break"
   ]
  },
  {
   "cell_type": "code",
   "execution_count": 104,
   "id": "1cb37d60",
   "metadata": {
    "ExecuteTime": {
     "end_time": "2021-09-01T13:24:29.895203Z",
     "start_time": "2021-09-01T13:24:29.724174Z"
    }
   },
   "outputs": [
    {
     "data": {
      "image/png": "[encoded data removed]",
      "text/plain": [
       "<Figure size 432x288 with 1 Axes>"
      ]
     },
     "metadata": {
      "needs_background": "light"
     },
     "output_type": "display_data"
    }
   ],
   "source": [
    "plt.plot(history[\"loss\"], label=\"Training Loss\")\n",
    "plt.legend()\n",
    "plt.show()"
   ]
  },
  {
   "cell_type": "code",
   "execution_count": 105,
   "id": "81d9d519",
   "metadata": {
    "ExecuteTime": {
     "end_time": "2021-09-01T13:32:34.164685Z",
     "start_time": "2021-09-01T13:32:34.152426Z"
    }
   },
   "outputs": [
    {
     "data": {
      "text/plain": [
       "<All keys matched successfully>"
      ]
     },
     "execution_count": 105,
     "metadata": {},
     "output_type": "execute_result"
    }
   ],
   "source": [
    "model.load_state_dict(best[\"state\"])"
   ]
  },
  {
   "cell_type": "code",
   "execution_count": 110,
   "id": "4d87bcb7",
   "metadata": {},
   "outputs": [],
   "source": [
    "with open(\"LSTM_AE_model.pt\", \"wb\") as f:\n",
    "    torch.save(\n",
    "        {\n",
    "            \"state\": best[\"state\"],\n",
    "            \"best_epoch\": best[\"epoch\"],\n",
    "        },\n",
    "        f,\n",
    "    )"
   ]
  },
  {
   "cell_type": "code",
   "execution_count": 112,
   "id": "dc894c7e",
   "metadata": {},
   "outputs": [
    {
     "data": {
      "text/plain": [
       "<All keys matched successfully>"
      ]
     },
     "execution_count": 112,
     "metadata": {},
     "output_type": "execute_result"
    }
   ],
   "source": [
    "with open(\"LSTM_AE_model.pt\", \"rb\") as f:\n",
    "    SAVED_MODEL = torch.load(f)\n",
    "\n",
    "model.load_state_dict(best[\"state\"])"
   ]
  },
  {
   "cell_type": "markdown",
   "id": "9d812223",
   "metadata": {},
   "source": [
    "# VALIDATION"
   ]
  },
  {
   "cell_type": "code",
   "execution_count": 49,
   "id": "6583ef20",
   "metadata": {
    "ExecuteTime": {
     "end_time": "2021-09-01T13:24:51.490516Z",
     "start_time": "2021-09-01T13:24:51.464511Z"
    }
   },
   "outputs": [],
   "source": [
    "def inference(dataloader, model):\n",
    "    ts, dist, att = [], [], []\n",
    "    with torch.no_grad():\n",
    "        for batch in dataloader:\n",
    "            given = batch[\"given\"].to(device)\n",
    "#             answer = batch[\"answer\"].permute(0,2,1).to(device)\n",
    "            guess = model(given)\n",
    "            ts.append(np.array(batch[\"ts\"]))\n",
    "            dist.append(torch.abs(given - guess).cpu().numpy())\n",
    "#             dist.append(torch.sum(torch.abs(guess-given), 1).cpu().numpy())\n",
    "            try:\n",
    "                att.append(np.array(batch[\"attack\"]))\n",
    "            except:\n",
    "                att.append(np.zeros(64))\n",
    "            \n",
    "    return (\n",
    "        np.concatenate(ts),\n",
    "        np.concatenate(dist),\n",
    "        np.concatenate(att),\n",
    "    )"
   ]
  },
  {
   "cell_type": "code",
   "execution_count": 50,
   "id": "47610414",
   "metadata": {
    "ExecuteTime": {
     "end_time": "2021-09-01T13:32:45.276057Z",
     "start_time": "2021-09-01T13:32:36.797116Z"
    }
   },
   "outputs": [
    {
     "name": "stdout",
     "output_type": "stream",
     "text": [
      "CPU times: user 99.9 ms, sys: 209 ms, total: 309 ms\n",
      "Wall time: 265 ms\n"
     ]
    }
   ],
   "source": [
    "%%time\n",
    "model.eval()\n",
    "CHECK_TS, CHECK_DIST, CHECK_ATT = inference(validloader, model)"
   ]
  },
  {
   "cell_type": "code",
   "execution_count": 51,
   "id": "a8289874",
   "metadata": {},
   "outputs": [
    {
     "data": {
      "text/plain": [
       "(959, 90, 86)"
      ]
     },
     "execution_count": 51,
     "metadata": {},
     "output_type": "execute_result"
    }
   ],
   "source": [
    "CHECK_DIST.shape"
   ]
  },
  {
   "cell_type": "code",
   "execution_count": 52,
   "id": "e34af7dc",
   "metadata": {},
   "outputs": [
    {
     "data": {
      "text/plain": [
       "(959, 90)"
      ]
     },
     "execution_count": 52,
     "metadata": {},
     "output_type": "execute_result"
    }
   ],
   "source": [
    "CHECK_ATT.shape"
   ]
  },
  {
   "cell_type": "code",
   "execution_count": 144,
   "id": "996f730e",
   "metadata": {},
   "outputs": [],
   "source": [
    "class CNN_Detector(nn.Module):\n",
    "    def __init__(self, input_dim=86, hidden_dim=32, output_dim=1):\n",
    "        super(CNN_Detector, self).__init__()\n",
    "        \n",
    "        self.input_dim = input_dim\n",
    "        self.output_dim = output_dim\n",
    "        self.hidden_dim = hidden_dim\n",
    "        \n",
    "        self.conv1d = torch.nn.Conv1d(self.input_dim, self.hidden_dim, kernel_size=3, padding =1)\n",
    "        self.relu = torch.nn.ReLU()\n",
    "        self.output_layer = torch.nn.Linear(self.hidden_dim, self.output_dim)\n",
    "        #self.timedist = TimeDistributed(self.output_layer)\n",
    "        \n",
    "    def forward(self, x):\n",
    "        x = x.permute(0,2,1)\n",
    "        x = self.conv1d(x)\n",
    "        x = x.permute(0,2,1)\n",
    "        x = self.relu(x)\n",
    "        x = self.output_layer(x)\n",
    "\n",
    "        return x"
   ]
  },
  {
   "cell_type": "code",
   "execution_count": 145,
   "id": "14843d42",
   "metadata": {},
   "outputs": [],
   "source": [
    "class Linear_Detector(nn.Module):\n",
    "    def __init__(self, input_dim=86, hidden_dim=32, output_dim=1):\n",
    "        super(Linear_Detector, self).__init__()\n",
    "        \n",
    "        self.input_dim = input_dim\n",
    "        self.output_dim = output_dim\n",
    "        self.hidden_dim = hidden_dim\n",
    "        \n",
    "        self.output_layer1 = torch.nn.Linear(self.input_dim, self.hidden_dim)\n",
    "        self.timedist1 = TimeDistributed(self.output_layer1)\n",
    "        self.relu = torch.nn.ReLU()\n",
    "        self.output_layer2 = torch.nn.Linear(self.hidden_dim, self.output_dim)\n",
    "        self.timedist2 = TimeDistributed(self.output_layer2)\n",
    "        \n",
    "    def forward(self, x):\n",
    "        x = self.timedist1(x)\n",
    "        x = self.relu(x)\n",
    "        x = self.timedist2(x)\n",
    "        return x"
   ]
  },
  {
   "cell_type": "code",
   "execution_count": 146,
   "id": "99b5291b",
   "metadata": {},
   "outputs": [],
   "source": [
    "class Infer_Dataset(Dataset):\n",
    "    def __init__(self, DIST, LABEL=None):\n",
    "        self.DIST = np.array(DIST)\n",
    "\n",
    "        if LABEL is not None:\n",
    "            self.LABEL = np.array(LABEL)\n",
    "            self.with_attack = True\n",
    "        else:\n",
    "            self.with_attack = False\n",
    "\n",
    "    def __len__(self):\n",
    "        return len(self.DIST)\n",
    "\n",
    "    def __getitem__(self, idx):\n",
    "        item = {\"attack\": self.LABEL[idx]} if self.with_attack else {}\n",
    "        item[\"dist\"] = self.DIST[idx]\n",
    "\n",
    "        return item"
   ]
  },
  {
   "cell_type": "code",
   "execution_count": 147,
   "id": "f0e40ad2",
   "metadata": {},
   "outputs": [
    {
     "data": {
      "text/plain": [
       "<__main__.Infer_Dataset at 0x7fafa6f57f60>"
      ]
     },
     "execution_count": 147,
     "metadata": {},
     "output_type": "execute_result"
    }
   ],
   "source": [
    "VALID_DIST = Infer_Dataset(CHECK_DIST, CHECK_ATT)\n",
    "VALID_DIST"
   ]
  },
  {
   "cell_type": "code",
   "execution_count": 148,
   "id": "32e15313",
   "metadata": {},
   "outputs": [],
   "source": [
    "params = {'batch_size': 64,\n",
    "          'shuffle': True}\n",
    "\n",
    "valdist_loader = DataLoader(VALID_DIST, **params)"
   ]
  },
  {
   "cell_type": "code",
   "execution_count": 149,
   "id": "b34808f9",
   "metadata": {
    "scrolled": true
   },
   "outputs": [
    {
     "data": {
      "text/plain": [
       "{'attack': tensor([[0., 0., 0.,  ..., 0., 0., 0.],\n",
       "         [0., 0., 0.,  ..., 0., 0., 0.],\n",
       "         [0., 0., 0.,  ..., 0., 0., 0.],\n",
       "         ...,\n",
       "         [0., 0., 0.,  ..., 0., 0., 0.],\n",
       "         [0., 0., 0.,  ..., 0., 0., 0.],\n",
       "         [0., 0., 0.,  ..., 0., 0., 0.]]),\n",
       " 'dist': tensor([[[1.2266e-02, 9.1479e-04, 9.2807e-02,  ..., 1.1807e-03,\n",
       "           3.3146e-04, 5.6086e-02],\n",
       "          [4.1631e-02, 8.6020e-04, 9.0514e-02,  ..., 3.3257e-04,\n",
       "           2.0579e-05, 8.0284e-02],\n",
       "          [1.0322e-01, 7.8609e-04, 9.1968e-02,  ..., 3.3365e-04,\n",
       "           1.0273e-04, 7.0456e-02],\n",
       "          ...,\n",
       "          [5.7790e-02, 1.4373e-04, 8.8832e-02,  ..., 3.0546e-04,\n",
       "           1.8341e-05, 4.4407e-04],\n",
       "          [5.3105e-02, 1.2353e-04, 8.8813e-02,  ..., 3.1993e-04,\n",
       "           1.6014e-05, 2.0487e-04],\n",
       "          [5.3049e-02, 1.0287e-04, 8.8785e-02,  ..., 3.3344e-04,\n",
       "           1.3500e-05, 5.9132e-05]],\n",
       " \n",
       "         [[2.4100e-02, 4.5387e-04, 9.8248e-02,  ..., 5.4934e-04,\n",
       "           9.0543e-06, 1.5098e-02],\n",
       "          [6.6748e-02, 4.3991e-04, 9.3631e-02,  ..., 2.5267e-04,\n",
       "           7.1934e-05, 1.5186e-02],\n",
       "          [1.1830e-01, 3.9803e-04, 9.2563e-02,  ..., 2.1388e-04,\n",
       "           1.2652e-04, 4.5193e-03],\n",
       "          ...,\n",
       "          [6.6513e-04, 1.5088e-04, 1.0308e-01,  ..., 2.3542e-04,\n",
       "           6.2091e-06, 9.5408e-03],\n",
       "          [7.0669e-02, 1.6512e-04, 1.0310e-01,  ..., 2.2886e-04,\n",
       "           1.0057e-05, 8.7979e-03],\n",
       "          [1.1663e-01, 1.7845e-04, 1.0313e-01,  ..., 2.2094e-04,\n",
       "           1.3921e-05, 1.0508e-02]],\n",
       " \n",
       "         [[1.0524e-01, 4.8546e-04, 9.7483e-02,  ..., 9.2682e-04,\n",
       "           7.8936e-05, 7.6794e-02],\n",
       "          [1.2689e-01, 2.5960e-04, 8.2926e-02,  ..., 1.0278e-03,\n",
       "           5.3732e-05, 1.8621e-02],\n",
       "          [1.2169e-01, 2.8967e-04, 8.3718e-02,  ..., 8.0044e-04,\n",
       "           1.0803e-04, 3.1497e-02],\n",
       "          ...,\n",
       "          [7.1627e-02, 3.2443e-04, 8.1540e-02,  ..., 2.7687e-04,\n",
       "           4.1381e-05, 1.6650e-03],\n",
       "          [1.1597e-01, 3.2766e-04, 8.3099e-02,  ..., 2.8847e-04,\n",
       "           4.0703e-05, 1.7219e-03],\n",
       "          [1.1986e-01, 3.3096e-04, 8.3095e-02,  ..., 2.9980e-04,\n",
       "           4.0033e-05, 1.7814e-03]],\n",
       " \n",
       "         ...,\n",
       " \n",
       "         [[4.2856e-02, 6.0792e-04, 9.5813e-02,  ..., 3.8169e-04,\n",
       "           9.8241e-05, 6.8874e-03],\n",
       "          [3.6070e-02, 5.3394e-04, 8.2346e-02,  ..., 5.4961e-05,\n",
       "           9.7784e-05, 2.7871e-03],\n",
       "          [9.1517e-02, 4.4815e-04, 8.2630e-02,  ..., 7.5691e-04,\n",
       "           7.4063e-05, 2.0896e-02],\n",
       "          ...,\n",
       "          [5.7006e-02, 9.1620e-05, 9.3060e-02,  ..., 1.2028e-04,\n",
       "           2.4651e-05, 1.3778e-03],\n",
       "          [5.2718e-02, 9.7228e-05, 9.3095e-02,  ..., 1.2157e-04,\n",
       "           2.2804e-05, 7.1986e-04],\n",
       "          [7.7947e-02, 1.0129e-04, 9.3142e-02,  ..., 1.2349e-04,\n",
       "           2.0859e-05, 8.9659e-05]],\n",
       " \n",
       "         [[3.6973e-02, 8.1080e-04, 9.1086e-02,  ..., 1.0063e-03,\n",
       "           8.5520e-05, 1.4352e-02],\n",
       "          [7.6423e-02, 7.7570e-04, 8.5859e-02,  ..., 3.3256e-04,\n",
       "           1.6682e-04, 4.1825e-04],\n",
       "          [2.6722e-02, 6.7366e-04, 8.4231e-02,  ..., 4.4532e-04,\n",
       "           1.3741e-04, 1.6447e-02],\n",
       "          ...,\n",
       "          [2.8254e-03, 3.1847e-04, 8.7600e-02,  ..., 2.7798e-05,\n",
       "           8.2587e-05, 1.5697e-02],\n",
       "          [8.3449e-02, 3.2794e-04, 8.7591e-02,  ..., 4.9127e-06,\n",
       "           8.6002e-05, 1.6428e-02],\n",
       "          [4.9199e-02, 3.3768e-04, 8.7584e-02,  ..., 1.7397e-05,\n",
       "           8.9509e-05, 1.5375e-02]],\n",
       " \n",
       "         [[4.5106e-02, 4.3850e-04, 8.8311e-02,  ..., 1.2310e-03,\n",
       "           6.3724e-05, 2.5056e-02],\n",
       "          [9.2649e-02, 4.6040e-04, 8.1678e-02,  ..., 5.6276e-04,\n",
       "           3.5764e-05, 2.2130e-04],\n",
       "          [1.5250e-02, 6.2507e-04, 8.3631e-02,  ..., 3.2823e-04,\n",
       "           2.9681e-05, 8.7927e-04],\n",
       "          ...,\n",
       "          [6.5685e-02, 5.3763e-04, 8.5047e-02,  ..., 1.8039e-04,\n",
       "           1.2195e-04, 6.0164e-03],\n",
       "          [9.9602e-02, 5.4504e-04, 8.5033e-02,  ..., 1.8063e-04,\n",
       "           1.2335e-04, 3.8278e-03],\n",
       "          [6.0890e-02, 5.5202e-04, 8.5021e-02,  ..., 1.8059e-04,\n",
       "           1.2481e-04, 2.8251e-03]]])}"
      ]
     },
     "execution_count": 149,
     "metadata": {},
     "output_type": "execute_result"
    }
   ],
   "source": [
    "iter(valdist_loader).next()"
   ]
  },
  {
   "cell_type": "code",
   "execution_count": 150,
   "id": "86d00677",
   "metadata": {},
   "outputs": [
    {
     "data": {
      "text/plain": [
       "torch.Size([64, 90])"
      ]
     },
     "execution_count": 150,
     "metadata": {},
     "output_type": "execute_result"
    }
   ],
   "source": [
    "iter(valdist_loader).next()['attack'].shape"
   ]
  },
  {
   "cell_type": "code",
   "execution_count": 151,
   "id": "00739920",
   "metadata": {},
   "outputs": [],
   "source": [
    "optimizer = optim.AdamW(model.parameters())\n",
    "loss_fn = nn.BCEWithLogitsLoss()"
   ]
  },
  {
   "cell_type": "code",
   "execution_count": 152,
   "id": "387af0e9",
   "metadata": {},
   "outputs": [],
   "source": [
    "CNN_detector = CNN_Detector().to(device)\n",
    "Linear_detector = Linear_Detector().to(device)"
   ]
  },
  {
   "cell_type": "code",
   "execution_count": 153,
   "id": "33fc9cd9",
   "metadata": {},
   "outputs": [],
   "source": [
    "def detect_train(model, dataloader, optimizer, loss_fn, use_fp16=False, max_norm=None):\n",
    "    \n",
    "    epoch_loss = 0\n",
    "    \n",
    "    model.train() \n",
    "\n",
    "    for idx, batch in enumerate(dataloader):\n",
    "        \n",
    "        optimizer.zero_grad(set_to_none=True)\n",
    "        #scaler = torch.cuda.amp.GradScaler()\n",
    "                \n",
    "        input = batch['dist'].to(device)\n",
    "        attack = batch['attack'].to(device)\n",
    "        \n",
    "        predictions = model.forward(input)\n",
    "        train_loss = loss_fn(torch.squeeze(predictions), attack)\n",
    "        train_loss.backward()\n",
    "        optimizer.step()\n",
    "        \n",
    "        epoch_loss += train_loss.item()\n",
    "        \n",
    "    return epoch_loss/len(dataloader)"
   ]
  },
  {
   "cell_type": "markdown",
   "id": "99218ca5",
   "metadata": {},
   "source": [
    "## CNN_detector"
   ]
  },
  {
   "cell_type": "code",
   "execution_count": 154,
   "id": "33575a6a",
   "metadata": {},
   "outputs": [
    {
     "name": "stdout",
     "output_type": "stream",
     "text": [
      "[Train] Epoch :  1   Train Loss: 0.6923\n",
      "CPU times: user 32.2 ms, sys: 128 µs, total: 32.3 ms\n",
      "Wall time: 66.8 ms\n"
     ]
    }
   ],
   "source": [
    "%%time\n",
    "epochs = 1\n",
    "history = dict()\n",
    "best = {\"loss\": sys.float_info.max}\n",
    "early_stopping = EarlyStopping(patience=50, verbose=1)\n",
    "\n",
    "for epoch in range(1, epochs+1):\n",
    "    epoch_loss = detect_train(CNN_detector, valdist_loader, optimizer, loss_fn, use_fp16=True)\n",
    "    #epoch_loss = detect_train(Linear_detector, valdist_loader, optimizer, loss_fn, use_fp16=True)\n",
    "    history.setdefault('loss', []).append(epoch_loss) \n",
    "    \n",
    "    print(f\"[Train] Epoch : {epoch:^3}\"\\\n",
    "        f\"  Train Loss: {epoch_loss:.4}\")\n",
    "    if epoch_loss < best[\"loss\"]:\n",
    "            best[\"state\"] = CNN_detector.state_dict()\n",
    "            best[\"loss\"] = epoch_loss\n",
    "            best[\"epoch\"] = epoch + 1\n",
    "    if early_stopping.validate(epoch_loss):\n",
    "        break"
   ]
  },
  {
   "cell_type": "code",
   "execution_count": 157,
   "id": "a461dfb4",
   "metadata": {},
   "outputs": [],
   "source": [
    "def detect(dataloader, model, mode=0):\n",
    "    \n",
    "    prediction = []\n",
    "    \n",
    "    if mode == 0:\n",
    "        answer = []\n",
    "    \n",
    "    with torch.no_grad():\n",
    "        for batch in dataloader:\n",
    "            dist = batch[\"dist\"].to(device)\n",
    "            logit = torch.squeeze(model(dist)) #batch*90\n",
    "            sig =torch.nn.Sigmoid()\n",
    "            score = sig(logit)\n",
    "            \n",
    "            pred = (score > 0.5).int()\n",
    "            prediction.append(pred.cpu().numpy())\n",
    "            \n",
    "            if mode == 0:\n",
    "                answer.append(batch[\"attack\"])\n",
    "    \n",
    "    if mode == 0:            \n",
    "        return (\n",
    "            np.concatenate(prediction),\n",
    "            np.concatenate(answer)\n",
    "        )\n",
    "    else: \n",
    "        return np.concatenate(prediction)"
   ]
  },
  {
   "cell_type": "code",
   "execution_count": 158,
   "id": "bab6e28b",
   "metadata": {},
   "outputs": [
    {
     "name": "stdout",
     "output_type": "stream",
     "text": [
      "(959, 90)\n",
      "(959, 90)\n"
     ]
    }
   ],
   "source": [
    "val_pred, val_true = detect(valdist_loader, Linear_detector)\n",
    "print(val_pred.shape)\n",
    "print(val_true.shape)"
   ]
  },
  {
   "cell_type": "code",
   "execution_count": null,
   "id": "5cf87a26",
   "metadata": {},
   "outputs": [],
   "source": [
    "# 평가용\n",
    "pred = []\n",
    "true = [] \n",
    "for _ in range(0, len(val_pred), 90)\n",
    "    pred.append(val_pred[_])\n",
    "    true.append(val_true[_])"
   ]
  },
  {
   "cell_type": "code",
   "execution_count": 159,
   "id": "ed43a7d6",
   "metadata": {},
   "outputs": [
    {
     "name": "stdout",
     "output_type": "stream",
     "text": [
      "(86310,)\n",
      "(86310,)\n"
     ]
    }
   ],
   "source": [
    "# val_pred = val_pred.flatten()\n",
    "# val_true = val_true.flatten()\n",
    "\n",
    "# print(val_pred.shape)\n",
    "# print(val_true.shape)"
   ]
  },
  {
   "cell_type": "code",
   "execution_count": 160,
   "id": "eca7c413",
   "metadata": {},
   "outputs": [
    {
     "name": "stdout",
     "output_type": "stream",
     "text": [
      "F1: 0.000 (TaP: 0.000, TaR: 0.000)\n",
      "# of detected anomalies: 0\n",
      "Detected anomalies: []\n"
     ]
    }
   ],
   "source": [
    "TaPR = etapr.evaluate_haicon(anomalies=true, predictions=pred)\n",
    "print(f\"F1: {TaPR['f1']:.3f} (TaP: {TaPR['TaP']:.3f}, TaR: {TaPR['TaR']:.3f})\")\n",
    "print(f\"# of detected anomalies: {len(TaPR['Detected_Anomalies'])}\")\n",
    "print(f\"Detected anomalies: {TaPR['Detected_Anomalies']}\")"
   ]
  },
  {
   "cell_type": "code",
   "execution_count": 161,
   "id": "234ea8e5",
   "metadata": {},
   "outputs": [
    {
     "data": {
      "text/plain": [
       "torch.Size([64, 90, 1])"
      ]
     },
     "execution_count": 161,
     "metadata": {},
     "output_type": "execute_result"
    }
   ],
   "source": [
    "Linear_detector(iter(valdist_loader).next()['dist'].to(device)).shape"
   ]
  },
  {
   "cell_type": "code",
   "execution_count": 162,
   "id": "e8e936e2",
   "metadata": {
    "ExecuteTime": {
     "end_time": "2021-09-01T13:32:50.119562Z",
     "start_time": "2021-09-01T13:32:50.113081Z"
    }
   },
   "outputs": [],
   "source": [
    "def check_graph(xs, att, piece=2, THRESHOLD=None):\n",
    "    l = xs.shape[0]\n",
    "    chunk = l // piece\n",
    "    fig, axs = plt.subplots(piece, figsize=(20, 4 * piece))\n",
    "    for i in range(piece):\n",
    "        L = i * chunk\n",
    "        R = min(L + chunk, l)\n",
    "        xticks = range(L, R)\n",
    "        axs[i].plot(xticks, xs[L:R])\n",
    "        if len(xs[L:R]) > 0:\n",
    "            peak = max(xs[L:R])\n",
    "            axs[i].plot(xticks, att[L:R] * peak * 0.3)\n",
    "        if THRESHOLD!=None:\n",
    "            axs[i].axhline(y=THRESHOLD, color='r')\n",
    "    plt.show()"
   ]
  },
  {
   "cell_type": "code",
   "execution_count": 163,
   "id": "aa8e28d4",
   "metadata": {
    "ExecuteTime": {
     "end_time": "2021-09-01T13:32:52.653161Z",
     "start_time": "2021-09-01T13:32:52.287966Z"
    }
   },
   "outputs": [
    {
     "data": {
      "image/png": "[encoded data removed]",
      "text/plain": [
       "<Figure size 1440x576 with 2 Axes>"
      ]
     },
     "metadata": {
      "needs_background": "light"
     },
     "output_type": "display_data"
    }
   ],
   "source": [
    "THRESHOLD = 2.5\n",
    "check_graph(val_pred, val_true, piece=2)"
   ]
  },
  {
   "cell_type": "code",
   "execution_count": 107,
   "id": "1b0c60f4",
   "metadata": {
    "ExecuteTime": {
     "end_time": "2021-09-01T13:25:39.647150Z",
     "start_time": "2021-09-01T13:25:39.641461Z"
    }
   },
   "outputs": [],
   "source": [
    "def put_labels(distance, threshold):\n",
    "    xs = np.zeros_like(distance)\n",
    "    xs[distance > threshold] = 1\n",
    "    return xs"
   ]
  },
  {
   "cell_type": "code",
   "execution_count": 113,
   "id": "e79aa3a3",
   "metadata": {
    "ExecuteTime": {
     "end_time": "2021-09-01T13:26:22.757470Z",
     "start_time": "2021-09-01T13:26:22.745134Z"
    }
   },
   "outputs": [
    {
     "data": {
      "text/plain": [
       "(array([0., 0., 0., ..., 0., 0., 0.], dtype=float32), (86311,))"
      ]
     },
     "execution_count": 113,
     "metadata": {},
     "output_type": "execute_result"
    }
   ],
   "source": [
    "LABELS = put_labels(ANOMALY_SCORE, THRESHOLD)\n",
    "LABELS, LABELS.shape"
   ]
  },
  {
   "cell_type": "code",
   "execution_count": 117,
   "id": "90c0798f",
   "metadata": {
    "ExecuteTime": {
     "end_time": "2021-09-01T13:27:11.105548Z",
     "start_time": "2021-09-01T13:27:11.098516Z"
    }
   },
   "outputs": [
    {
     "data": {
      "text/plain": [
       "(array([0, 0, 0, ..., 0, 0, 0]), (86400,))"
      ]
     },
     "execution_count": 117,
     "metadata": {},
     "output_type": "execute_result"
    }
   ],
   "source": [
    "ATTACK_LABELS = put_labels(np.array(VALIDATION_DF_RAW[ATTACK_FIELD]), threshold=0.5)\n",
    "ATTACK_LABELS, ATTACK_LABELS.shape"
   ]
  },
  {
   "cell_type": "code",
   "execution_count": 118,
   "id": "e59a088d",
   "metadata": {
    "ExecuteTime": {
     "end_time": "2021-09-01T13:27:12.645081Z",
     "start_time": "2021-09-01T13:27:12.635595Z"
    }
   },
   "outputs": [],
   "source": [
    "def fill_blank(check_ts, labels, total_ts):\n",
    "    def ts_generator():\n",
    "        for t in total_ts:\n",
    "            yield dateutil.parser.parse(t)\n",
    "\n",
    "    def label_generator():\n",
    "        for t, label in zip(check_ts, labels):\n",
    "            yield dateutil.parser.parse(t), label\n",
    "\n",
    "    g_ts = ts_generator()\n",
    "    g_label = label_generator()\n",
    "    final_labels = []\n",
    "\n",
    "    try:\n",
    "        current = next(g_ts)\n",
    "        ts_label, label = next(g_label)\n",
    "        while True:\n",
    "            if current > ts_label:\n",
    "                ts_label, label = next(g_label)\n",
    "                continue\n",
    "            elif current < ts_label:\n",
    "                final_labels.append(0)\n",
    "                current = next(g_ts)\n",
    "                continue\n",
    "            final_labels.append(label)\n",
    "            current = next(g_ts)\n",
    "            ts_label, label = next(g_label)\n",
    "    except StopIteration:\n",
    "        return np.array(final_labels, dtype=np.int8)"
   ]
  },
  {
   "cell_type": "code",
   "execution_count": 119,
   "id": "50a84225",
   "metadata": {
    "ExecuteTime": {
     "end_time": "2021-09-01T13:27:28.080819Z",
     "start_time": "2021-09-01T13:27:13.262156Z"
    }
   },
   "outputs": [
    {
     "name": "stdout",
     "output_type": "stream",
     "text": [
      "CPU times: user 14.8 s, sys: 3.65 ms, total: 14.8 s\n",
      "Wall time: 14.8 s\n"
     ]
    },
    {
     "data": {
      "text/plain": [
       "(86400,)"
      ]
     },
     "execution_count": 119,
     "metadata": {},
     "output_type": "execute_result"
    }
   ],
   "source": [
    "%%time\n",
    "FINAL_LABELS = fill_blank(CHECK_TS, LABELS, np.array(VALIDATION_DF_RAW[TIMESTAMP_FIELD]))\n",
    "FINAL_LABELS.shape"
   ]
  },
  {
   "cell_type": "code",
   "execution_count": 120,
   "id": "95a5b60e",
   "metadata": {
    "ExecuteTime": {
     "end_time": "2021-09-01T13:27:30.235027Z",
     "start_time": "2021-09-01T13:27:29.581095Z"
    }
   },
   "outputs": [
    {
     "name": "stdout",
     "output_type": "stream",
     "text": [
      "F1: 0.105 (TaP: 0.097, TaR: 0.113)\n",
      "# of detected anomalies: 1\n",
      "Detected anomalies: [<TaPR_pkg.DataManage.Range.Range object at 0x7fb7b1f733c8>]\n"
     ]
    }
   ],
   "source": [
    "TaPR = etapr.evaluate_haicon(anomalies=ATTACK_LABELS, predictions=FINAL_LABELS)\n",
    "print(f\"F1: {TaPR['f1']:.3f} (TaP: {TaPR['TaP']:.3f}, TaR: {TaPR['TaR']:.3f})\")\n",
    "print(f\"# of detected anomalies: {len(TaPR['Detected_Anomalies'])}\")\n",
    "print(f\"Detected anomalies: {TaPR['Detected_Anomalies']}\")"
   ]
  },
  {
   "cell_type": "code",
   "execution_count": 121,
   "id": "29c12902",
   "metadata": {
    "ExecuteTime": {
     "end_time": "2021-09-01T13:28:41.292041Z",
     "start_time": "2021-09-01T13:28:12.847881Z"
    }
   },
   "outputs": [
    {
     "name": "stdout",
     "output_type": "stream",
     "text": [
      "CPU times: user 31.1 s, sys: 2.55 s, total: 33.6 s\n",
      "Wall time: 28.4 s\n"
     ]
    }
   ],
   "source": [
    "%%time\n",
    "model.eval()\n",
    "CHECK_TS, CHECK_DIST, CHECK_ATT = inference(testloader, model)"
   ]
  },
  {
   "cell_type": "code",
   "execution_count": 122,
   "id": "0bfaf948",
   "metadata": {
    "ExecuteTime": {
     "end_time": "2021-09-01T13:28:42.711493Z",
     "start_time": "2021-09-01T13:28:42.694787Z"
    }
   },
   "outputs": [],
   "source": [
    "ANOMALY_SCORE = np.mean(CHECK_DIST, axis=1)"
   ]
  },
  {
   "cell_type": "code",
   "execution_count": 123,
   "id": "3587ad16",
   "metadata": {
    "ExecuteTime": {
     "end_time": "2021-09-01T13:28:44.142630Z",
     "start_time": "2021-09-01T13:28:43.485447Z"
    }
   },
   "outputs": [
    {
     "data": {
      "image/png": "[encoded data removed]",
      "text/plain": [
       "<Figure size 1440x864 with 3 Axes>"
      ]
     },
     "metadata": {
      "needs_background": "light"
     },
     "output_type": "display_data"
    }
   ],
   "source": [
    "check_graph(ANOMALY_SCORE, CHECK_ATT, piece=3, THRESHOLD=THRESHOLD)"
   ]
  },
  {
   "cell_type": "code",
   "execution_count": 124,
   "id": "d6887c1b",
   "metadata": {
    "ExecuteTime": {
     "end_time": "2021-09-01T13:29:19.597633Z",
     "start_time": "2021-09-01T13:29:19.590871Z"
    }
   },
   "outputs": [
    {
     "data": {
      "text/plain": [
       "(array([0., 0., 0., ..., 0., 0., 0.], dtype=float32), (274533,))"
      ]
     },
     "execution_count": 124,
     "metadata": {},
     "output_type": "execute_result"
    }
   ],
   "source": [
    "LABELS = put_labels(ANOMALY_SCORE, THRESHOLD)\n",
    "LABELS, LABELS.shape"
   ]
  },
  {
   "cell_type": "code",
   "execution_count": 125,
   "id": "a5e49ec7",
   "metadata": {
    "ExecuteTime": {
     "end_time": "2021-09-01T13:29:27.803368Z",
     "start_time": "2021-09-01T13:29:27.494870Z"
    }
   },
   "outputs": [
    {
     "data": {
      "text/html": [
       "<div>\n",
       "<style scoped>\n",
       "    .dataframe tbody tr th:only-of-type {\n",
       "        vertical-align: middle;\n",
       "    }\n",
       "\n",
       "    .dataframe tbody tr th {\n",
       "        vertical-align: top;\n",
       "    }\n",
       "\n",
       "    .dataframe thead th {\n",
       "        text-align: right;\n",
       "    }\n",
       "</style>\n",
       "<table border=\"1\" class=\"dataframe\">\n",
       "  <thead>\n",
       "    <tr style=\"text-align: right;\">\n",
       "      <th></th>\n",
       "      <th>timestamp</th>\n",
       "      <th>attack</th>\n",
       "    </tr>\n",
       "    <tr>\n",
       "      <th>timestamp</th>\n",
       "      <th></th>\n",
       "      <th></th>\n",
       "    </tr>\n",
       "  </thead>\n",
       "  <tbody>\n",
       "    <tr>\n",
       "      <th>2021-07-13 16:00:01</th>\n",
       "      <td>2021-07-13 16:00:01</td>\n",
       "      <td>0.0</td>\n",
       "    </tr>\n",
       "    <tr>\n",
       "      <th>2021-07-13 16:00:02</th>\n",
       "      <td>2021-07-13 16:00:02</td>\n",
       "      <td>0.0</td>\n",
       "    </tr>\n",
       "    <tr>\n",
       "      <th>2021-07-13 16:00:03</th>\n",
       "      <td>2021-07-13 16:00:03</td>\n",
       "      <td>0.0</td>\n",
       "    </tr>\n",
       "    <tr>\n",
       "      <th>2021-07-13 16:00:04</th>\n",
       "      <td>2021-07-13 16:00:04</td>\n",
       "      <td>0.0</td>\n",
       "    </tr>\n",
       "    <tr>\n",
       "      <th>2021-07-13 16:00:05</th>\n",
       "      <td>2021-07-13 16:00:05</td>\n",
       "      <td>0.0</td>\n",
       "    </tr>\n",
       "    <tr>\n",
       "      <th>...</th>\n",
       "      <td>...</td>\n",
       "      <td>...</td>\n",
       "    </tr>\n",
       "    <tr>\n",
       "      <th>2021-07-16 23:59:56</th>\n",
       "      <td>2021-07-16 23:59:56</td>\n",
       "      <td>0.0</td>\n",
       "    </tr>\n",
       "    <tr>\n",
       "      <th>2021-07-16 23:59:57</th>\n",
       "      <td>2021-07-16 23:59:57</td>\n",
       "      <td>0.0</td>\n",
       "    </tr>\n",
       "    <tr>\n",
       "      <th>2021-07-16 23:59:58</th>\n",
       "      <td>2021-07-16 23:59:58</td>\n",
       "      <td>0.0</td>\n",
       "    </tr>\n",
       "    <tr>\n",
       "      <th>2021-07-16 23:59:59</th>\n",
       "      <td>2021-07-16 23:59:59</td>\n",
       "      <td>0.0</td>\n",
       "    </tr>\n",
       "    <tr>\n",
       "      <th>2021-07-17 00:00:00</th>\n",
       "      <td>2021-07-17 00:00:00</td>\n",
       "      <td>0.0</td>\n",
       "    </tr>\n",
       "  </tbody>\n",
       "</table>\n",
       "<p>274800 rows × 2 columns</p>\n",
       "</div>"
      ],
      "text/plain": [
       "                               timestamp  attack\n",
       "timestamp                                       \n",
       "2021-07-13 16:00:01  2021-07-13 16:00:01     0.0\n",
       "2021-07-13 16:00:02  2021-07-13 16:00:02     0.0\n",
       "2021-07-13 16:00:03  2021-07-13 16:00:03     0.0\n",
       "2021-07-13 16:00:04  2021-07-13 16:00:04     0.0\n",
       "2021-07-13 16:00:05  2021-07-13 16:00:05     0.0\n",
       "...                                  ...     ...\n",
       "2021-07-16 23:59:56  2021-07-16 23:59:56     0.0\n",
       "2021-07-16 23:59:57  2021-07-16 23:59:57     0.0\n",
       "2021-07-16 23:59:58  2021-07-16 23:59:58     0.0\n",
       "2021-07-16 23:59:59  2021-07-16 23:59:59     0.0\n",
       "2021-07-17 00:00:00  2021-07-17 00:00:00     0.0\n",
       "\n",
       "[274800 rows x 2 columns]"
      ]
     },
     "execution_count": 125,
     "metadata": {},
     "output_type": "execute_result"
    }
   ],
   "source": [
    "submission = pd.read_csv('./HAICon2021_dataset/sample_submission.csv')\n",
    "submission.index = submission['timestamp']\n",
    "submission.loc[CHECK_TS,'attack'] = LABELS\n",
    "submission"
   ]
  },
  {
   "cell_type": "code",
   "execution_count": 126,
   "id": "66cb3841",
   "metadata": {
    "ExecuteTime": {
     "end_time": "2021-09-01T13:29:30.194881Z",
     "start_time": "2021-09-01T13:29:29.675346Z"
    }
   },
   "outputs": [],
   "source": [
    "submission.to_csv('baseline.csv', index=False)"
   ]
  },
  {
   "cell_type": "code",
   "execution_count": null,
   "id": "2b30bc45",
   "metadata": {},
   "outputs": [],
   "source": []
  }
 ],
 "metadata": {
  "hide_input": false,
  "kernelspec": {
   "display_name": "Python 3",
   "language": "python",
   "name": "python3"
  },
  "language_info": {
   "codemirror_mode": {
    "name": "ipython",
    "version": 3
   },
   "file_extension": ".py",
   "mimetype": "text/x-python",
   "name": "python",
   "nbconvert_exporter": "python",
   "pygments_lexer": "ipython3",
   "version": "3.6.9"
  },
  "toc": {
   "base_numbering": 1,
   "nav_menu": {},
   "number_sections": true,
   "sideBar": true,
   "skip_h1_title": false,
   "title_cell": "Table of Contents",
   "title_sidebar": "Contents",
   "toc_cell": false,
   "toc_position": {},
   "toc_section_display": true,
   "toc_window_display": false
  },
  "varInspector": {
   "cols": {
    "lenName": 16,
    "lenType": 16,
    "lenVar": 40
   },
   "kernels_config": {
    "python": {
     "delete_cmd_postfix": "",
     "delete_cmd_prefix": "del ",
     "library": "var_list.py",
     "varRefreshCmd": "print(var_dic_list())"
    },
    "r": {
     "delete_cmd_postfix": ") ",
     "delete_cmd_prefix": "rm(",
     "library": "var_list.r",
     "varRefreshCmd": "cat(var_dic_list()) "
    }
   },
   "types_to_exclude": [
    "module",
    "function",
    "builtin_function_or_method",
    "instance",
    "_Feature"
   ],
   "window_display": false
  }
 },
 "nbformat": 4,
 "nbformat_minor": 5
}
